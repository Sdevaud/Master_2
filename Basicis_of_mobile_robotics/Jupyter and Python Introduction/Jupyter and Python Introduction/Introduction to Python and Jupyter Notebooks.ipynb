{
 "cells": [
  {
   "cell_type": "markdown",
   "metadata": {},
   "source": [
    "\n",
    "\n",
    "<div style=\"border:1px solid black; padding:20px 20px;text-align: justify;text-justify: inter-word\">\n",
    "    <strong>General Introduction to Python and Jupyter Notebooks\n",
    "<br/> <br/>\n",
    "  <span style=\"text-decoration:underline;font-weight:bold;\">How to use this notebook?</span><br/>\n",
    "    This notebook is made of text cells and code cells. The code cells have to be <strong>executed</strong> to see the result of the program. To execute a cell, simply select it and click on the \"play\" button (<span style=\"font: bold 12px/30px Arial, serif;\">&#9658;</span>) in the tool bar just above the notebook, or type <code>shift + enter</code>. Using <code>shift + enter</code> multiple times will execute consecutive code blocs one after the other, all the while ignoring text cells (executing them doesn't do anything). It is important to execute the code cells in their order of appearance in the notebook.<br/>\n",
    "You can make use of the table of contents to navigate easily between sections.\n",
    "</div>\n"
   ]
  },
  {
   "cell_type": "markdown",
   "metadata": {
    "toc": true
   },
   "source": [
    "<h1>Table of Contents<span class=\"tocSkip\"></span></h1>\n",
    "<div class=\"toc\"><ul class=\"toc-item\"><li><span><a href=\"#Introduction\" data-toc-modified-id=\"Introduction-1\"><span class=\"toc-item-num\">1&nbsp;&nbsp;</span>Introduction</a></span></li><li><span><a href=\"#Understanding-how-to-use-the-Jupyter-notebooks\" data-toc-modified-id=\"Understanding-how-to-use-the-Jupyter-notebooks-2\"><span class=\"toc-item-num\">2&nbsp;&nbsp;</span>Understanding how to use the Jupyter notebooks</a></span><ul class=\"toc-item\"><li><span><a href=\"#Basic-Navigation\" data-toc-modified-id=\"Basic-Navigation-2.1\"><span class=\"toc-item-num\">2.1&nbsp;&nbsp;</span>Basic Navigation</a></span></li><li><span><a href=\"#Installing-Jupyter-Notebook-Extensions\" data-toc-modified-id=\"Installing-Jupyter-Notebook-Extensions-2.2\"><span class=\"toc-item-num\">2.2&nbsp;&nbsp;</span>Installing Jupyter Notebook Extensions</a></span></li><li><span><a href=\"#Jupyter-Magic-Functions\" data-toc-modified-id=\"Jupyter-Magic-Functions-2.3\"><span class=\"toc-item-num\">2.3&nbsp;&nbsp;</span>Jupyter Magic Functions</a></span></li></ul></li><li><span><a href=\"#Installing-the-libraries-you-will-need-for-the-course\" data-toc-modified-id=\"Installing-the-libraries-you-will-need-for-the-course-3\"><span class=\"toc-item-num\">3&nbsp;&nbsp;</span>Installing the libraries you will need for the course</a></span></li><li><span><a href=\"#Python-Basics\" data-toc-modified-id=\"Python-Basics-4\"><span class=\"toc-item-num\">4&nbsp;&nbsp;</span>Python Basics</a></span><ul class=\"toc-item\"><li><span><a href=\"#Data-Types\" data-toc-modified-id=\"Data-Types-4.1\"><span class=\"toc-item-num\">4.1&nbsp;&nbsp;</span>Data Types</a></span></li><li><span><a href=\"#Operators\" data-toc-modified-id=\"Operators-4.2\"><span class=\"toc-item-num\">4.2&nbsp;&nbsp;</span><a href=\"https://www.w3schools.com/python/python_operators.asp\" target=\"_blank\">Operators</a></a></span></li><li><span><a href=\"#Comments\" data-toc-modified-id=\"Comments-4.3\"><span class=\"toc-item-num\">4.3&nbsp;&nbsp;</span>Comments</a></span></li><li><span><a href=\"#Creating-a-variable-and-printing-its-type-and-value\" data-toc-modified-id=\"Creating-a-variable-and-printing-its-type-and-value-4.4\"><span class=\"toc-item-num\">4.4&nbsp;&nbsp;</span>Creating a variable and printing its type and value</a></span></li><li><span><a href=\"#Lists-/-Arrays\" data-toc-modified-id=\"Lists-/-Arrays-4.5\"><span class=\"toc-item-num\">4.5&nbsp;&nbsp;</span><a href=\"https://www.w3schools.com/python/python_lists.asp\" target=\"_blank\">Lists / Arrays</a></a></span><ul class=\"toc-item\"><li><span><a href=\"#Creating-a-list\" data-toc-modified-id=\"Creating-a-list-4.5.1\"><span class=\"toc-item-num\">4.5.1&nbsp;&nbsp;</span>Creating a list</a></span></li><li><span><a href=\"#Accessing-elements-of-a-list\" data-toc-modified-id=\"Accessing-elements-of-a-list-4.5.2\"><span class=\"toc-item-num\">4.5.2&nbsp;&nbsp;</span>Accessing elements of a list</a></span></li><li><span><a href=\"#Changing-values-of-a-list\" data-toc-modified-id=\"Changing-values-of-a-list-4.5.3\"><span class=\"toc-item-num\">4.5.3&nbsp;&nbsp;</span>Changing values of a list</a></span></li><li><span><a href=\"#Length-of-a-list\" data-toc-modified-id=\"Length-of-a-list-4.5.4\"><span class=\"toc-item-num\">4.5.4&nbsp;&nbsp;</span>Length of a list</a></span></li><li><span><a href=\"#Looping-over-a-list\" data-toc-modified-id=\"Looping-over-a-list-4.5.5\"><span class=\"toc-item-num\">4.5.5&nbsp;&nbsp;</span>Looping over a list</a></span></li><li><span><a href=\"#Checking-whether-an-element-is-in-a-list\" data-toc-modified-id=\"Checking-whether-an-element-is-in-a-list-4.5.6\"><span class=\"toc-item-num\">4.5.6&nbsp;&nbsp;</span>Checking whether an element is in a list</a></span></li><li><span><a href=\"#Adding-items-to-a-list\" data-toc-modified-id=\"Adding-items-to-a-list-4.5.7\"><span class=\"toc-item-num\">4.5.7&nbsp;&nbsp;</span>Adding items to a list</a></span></li><li><span><a href=\"#Removing-elements,-clearing-and-deleting-a-list\" data-toc-modified-id=\"Removing-elements,-clearing-and-deleting-a-list-4.5.8\"><span class=\"toc-item-num\">4.5.8&nbsp;&nbsp;</span>Removing elements, clearing and deleting a list</a></span></li><li><span><a href=\"#Joining-two-lists\" data-toc-modified-id=\"Joining-two-lists-4.5.9\"><span class=\"toc-item-num\">4.5.9&nbsp;&nbsp;</span>Joining two lists</a></span></li><li><span><a href=\"#List-comprehensions\" data-toc-modified-id=\"List-comprehensions-4.5.10\"><span class=\"toc-item-num\">4.5.10&nbsp;&nbsp;</span>List comprehensions</a></span></li><li><span><a href=\"#Copying-a-list\" data-toc-modified-id=\"Copying-a-list-4.5.11\"><span class=\"toc-item-num\">4.5.11&nbsp;&nbsp;</span>Copying a list</a></span></li><li><span><a href=\"#List-Methods\" data-toc-modified-id=\"List-Methods-4.5.12\"><span class=\"toc-item-num\">4.5.12&nbsp;&nbsp;</span>List Methods</a></span></li></ul></li><li><span><a href=\"#Strings\" data-toc-modified-id=\"Strings-4.6\"><span class=\"toc-item-num\">4.6&nbsp;&nbsp;</span>Strings</a></span></li><li><span><a href=\"#Dictionairies\" data-toc-modified-id=\"Dictionairies-4.7\"><span class=\"toc-item-num\">4.7&nbsp;&nbsp;</span>Dictionairies</a></span></li><li><span><a href=\"#Tuples\" data-toc-modified-id=\"Tuples-4.8\"><span class=\"toc-item-num\">4.8&nbsp;&nbsp;</span>Tuples</a></span></li><li><span><a href=\"#Sets\" data-toc-modified-id=\"Sets-4.9\"><span class=\"toc-item-num\">4.9&nbsp;&nbsp;</span>Sets</a></span></li><li><span><a href=\"#If-else-statements\" data-toc-modified-id=\"If-else-statements-4.10\"><span class=\"toc-item-num\">4.10&nbsp;&nbsp;</span>If-else statements</a></span></li><li><span><a href=\"#While\" data-toc-modified-id=\"While-4.11\"><span class=\"toc-item-num\">4.11&nbsp;&nbsp;</span>While</a></span></li><li><span><a href=\"#For-Loops\" data-toc-modified-id=\"For-Loops-4.12\"><span class=\"toc-item-num\">4.12&nbsp;&nbsp;</span>For Loops</a></span></li><li><span><a href=\"#Functions\" data-toc-modified-id=\"Functions-4.13\"><span class=\"toc-item-num\">4.13&nbsp;&nbsp;</span><a href=\"https://www.w3schools.com/python/python_variables.asp\" target=\"_blank\">Functions</a></a></span></li><li><span><a href=\"#Python-Classes-and-Objects\" data-toc-modified-id=\"Python-Classes-and-Objects-4.14\"><span class=\"toc-item-num\">4.14&nbsp;&nbsp;</span>Python Classes and Objects</a></span></li><li><span><a href=\"#Libraries-(and-Modules)\" data-toc-modified-id=\"Libraries-(and-Modules)-4.15\"><span class=\"toc-item-num\">4.15&nbsp;&nbsp;</span>Libraries (and Modules)</a></span><ul class=\"toc-item\"><li><span><a href=\"#The-random-library\" data-toc-modified-id=\"The-random-library-4.15.1\"><span class=\"toc-item-num\">4.15.1&nbsp;&nbsp;</span>The random library</a></span></li><li><span><a href=\"#The-math-library\" data-toc-modified-id=\"The-math-library-4.15.2\"><span class=\"toc-item-num\">4.15.2&nbsp;&nbsp;</span>The <a href=\"https://www.w3schools.com/python/module_math.asp\" target=\"_blank\">math library</a></a></span><ul class=\"toc-item\"><li><span><a href=\"#Methods\" data-toc-modified-id=\"Methods-4.15.2.1\"><span class=\"toc-item-num\">4.15.2.1&nbsp;&nbsp;</span>Methods</a></span></li><li><span><a href=\"#Constants\" data-toc-modified-id=\"Constants-4.15.2.2\"><span class=\"toc-item-num\">4.15.2.2&nbsp;&nbsp;</span>Constants</a></span></li></ul></li><li><span><a href=\"#The-numpy-library-for-array-processing\" data-toc-modified-id=\"The-numpy-library-for-array-processing-4.15.3\"><span class=\"toc-item-num\">4.15.3&nbsp;&nbsp;</span>The numpy library for array processing</a></span></li><li><span><a href=\"#Other-libraries-to-know\" data-toc-modified-id=\"Other-libraries-to-know-4.15.4\"><span class=\"toc-item-num\">4.15.4&nbsp;&nbsp;</span>Other libraries to know</a></span></li><li><span><a href=\"#Creating-Custom-Modules\" data-toc-modified-id=\"Creating-Custom-Modules-4.15.5\"><span class=\"toc-item-num\">4.15.5&nbsp;&nbsp;</span>Creating Custom Modules</a></span></li><li><span><a href=\"#More-python-tutorials\" data-toc-modified-id=\"More-python-tutorials-4.15.6\"><span class=\"toc-item-num\">4.15.6&nbsp;&nbsp;</span>More python tutorials</a></span></li></ul></li></ul></li></ul></div>"
   ]
  },
  {
   "cell_type": "markdown",
   "metadata": {},
   "source": [
    "# Introduction\n",
    "\n",
    "This is a jupyter notebook. This is the support that we are going to use throughout the semester for both the exercise sessions and later for the project. Going over the concepts shown in this notebook will be greatly beneficial and help you save time both during the exercise sessions and the projects. Assimilating the basics of both the notebooks and the python language early on will make a big difference as you will be able to concentrate on the algorithmics rather than learning the syntax and figuring out what is out there that could help you solve your problem. \n",
    "\n",
    "\n",
    "**Why Python?**\n",
    "\n",
    "Some of you may not have used python yet but python is a language that is easy to understand and very quick to pick up, all the while being high level. The syntax is much simpler than what some of you may be used to having in C and C++, all the while giving you the possibility to do object oriented programming. However, it is sensitive to indentation (unlike C and C++ which uses brackets) so be attentive to this in the beginning. \n",
    "\n",
    "``Python is developed under an OSI-approved open source license, making it freely usable [(as opposed to Matlab)] and distributable, even for commercial use'' (https://www.python.org/about/). There is an active community that develops libraries for use in a variety of contexts, including robotics, machine learning and data science just to name a few. This also means that the python community is quite large and there is a lot of online support, notably on stack overflow where you are sure to find most answers to your python related questions. \n",
    "\n",
    "It is also compatible with many operating systems which means that you won't run into problems when switching between linux, macOS and windows. Installing libraries is also very easy with pip3. \n",
    "\n",
    "Python is what is called a ``dynamically typed language``, that is to say that you do not have to specify the type of an object. That also means that the larger your project gets, the more difficult it is to maintain as you are less likely to get errors.  The other disadvantage that comes with python is speed. It is much slower than a language that is compiled such as C++. \n",
    "\n",
    "\n",
    "**What are Jupyter Notebooks and why are we using them?**\n",
    "\n",
    "The Jupyter Notebooks environment is a hybrid system written in Python with its user interface running as web applications in your browser. Therefore, like python, jupyter notebooks are open source web applications that make it easy to create and share codes and documents. Jupyter notebooks provide an environment where you have various types of cells (for example the one here is called a Mardown cell and is handy for documentation, embedding images, url links, explaining what you are planning on doing, how and so forth). Coding cells are useful as they can be run one by one and make it easier to prototype and debug, a bit like what you would have in Matlab when you break the code into sections and run them successively. Unlike matlab however, you do not have an overall view of your variables and their values but you can always print them. Jupyter notebooks can also be used for other languages than python (for exapmle R, SQL etc...). \n",
    "\n",
    "There exists a more evolved form of Jupyter Notebooks called JuypterLabs. EPFL has configured its own JupyterLab environment with a big set of packages that are already installed. However, we will not make use of them in this course so that you have the flexibility to install any library you would like to use in the project. \n",
    "\n",
    "Nonetheless, you can install your own local jupyter lab using `python3 -m pip install jupyterlab`\n",
    "\n",
    "**Alternative to Jupyter Notebooks**\n",
    "\n",
    "If you would like to open the notebooks in another IDE you can use the Professional version of PyCharm (not the student version) which is accessible to EPFL students. It will generate a rendering of the notebook (which is not always perfect) and is closer to more traditional development environments. "
   ]
  },
  {
   "cell_type": "markdown",
   "metadata": {},
   "source": [
    "# Understanding how to use the Jupyter notebooks\n",
    "\n",
    "## Basic Navigation"
   ]
  },
  {
   "cell_type": "markdown",
   "metadata": {},
   "source": [
    "To use a notebook you need to understand a few basics : \n",
    "\n",
    "\n",
    "**Adding and Removing Cells**\n",
    "\n",
    "You can add cells by going to the ``Insert`` menu and choosing Add above or below. You can also move cells up or down by choosing the upwards or downwards arros located below the insert menu. \n",
    "\n",
    "\n",
    "**Running Cells**\n",
    "\n",
    "You will need to do this to execute the code contained in the individual cells. \n",
    "\n",
    "- To run an individual cell, select it and press ``Shift+Enter``\n",
    "\n",
    "- To run the whole notebook go to ``Cell->Run all``. If you just want to run the cells above or below you will also find that in the same menu \n",
    "\n",
    "- To re-run the whole notebook, go to ``Kernel -> Restart and Run all`` or press the button that looks like a fastforward button. This clears all variables stored in memory and runs the notebook from scratch. It is important to re-run the notebook from scratch from time to time, for example when you have reached a milestone to make sure that you don't have any bugs. As the notebook stores all the variables in memory, this helps avoid errors due to having deleted something, or have certain elements in the incorrect order within the cells or between cells. \n",
    "\n",
    "**Good Practices**\n",
    "\n",
    "- It is important to explain your reasoning in the Markdown cells (see below in section Markdown cells), similarly to the way you would in a report. You can have sections, subsections, write paragraphs, input images and so forth. \n",
    "\n",
    "- It is also important to comment you code so that any person who opens your notebook understands what you are doing. \n",
    "\n",
    "- When you make use of a library, it is considered good practice to import it at the start of the notebook. \n",
    "\n",
    "- Don't forget to save your notebook regularly. You can do this either with the save shortcut (Ctrl+S) or by going through File -> Save as. Under File you will also find other options such as creating a new notebook, renaming the current one, downloading it as a pdf, python file etc... \n",
    "\n",
    "**Installing Python libraries through the notebook**\n",
    "\n",
    "Instead of running the installation through the terminal, you can also run the installation from the notebook in a Code cell by calling ``!pip3 install lib1 lib2 lib3``. This is what we will do for the librairies that are required to solve the weekly exercise sessions.\n",
    "For example : "
   ]
  },
  {
   "cell_type": "code",
   "execution_count": null,
   "metadata": {
    "ExecuteTime": {
     "end_time": "2021-09-13T21:34:57.578619Z",
     "start_time": "2021-09-13T21:34:56.614371Z"
    },
    "scrolled": true
   },
   "outputs": [
    {
     "ename": "",
     "evalue": "",
     "output_type": "error",
     "traceback": [
      "\u001b[1;31mRunning cells with 'Python 3.12.3' requires the ipykernel package.\n",
      "\u001b[1;31mRun the following command to install 'ipykernel' into the Python environment. \n",
      "\u001b[1;31mCommand: '/bin/python3 -m pip install ipykernel -U --user --force-reinstall'"
     ]
    }
   ],
   "source": [
    "!pip3 install numpy seaborn"
   ]
  },
  {
   "cell_type": "markdown",
   "metadata": {
    "ExecuteTime": {
     "end_time": "2021-09-13T21:25:32.424532Z",
     "start_time": "2021-09-13T21:25:32.419986Z"
    }
   },
   "source": [
    "---\n",
    "\n",
    "**Markdown Cells**\n",
    "\n",
    "Markdown cells can be used to create headings, lists (ordered or bulleted), hyperlinks, tables, latex formulas, images, etc... This of course requires it's own specific syntax but it is well documented online. You can also use raw HTML in Markdown cells (as you can see if you have a look at the code used to change the text color below to blue). \n",
    "\n",
    "> <span style=\"color:blue\">*For a more detailed introduction to Jupyter notebooks and the markdown syntax you can refer to this [link](https://jupyter.brynmawr.edu/services/public/dblank/Jupyter%20Notebook%20Users%20Manual.ipynb#4.-Using-Markdown-Cells-for-Writing) or [this one](https://daringfireball.net/projects/markdown/syntax#precode) that is markdown specific. There is also a markdown cheat sheet [here](https://github.com/adam-p/markdown-here/wiki/Markdown-Cheatsheet)*</span>.\n",
    " \n"
   ]
  },
  {
   "cell_type": "markdown",
   "metadata": {
    "ExecuteTime": {
     "end_time": "2021-09-13T21:27:36.694757Z",
     "start_time": "2021-09-13T21:27:36.683644Z"
    }
   },
   "source": [
    "## Installing Jupyter Notebook Extensions\n",
    "\n",
    "Jupyter extensions are add ons that work with jupyter notebooks (not jupyter lab) and that are meant to improve your productivity. \n",
    "\n",
    "If you are interested, you can install a few [nbextensions that are useful](https://towardsdatascience.com/jupyter-tools-to-increase-productivity-7b3c6b90be09) (the set up is in the next cell) :\n",
    "\n",
    "1. *Table of Contents (2)* : This creates a TOC automatically based on the header cells in the notebook. The Display Table of Contents as a sidebar option creates a TOC as a sidebar which helps keeping context and also navigating across the notebook. This will give structure to your notebooks and will help people navigate through them\n",
    "\n",
    "\n",
    "2. *Collapsible Headings*: This along with toc2 is great to roll up sections of the notebook that you don’t want to focus on at a particular time.\n",
    "\n",
    "\n",
    "3. *Codefolding* : You can reduce the size of the cells by collapsing function definitions and long code blocks.\n",
    "\n",
    "\n",
    "4. *ExecuteTime* : The %%time cell magic function is great for checking runtime. But with ExecuteTime, the runtime of all the code cells are displayed on the bottom left, so you don’t need remember to use the cell magic.\n",
    "\n",
    "\n",
    "5. *Hide all Input* : For times when you need to code to generate and output, but don’t need to show the code (for brevity) , this is great to clean up a notebook for presentation.\n",
    "\n",
    "\n",
    "6. *Live Mardown Preview* might also be useful for those not at ease with the syntax\n",
    "\n",
    "\n",
    "We will install the jupyter notebook extensions using pip3 in the Code cell below and by running a few additional terminal commands to finish setting up the extensions (start with an exclamation mark). You will see the progress bar for the installation of the different packages. However, if they are already installed you will see that the requirement is already satisfied. "
   ]
  },
  {
   "cell_type": "code",
   "execution_count": null,
   "metadata": {
    "ExecuteTime": {
     "end_time": "2021-09-13T21:35:05.022894Z",
     "start_time": "2021-09-13T21:34:57.580803Z"
    },
    "scrolled": true
   },
   "outputs": [],
   "source": [
    "!pip3 install jupyter_contrib_nbextensions jupyter_nbextensions_configurator\n",
    "!pip3 install https://github.com/ipython-contrib/jupyter_contrib_nbextensions/tarball/master\n",
    "!jupyter contrib nbextension install --user\n",
    "!jupyter nbextensions_configurator enable --user"
   ]
  },
  {
   "cell_type": "markdown",
   "metadata": {},
   "source": [
    "Now you will need to refresh the Jupyter home page to see the notebook extensions tab (or just click on the logo jupyter and go on nbextensions). It should look something like this. You will need to uncheck the disable configuration button and select the extensions you want to have.\n",
    "\n",
    "\n",
    "![nbextensions](images/nbextensions.png)\n",
    "\n",
    "\n",
    "If it does not appear, then shut down the jupyter notebook all together and restart it. \n",
    "\n"
   ]
  },
  {
   "cell_type": "markdown",
   "metadata": {},
   "source": [
    "## Jupyter Magic Functions\n",
    "\n",
    "There are a lot of magic functions in Jupyter.\n",
    "\n",
    "1. ``%cd <path>`` : Quick way to switch working directory while in notebook.\n",
    "    \n",
    "    \n",
    "2. ``%autoreload`` : Use this at every notebook where you use scripts/ projects . The changes you do to them will be auto re-loaded into jupyter context.\n",
    "\n",
    "\n",
    "3. ``%timeit``: Runs the code line multiple times and prints the metrics of code runtime.\n",
    "\n",
    "\n",
    "4. ``%debug``: running this immediately after an exception gives you the possibility of inspecting the stack.\n"
   ]
  },
  {
   "cell_type": "markdown",
   "metadata": {},
   "source": [
    "# Installing the libraries you will need for the course"
   ]
  },
  {
   "cell_type": "code",
   "execution_count": null,
   "metadata": {
    "ExecuteTime": {
     "end_time": "2021-09-13T21:35:06.298863Z",
     "start_time": "2021-09-13T21:35:05.026102Z"
    }
   },
   "outputs": [],
   "source": [
    "!pip3 install pyserial pandas seaborn opencv-python tqdm matplotlib ipywidgets numpy scipy"
   ]
  },
  {
   "cell_type": "markdown",
   "metadata": {},
   "source": [
    "# Python Basics\n",
    "\n",
    "Now let's move on to the python basics that you will come in handy for the exercise sessions. We will not go into the details of object oriented programming as you can resolve all the exercises without but this may come in handy for the projects. The content of this portion of the notebook is highly based on the tutorial [here](https://www.w3schools.com/python/).\n",
    "\n",
    "\n",
    "## Data Types\n",
    "\n",
    "In python, you have certain built-in [data types](https://www.w3schools.com/python/python_datatypes.asp) (the ones you are most likely to use are in bold) \n",
    "\n",
    "- Text Type:\t**str**\n",
    "\n",
    "\n",
    "- Numeric Types:\t**int**, **float**, complex\n",
    "\n",
    "\n",
    "- Sequence Types:\t**list**, **tuple** , **range**\n",
    "\n",
    "\n",
    "- Mapping Type:\t**dict** \n",
    "\n",
    "\n",
    "- Set Types:\t**set** , frozenset \n",
    "\n",
    "\n",
    "- Boolean Type:\t**bool** (either ``True`` or ``False``)\n",
    "\n",
    "\n",
    "- Binary Types:\tbytes, bytearray, memoryview\n",
    "\n",
    "\n",
    "In Python, the data type is set when you assign a value to a variable:\n",
    "\n",
    "|Example Assignment| Corresponding Data Type|\n",
    "| :------------- |:-------------:|\n",
    "|x = \"Hello World\"|\tstr\t|\n",
    "|x = 20\t|int\t|\n",
    "|x = 20.5\t|float\t|\n",
    "|x = 1j\t|complex\t|\n",
    "|x = [\"apple\", \"banana\", \"cherry\"]\t|list\t|\n",
    "|x = (\"apple\", \"banana\", \"cherry\")\t|tuple\t|\n",
    "|x = range(6)\t|range\t|\n",
    "|x = {\"name\" : \"John\", \"age\" : 36}\t|dict\t|\n",
    "|x = {\"apple\", \"banana\", \"cherry\"}\t|set\t|\n",
    "|x = frozenset({\"apple\", \"banana\", \"cherry\"})\t|frozenset\t|\n",
    "|x = True\t|bool\t|\n",
    "|x = b\"Hello\"\t|bytes\t|\n",
    "|x = bytearray(5)\t|bytearray\t|\n",
    "|x = memoryview(bytes(5))\t|memoryview|"
   ]
  },
  {
   "cell_type": "markdown",
   "metadata": {},
   "source": [
    "## [Operators](https://www.w3schools.com/python/python_operators.asp)\n",
    "\n",
    "Operators are used to perform operations on variables and values.\n",
    "\n",
    "Python divides the operators in the following groups:\n",
    "\n",
    "- Arithmetic operators\n",
    "- Assignment operators\n",
    "- Comparison operators\n",
    "- Logical operators\n",
    "- Identity operators\n",
    "- Membership operators\n",
    "- Bitwise operators\n",
    "\n",
    "**Arithmetic Operators**\n",
    "\n",
    "|Operator|Name|Example|\n",
    "|:-------------: | :------------- |:-------------:|\n",
    "|+|Addition|x + y|\n",
    "|-|Subtraction|x - y|\n",
    "|*|Multiplication|x * y|\n",
    "|/|Division|x / y|\n",
    "|%|Modulus|x % y|\n",
    "|**|Exponentiation|x ** y|\n",
    "|//|Floor division|x // y|\n",
    "\n",
    "**Assignment Operators**\n",
    "\n",
    "|Operator\t|Example\t|Same As|\n",
    "|:-------------: | :------------- |:-------------:|\n",
    "|=|\tx = 5|\tx = 5\t|\n",
    "|+=|\tx += 3|\tx = x + 3\t|\n",
    "|-=|\tx -= 3|\tx = x - 3\t|\n",
    "|*=|\tx *= 3|\tx = x * 3\t|\n",
    "|/=|\tx /= 3|\tx = x / 3\t|\n",
    "|%=|\tx %= 3|\tx = x % 3\t|\n",
    "|//=|\tx //= 3|\tx = x // 3\t|\n",
    "|\\**=|\tx \\**= 3|\tx = x \\** 3\t|\n",
    "|&=|\tx &= 3|\tx = x & 3\t|\n",
    "|\\|=|\tx |= 3|\tx = x | 3\t|\n",
    "|^=|\tx ^= 3|\tx = x ^ 3\t|\n",
    "|>>=|\tx >>= 3|x = x >> 3\t|\n",
    "|<<=|\tx <<= 3|x = x << 3|\n",
    "\n",
    "**Comparison Operators**\n",
    "\n",
    "| Operator | Name | Example |\n",
    "|----------|--------------------------|---------|\n",
    "| == | Equal | x == y |\n",
    "| != | Not equal | x != y |\n",
    "| > | Greater than | x > y |\n",
    "| < | Less than | x < y |\n",
    "| >= | Greater than or equal to | x >= y |\n",
    "| <= | Less than or equal to | x <= y |\n",
    "\n",
    "**Logical Operators**\n",
    "\n",
    "| Operator | Description | Example |\n",
    "|----------|---------------------------------------------------------|-----------------------|\n",
    "| and  | Returns True if both statements are true | x < 5 and  x < 10 |\n",
    "| or | Returns True if one of the statements is true | x < 5 or x < 4 |\n",
    "| not | Reverse the result, returns False if the result is true | not(x < 5 and x < 10) |\n",
    "\n",
    "**Identity Operators**\n",
    "\n",
    "| Operator | Description | Example | Try it |\n",
    "|----------|--------------------------------------------------------|------------|----------|\n",
    "| is  | Returns True if both variables are the same object | x is y | Try it » |\n",
    "| is not | Returns True if both variables are not the same object | x is not y |  |\n",
    "\n",
    "\n",
    "**Membership Operators**\n",
    "\n",
    "| Operator | Description | Example | Try it |\n",
    "|----------|----------------------------------------------------------------------------------|------------|----------|\n",
    "| in  | Returns True if a sequence with the specified value is present in the object | x in y | Try it » |\n",
    "| not in | Returns True if a sequence with the specified value is not present in the object | x not in y |  |\n",
    "\n",
    "**Bitwise Operators**\n",
    "\n",
    "| Operator | Name | Description |\n",
    "|----------|----------------------|---------------------------------------------------------------------------------------------------------|\n",
    "| &  | AND | Sets each bit to 1 if both bits are 1 |\n",
    "| \\| | OR | Sets each bit to 1 if one of two bits is 1 |\n",
    "|  ^ | XOR | Sets each bit to 1 if only one of two bits is 1 |\n",
    "| ~  | NOT | Inverts all the bits |\n",
    "| << | Zero fill left shift | Shift left by pushing zeros in from the right and let the leftmost bits fall off |\n",
    "| >> | Signed right shift | Shift right by pushing copies of the leftmost bit in from the left, and let the rightmost bits fall off |"
   ]
  },
  {
   "cell_type": "markdown",
   "metadata": {},
   "source": [
    "## Comments"
   ]
  },
  {
   "cell_type": "code",
   "execution_count": 1,
   "metadata": {
    "ExecuteTime": {
     "end_time": "2021-09-13T21:35:06.306577Z",
     "start_time": "2021-09-13T21:35:06.301689Z"
    }
   },
   "outputs": [
    {
     "name": "stdout",
     "output_type": "stream",
     "text": [
      "Hello World!\n"
     ]
    }
   ],
   "source": [
    "# This is a code cell. It allows you to enter and run code\n",
    "# using a hashtag gives you the possibility\n",
    "# to comment out a line of code\n",
    "\"\"\"\n",
    "If you want to write a multi-line comment \n",
    "(or comment out a large portion of code),\n",
    "you can use the \\\"\"\" syntax. \n",
    "\"\"\"\n",
    "print(\"Hello World!\")  # This line prints Hello World to the console"
   ]
  },
  {
   "cell_type": "markdown",
   "metadata": {},
   "source": [
    "## Creating a variable and printing its type and value"
   ]
  },
  {
   "cell_type": "markdown",
   "metadata": {},
   "source": [
    "Let's start by creating a variable a and setting it to 10"
   ]
  },
  {
   "cell_type": "code",
   "execution_count": 2,
   "metadata": {
    "ExecuteTime": {
     "end_time": "2021-09-13T21:35:06.312907Z",
     "start_time": "2021-09-13T21:35:06.309458Z"
    }
   },
   "outputs": [],
   "source": [
    "#Creating variable a\n",
    "a = 10 "
   ]
  },
  {
   "cell_type": "markdown",
   "metadata": {
    "ExecuteTime": {
     "end_time": "2020-05-02T16:45:52.874706Z",
     "start_time": "2020-05-02T16:45:52.871534Z"
    }
   },
   "source": [
    "Now let's print the value of a"
   ]
  },
  {
   "cell_type": "code",
   "execution_count": 3,
   "metadata": {
    "ExecuteTime": {
     "end_time": "2021-09-13T21:35:06.321728Z",
     "start_time": "2021-09-13T21:35:06.316504Z"
    }
   },
   "outputs": [
    {
     "name": "stdout",
     "output_type": "stream",
     "text": [
      "10 <class 'int'>\n"
     ]
    }
   ],
   "source": [
    "#printing the value and type of a \n",
    "print(a, type(a)) # "
   ]
  },
  {
   "cell_type": "markdown",
   "metadata": {},
   "source": [
    "Here is a more elaborate print where we are combining text and an integer. First you create the string in between the quotes \\\" \\\" and you place the accolades \\{ \\} where you want your variable to be printed in the string. After the quotes you put `.format(my_variable)`"
   ]
  },
  {
   "cell_type": "code",
   "execution_count": 4,
   "metadata": {
    "ExecuteTime": {
     "end_time": "2021-09-13T21:35:06.332075Z",
     "start_time": "2021-09-13T21:35:06.326164Z"
    }
   },
   "outputs": [
    {
     "name": "stdout",
     "output_type": "stream",
     "text": [
      "Variable a is equal to 10 and is of type <class 'int'>\n"
     ]
    }
   ],
   "source": [
    "#printing the value of a\n",
    "print(\"Variable a is equal to {} and is of type {}\".format(a, type(a))) "
   ]
  },
  {
   "cell_type": "markdown",
   "metadata": {},
   "source": [
    "Here is another alternative which is simpler than using format"
   ]
  },
  {
   "cell_type": "code",
   "execution_count": 7,
   "metadata": {
    "ExecuteTime": {
     "end_time": "2021-09-13T21:35:06.342747Z",
     "start_time": "2021-09-13T21:35:06.338508Z"
    }
   },
   "outputs": [
    {
     "name": "stdout",
     "output_type": "stream",
     "text": [
      "Variable a is equal to 10 and is of type <class 'int'>\n"
     ]
    }
   ],
   "source": [
    "#printing the value of a\n",
    "print(f\"Variable a is equal to {a} and is of type {type(a)}\") "
   ]
  },
  {
   "cell_type": "markdown",
   "metadata": {
    "ExecuteTime": {
     "end_time": "2020-05-02T17:03:38.678124Z",
     "start_time": "2020-05-02T17:03:38.675010Z"
    }
   },
   "source": [
    "Here is an example showing how to assign values to multiple variables at once and printing their values and types (see [here](https://www.w3schools.com/python/python_variables.asp))"
   ]
  },
  {
   "cell_type": "code",
   "execution_count": 8,
   "metadata": {
    "ExecuteTime": {
     "end_time": "2021-09-13T21:35:06.353055Z",
     "start_time": "2021-09-13T21:35:06.348121Z"
    }
   },
   "outputs": [
    {
     "name": "stdout",
     "output_type": "stream",
     "text": [
      "Orange Banana Cherry\n",
      "<class 'str'> <class 'str'> <class 'str'>\n"
     ]
    }
   ],
   "source": [
    "x, y, z = \"Orange\", \"Banana\", \"Cherry\"\n",
    "print(x, y, z)\n",
    "print(type(x), type(y), type(z))"
   ]
  },
  {
   "cell_type": "markdown",
   "metadata": {},
   "source": [
    "You can also assign the same value to multiple variables in one line"
   ]
  },
  {
   "cell_type": "code",
   "execution_count": 9,
   "metadata": {
    "ExecuteTime": {
     "end_time": "2021-09-13T21:35:06.360770Z",
     "start_time": "2021-09-13T21:35:06.356548Z"
    }
   },
   "outputs": [
    {
     "name": "stdout",
     "output_type": "stream",
     "text": [
      "Orange <class 'str'>\n",
      "Orange <class 'str'>\n",
      "Orange <class 'str'>\n"
     ]
    }
   ],
   "source": [
    "x = y = z = \"Orange\"\n",
    "print(x, type(x))\n",
    "print(y, type(y))\n",
    "print(z, type(z))"
   ]
  },
  {
   "cell_type": "markdown",
   "metadata": {},
   "source": [
    "You can also conduct operations on variables in the print function and have it print the result"
   ]
  },
  {
   "cell_type": "code",
   "execution_count": 10,
   "metadata": {
    "ExecuteTime": {
     "end_time": "2021-09-13T21:35:06.367460Z",
     "start_time": "2021-09-13T21:35:06.363657Z"
    }
   },
   "outputs": [
    {
     "name": "stdout",
     "output_type": "stream",
     "text": [
      "Here is what happens when you add strings : OrangeOrangeOrange\n"
     ]
    }
   ],
   "source": [
    "print(\"Here is what happens when you add strings : \"+x+y+z)"
   ]
  },
  {
   "cell_type": "markdown",
   "metadata": {},
   "source": [
    "You can also change the type of a variable. \n",
    "\n",
    "Note that the boolean of most values are True (see [here](https://www.w3schools.com/python/python_booleans.asp) for more on booleans). Almost any value is evaluated to True if it has some sort of content. Any string is True, except empty strings. Any number is True, except 0. Any list, tuple, set, and dictionary are True, except empty ones. In fact, there are not many values that evaluates to False, except empty values, such as (), [], {}, \"\", the number 0, and the value None. And of course the value False evaluates to False."
   ]
  },
  {
   "cell_type": "code",
   "execution_count": 11,
   "metadata": {
    "ExecuteTime": {
     "end_time": "2021-09-13T21:35:06.377284Z",
     "start_time": "2021-09-13T21:35:06.369758Z"
    }
   },
   "outputs": [
    {
     "name": "stdout",
     "output_type": "stream",
     "text": [
      "a \t\t 10 <class 'int'>\n",
      "bool a\t\t True <class 'bool'>\n",
      "str a\t\t 10 <class 'str'>\n",
      "float a\t\t 10.0 <class 'float'>\n",
      "complex a\t (10+0j) <class 'complex'>\n"
     ]
    }
   ],
   "source": [
    "print(\"a \\t\\t\", a, type(a))\n",
    "print(\"bool a\\t\\t\", bool(a), type(bool(a)))\n",
    "print(\"str a\\t\\t\", str(a), type(str(a)))\n",
    "print(\"float a\\t\\t\", float(a), type(float(a)))\n",
    "print(\"complex a\\t\", complex(a), type(complex(a)))"
   ]
  },
  {
   "cell_type": "markdown",
   "metadata": {},
   "source": [
    "Here are a few more examples"
   ]
  },
  {
   "cell_type": "code",
   "execution_count": 5,
   "metadata": {
    "ExecuteTime": {
     "end_time": "2021-09-13T21:35:06.385857Z",
     "start_time": "2021-09-13T21:35:06.380863Z"
    }
   },
   "outputs": [
    {
     "name": "stdout",
     "output_type": "stream",
     "text": [
      "float(1)   :  1.0\n",
      "float(2.8) :  2.8\n",
      "float(\"3\") :  3.0\n",
      "float(4.2) :  4.2\n"
     ]
    }
   ],
   "source": [
    "print(\"float(1)   : \", float(1))\n",
    "print(\"float(2.8) : \", float(2.8))\n",
    "print(\"float(\\\"3\\\") : \", float(\"3\"))\n",
    "print(\"float(4.2) : \", float(\"4.2\"))"
   ]
  },
  {
   "cell_type": "markdown",
   "metadata": {},
   "source": [
    "## [Lists / Arrays](https://www.w3schools.com/python/python_lists.asp)\n",
    "\n",
    "A list is a collection which is ordered and changeable. In Python lists are written with square brackets.\n",
    "\n",
    "\n",
    "### Creating a list\n",
    "Let's start with creating a list"
   ]
  },
  {
   "cell_type": "code",
   "execution_count": 6,
   "metadata": {
    "ExecuteTime": {
     "end_time": "2021-09-13T21:35:06.393046Z",
     "start_time": "2021-09-13T21:35:06.389640Z"
    }
   },
   "outputs": [
    {
     "name": "stdout",
     "output_type": "stream",
     "text": [
      "['apple', 'banana', 'cherry']\n"
     ]
    }
   ],
   "source": [
    "thislist = [\"apple\", \"banana\", \"cherry\"]\n",
    "print(thislist)"
   ]
  },
  {
   "cell_type": "markdown",
   "metadata": {},
   "source": [
    "### Accessing elements of a list"
   ]
  },
  {
   "cell_type": "markdown",
   "metadata": {},
   "source": [
    "Now, we are printing the second item of the list "
   ]
  },
  {
   "cell_type": "code",
   "execution_count": 7,
   "metadata": {
    "ExecuteTime": {
     "end_time": "2021-09-13T21:35:06.399673Z",
     "start_time": "2021-09-13T21:35:06.395721Z"
    }
   },
   "outputs": [
    {
     "name": "stdout",
     "output_type": "stream",
     "text": [
      "banana\n"
     ]
    }
   ],
   "source": [
    "print(thislist[1])"
   ]
  },
  {
   "cell_type": "markdown",
   "metadata": {},
   "source": [
    "Here we use negative indexing to access the last element of the list. Negative indexing means beginning from the end, -1 refers to the last item, -2 refers to the second last item etc."
   ]
  },
  {
   "cell_type": "code",
   "execution_count": 8,
   "metadata": {
    "ExecuteTime": {
     "end_time": "2021-09-13T21:35:06.407067Z",
     "start_time": "2021-09-13T21:35:06.403054Z"
    }
   },
   "outputs": [
    {
     "name": "stdout",
     "output_type": "stream",
     "text": [
      "cherry\n"
     ]
    }
   ],
   "source": [
    "print(thislist[-1])"
   ]
  },
  {
   "cell_type": "markdown",
   "metadata": {},
   "source": [
    "You can also access a range of indexes. You can specify a range of indexes by specifying where to start and where to end the range.\n",
    "When specifying a range, the return value will be a new list with the specified items. /!\\ Be careful about the indices example: [2:5] it is from 2 to 4 !"
   ]
  },
  {
   "cell_type": "code",
   "execution_count": 9,
   "metadata": {
    "ExecuteTime": {
     "end_time": "2021-09-13T21:35:06.416189Z",
     "start_time": "2021-09-13T21:35:06.410040Z"
    }
   },
   "outputs": [
    {
     "name": "stdout",
     "output_type": "stream",
     "text": [
      "Entire list :  ['apple', 'banana', 'cherry', 'orange', 'kiwi', 'melon', 'mango']\n",
      "Elements 2 to 4 :  ['cherry', 'orange', 'kiwi']\n",
      "Elements 0 to 3 :  ['apple', 'banana', 'cherry', 'orange']\n",
      "Elements 2 to last :  ['cherry', 'orange', 'kiwi', 'melon', 'mango']\n",
      "Elements -4 (included) to index -1 (excluded) :  ['orange', 'kiwi', 'melon']\n"
     ]
    }
   ],
   "source": [
    "thislist = [\"apple\", \"banana\", \"cherry\", \"orange\", \"kiwi\", \"melon\", \"mango\"]\n",
    "print(\"Entire list : \", thislist)\n",
    "print(\"Elements 2 to 4 : \", thislist[2:5]) \n",
    "print(\"Elements 0 to 3 : \", thislist[:4])\n",
    "print(\"Elements 2 to last : \", thislist[2:])\n",
    "print(\"Elements -4 (included) to index -1 (excluded) : \", thislist[-4:-1])\n"
   ]
  },
  {
   "cell_type": "markdown",
   "metadata": {},
   "source": [
    "### Changing values of a list"
   ]
  },
  {
   "cell_type": "markdown",
   "metadata": {},
   "source": [
    "To change the value of a specific item, refer to the index number"
   ]
  },
  {
   "cell_type": "code",
   "execution_count": 10,
   "metadata": {
    "ExecuteTime": {
     "end_time": "2021-09-13T21:35:06.421819Z",
     "start_time": "2021-09-13T21:35:06.418599Z"
    }
   },
   "outputs": [
    {
     "name": "stdout",
     "output_type": "stream",
     "text": [
      "Original List :  ['apple', 'banana', 'cherry', 'orange', 'kiwi', 'melon', 'mango']\n",
      "Updated list : ['apple', 'blackcurrant', 'cherry', 'orange', 'kiwi', 'melon', 'mango']\n"
     ]
    }
   ],
   "source": [
    "print(\"Original List : \", thislist)\n",
    "thislist[1] = \"blackcurrant\"\n",
    "print(\"Updated list :\", thislist)"
   ]
  },
  {
   "cell_type": "markdown",
   "metadata": {},
   "source": [
    "### Length of a list\n",
    "To determine how many items a list has, use the len() function:"
   ]
  },
  {
   "cell_type": "code",
   "execution_count": 11,
   "metadata": {
    "ExecuteTime": {
     "end_time": "2021-09-13T21:35:06.427390Z",
     "start_time": "2021-09-13T21:35:06.423753Z"
    }
   },
   "outputs": [
    {
     "name": "stdout",
     "output_type": "stream",
     "text": [
      "This list has 7 elements\n"
     ]
    }
   ],
   "source": [
    "print(\"This list has {} elements\".format(len(thislist)))"
   ]
  },
  {
   "cell_type": "markdown",
   "metadata": {},
   "source": [
    "### Looping over a list"
   ]
  },
  {
   "cell_type": "markdown",
   "metadata": {},
   "source": [
    "You can loop through the list items by using a for loop:\n"
   ]
  },
  {
   "cell_type": "code",
   "execution_count": 12,
   "metadata": {
    "ExecuteTime": {
     "end_time": "2021-09-13T21:35:06.436316Z",
     "start_time": "2021-09-13T21:35:06.430883Z"
    }
   },
   "outputs": [
    {
     "name": "stdout",
     "output_type": "stream",
     "text": [
      "apple\n",
      "blackcurrant\n",
      "cherry\n",
      "orange\n",
      "kiwi\n",
      "melon\n",
      "mango\n"
     ]
    }
   ],
   "source": [
    "for x in thislist:\n",
    "    print(x)"
   ]
  },
  {
   "cell_type": "markdown",
   "metadata": {},
   "source": [
    "You can also use ``enumerate`` to get the id of each element in the list"
   ]
  },
  {
   "cell_type": "code",
   "execution_count": 13,
   "metadata": {
    "ExecuteTime": {
     "end_time": "2021-09-13T21:35:06.442696Z",
     "start_time": "2021-09-13T21:35:06.438439Z"
    }
   },
   "outputs": [
    {
     "name": "stdout",
     "output_type": "stream",
     "text": [
      "My list contains element apple at index 0\n",
      "My list contains element blackcurrant at index 1\n",
      "My list contains element cherry at index 2\n",
      "My list contains element orange at index 3\n",
      "My list contains element kiwi at index 4\n",
      "My list contains element melon at index 5\n",
      "My list contains element mango at index 6\n"
     ]
    }
   ],
   "source": [
    "for idx, x in enumerate(thislist):\n",
    "    print(\"My list contains element {} at index {}\".format(x, idx))"
   ]
  },
  {
   "cell_type": "code",
   "execution_count": null,
   "metadata": {},
   "outputs": [],
   "source": []
  },
  {
   "cell_type": "markdown",
   "metadata": {},
   "source": [
    "### Checking whether an element is in a list\n",
    "To determine if a specified item is present in a list use the in keyword:"
   ]
  },
  {
   "cell_type": "code",
   "execution_count": 14,
   "metadata": {
    "ExecuteTime": {
     "end_time": "2021-09-13T21:35:06.449220Z",
     "start_time": "2021-09-13T21:35:06.445398Z"
    }
   },
   "outputs": [
    {
     "name": "stdout",
     "output_type": "stream",
     "text": [
      "Yes, 'apple' is in the fruits list\n"
     ]
    }
   ],
   "source": [
    "if \"apple\" in thislist:\n",
    "    print(\"Yes, 'apple' is in the fruits list\")"
   ]
  },
  {
   "cell_type": "markdown",
   "metadata": {},
   "source": [
    "### Adding items to a list"
   ]
  },
  {
   "cell_type": "markdown",
   "metadata": {},
   "source": [
    "You can also add an item at a specified index using the insert() method"
   ]
  },
  {
   "cell_type": "code",
   "execution_count": 15,
   "metadata": {
    "ExecuteTime": {
     "end_time": "2021-09-13T21:35:06.463623Z",
     "start_time": "2021-09-13T21:35:06.459691Z"
    }
   },
   "outputs": [
    {
     "name": "stdout",
     "output_type": "stream",
     "text": [
      "Before the insert :  ['apple', 'blackcurrant', 'cherry', 'orange', 'kiwi', 'melon', 'mango']\n",
      "After the insert :  ['apple', 'orange', 'blackcurrant', 'cherry', 'orange', 'kiwi', 'melon', 'mango']\n"
     ]
    }
   ],
   "source": [
    "print(\"Before the insert : \", thislist)\n",
    "thislist.insert(1, \"orange\")\n",
    "print(\"After the insert : \", thislist)"
   ]
  },
  {
   "cell_type": "markdown",
   "metadata": {},
   "source": [
    "Another way of adding an element to a list is to use the append() method"
   ]
  },
  {
   "cell_type": "code",
   "execution_count": 16,
   "metadata": {
    "ExecuteTime": {
     "end_time": "2021-09-13T21:35:06.471964Z",
     "start_time": "2021-09-13T21:35:06.468575Z"
    }
   },
   "outputs": [
    {
     "name": "stdout",
     "output_type": "stream",
     "text": [
      "Affter append :  ['apple', 'orange', 'blackcurrant', 'cherry', 'orange', 'kiwi', 'melon', 'mango', 'litchis']\n"
     ]
    }
   ],
   "source": [
    "thislist.append(\"litchis\")\n",
    "print(\"Affter append : \", thislist)"
   ]
  },
  {
   "cell_type": "markdown",
   "metadata": {},
   "source": [
    "### Removing elements, clearing and deleting a list"
   ]
  },
  {
   "cell_type": "markdown",
   "metadata": {},
   "source": [
    "You can also remove items from a list. There are several ways to do so. \n",
    "\n",
    "- remove() removes the specified item\n",
    "\n",
    "- pop() removes the specified index, or the last item if the index is not specified\n",
    "\n",
    "- clear empties the list\n",
    "\n",
    "- del removes the specified index but can also be used to delete a variable completely\n",
    "\n"
   ]
  },
  {
   "cell_type": "code",
   "execution_count": 17,
   "metadata": {
    "ExecuteTime": {
     "end_time": "2021-09-13T21:35:06.483522Z",
     "start_time": "2021-09-13T21:35:06.474503Z"
    }
   },
   "outputs": [
    {
     "name": "stdout",
     "output_type": "stream",
     "text": [
      "Removed Banana : ['apple', 'cherry']\n",
      "Popped last element : ['apple', 'banana']\n",
      "Cleared the list : []\n",
      "Deleted element 0:  ['banana', 'cherry']\n",
      "The list exists before deletion\n",
      "The list does not exist after deletion\n"
     ]
    }
   ],
   "source": [
    "# REMOVE\n",
    "newlist = [\"apple\", \"banana\", \"cherry\"]\n",
    "newlist.remove(\"banana\")\n",
    "print(\"Removed Banana :\", newlist)\n",
    "\n",
    "# POP\n",
    "newlist = [\"apple\", \"banana\", \"cherry\"]\n",
    "newlist.pop()\n",
    "print(\"Popped last element :\", newlist)\n",
    "\n",
    "# CLEAR \n",
    "newlist = [\"apple\", \"banana\", \"cherry\"]\n",
    "newlist.clear()\n",
    "print(\"Cleared the list :\", newlist)\n",
    "\n",
    "# DEL for a specific index\n",
    "newlist = [\"apple\", \"banana\", \"cherry\"]\n",
    "\n",
    "del newlist[0]\n",
    "\n",
    "print(\"Deleted element 0: \", newlist)\n",
    "\n",
    "# DEL for the variable in general\n",
    "\n",
    "if 'newlist' in globals():\n",
    "    print(\"The list exists before deletion\")\n",
    "else : \n",
    "    print(\"The list does not exist\")\n",
    "    \n",
    "del newlist\n",
    "\n",
    "if 'newlist' in globals():\n",
    "    print(\"The list exists\")\n",
    "else:\n",
    "    print(\"The list does not exist after deletion\")"
   ]
  },
  {
   "cell_type": "markdown",
   "metadata": {},
   "source": [
    "### Joining two lists\n",
    "\n",
    "One of the easiest way to join two lists is by using the + operator."
   ]
  },
  {
   "cell_type": "code",
   "execution_count": 18,
   "metadata": {
    "ExecuteTime": {
     "end_time": "2021-09-13T21:35:06.490610Z",
     "start_time": "2021-09-13T21:35:06.486002Z"
    }
   },
   "outputs": [
    {
     "name": "stdout",
     "output_type": "stream",
     "text": [
      "list1 : ['a', 'b', 'c']\n",
      "list2 : [1, 2, 3]\n",
      "list3 = list1+list2 : ['a', 'b', 'c', 1, 2, 3]\n"
     ]
    }
   ],
   "source": [
    "list1 = [\"a\", \"b\" , \"c\"]\n",
    "list2 = [1, 2, 3]\n",
    "\n",
    "list3 = list1 + list2\n",
    "\n",
    "print(\"list1 :\", list1)\n",
    "print(\"list2 :\", list2)\n",
    "print(\"list3 = list1+list2 :\", list3)\n"
   ]
  },
  {
   "cell_type": "markdown",
   "metadata": {},
   "source": [
    "Another way to join two lists are by appending all the items from list2 into list1, one by one:"
   ]
  },
  {
   "cell_type": "code",
   "execution_count": 19,
   "metadata": {
    "ExecuteTime": {
     "end_time": "2021-09-13T21:35:06.498266Z",
     "start_time": "2021-09-13T21:35:06.493297Z"
    }
   },
   "outputs": [
    {
     "name": "stdout",
     "output_type": "stream",
     "text": [
      "['a', 'b', 'c', 1, 2, 3]\n"
     ]
    }
   ],
   "source": [
    "list3 = list1.copy()\n",
    "\n",
    "for x in list2:\n",
    "    list3.append(x)\n",
    "\n",
    "print(list3)"
   ]
  },
  {
   "cell_type": "markdown",
   "metadata": {},
   "source": [
    "You can also use extend() method to add list2 at the end of list1:"
   ]
  },
  {
   "cell_type": "code",
   "execution_count": 20,
   "metadata": {
    "ExecuteTime": {
     "end_time": "2021-09-13T21:35:06.504360Z",
     "start_time": "2021-09-13T21:35:06.500714Z"
    }
   },
   "outputs": [
    {
     "name": "stdout",
     "output_type": "stream",
     "text": [
      "['a', 'b', 'c', 1, 2, 3]\n"
     ]
    }
   ],
   "source": [
    "list3 = list1.copy()\n",
    "\n",
    "list3.extend(list2)\n",
    "print(list3)"
   ]
  },
  {
   "cell_type": "markdown",
   "metadata": {},
   "source": [
    "### List comprehensions\n",
    "\n",
    "Now that you have seen how to add elements to a list, one useful thing to know are [``list comprehensions``](https://www.pythonforbeginners.com/basics/list-comprehensions-in-python). \n",
    "They consist of brackets containing an expression followed by a for clause, then zero or more for or if clauses. The expressions can be anything, meaning you can put in all kinds of objects in lists. The syntax is as follows\n",
    "\n",
    "<pre><code>\n",
    "\n",
    "newlist = [ expression for item in list if conditional ]\n",
    "\n",
    "</code></pre>\n",
    "\n",
    "It may be clearer with an example though. Here are two ways of creating a list with an if statement to filter out certain values. "
   ]
  },
  {
   "cell_type": "code",
   "execution_count": 21,
   "metadata": {
    "ExecuteTime": {
     "end_time": "2021-09-13T21:35:06.514603Z",
     "start_time": "2021-09-13T21:35:06.507373Z"
    }
   },
   "outputs": [
    {
     "name": "stdout",
     "output_type": "stream",
     "text": [
      "Here is the list we created earlier :\n",
      " ['apple', 'orange', 'blackcurrant', 'cherry', 'orange', 'kiwi', 'melon', 'mango', 'litchis']\n",
      "\n",
      "Now we are going to create a new list without the word orange or melon.\n",
      "\n",
      "Here is the new list created with the for loop and if statement :\n",
      " ['apple', 'blackcurrant', 'cherry', 'kiwi', 'mango', 'litchis']\n",
      "\n",
      "Here is the new list created with the list comprehension :\n",
      " ['apple', 'blackcurrant', 'cherry', 'kiwi', 'mango', 'litchis']\n"
     ]
    }
   ],
   "source": [
    "print(\"Here is the list we created earlier :\\n\", thislist)\n",
    "\n",
    "print(\"\\nNow we are going to create a new list without the word orange or melon.\\n\")\n",
    "\n",
    "newlist1 = []\n",
    "\n",
    "for fruit in thislist:\n",
    "    if fruit not in [\"orange\", \"melon\"]:\n",
    "        newlist1.append(fruit)\n",
    "        \n",
    "print(\"Here is the new list created with the for loop and if statement :\\n\", newlist1)\n",
    "\n",
    "newlist2 = [x for x in thislist if x not in [\"orange\", \"melon\"]]\n",
    "\n",
    "print(\"\\nHere is the new list created with the list comprehension :\\n\", newlist2)"
   ]
  },
  {
   "cell_type": "markdown",
   "metadata": {},
   "source": [
    "Note that the conditional can be anything and as complex as you want. You can also do nested list comprehensions when you are a bit more comfortable with them. \n"
   ]
  },
  {
   "cell_type": "markdown",
   "metadata": {},
   "source": [
    "### Copying a list\n",
    "\n",
    "You cannot copy a list simply by typing list2 = list1, because: list2 will only be a reference to list1, and changes made in list1 will automatically also be made in list2.\n",
    "\n",
    "There are ways to make a copy, \n",
    "\n",
    "- one way is to use the built-in List method copy().\n",
    "- the other is by using the list() method"
   ]
  },
  {
   "cell_type": "code",
   "execution_count": 22,
   "metadata": {
    "ExecuteTime": {
     "end_time": "2021-09-13T21:35:06.521106Z",
     "start_time": "2021-09-13T21:35:06.517032Z"
    }
   },
   "outputs": [
    {
     "name": "stdout",
     "output_type": "stream",
     "text": [
      "['apple', 'orange', 'blackcurrant', 'cherry', 'orange', 'kiwi', 'melon', 'mango', 'litchis']\n",
      "['apple', 'orange', 'blackcurrant', 'cherry', 'orange', 'kiwi', 'melon', 'mango', 'litchis']\n"
     ]
    }
   ],
   "source": [
    "newlist = thislist.copy()\n",
    "print(newlist)\n",
    "\n",
    "newlist2 = list(newlist)\n",
    "print(newlist2)"
   ]
  },
  {
   "cell_type": "markdown",
   "metadata": {},
   "source": [
    "### List Methods\n",
    "\n",
    "\n",
    "Here is a set of built-in methods that can be used on lists\n",
    "\n",
    "\n",
    "| Method | Description |\n",
    "|-----------|------------------------------------------------------------------------------|\n",
    "| append() | Adds an element at the end of the list |\n",
    "| clear() | Removes all the elements from the list |\n",
    "| copy() | Returns a copy of the list |\n",
    "| count() | Returns the number of elements with the specified value |\n",
    "| extend() | Add the elements of a list (or any iterable), to the end of the current list |\n",
    "| index() | Returns the index of the first element with the specified value |\n",
    "| insert() | Adds an element at the specified position |\n",
    "| pop() | Removes the element at the specified position |\n",
    "| remove() | Removes the item with the specified value |\n",
    "| reverse() | Reverses the order of the list |\n",
    "| sort() | Sorts the list |"
   ]
  },
  {
   "cell_type": "markdown",
   "metadata": {},
   "source": [
    "## Strings\n",
    "\n",
    "Strings are also arrays and can be accessed the same way"
   ]
  },
  {
   "cell_type": "code",
   "execution_count": 23,
   "metadata": {
    "ExecuteTime": {
     "end_time": "2021-09-13T21:35:06.527259Z",
     "start_time": "2021-09-13T21:35:06.523002Z"
    }
   },
   "outputs": [
    {
     "name": "stdout",
     "output_type": "stream",
     "text": [
      "Character at position 1 : *e*\n",
      "Slicing, i.e. characters from position a to b, here 2 to 5 : *llo*\n",
      "Length of the string : *13*\n"
     ]
    }
   ],
   "source": [
    "my_string = \"Hello, World!\"\n",
    "\n",
    "print(\"Character at position 1 : *{}*\".format(my_string[1]))\n",
    "print(\"Slicing, i.e. characters from position a to b, here 2 to 5 : *{}*\".format(my_string[2:5]))\n",
    "print(\"Length of the string : *{}*\".format(len(my_string)))"
   ]
  },
  {
   "cell_type": "markdown",
   "metadata": {},
   "source": [
    "They also have their own methods. Here are a few of them"
   ]
  },
  {
   "cell_type": "code",
   "execution_count": 24,
   "metadata": {
    "ExecuteTime": {
     "end_time": "2021-09-13T21:35:06.538080Z",
     "start_time": "2021-09-13T21:35:06.531574Z"
    }
   },
   "outputs": [
    {
     "name": "stdout",
     "output_type": "stream",
     "text": [
      "My string : *  Hello, World!  * \n",
      "Strip (removing white spaces) : *Hello, World!*\n",
      "Lowercase : *  hello, world!  *\n",
      "Uppercase : *  HELLO, WORLD!  *\n",
      "Replacing Hello with ByeBye: *  ByeBye, World!  *\n",
      "Splitting at the comma : *['  Hello', ' World!  ']*\n",
      "Checking if World is in the string : *True*\n",
      "Checking if ByeBye is in the string : *False*\n"
     ]
    }
   ],
   "source": [
    "my_string = \"  Hello, World!  \"\n",
    "\n",
    "print(\"My string : *{}* \".format(my_string))\n",
    "print(\"Strip (removing white spaces) : *{}*\".format(my_string.strip()))\n",
    "print(\"Lowercase : *{}*\".format(my_string.lower()))\n",
    "print(\"Uppercase : *{}*\".format(my_string.upper()))\n",
    "print(\"Replacing Hello with ByeBye: *{}*\".format(my_string.replace(\"Hello\", \"ByeBye\")))\n",
    "print(\"Splitting at the comma : *{}*\".format(my_string.split(\",\")))\n",
    "print(\"Checking if World is in the string : *{}*\".format(\"World\" in my_string))\n",
    "print(\"Checking if ByeBye is in the string : *{}*\".format(\"ByeBye\" in my_string))\n"
   ]
  },
  {
   "cell_type": "markdown",
   "metadata": {},
   "source": [
    "For more on strings and their methods, you can refer to this [link](https://www.w3schools.com/python/python_strings.asp)"
   ]
  },
  {
   "cell_type": "markdown",
   "metadata": {},
   "source": [
    "## Dictionairies\n",
    "\n",
    "A dictionary is a collection which is unordered, changeable and indexed. In Python dictionaries are written with curly brackets, and they have keys and values.\n",
    "\n",
    "Here is an example dictionnary :"
   ]
  },
  {
   "cell_type": "code",
   "execution_count": 25,
   "metadata": {
    "ExecuteTime": {
     "end_time": "2021-09-13T21:35:06.544464Z",
     "start_time": "2021-09-13T21:35:06.540616Z"
    }
   },
   "outputs": [
    {
     "name": "stdout",
     "output_type": "stream",
     "text": [
      "{'brand': 'Ford', 'model': 'Mustang', 'year': 1964}\n"
     ]
    }
   ],
   "source": [
    "thisdict = {\n",
    "  \"brand\": \"Ford\",\n",
    "  \"model\": \"Mustang\",\n",
    "  \"year\": 1964\n",
    "}\n",
    "print(thisdict)"
   ]
  },
  {
   "cell_type": "markdown",
   "metadata": {},
   "source": [
    "You can also create the dictionary with the ``dict()`` constructor"
   ]
  },
  {
   "cell_type": "code",
   "execution_count": 26,
   "metadata": {
    "ExecuteTime": {
     "end_time": "2021-09-13T21:35:06.550590Z",
     "start_time": "2021-09-13T21:35:06.547031Z"
    }
   },
   "outputs": [
    {
     "name": "stdout",
     "output_type": "stream",
     "text": [
      "{'brand': 'Ford', 'model': 'Mustang', 'year': 1964}\n"
     ]
    }
   ],
   "source": [
    "thisdict = dict(brand=\"Ford\", model=\"Mustang\", year=1964)\n",
    "print(thisdict)"
   ]
  },
  {
   "cell_type": "markdown",
   "metadata": {},
   "source": [
    "You can access the items of a dictionary by referring to its key name, inside square brackets or by using the get() method"
   ]
  },
  {
   "cell_type": "code",
   "execution_count": 27,
   "metadata": {
    "ExecuteTime": {
     "end_time": "2021-09-13T21:35:06.556555Z",
     "start_time": "2021-09-13T21:35:06.552646Z"
    }
   },
   "outputs": [
    {
     "name": "stdout",
     "output_type": "stream",
     "text": [
      "The model is Mustang\n",
      "The model is Mustang\n"
     ]
    }
   ],
   "source": [
    "print(\"The model is {}\".format(thisdict[\"model\"]))\n",
    "print(\"The model is {}\".format(thisdict.get(\"model\")))"
   ]
  },
  {
   "cell_type": "markdown",
   "metadata": {},
   "source": [
    "You can also change the values of elements in a dict. For example, changing the year to 2018. "
   ]
  },
  {
   "cell_type": "code",
   "execution_count": 28,
   "metadata": {
    "ExecuteTime": {
     "end_time": "2021-09-13T21:35:06.563801Z",
     "start_time": "2021-09-13T21:35:06.558913Z"
    }
   },
   "outputs": [
    {
     "name": "stdout",
     "output_type": "stream",
     "text": [
      "The old year is 1964\n",
      "The new year is 2018\n"
     ]
    }
   ],
   "source": [
    "print(\"The old year is {}\".format(thisdict[\"year\"]))\n",
    "thisdict[\"year\"] = 2018\n",
    "print(\"The new year is {}\".format(thisdict[\"year\"]))\n"
   ]
  },
  {
   "cell_type": "markdown",
   "metadata": {},
   "source": [
    "You can also loop through a dictionary using the items method which will give you iteratively each key and associated value. "
   ]
  },
  {
   "cell_type": "code",
   "execution_count": 29,
   "metadata": {
    "ExecuteTime": {
     "end_time": "2021-09-13T21:35:06.570347Z",
     "start_time": "2021-09-13T21:35:06.566441Z"
    }
   },
   "outputs": [
    {
     "name": "stdout",
     "output_type": "stream",
     "text": [
      "The brand is Ford\n",
      "The model is Mustang\n",
      "The year is 2018\n"
     ]
    }
   ],
   "source": [
    "for key, val in thisdict.items():\n",
    "    print(\"The {} is {}\".format(key, val))"
   ]
  },
  {
   "cell_type": "markdown",
   "metadata": {},
   "source": [
    "You can also access just the keys or values by calling the keys() and values() methods"
   ]
  },
  {
   "cell_type": "code",
   "execution_count": 30,
   "metadata": {
    "ExecuteTime": {
     "end_time": "2021-09-13T21:35:06.577266Z",
     "start_time": "2021-09-13T21:35:06.573025Z"
    }
   },
   "outputs": [
    {
     "name": "stdout",
     "output_type": "stream",
     "text": [
      "The brand is Ford\n",
      "The model is Mustang\n",
      "The year is 2018\n"
     ]
    }
   ],
   "source": [
    "for key, val in zip(thisdict.keys(), thisdict.values()):\n",
    "    print(\"The {} is {}\".format(key, val))"
   ]
  },
  {
   "cell_type": "markdown",
   "metadata": {},
   "source": [
    "You can check if a key exists in the dictionary. Both of the examples shown below access the keys of the dictionary. "
   ]
  },
  {
   "cell_type": "code",
   "execution_count": 31,
   "metadata": {
    "ExecuteTime": {
     "end_time": "2021-09-13T21:35:06.583753Z",
     "start_time": "2021-09-13T21:35:06.580350Z"
    }
   },
   "outputs": [
    {
     "name": "stdout",
     "output_type": "stream",
     "text": [
      "Yes, 'model' is one of the keys in the thisdict dictionary\n",
      "Yes, 'model' is one of the keys in the thisdict dictionary\n"
     ]
    }
   ],
   "source": [
    "if \"model\" in thisdict:\n",
    "    print(\"Yes, 'model' is one of the keys in the thisdict dictionary\")\n",
    "    \n",
    "if \"model\" in thisdict.keys():\n",
    "    print(\"Yes, 'model' is one of the keys in the thisdict dictionary\")\n",
    " "
   ]
  },
  {
   "cell_type": "markdown",
   "metadata": {},
   "source": [
    "To determine how many items (key-value pairs) a dictionary has, use the len() method."
   ]
  },
  {
   "cell_type": "code",
   "execution_count": 32,
   "metadata": {
    "ExecuteTime": {
     "end_time": "2021-09-13T21:35:06.589086Z",
     "start_time": "2021-09-13T21:35:06.585831Z"
    }
   },
   "outputs": [
    {
     "name": "stdout",
     "output_type": "stream",
     "text": [
      "3\n"
     ]
    }
   ],
   "source": [
    "print(len(thisdict))"
   ]
  },
  {
   "cell_type": "markdown",
   "metadata": {},
   "source": [
    "You can add new items to the dictionnary by using a new index key and assigning a value to it:"
   ]
  },
  {
   "cell_type": "code",
   "execution_count": 33,
   "metadata": {
    "ExecuteTime": {
     "end_time": "2021-09-13T21:35:06.594634Z",
     "start_time": "2021-09-13T21:35:06.591304Z"
    }
   },
   "outputs": [
    {
     "name": "stdout",
     "output_type": "stream",
     "text": [
      "{'brand': 'Ford', 'model': 'Mustang', 'year': 2018, 'color': 'red'}\n"
     ]
    }
   ],
   "source": [
    "thisdict[\"color\"] = \"red\"\n",
    "print(thisdict)"
   ]
  },
  {
   "cell_type": "markdown",
   "metadata": {},
   "source": [
    "You can also remove elementy \n",
    "\n",
    "- by using the pop method with the specified key name\n",
    "\n",
    "- or by using the del key word"
   ]
  },
  {
   "cell_type": "code",
   "execution_count": 34,
   "metadata": {
    "ExecuteTime": {
     "end_time": "2021-09-13T21:35:06.602723Z",
     "start_time": "2021-09-13T21:35:06.597011Z"
    }
   },
   "outputs": [
    {
     "name": "stdout",
     "output_type": "stream",
     "text": [
      "Before pop :  {'brand': 'Ford', 'model': 'Mustang', 'year': 2018, 'color': 'red'}\n",
      "After pop :  {'brand': 'Ford', 'model': 'Mustang', 'year': 2018}\n",
      "Inserted color again :  {'brand': 'Ford', 'model': 'Mustang', 'year': 2018, 'color': 'red'}\n",
      "After using del on color : {'brand': 'Ford', 'model': 'Mustang', 'year': 2018}\n",
      "{'brand': 'Ford', 'model': 'Mustang', 'year': 2018}\n"
     ]
    }
   ],
   "source": [
    "print(\"Before pop : \", thisdict)\n",
    "thisdict.pop(\"color\")\n",
    "print(\"After pop : \", thisdict)\n",
    "\n",
    "thisdict[\"color\"] = \"red\"\n",
    "print(\"Inserted color again : \", thisdict)\n",
    "\n",
    "del thisdict[\"color\"]\n",
    "print(\"After using del on color :\", thisdict)\n",
    "print(thisdict)\n"
   ]
  },
  {
   "cell_type": "markdown",
   "metadata": {},
   "source": [
    "Similarly as for lists, you can also use :\n",
    "\n",
    "- ``del thisdict`` to delete the whole dictionary\n",
    "\n",
    "- ``thisdict.clear()`` to empty it\n",
    "\n",
    "- ``newdict = thisdict.copy()`` to copy it"
   ]
  },
  {
   "cell_type": "markdown",
   "metadata": {},
   "source": [
    "Other built in dictionary methods are explained below \n",
    "\n",
    "\n",
    "| Method | Description |\n",
    "|--------------|-------------------------------------------------------------------------------------------------------------|\n",
    "| clear() | Removes all the elements from the dictionary |\n",
    "| copy() | Returns a copy of the dictionary |\n",
    "| fromkeys() | Returns a dictionary with the specified keys and value |\n",
    "| get() | Returns the value of the specified key |\n",
    "| items() | Returns a list containing a tuple for each key value pair |\n",
    "| keys() | Returns a list containing the dictionary's keys |\n",
    "| pop() | Removes the element with the specified key |\n",
    "| popitem() | Removes the last inserted key-value pair |\n",
    "| setdefault() | Returns the value of the specified key. If the key does not exist: insert the key, with the specified value |\n",
    "| update() | Updates the dictionary with the specified key-value pairs |\n",
    "| values() | Returns a list of all the values in the dictionary |"
   ]
  },
  {
   "cell_type": "markdown",
   "metadata": {},
   "source": [
    "## Tuples \n",
    "\n",
    "We will not go into the detail of tuples here because there is still a lot of content to cover but you may have a look at [this page](https://www.w3schools.com/python/python_tuples.asp) when it suits you. "
   ]
  },
  {
   "cell_type": "markdown",
   "metadata": {},
   "source": [
    "## Sets \n",
    "\n",
    "The same goes for sets (see [here](https://www.w3schools.com/python/python_sets.asp))"
   ]
  },
  {
   "cell_type": "markdown",
   "metadata": {},
   "source": [
    "## If-else statements\n",
    "\n",
    "Now this is where identation starts to become important. Everything that falls under the if - else statement needs to be idented by one tab w.r.t the indentation of the if. Here is an example which uses if-elif-else. The elif keyword is pythons way of saying \"if the previous conditions were not true, then try this condition\". This is useful as python does not have switch-case statements. \n",
    "\n",
    "Python supports the usual logical conditions from mathematics:\n",
    "\n",
    "- Equals: ``a == b``\n",
    "- Not Equals: ``a != b\n",
    "- Less than: ``a < b``\n",
    "- Less than or equal to: ``a <= b``\n",
    "- Greater than: ``a > b``\n",
    "- Greater than or equal to: ``a >= b``"
   ]
  },
  {
   "cell_type": "code",
   "execution_count": 35,
   "metadata": {
    "ExecuteTime": {
     "end_time": "2021-09-13T21:35:06.609214Z",
     "start_time": "2021-09-13T21:35:06.605397Z"
    }
   },
   "outputs": [
    {
     "name": "stdout",
     "output_type": "stream",
     "text": [
      "a > 5\n"
     ]
    }
   ],
   "source": [
    "if a>5:\n",
    "    print(\"a > 5\")\n",
    "    #Code to be executed \n",
    "    #If a>5\n",
    "elif a<5:\n",
    "    print(\"a < 5\")\n",
    "    #Code to be executed\n",
    "    #if a<5\n",
    "else:\n",
    "    print(\"a is neither > not < 5 (so a=5)\")\n",
    "    #Code to be executed if a<5\n"
   ]
  },
  {
   "cell_type": "markdown",
   "metadata": {},
   "source": [
    "Python also supports the logical operator `and` and `or`.\n",
    "\n",
    "\n",
    "Note that if statements cannot be empty, but if you for some reason have an if statement with no content, put in the pass statement to avoid getting an error.\n"
   ]
  },
  {
   "cell_type": "code",
   "execution_count": 36,
   "metadata": {
    "ExecuteTime": {
     "end_time": "2021-09-13T21:35:06.615309Z",
     "start_time": "2021-09-13T21:35:06.611459Z"
    }
   },
   "outputs": [],
   "source": [
    "a = 33\n",
    "b = 200\n",
    "\n",
    "if b > a:\n",
    "    pass\n",
    "else: \n",
    "    print(\"B<=A\")\n"
   ]
  },
  {
   "cell_type": "markdown",
   "metadata": {},
   "source": [
    "## While\n",
    "\n",
    "Python has two primitive loop commands:\n",
    "\n",
    "- `while` loops\n",
    "- `for` loops\n",
    "\n",
    "Here is an example where i is printed as long as i<6"
   ]
  },
  {
   "cell_type": "code",
   "execution_count": 37,
   "metadata": {
    "ExecuteTime": {
     "end_time": "2021-09-13T21:35:06.621998Z",
     "start_time": "2021-09-13T21:35:06.617797Z"
    }
   },
   "outputs": [
    {
     "name": "stdout",
     "output_type": "stream",
     "text": [
      "1\n",
      "2\n",
      "3\n",
      "4\n",
      "5\n"
     ]
    }
   ],
   "source": [
    "i = 1\n",
    "while i < 6:\n",
    "    print(i)\n",
    "    i += 1"
   ]
  },
  {
   "cell_type": "markdown",
   "metadata": {},
   "source": [
    "Here, the code exits the loop when i is 3:"
   ]
  },
  {
   "cell_type": "code",
   "execution_count": 38,
   "metadata": {
    "ExecuteTime": {
     "end_time": "2021-09-13T21:35:06.629019Z",
     "start_time": "2021-09-13T21:35:06.624698Z"
    }
   },
   "outputs": [
    {
     "name": "stdout",
     "output_type": "stream",
     "text": [
      "1\n",
      "2\n",
      "3\n"
     ]
    }
   ],
   "source": [
    "i = 1\n",
    "while i < 6:\n",
    "    print(i)\n",
    "    if i == 3:\n",
    "        break\n",
    "    i += 1"
   ]
  },
  {
   "cell_type": "markdown",
   "metadata": {},
   "source": [
    "You also have the ``continue``statement that can stop the current iteration and move on to the next"
   ]
  },
  {
   "cell_type": "code",
   "execution_count": 39,
   "metadata": {
    "ExecuteTime": {
     "end_time": "2021-09-13T21:35:06.635556Z",
     "start_time": "2021-09-13T21:35:06.631353Z"
    }
   },
   "outputs": [
    {
     "name": "stdout",
     "output_type": "stream",
     "text": [
      "1\n",
      "2\n",
      "4\n",
      "5\n",
      "6\n"
     ]
    }
   ],
   "source": [
    "i = 0\n",
    "while i < 6:\n",
    "    i += 1\n",
    "    if i == 3:\n",
    "        continue\n",
    "    print(i)"
   ]
  },
  {
   "cell_type": "markdown",
   "metadata": {},
   "source": [
    "You can also use the else statement to run a block of code once when the condition no longer is true:"
   ]
  },
  {
   "cell_type": "code",
   "execution_count": 40,
   "metadata": {
    "ExecuteTime": {
     "end_time": "2021-09-13T21:35:06.642343Z",
     "start_time": "2021-09-13T21:35:06.638410Z"
    }
   },
   "outputs": [
    {
     "name": "stdout",
     "output_type": "stream",
     "text": [
      "1\n",
      "2\n",
      "3\n",
      "4\n",
      "5\n",
      "i is no longer < 6\n"
     ]
    }
   ],
   "source": [
    "i = 1\n",
    "while i < 6:\n",
    "    print(i)\n",
    "    i += 1\n",
    "else:\n",
    "    print(\"i is no longer < 6\")"
   ]
  },
  {
   "cell_type": "markdown",
   "metadata": {},
   "source": [
    "## For Loops\n",
    "\n",
    "\n",
    "A for loop is used for iterating over a sequence (that is either a list, a tuple, a dictionary, a set, a string or a range). \n",
    "\n",
    "This is less like the for keyword in other programming languages, and works more like an iterator method as found in other object-orientated programming languages.\n",
    "\n",
    "With the for loop we can execute a set of statements, once for each item in a list, tuple, set etc."
   ]
  },
  {
   "cell_type": "markdown",
   "metadata": {},
   "source": [
    "The example below prints each fruit in the list of fruit created earlier"
   ]
  },
  {
   "cell_type": "code",
   "execution_count": 41,
   "metadata": {
    "ExecuteTime": {
     "end_time": "2021-09-13T21:35:06.648871Z",
     "start_time": "2021-09-13T21:35:06.645200Z"
    }
   },
   "outputs": [
    {
     "name": "stdout",
     "output_type": "stream",
     "text": [
      "apple\n",
      "orange\n",
      "blackcurrant\n",
      "cherry\n",
      "orange\n",
      "kiwi\n",
      "melon\n",
      "mango\n",
      "litchis\n"
     ]
    }
   ],
   "source": [
    "for x in thislist:\n",
    "    print(x)"
   ]
  },
  {
   "cell_type": "markdown",
   "metadata": {},
   "source": [
    "You can also loop over the individual letters of the strings. Here is an example that makes use of nested loops.\n"
   ]
  },
  {
   "cell_type": "code",
   "execution_count": 42,
   "metadata": {
    "ExecuteTime": {
     "end_time": "2021-09-13T21:35:06.657364Z",
     "start_time": "2021-09-13T21:35:06.651068Z"
    }
   },
   "outputs": [
    {
     "name": "stdout",
     "output_type": "stream",
     "text": [
      "a\n",
      "p\n",
      "p\n",
      "l\n",
      "e\n",
      "----------\n",
      "o\n",
      "r\n",
      "a\n",
      "n\n",
      "g\n",
      "e\n",
      "----------\n",
      "b\n",
      "l\n",
      "a\n",
      "c\n",
      "k\n",
      "c\n",
      "u\n",
      "r\n",
      "r\n",
      "a\n",
      "n\n",
      "t\n",
      "----------\n",
      "c\n",
      "h\n",
      "e\n",
      "r\n",
      "r\n",
      "y\n",
      "----------\n",
      "o\n",
      "r\n",
      "a\n",
      "n\n",
      "g\n",
      "e\n",
      "----------\n",
      "k\n",
      "i\n",
      "w\n",
      "i\n",
      "----------\n",
      "m\n",
      "e\n",
      "l\n",
      "o\n",
      "n\n",
      "----------\n",
      "m\n",
      "a\n",
      "n\n",
      "g\n",
      "o\n",
      "----------\n",
      "l\n",
      "i\n",
      "t\n",
      "c\n",
      "h\n",
      "i\n",
      "s\n",
      "----------\n"
     ]
    }
   ],
   "source": [
    "for fruit in thislist:\n",
    "    for letter in fruit:\n",
    "        print(letter)\n",
    "    print(\"-\"*10)"
   ]
  },
  {
   "cell_type": "markdown",
   "metadata": {},
   "source": [
    "Similarly for as for the while loops, you can use :\n",
    "- `break` statements to exit the loop or the \n",
    "- `continue` statement to stop the current iteration of the loop and continue with the next\n",
    "- ``pass`` statement if for some reason have a for loop with no content. In that case put in the pass statement to avoid getting an error."
   ]
  },
  {
   "cell_type": "markdown",
   "metadata": {},
   "source": [
    "You can also loop through a set of code a specified number of times, we can use the range() function. The range() function returns a sequence of numbers, starting at 0 by default, and increments by 1 (by default), and ends before the specified number (here : at the specified number -1). \n",
    "\n",
    "The example below prints the numbers from 2 to 9 included."
   ]
  },
  {
   "cell_type": "code",
   "execution_count": 43,
   "metadata": {
    "ExecuteTime": {
     "end_time": "2021-09-13T21:35:06.663393Z",
     "start_time": "2021-09-13T21:35:06.659365Z"
    }
   },
   "outputs": [
    {
     "name": "stdout",
     "output_type": "stream",
     "text": [
      "2\n",
      "3\n",
      "4\n",
      "5\n",
      "6\n",
      "7\n",
      "8\n",
      "9\n"
     ]
    }
   ],
   "source": [
    "for x in range(2,10):\n",
    "    print(x)"
   ]
  },
  {
   "cell_type": "markdown",
   "metadata": {},
   "source": [
    "You can also use the range function to specifc the increment value by adding a third parameter. This only works with integers though. \n",
    "\n",
    "Same as for ``while``, you can use the ``else`` keyword to specifc the block of code to be executed when the loop is finished. "
   ]
  },
  {
   "cell_type": "code",
   "execution_count": 44,
   "metadata": {
    "ExecuteTime": {
     "end_time": "2021-09-13T21:35:06.670413Z",
     "start_time": "2021-09-13T21:35:06.666036Z"
    }
   },
   "outputs": [
    {
     "name": "stdout",
     "output_type": "stream",
     "text": [
      "2\n",
      "5\n",
      "8\n",
      "11\n",
      "14\n",
      "17\n",
      "20\n",
      "23\n",
      "26\n",
      "29\n",
      "Finally finished!\n"
     ]
    }
   ],
   "source": [
    "for x in range(2, 30, 3):\n",
    "    print(x)\n",
    "else:\n",
    "    print(\"Finally finished!\")"
   ]
  },
  {
   "cell_type": "markdown",
   "metadata": {},
   "source": [
    "A few more things about functions that you will find often in the exercises. \n",
    "\n",
    "Firstly, when we are looping over a list, we might be interested in knowing the id of the element that we are considering in the loop. Here is the example that we showed before with the `enumerate` keyword."
   ]
  },
  {
   "cell_type": "code",
   "execution_count": 45,
   "metadata": {
    "ExecuteTime": {
     "end_time": "2021-09-13T21:35:06.676219Z",
     "start_time": "2021-09-13T21:35:06.672811Z"
    }
   },
   "outputs": [
    {
     "name": "stdout",
     "output_type": "stream",
     "text": [
      "My list contains element apple at index 0\n",
      "My list contains element orange at index 1\n",
      "My list contains element blackcurrant at index 2\n",
      "My list contains element cherry at index 3\n",
      "My list contains element orange at index 4\n",
      "My list contains element kiwi at index 5\n",
      "My list contains element melon at index 6\n",
      "My list contains element mango at index 7\n",
      "My list contains element litchis at index 8\n"
     ]
    }
   ],
   "source": [
    "for idx, x in enumerate(thislist):\n",
    "    print(\"My list contains element {} at index {}\".format(x, idx))"
   ]
  },
  {
   "cell_type": "markdown",
   "metadata": {},
   "source": [
    "You can also loop over serveral lists simulataneously using `zip`. Here is an example that combines both zip and enumerate "
   ]
  },
  {
   "cell_type": "code",
   "execution_count": 46,
   "metadata": {
    "ExecuteTime": {
     "end_time": "2021-09-13T21:35:06.686897Z",
     "start_time": "2021-09-13T21:35:06.678321Z"
    }
   },
   "outputs": [
    {
     "name": "stdout",
     "output_type": "stream",
     "text": [
      "0 - 2 12 22\n",
      "1 - 3 13 23\n",
      "2 - 4 14 24\n",
      "3 - 5 15 25\n",
      "4 - 6 16 26\n",
      "5 - 7 17 27\n",
      "6 - 8 18 28\n",
      "7 - 9 19 29\n"
     ]
    }
   ],
   "source": [
    "list1 = [i for i in range(2,10)]\n",
    "list2 = [i for i in range(12,20)]\n",
    "list3 = [i for i in range(22,30)]\n",
    "\n",
    "for idx, (item1, item2, item3) in enumerate(zip(list1, list2, list3)):\n",
    "    print(idx, \"-\", item1, item2, item3)\n",
    "    "
   ]
  },
  {
   "cell_type": "markdown",
   "metadata": {},
   "source": [
    "## [Functions](https://www.w3schools.com/python/python_variables.asp)\n",
    "\n",
    "You can also create functions in python. Variables that are created outside the function are global variables that can be accessed anywhere in the code. Here we create a function called myfunc that prints the value of the variable a that was created earlier. Here we do not use the accolades but we cast the variable to a string in order to sum it with the other."
   ]
  },
  {
   "cell_type": "code",
   "execution_count": 47,
   "metadata": {
    "ExecuteTime": {
     "end_time": "2021-09-13T21:35:06.693821Z",
     "start_time": "2021-09-13T21:35:06.690152Z"
    }
   },
   "outputs": [
    {
     "name": "stdout",
     "output_type": "stream",
     "text": [
      "a = 33\n"
     ]
    }
   ],
   "source": [
    "\n",
    "def myfunc_global():\n",
    "    print(\"a = \" + str(a))\n",
    "\n",
    "myfunc_global()"
   ]
  },
  {
   "cell_type": "markdown",
   "metadata": {},
   "source": [
    "If you create a variable with the same name inside a function, this variable will be local, and can only be used inside the function. The global variable with the same name will remain as it was, global and with the original value."
   ]
  },
  {
   "cell_type": "code",
   "execution_count": 48,
   "metadata": {
    "ExecuteTime": {
     "end_time": "2021-09-13T21:35:06.703163Z",
     "start_time": "2021-09-13T21:35:06.698690Z"
    }
   },
   "outputs": [
    {
     "name": "stdout",
     "output_type": "stream",
     "text": [
      "a = 5\n"
     ]
    }
   ],
   "source": [
    "def myfunc_local():\n",
    "    a=5\n",
    "    print(\"a = \" + str(a))\n",
    "\n",
    "myfunc_local()"
   ]
  },
  {
   "cell_type": "markdown",
   "metadata": {},
   "source": [
    "Information can be passed into functions as arguments (also called parameters).\n",
    "\n",
    "Arguments are specified after the function name, inside the parentheses. You can add as many arguments as you want, just separate them with a comma.\n",
    "\n",
    "The following example has a function with one argument. "
   ]
  },
  {
   "cell_type": "code",
   "execution_count": 49,
   "metadata": {
    "ExecuteTime": {
     "end_time": "2021-09-13T21:35:06.710662Z",
     "start_time": "2021-09-13T21:35:06.705882Z"
    }
   },
   "outputs": [
    {
     "name": "stdout",
     "output_type": "stream",
     "text": [
      "my var = 33\n",
      "my var = 20\n"
     ]
    }
   ],
   "source": [
    "def myfunc_with_input(var):\n",
    "    print(\"my var = \" + str(var))\n",
    "\n",
    "myfunc_with_input(a)\n",
    "myfunc_with_input(20)"
   ]
  },
  {
   "cell_type": "markdown",
   "metadata": {},
   "source": [
    "Now let's create a function that takes the value of our variable, tests it and **returns** True if it is superior to a value of reference of our choice and False if it is not. Here we also **set the reference with a default argument** that is set to 0. \n"
   ]
  },
  {
   "cell_type": "code",
   "execution_count": 50,
   "metadata": {
    "ExecuteTime": {
     "end_time": "2021-09-13T21:35:06.722039Z",
     "start_time": "2021-09-13T21:35:06.715976Z"
    }
   },
   "outputs": [
    {
     "name": "stdout",
     "output_type": "stream",
     "text": [
      "a = 33\n",
      "a > 35: False\n",
      "a > default reference (0): True\n"
     ]
    }
   ],
   "source": [
    "def myfunc_test_var(var, ref=0):\n",
    "    if var>ref:\n",
    "        return True\n",
    "    else:\n",
    "        return False\n",
    "\n",
    "print(\"a =\", a)\n",
    "print(\"a > 35:\", myfunc_test_var(a, 35))\n",
    "print(\"a > default reference (0):\", myfunc_test_var(a))"
   ]
  },
  {
   "cell_type": "markdown",
   "metadata": {},
   "source": [
    "You can also send arguments with the key = value syntax. This way the order of the arguments does not matter."
   ]
  },
  {
   "cell_type": "code",
   "execution_count": 51,
   "metadata": {
    "ExecuteTime": {
     "end_time": "2021-09-13T21:35:06.729380Z",
     "start_time": "2021-09-13T21:35:06.725249Z"
    }
   },
   "outputs": [
    {
     "name": "stdout",
     "output_type": "stream",
     "text": [
      "a > 35 :  False\n"
     ]
    }
   ],
   "source": [
    "print(\"a > 35 : \", myfunc_test_var(ref=35, var=a))"
   ]
  },
  {
   "cell_type": "markdown",
   "metadata": {},
   "source": [
    "You can send anything as an argument of a function. Here is an example with a list"
   ]
  },
  {
   "cell_type": "code",
   "execution_count": 52,
   "metadata": {
    "ExecuteTime": {
     "end_time": "2021-09-13T21:35:06.736852Z",
     "start_time": "2021-09-13T21:35:06.732500Z"
    }
   },
   "outputs": [
    {
     "name": "stdout",
     "output_type": "stream",
     "text": [
      "apple\n",
      "orange\n",
      "blackcurrant\n",
      "cherry\n",
      "orange\n",
      "kiwi\n",
      "melon\n",
      "mango\n",
      "litchis\n"
     ]
    }
   ],
   "source": [
    "def print_list(mylist):\n",
    "    for x in mylist:\n",
    "        print(x)\n",
    "\n",
    "print_list(thislist)"
   ]
  },
  {
   "cell_type": "markdown",
   "metadata": {},
   "source": [
    "You can also implement recursion in functions, that is to say, the function can call itself. Can you guess what this function does?"
   ]
  },
  {
   "cell_type": "code",
   "execution_count": 53,
   "metadata": {
    "ExecuteTime": {
     "end_time": "2021-09-13T21:35:06.756312Z",
     "start_time": "2021-09-13T21:35:06.741132Z"
    }
   },
   "outputs": [
    {
     "name": "stdout",
     "output_type": "stream",
     "text": [
      "\n",
      "\n",
      "Recursion Example Results\n",
      "1\n",
      "3\n",
      "6\n",
      "10\n",
      "15\n",
      "21\n"
     ]
    },
    {
     "data": {
      "text/plain": [
       "21"
      ]
     },
     "execution_count": 53,
     "metadata": {},
     "output_type": "execute_result"
    }
   ],
   "source": [
    "def tri_recursion(k):\n",
    "    if(k > 0):\n",
    "        result = k + tri_recursion(k - 1)\n",
    "        print(result)\n",
    "    else:\n",
    "        result = 0\n",
    "    return result\n",
    "\n",
    "print(\"\\n\\nRecursion Example Results\")\n",
    "tri_recursion(6)"
   ]
  },
  {
   "cell_type": "markdown",
   "metadata": {},
   "source": [
    "If you are interested, you can also have a look at ``lambda functions`` [here](https://www.w3schools.com/python/python_lambda.asp)"
   ]
  },
  {
   "cell_type": "markdown",
   "metadata": {},
   "source": [
    "## Python Classes and Objects\n",
    "\n",
    "Python is an object oriented programming language. Almost everything in Python is an object, with its properties and methods. As mentioned previously, we will not go into the details of object oriented programming but the basics of python classes may be useful for the projet so think about having a look at the tutorial [here](https://www.w3schools.com/python/python_classes.asp)"
   ]
  },
  {
   "cell_type": "markdown",
   "metadata": {},
   "source": [
    "\n",
    "## Libraries (and Modules)\n",
    "Getting closer to the end. Now we are going to see how to import libraries and custom modules. Normally this is done at the start of a notebook but for the sake of the introduction however we are importing them one by one here. "
   ]
  },
  {
   "cell_type": "markdown",
   "metadata": {},
   "source": [
    "### The random library"
   ]
  },
  {
   "cell_type": "markdown",
   "metadata": {},
   "source": [
    "Python does not have a random() function to make a random number, but Python has a built-in module called random that can be used to make random numbers ([see](https://www.w3schools.com/python/python_numbers.asp)). Importing the random module, you can call it to display a random number between 1 and 9. If you run the call multiple times you will get a new number at each execution. "
   ]
  },
  {
   "cell_type": "code",
   "execution_count": 54,
   "metadata": {
    "ExecuteTime": {
     "end_time": "2021-09-13T21:35:06.763877Z",
     "start_time": "2021-09-13T21:35:06.759240Z"
    }
   },
   "outputs": [
    {
     "name": "stdout",
     "output_type": "stream",
     "text": [
      "Random number between 1 and 9 \t 1\n",
      "Random number between 1 and 9 \t 7\n",
      "Random number between 1 and 9 \t 7\n",
      "Random number between 1 and 9 \t 4\n",
      "Random number between 1 and 9 \t 2\n",
      "Random number between 1 and 9 \t 4\n",
      "Random number between 1 and 9 \t 9\n",
      "Random number between 1 and 9 \t 6\n",
      "Random number between 1 and 9 \t 4\n",
      "Random number between 1 and 9 \t 8\n"
     ]
    }
   ],
   "source": [
    "import random\n",
    "\n",
    "for i in range(10):\n",
    "    print(\"Random number between 1 and 9 \\t\", random.randrange(1,10))"
   ]
  },
  {
   "cell_type": "markdown",
   "metadata": {},
   "source": [
    "If you want to be sure to get the same number each time, you can specify a random seed. Running the call multiple times gives the same output. If you change the seed however, that output will change. \n"
   ]
  },
  {
   "cell_type": "code",
   "execution_count": 55,
   "metadata": {
    "ExecuteTime": {
     "end_time": "2021-09-13T21:35:06.774443Z",
     "start_time": "2021-09-13T21:35:06.766756Z"
    }
   },
   "outputs": [
    {
     "name": "stdout",
     "output_type": "stream",
     "text": [
      "Random number generated with seed 0\t 7\n",
      "Random number generated with seed 0\t 7\n",
      "Random number generated with seed 0\t 7\n",
      "Random number generated with seed 0\t 7\n",
      "Random number generated with seed 0\t 7\n",
      "Random number generated with seed 0\t 7\n",
      "Random number generated with seed 0\t 7\n",
      "Random number generated with seed 0\t 7\n",
      "Random number generated with seed 0\t 7\n",
      "Random number generated with seed 0\t 7\n",
      "\n",
      "Random number generated with seed 7\t 6\n",
      "Random number generated with seed 7\t 6\n",
      "Random number generated with seed 7\t 6\n",
      "Random number generated with seed 7\t 6\n",
      "Random number generated with seed 7\t 6\n",
      "Random number generated with seed 7\t 6\n",
      "Random number generated with seed 7\t 6\n",
      "Random number generated with seed 7\t 6\n",
      "Random number generated with seed 7\t 6\n",
      "Random number generated with seed 7\t 6\n",
      "\n"
     ]
    }
   ],
   "source": [
    "for seed in [0, 7]:\n",
    "    for i in range(10):\n",
    "        random.seed(seed)\n",
    "        print(\"Random number generated with seed {}\\t\".format(seed), random.randrange(1,10))\n",
    "    print()"
   ]
  },
  {
   "cell_type": "markdown",
   "metadata": {},
   "source": [
    "### The [math library](https://www.w3schools.com/python/module_math.asp)\n",
    "\n",
    "Python has a built-in module that you can use for mathematical tasks.\n",
    "\n",
    "The math module has a set of methods and constants. These are shown below. We will not fo into the details of all the methods. Just know that the trigonometric functions use radians and for the arctangent, to avoid issues of quadrants, make use of the atan2 function. \n",
    "\n",
    "\n",
    "To import the math module, here is the code that needs to be run (ideally at the start of the notebook in order to stick to best practices)\n",
    "\n",
    "<pre><code>\n",
    "\n",
    "import math\n",
    "\n",
    "</code></pre>\n",
    "\n",
    "#### Methods\n",
    "\n",
    "| Method | Description |\n",
    "|---------------------------------|---------------------------------------------------------------------------------------------------------------------------|\n",
    "| math.acos(x) | Returns the arc cosine value of x |\n",
    "| math.acosh(x) | Returns the hyperbolic arc cosine of x |\n",
    "| math.asin(x) | Returns the arc sine of x |\n",
    "| math.asinh(x) | Returns the hyperbolic arc sine of x |\n",
    "| math.atan(x) | Returns the arc tangent value of x |\n",
    "| math.atan2(y, x) | Returns the arc tangent of y/x in radians |\n",
    "| math.atanh(x) | Returns the hyperbolic arctangent value of x |\n",
    "| math.ceil(x) | Rounds a number upwards to the nearest integer, and returns the result |\n",
    "| math.comb(n, k) | Returns the number of ways to choose k items from n items without repetition and order |\n",
    "| math.copysign(x, y) | Returns a float consisting of the value of the first parameter and the sign of the second parameter |\n",
    "| math.cos(x) | Returns the cosine of x |\n",
    "| math.cosh(x) | Returns the hyperbolic cosine of x |\n",
    "| math.degrees(x) | Converts an angle from radians to degrees |\n",
    "| math.dist(p, q) | Calculates the euclidean distance between two specified points (p and q), where p and q are the coordinates of that point |\n",
    "| math.erf(x) | Returns the error function of x |\n",
    "| math.erfc(x) | Returns the complementary error function of x |\n",
    "| math.exp(x) | Returns the value of Ex, where E is Euler's number (approximately 2.718281...), and x is the number passed to it |\n",
    "| math.expm1(x) | Returns the value of Ex - 1, where E is Euler's number (approximately 2.718281...), and x is the number passed to it |\n",
    "| math.fabs(x) | Returns the absolute value of a number |\n",
    "| math.factorial() | Returns the factorial of a number |\n",
    "| math.floor(x) | Rounds a number downwards to the nearest integer, and returns the result |\n",
    "| math.fmod(x, y) | Returns the remainder of specified numbers when a number is divided by another number |\n",
    "| math.frexp() | Returns the mantissa and the exponent, of a specified value |\n",
    "| math.fsum(iterable) | Returns the sum of all items in an iterable (tuples, arrays, lists, etc.) |\n",
    "| math.gamma(x) | Returns the gamma value of x |\n",
    "| math.gcd() | Returns the highest value that can divide two integers |\n",
    "| math.hypot() | Find the Euclidean distance from the origin for n inputs |\n",
    "| math.isclose() | Checks whether two values are close, or not |\n",
    "| math.isfinite(x) | Checks whether x is a finite number |\n",
    "| math.isinf(x) | Check whether x is a positive or negative infinty |\n",
    "| math.isnan(x) | Checks whether x is NaN (not a number) |\n",
    "| math.isqrt(n) | Returns the nearest integer square root of n |\n",
    "| math.ldexp(x, i) | Returns the expression x * 2i where x is mantissa and i is an exponent |\n",
    "| math.lgamma(x) | Returns the log gamma value of x |\n",
    "| math.log(x, base) | Returns the natural logarithm of a number, or the logarithm of number to base |\n",
    "| math.log10(x) | Returns the base-10 logarithm of x |\n",
    "| math.log1p(x) | Returns the natural logarithm of 1+x |\n",
    "| math.log2(x) | Returns the base-2 logarithm of x |\n",
    "| math.perm(n, k) | Returns the number of ways to choose k items from n items with order and without repetition |\n",
    "| math.pow(x, y) | Returns the value of x to the power of y |\n",
    "| math.prod(iterable, *, start=1) | Returns the product of an iterable (lists, array, tuples, etc.) |\n",
    "| math.radians(x) | Converts a degree value (x) to radians |\n",
    "| math.remainder(x, y) | Returns the closest value that can make numerator completely divisible by the denominator |\n",
    "| math.sin(x) | Returns the sine of x |\n",
    "| math.sinh(x) | Returns the hyperbolic sine of x |\n",
    "| math.sqrt(x) | Returns the square root of x |\n",
    "| math.tan(x) | Returns the tangent of x |\n",
    "| math.tanh(x) | Returns the hyperbolic tangent of x |\n",
    "| math.trunc(x) | Returns the truncated integer parts of x |\n",
    "\n",
    "\n",
    "#### Constants\n",
    "\n",
    "| Constant | Description |\n",
    "|----------|---------------------------------------------------|\n",
    "| math.e | Returns Euler's number (2.7182...) |\n",
    "| math.inf | Returns a floating-point positive infinity |\n",
    "| math.nan | Returns a floating-point NaN (Not a Number) value |\n",
    "| math.pi | Returns PI (3.1415...) |\n",
    "| math.tau | Returns tau (6.2831...) |"
   ]
  },
  {
   "cell_type": "markdown",
   "metadata": {},
   "source": [
    "### The numpy library for array processing\n",
    "\n",
    "This library is very often used (including by other libraries) and it is important to understand the basics. It is too long to integrate into this tutorial which is why you should have a look at the the [basics of numpy arrays tutorial](https://jakevdp.github.io/PythonDataScienceHandbook/02.02-the-basics-of-numpy-arrays.html) so that you understand how to use them in the exercises. "
   ]
  },
  {
   "cell_type": "markdown",
   "metadata": {},
   "source": [
    "### Other libraries to know "
   ]
  },
  {
   "cell_type": "markdown",
   "metadata": {},
   "source": [
    "If you are interested at having a look at some tools that will be useful for the course, here are other libraries that we will use : \n",
    "\n",
    "- ``matplotlib``: a plotting library\n",
    "\n",
    "\n",
    "- ``opencv``: a computer vision library\n",
    "\n",
    "\n",
    "If ever you decide to use python for more than this course, these libraries may be of interest to you (this list is not exhaustive though, there is much more out there): \n",
    "\n",
    "- ``scikit-learn``: a machine learning library\n",
    "\n",
    "\n",
    "- ``scipy``: a statistics library\n",
    "\n",
    "\n",
    "- ``pandas``: to analyse data from two dimensional tables (such as excel spreadsheets)\n",
    "\n",
    "\n",
    "- ``seaborn``: another plotting libray that can be used as an alternative to matplotlib. This one is pretty useful when working with pandas.\n",
    "\n",
    "\n",
    "- ``bokeh``: an interactive visualisation library that uses HTML and javascript to create its graphics\n",
    "\n",
    "\n",
    "- ``keras`` and ``tensorflow`` : deep learning libraries\n",
    "\n",
    "\n",
    "- ``nltk`` : a natural language processing library\n",
    "\n",
    "\n",
    "- ``networkx``: a graph processing library\n",
    "\n",
    "\n",
    "- ``beautifulsoup``: a parsing library for html and xml documents that is practical if ever you need to do any webscraping\n",
    "\n"
   ]
  },
  {
   "cell_type": "markdown",
   "metadata": {},
   "source": [
    "### Creating Custom Modules"
   ]
  },
  {
   "cell_type": "markdown",
   "metadata": {},
   "source": [
    "Modules are python files that can house a custom class or custom functions that you do not want to have in your notebook. To create a module just save the code you want in a file with the file extension .py. You will then import your module with the import function seen before and be able to call the contained functions. For more details, have a look [here](https://www.w3schools.com/python/python_modules.asp).\n",
    "\n",
    "\n",
    "This will be useful for the project as part of the submission will be a jupyter notebook in the form of a report that will highlight the functionalities of the main modules of the project and be used to launch the program  \n"
   ]
  },
  {
   "cell_type": "markdown",
   "metadata": {},
   "source": [
    "### More python tutorials\n",
    "\n",
    "If you are interested in following other python tutorials, you can refer to [here](https://www.geeksforgeeks.org/python-programming-language/#Modules%20in%20Python) which gives you links to tutorials related to :\n",
    "\n",
    "- python basics\n",
    "\n",
    "- object oriented programming\n",
    "\n",
    "- exception handling\n",
    "\n",
    "- modules\n",
    "\n",
    "- working with databases\n",
    "\n",
    "- working with excel\n",
    "\n",
    "- data analysis\n",
    "\n",
    "- pandas\n",
    "\n",
    "- libraries such as regular expressions, numpy , networkx, unidecode, pickle etc...\n",
    "\n",
    "- machine learning\n",
    "\n",
    "- GUIs"
   ]
  },
  {
   "cell_type": "code",
   "execution_count": null,
   "metadata": {},
   "outputs": [],
   "source": []
  }
 ],
 "metadata": {
  "hide_input": false,
  "kernelspec": {
   "display_name": "mondada",
   "language": "python",
   "name": "python3"
  },
  "language_info": {
   "codemirror_mode": {
    "name": "ipython",
    "version": 3
   },
   "file_extension": ".py",
   "mimetype": "text/x-python",
   "name": "python",
   "nbconvert_exporter": "python",
   "pygments_lexer": "ipython3",
   "version": "3.12.3"
  },
  "toc": {
   "base_numbering": 1,
   "nav_menu": {},
   "number_sections": true,
   "sideBar": true,
   "skip_h1_title": false,
   "title_cell": "Table of Contents",
   "title_sidebar": "Contents",
   "toc_cell": true,
   "toc_position": {
    "height": "calc(100% - 180px)",
    "left": "10px",
    "top": "150px",
    "width": "332.594px"
   },
   "toc_section_display": true,
   "toc_window_display": true
  }
 },
 "nbformat": 4,
 "nbformat_minor": 4
}
