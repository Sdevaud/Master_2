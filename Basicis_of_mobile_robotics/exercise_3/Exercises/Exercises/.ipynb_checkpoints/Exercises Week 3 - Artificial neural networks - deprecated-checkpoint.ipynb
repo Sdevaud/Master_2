{
 "cells": [
  {
   "cell_type": "markdown",
   "metadata": {},
   "source": [
    "\n",
    "<div style=\"border:1px solid black; padding:20px 20px;text-align: justify;text-justify: inter-word\">\n",
    "    <strong>Exercise Session 3 - Artificial neural networks<br/> Autumn 2021 <br/> Duration : 4 hours (2 in session + 2 at home)</strong><br/><br/>\n",
    "    <span style=\"text-decoration:underline;font-weight:bold;\">How to use this notebook?</span><br/>\n",
    "    This notebook is made of text cells and code cells. The code cells have to be <strong>executed</strong> to see the result of the program. To execute a cell, simply select it and click on the \"play\" button (<span style=\"font: bold 12px/30px Arial, serif;\">&#9658;</span>) in the tool bar just above the notebook, or type <code>shift + enter</code>. It is important to execute the code cells in their order of appearance in the notebook.<br/>\n",
    "You can make use of the table of contents to navigate easily between sections.\n",
    "</div>\n",
    "\n",
    "<br/>\n",
    "\n",
    "<div style=\"justify;text-justify: inter-word\">\n",
    "So that you may familiarise with the notebooks and the basic python syntax, the exercises are provided in notebook form and whenever there are any calculations to be made, we encourage you to do them by code. Also, if you want to take notes, we encourage you to use the markdown or Raw NBConvert cells. \n",
    "</div>"
   ]
  },
  {
   "cell_type": "markdown",
   "metadata": {
    "toc": true
   },
   "source": [
    "<h1>Table of Contents<span class=\"tocSkip\"></span></h1>\n",
    "<div class=\"toc\"><ul class=\"toc-item\"><li><span><a href=\"#Learning-Goals\" data-toc-modified-id=\"Learning-Goals-1\"><span class=\"toc-item-num\">1&nbsp;&nbsp;</span>Learning Goals</a></span></li><li><span><a href=\"#Requirements\" data-toc-modified-id=\"Requirements-2\"><span class=\"toc-item-num\">2&nbsp;&nbsp;</span>Requirements</a></span></li><li><span><a href=\"#Activity-1---Artificial-Neural-Networks\" data-toc-modified-id=\"Activity-1---Artificial-Neural-Networks-3\"><span class=\"toc-item-num\">3&nbsp;&nbsp;</span>Activity 1 - Artificial Neural Networks</a></span></li><li><span><a href=\"#Reminder-1:-Control-your-Thymio-in-Python\" data-toc-modified-id=\"Reminder-1:-Control-your-Thymio-in-Python-4\"><span class=\"toc-item-num\">4&nbsp;&nbsp;</span>Reminder 1: Control your Thymio in Python</a></span></li><li><span><a href=\"#ANN-for-Robot-Control\" data-toc-modified-id=\"ANN-for-Robot-Control-5\"><span class=\"toc-item-num\">5&nbsp;&nbsp;</span>ANN for Robot Control</a></span><ul class=\"toc-item\"><li><span><a href=\"#Reactive-Control\" data-toc-modified-id=\"Reactive-Control-5.1\"><span class=\"toc-item-num\">5.1&nbsp;&nbsp;</span>Reactive Control</a></span></li><li><span><a href=\"#Memory\" data-toc-modified-id=\"Memory-5.2\"><span class=\"toc-item-num\">5.2&nbsp;&nbsp;</span>Memory</a></span></li><li><span><a href=\"#Hebbian-Rule\" data-toc-modified-id=\"Hebbian-Rule-5.3\"><span class=\"toc-item-num\">5.3&nbsp;&nbsp;</span>Hebbian Rule</a></span><ul class=\"toc-item\"><li><span><a href=\"#On-paper\" data-toc-modified-id=\"On-paper-5.3.1\"><span class=\"toc-item-num\">5.3.1&nbsp;&nbsp;</span>On paper</a></span></li><li><span><a href=\"#Implementation\" data-toc-modified-id=\"Implementation-5.3.2\"><span class=\"toc-item-num\">5.3.2&nbsp;&nbsp;</span>Implementation</a></span></li></ul></li></ul></li><li><span><a href=\"#Architectures\" data-toc-modified-id=\"Architectures-6\"><span class=\"toc-item-num\">6&nbsp;&nbsp;</span>Architectures</a></span><ul class=\"toc-item\"><li><span><a href=\"#Activity-5-:-Finite-State-Machines\" data-toc-modified-id=\"Activity-5-:-Finite-State-Machines-6.1\"><span class=\"toc-item-num\">6.1&nbsp;&nbsp;</span>Activity 5 : Finite State Machines</a></span></li><li><span><a href=\"#Reminder-2:-Using-tdmclient-on-your-computer\" data-toc-modified-id=\"Reminder-2:-Using-tdmclient-on-your-computer-6.2\"><span class=\"toc-item-num\">6.2&nbsp;&nbsp;</span>Reminder 2: Using tdmclient on your computer</a></span></li></ul></li></ul></div>"
   ]
  },
  {
   "cell_type": "markdown",
   "metadata": {},
   "source": [
    "---\n",
    "\n",
    "# Learning Goals\n",
    "\n",
    "\n",
    "- Use of artificial neural networks (ANN) for reactive control, based on fixed and learned connections.\n",
    "\n",
    "\n",
    "- Getting a better intuitive idea of what a neuron is able to do.\n",
    "\n",
    "\n",
    "- Applying a neural network and a learning rule to control a robot.\n",
    "\n",
    "\n",
    "\n",
    "***Note that the ANN related coding exercises will be conducted with Python code transpiled in Aseba or ASEBA studio directly, to make use of the events on the Thymio, notably those in relation to the button presses. Generally speaking, coding on the Thymio directly leads to more efficient programs than those using classic Python on the Jupyter notebook which rely heavily on the communication and tends to involve delays.***\n",
    "\n",
    "Additionally : \n",
    "\n",
    "* Implement a simple reactive architecture and understand their potentials and limitations. \n",
    "\n",
    "\n",
    "# Requirements\n",
    "\n",
    "- Thymio\n",
    "\n",
    "- The G printed in A3 format (path-transitions.pdf)\n",
    "\n",
    "![path-transitions](images/path-transitions.png)\n",
    "\n",
    "\n",
    "<br/>\n"
   ]
  },
  {
   "cell_type": "code",
   "execution_count": 1,
   "metadata": {},
   "outputs": [
    {
     "name": "stdout",
     "output_type": "stream",
     "text": [
      "Requirement already satisfied: tdmclient in /home/seby/miniconda3/envs/mondada/lib/python3.12/site-packages (0.1.21)\n",
      "Requirement already satisfied: websockets in /home/seby/miniconda3/envs/mondada/lib/python3.12/site-packages (from tdmclient) (15.0.1)\n",
      "Requirement already satisfied: zeroconf in /home/seby/miniconda3/envs/mondada/lib/python3.12/site-packages (from tdmclient) (0.148.0)\n",
      "Requirement already satisfied: ifaddr>=0.1.7 in /home/seby/miniconda3/envs/mondada/lib/python3.12/site-packages (from zeroconf->tdmclient) (0.2.0)\n"
     ]
    }
   ],
   "source": [
    "!pip install --upgrade tdmclient"
   ]
  },
  {
   "cell_type": "markdown",
   "metadata": {},
   "source": [
    "# Activity 1 - Artificial Neural Networks\n",
    "\n",
    "It is important to understand what type of function a single neuron can generate, and when we\n",
    "need several layers.\n",
    "This first exercice can be done on paper. Consider the neuron illustrated in the Figure below. The figure shows an artificial neuron with three inputs, x1, x2, and 1, and one output y. The\n",
    "purpose of the input 1 is not to be connected to an external input, but instead to introduce\n",
    "a constant value of 1. The input values of x1 and x2 are assumed to be 0 or 1. As output\n",
    "function f we consider the step function:\n",
    "\n",
    "\n",
    "\\begin{array}{ll}\n",
    "f(x) = 0 & \\;\\;\\;\\textrm{if} \\;\\; x < 0\\\\\n",
    "f(x) = 1 & \\;\\;\\;\\textrm{if} \\;\\; x \\geq 0\\,.\n",
    "\\end{array}\n",
    "\n",
    "\n",
    "\n",
    "<br/>\n",
    "\n",
    "![Pentagon](images/single_neuron.png)\n",
    "\n",
    "<br/>\n",
    "\n",
    "**1. Assign weights w0, w1, w2 so that y is greater than 0 if and only if the values of x1 or x2 or both are 1. This implements the logic gate for or.**\n",
    "\n",
    "\n",
    "**2. Assign weights w0, w1, w2 so that y is greater than zero if and only if the values of both x1 and x2 are 1. This implements the logic gate for and.**\n",
    "\n",
    "\n",
    "**3. Can you assign weights w0, w1, w2 so that you implement the logic gate for xor? Why?**\n",
    "\n",
    "\n",
    "------\n",
    "\n",
    "Consider the two-layer ANN shown in the Figure below. For this exercise, assume that the weights wi are in\n",
    "the range −1.0 to 1.0 ; and the function f is defined as f(x) = x for −1 ≤ x ≤ 1, and saturates the\n",
    "input to −1 or 1 outside this range. We fix the following weights:\n",
    "\n",
    "\n",
    "<br/>\n",
    "\n",
    "![Pentagon](images/double_layer_neuron.png)\n",
    "\n",
    "<br/>\n",
    "\n",
    "\n",
    "\n",
    "\\begin{array}{c}\n",
    " w_{11}=1,\\, w_{12}=0.5,\\, w_{21}=1,\\, w_{22}=-1\\,. \n",
    "\\end{array}\n",
    "\n",
    "\n",
    "**Compute the values and draw graphs of the outputs of the neurons of the hidden layer (the two\n",
    "left neurons) and the output layer (the right neuron) as function of an input x in the range −2.0\n",
    "to 2.0. Can you obtain the same output from an ANN with only one layer?**\n"
   ]
  },
  {
   "cell_type": "markdown",
   "metadata": {},
   "source": [
    "# Reminder 1: Control your Thymio in Python"
   ]
  },
  {
   "cell_type": "markdown",
   "metadata": {},
   "source": [
    "In order to realize the next activities, you will probably need to use Python and tdmclient. This is a quick reminder, but you can find more in tutorials like \"Introduction to Python and Jupyter Notebooks\" and \"Control your Thymio in Python\".\n",
    "Don't forget to open **Thymio suite** and connect your Thymio (RF dongle/USB cable)"
   ]
  },
  {
   "cell_type": "code",
   "execution_count": 2,
   "metadata": {
    "ExecuteTime": {
     "end_time": "2021-09-29T14:59:02.950269Z",
     "start_time": "2021-09-29T14:59:00.300361Z"
    }
   },
   "outputs": [
    {
     "ename": "ConnectionRefusedError",
     "evalue": "[Errno 111] Connection refused",
     "output_type": "error",
     "traceback": [
      "\u001b[31m---------------------------------------------------------------------------\u001b[39m",
      "\u001b[31mConnectionRefusedError\u001b[39m                    Traceback (most recent call last)",
      "\u001b[36mCell\u001b[39m\u001b[36m \u001b[39m\u001b[32mIn[2]\u001b[39m\u001b[32m, line 4\u001b[39m\n\u001b[32m      1\u001b[39m \u001b[38;5;66;03m# If you did not install tdmclient, try \"!pip install tdmclient\", \u001b[39;00m\n\u001b[32m      2\u001b[39m \u001b[38;5;66;03m# or have a look at the tutorial \"Control your Thymio in Python\"\u001b[39;00m\n\u001b[32m      3\u001b[39m \u001b[38;5;28;01mimport\u001b[39;00m\u001b[38;5;250m \u001b[39m\u001b[34;01mtdmclient\u001b[39;00m\u001b[34;01m.\u001b[39;00m\u001b[34;01mnotebook\u001b[39;00m\n\u001b[32m----> \u001b[39m\u001b[32m4\u001b[39m \u001b[38;5;28;01mawait\u001b[39;00m tdmclient.notebook.start()\n",
      "\u001b[36mFile \u001b[39m\u001b[32m~/miniconda3/envs/mondada/lib/python3.12/site-packages/tdmclient/notebook/private.py:107\u001b[39m, in \u001b[36mstart\u001b[39m\u001b[34m(zeroconf, zeroconf_all, tdm_ws, tdm_addr, tdm_port, password, debug, **kwargs)\u001b[39m\n\u001b[32m     90\u001b[39m \u001b[38;5;28;01masync\u001b[39;00m \u001b[38;5;28;01mdef\u001b[39;00m\u001b[38;5;250m \u001b[39m\u001b[34mstart\u001b[39m(zeroconf=\u001b[38;5;28;01mFalse\u001b[39;00m, zeroconf_all=\u001b[38;5;28;01mFalse\u001b[39;00m,\n\u001b[32m     91\u001b[39m                 tdm_ws=\u001b[38;5;28;01mFalse\u001b[39;00m, tdm_addr=\u001b[38;5;28;01mNone\u001b[39;00m, tdm_port=\u001b[38;5;28;01mNone\u001b[39;00m,\n\u001b[32m     92\u001b[39m                 password=\u001b[38;5;28;01mNone\u001b[39;00m,\n\u001b[32m     93\u001b[39m                 debug=\u001b[32m0\u001b[39m, **kwargs):\n\u001b[32m     94\u001b[39m \u001b[38;5;250m    \u001b[39m\u001b[33;03m\"\"\"Start the connection with the Thymio and variable synchronization.\u001b[39;00m\n\u001b[32m     95\u001b[39m \n\u001b[32m     96\u001b[39m \u001b[33;03m    Arguments:\u001b[39;00m\n\u001b[32m   (...)\u001b[39m\u001b[32m    104\u001b[39m \u001b[33;03m        zeroconf_all - True to use zeroconf with all interfaces instead of default (default: false)\u001b[39;00m\n\u001b[32m    105\u001b[39m \u001b[33;03m    \"\"\"\u001b[39;00m\n\u001b[32m--> \u001b[39m\u001b[32m107\u001b[39m     client = \u001b[43mClientAsync\u001b[49m\u001b[43m(\u001b[49m\u001b[43mzeroconf\u001b[49m\u001b[43m=\u001b[49m\u001b[43mzeroconf\u001b[49m\u001b[43m,\u001b[49m\u001b[43m \u001b[49m\u001b[43mzeroconf_all\u001b[49m\u001b[43m=\u001b[49m\u001b[43mzeroconf_all\u001b[49m\u001b[43m,\u001b[49m\n\u001b[32m    108\u001b[39m \u001b[43m                         \u001b[49m\u001b[43mtdm_addr\u001b[49m\u001b[43m=\u001b[49m\u001b[43mtdm_addr\u001b[49m\u001b[43m,\u001b[49m\u001b[43m \u001b[49m\u001b[43mtdm_port\u001b[49m\u001b[43m=\u001b[49m\u001b[43mtdm_port\u001b[49m\u001b[43m,\u001b[49m\u001b[43m \u001b[49m\u001b[43mtdm_ws\u001b[49m\u001b[43m=\u001b[49m\u001b[43mtdm_ws\u001b[49m\u001b[43m,\u001b[49m\n\u001b[32m    109\u001b[39m \u001b[43m                         \u001b[49m\u001b[43mpassword\u001b[49m\u001b[43m=\u001b[49m\u001b[43mpassword\u001b[49m\u001b[43m,\u001b[49m\n\u001b[32m    110\u001b[39m \u001b[43m                         \u001b[49m\u001b[43mdebug\u001b[49m\u001b[43m=\u001b[49m\u001b[43mdebug\u001b[49m\u001b[43m)\u001b[49m\n\u001b[32m    111\u001b[39m     node = \u001b[38;5;28;01mawait\u001b[39;00m client.wait_for_node(**kwargs)\n\u001b[32m    112\u001b[39m     \u001b[38;5;28;01mawait\u001b[39;00m node.lock()\n",
      "\u001b[36mFile \u001b[39m\u001b[32m~/miniconda3/envs/mondada/lib/python3.12/site-packages/tdmclient/clientasync.py:42\u001b[39m, in \u001b[36mClientAsync.__init__\u001b[39m\u001b[34m(self, node_class, **kwargs)\u001b[39m\n\u001b[32m     41\u001b[39m \u001b[38;5;28;01mdef\u001b[39;00m\u001b[38;5;250m \u001b[39m\u001b[34m__init__\u001b[39m(\u001b[38;5;28mself\u001b[39m, node_class=\u001b[38;5;28;01mNone\u001b[39;00m, **kwargs):\n\u001b[32m---> \u001b[39m\u001b[32m42\u001b[39m     \u001b[38;5;28;43msuper\u001b[39;49m\u001b[43m(\u001b[49m\u001b[43mClientAsync\u001b[49m\u001b[43m,\u001b[49m\u001b[43m \u001b[49m\u001b[38;5;28;43mself\u001b[39;49m\u001b[43m)\u001b[49m\u001b[43m.\u001b[49m\u001b[34;43m__init__\u001b[39;49m\u001b[43m(\u001b[49m\u001b[43m*\u001b[49m\u001b[43m*\u001b[49m\u001b[43mkwargs\u001b[49m\u001b[43m)\u001b[49m\n\u001b[32m     43\u001b[39m     \u001b[38;5;28mself\u001b[39m.node_class = node_class \u001b[38;5;129;01mor\u001b[39;00m tdmclient.ClientAsyncCacheNode\n",
      "\u001b[36mFile \u001b[39m\u001b[32m~/miniconda3/envs/mondada/lib/python3.12/site-packages/tdmclient/client.py:98\u001b[39m, in \u001b[36mClient.__init__\u001b[39m\u001b[34m(self, zeroconf, zeroconf_all, tdm_ws, tdm_addr, tdm_port, tdm_transport, password, **kwargs)\u001b[39m\n\u001b[32m     96\u001b[39m \u001b[38;5;28;01mif\u001b[39;00m \u001b[38;5;28mself\u001b[39m.debug >= \u001b[32m1\u001b[39m \u001b[38;5;129;01mand\u001b[39;00m \u001b[38;5;28mself\u001b[39m.tdm_transport \u001b[38;5;129;01mis\u001b[39;00m \u001b[38;5;28;01mNone\u001b[39;00m:\n\u001b[32m     97\u001b[39m         \u001b[38;5;28mprint\u001b[39m(\u001b[33mf\u001b[39m\u001b[33m\"\u001b[39m\u001b[33mTDM \u001b[39m\u001b[38;5;132;01m{\u001b[39;00m\u001b[38;5;28mself\u001b[39m.tdm_addr\u001b[38;5;132;01m}\u001b[39;00m\u001b[33m:\u001b[39m\u001b[38;5;132;01m{\u001b[39;00m\u001b[38;5;28mself\u001b[39m.tdm_port\u001b[38;5;132;01m}\u001b[39;00m\u001b[33m\"\u001b[39m)\n\u001b[32m---> \u001b[39m\u001b[32m98\u001b[39m \u001b[38;5;28;43mself\u001b[39;49m\u001b[43m.\u001b[49m\u001b[43mconnect\u001b[49m\u001b[43m(\u001b[49m\u001b[43m)\u001b[49m\n\u001b[32m     99\u001b[39m \u001b[38;5;28mself\u001b[39m.send_handshake(password)\n",
      "\u001b[36mFile \u001b[39m\u001b[32m~/miniconda3/envs/mondada/lib/python3.12/site-packages/tdmclient/client.py:112\u001b[39m, in \u001b[36mClient.connect\u001b[39m\u001b[34m(self)\u001b[39m\n\u001b[32m    110\u001b[39m     \u001b[38;5;28mself\u001b[39m.tdm = TDMConnectionWS(\u001b[38;5;28mself\u001b[39m.tdm_addr, \u001b[38;5;28mself\u001b[39m.tdm_ws_port)\n\u001b[32m    111\u001b[39m \u001b[38;5;28;01melse\u001b[39;00m:\n\u001b[32m--> \u001b[39m\u001b[32m112\u001b[39m     \u001b[38;5;28mself\u001b[39m.tdm = \u001b[43mTDMConnection\u001b[49m\u001b[43m(\u001b[49m\u001b[38;5;28;43mself\u001b[39;49m\u001b[43m.\u001b[49m\u001b[43mtdm_addr\u001b[49m\u001b[43m,\u001b[49m\u001b[43m \u001b[49m\u001b[38;5;28;43mself\u001b[39;49m\u001b[43m.\u001b[49m\u001b[43mtdm_port\u001b[49m\u001b[43m)\u001b[49m\n",
      "\u001b[36mFile \u001b[39m\u001b[32m~/miniconda3/envs/mondada/lib/python3.12/site-packages/tdmclient/tcp.py:104\u001b[39m, in \u001b[36mTDMConnection.__init__\u001b[39m\u001b[34m(self, host, port, debug)\u001b[39m\n\u001b[32m    101\u001b[39m     \u001b[38;5;28;01mdef\u001b[39;00m\u001b[38;5;250m \u001b[39m\u001b[34mwrite\u001b[39m(\u001b[38;5;28mself\u001b[39m, b):\n\u001b[32m    102\u001b[39m         \u001b[38;5;28mself\u001b[39m.socket.sendall(b)\n\u001b[32m--> \u001b[39m\u001b[32m104\u001b[39m \u001b[38;5;28mself\u001b[39m.io = \u001b[43mTCPClientIO\u001b[49m\u001b[43m(\u001b[49m\u001b[43mhost\u001b[49m\u001b[43m,\u001b[49m\u001b[43m \u001b[49m\u001b[43mport\u001b[49m\u001b[43m)\u001b[49m\n\u001b[32m    105\u001b[39m \u001b[38;5;28mself\u001b[39m.debug = debug\n\u001b[32m    106\u001b[39m \u001b[38;5;28mself\u001b[39m.timeout = \u001b[32m3\u001b[39m\n",
      "\u001b[36mFile \u001b[39m\u001b[32m~/miniconda3/envs/mondada/lib/python3.12/site-packages/tdmclient/tcp.py:96\u001b[39m, in \u001b[36mTDMConnection.__init__.<locals>.TCPClientIO.__init__\u001b[39m\u001b[34m(self, host, port)\u001b[39m\n\u001b[32m     94\u001b[39m \u001b[38;5;28;01mdef\u001b[39;00m\u001b[38;5;250m \u001b[39m\u001b[34m__init__\u001b[39m(\u001b[38;5;28mself\u001b[39m, host, port):\n\u001b[32m     95\u001b[39m     \u001b[38;5;28mself\u001b[39m.socket = socket.socket(socket.AF_INET, socket.SOCK_STREAM)\n\u001b[32m---> \u001b[39m\u001b[32m96\u001b[39m     \u001b[38;5;28;43mself\u001b[39;49m\u001b[43m.\u001b[49m\u001b[43msocket\u001b[49m\u001b[43m.\u001b[49m\u001b[43mconnect\u001b[49m\u001b[43m(\u001b[49m\u001b[43m(\u001b[49m\u001b[43mhost\u001b[49m\u001b[43m,\u001b[49m\u001b[43m \u001b[49m\u001b[43mport\u001b[49m\u001b[43m)\u001b[49m\u001b[43m)\u001b[49m\n",
      "\u001b[31mConnectionRefusedError\u001b[39m: [Errno 111] Connection refused"
     ]
    }
   ],
   "source": [
    "# If you did not install tdmclient, try \"!pip install tdmclient\", \n",
    "# or have a look at the tutorial \"Control your Thymio in Python\"\n",
    "import tdmclient.notebook\n",
    "await tdmclient.notebook.start()"
   ]
  },
  {
   "cell_type": "code",
   "execution_count": null,
   "metadata": {
    "ExecuteTime": {
     "end_time": "2021-09-29T14:59:04.363488Z",
     "start_time": "2021-09-29T14:59:04.335562Z"
    }
   },
   "outputs": [],
   "source": [
    "# To change the speed of the left motor:\n",
    "motor_left_target = 50"
   ]
  },
  {
   "cell_type": "code",
   "execution_count": null,
   "metadata": {
    "ExecuteTime": {
     "end_time": "2021-09-29T14:59:05.490472Z",
     "start_time": "2021-09-29T14:59:05.464542Z"
    }
   },
   "outputs": [],
   "source": [
    "motor_left_target = 0"
   ]
  },
  {
   "cell_type": "code",
   "execution_count": null,
   "metadata": {
    "ExecuteTime": {
     "end_time": "2021-09-29T14:59:06.166663Z",
     "start_time": "2021-09-29T14:59:06.134748Z"
    }
   },
   "outputs": [],
   "source": [
    "# To get the prox_horizontal values of the Thymio:\n",
    "prox_horizontal"
   ]
  },
  {
   "cell_type": "markdown",
   "metadata": {},
   "source": [
    "Events are quite important in Aseba language. The event **prox** will be very helpful in the next parts. Every time the Thymio update the proximity values (frequency of 10Hz), the **prox** event is generated. You can define a piece of code that will be executed every time the **prox** event is triggered. Here is an exemple:"
   ]
  },
  {
   "cell_type": "code",
   "execution_count": null,
   "metadata": {
    "ExecuteTime": {
     "end_time": "2021-09-29T14:59:08.327879Z",
     "start_time": "2021-09-29T14:59:07.973827Z"
    }
   },
   "outputs": [],
   "source": [
    "%%run_python\n",
    "\n",
    "# Every time the prox event is generated, the robot go back accordingly \n",
    "# of what is sensed on the middle front proximity sensor\n",
    "\n",
    "@onevent\n",
    "def prox():\n",
    "    global prox_horizontal, motor_left_target, motor_right_target\n",
    "    prox_front = prox_horizontal[2]\n",
    "    # Use // for integer division instead of / (not supported yet): \n",
    "    speed = -prox_front // 10\n",
    "    motor_left_target = speed\n",
    "    motor_right_target = speed"
   ]
  },
  {
   "cell_type": "markdown",
   "metadata": {},
   "source": [
    "Note that `run_python` allows the code to be transpiled in Aseba and loaded on the Thymio.\n",
    "The decorator `@onevent` allow the whole function to be executed every time the corresponding event is generated. Here the event used is `prox`, but by naming the function `def button_left():`, the code would be executed when pressing the left button.\n",
    "Finally, don't forget to declare variables as `global`, otherwise you will probably change variables in the function and for example don't modify the speed of the robot."
   ]
  },
  {
   "cell_type": "code",
   "execution_count": null,
   "metadata": {
    "ExecuteTime": {
     "end_time": "2021-09-29T14:59:10.929915Z",
     "start_time": "2021-09-29T14:59:10.785304Z"
    }
   },
   "outputs": [],
   "source": [
    "await tdmclient.notebook.stop()"
   ]
  },
  {
   "cell_type": "markdown",
   "metadata": {},
   "source": [
    "# ANN for Robot Control\n",
    "\n",
    "Consider an ANN making a full connection between sensors and motors with a single layer of two\n",
    "neurons, as illustrated in the Figure below. The figure illutrates the ANN for the control of the obstacle avoidance of a robot. Implement the neural network in code so that the robot can avoid obstacles. Note that you will need to calculate appropriate weights $w_{il}$ and $w_{ir}$ for $i \\in [1, 7]$ which correspond to the number of available proximity sensors. To set the initial weights you can use your intuition (later in this jupyter notebook you will have the chance to correct the weights by reinforcing the correct decisions of the robot).\n",
    "\n",
    "\n",
    "<br/>\n",
    "\n",
    "![Pentagon](images/ANN_robot_control.png)\n",
    "\n",
    "<br/>\n",
    "\n",
    "\n",
    "\n",
    "## Reactive Control\n",
    "\n",
    "Implement on Thymio, using Python transpiled in Aseba or directly the Aseba language, an ANN with the structure presented above and taking as input all seven proximity sensors, as given in algorithm 2.1 \n",
    "\n",
    "<br/>\n",
    "\n",
    "![Pentagon](images/ANN_algorithm.png)\n",
    "\n",
    "<br/>"
   ]
  },
  {
   "cell_type": "markdown",
   "metadata": {},
   "source": [
    "## Memory\n",
    "\n",
    "Add recurrent connection to have Thymio memorising the speed and continuing moving also without\n",
    "inputs from the sensors. Explore values below, equal and higher than one."
   ]
  },
  {
   "cell_type": "markdown",
   "metadata": {},
   "source": [
    "## Hebbian Rule\n",
    "\n",
    "### On paper\n",
    "\n",
    "The artificial neural network below, with two linear neurons, two outputs and two inputs, has an\n",
    "activation which gives a good behavior of the system and should be reinforced. Apply the Hebb\n",
    "rule by detailing your choices and steps.\n",
    "\n",
    "<br/>\n",
    "\n",
    "![Pentagon](images/hebb_rule.png)\n",
    "\n",
    "<br/>"
   ]
  },
  {
   "cell_type": "markdown",
   "metadata": {},
   "source": [
    "### Implementation \n",
    "\n",
    "Add Hebbian learning to the structure of ANN described in algorithm 2.1 that was provided earlier.\n",
    "\n",
    "<br/>\n",
    "\n",
    "![Pentagon](Images/ANN_algorithm.png)\n",
    "\n",
    "<br/>\n",
    "\n",
    "Instead of making random movements and waiting for good situations to reinforce, you can present\n",
    "good situations to the network by placing the robot in an avoidance situation and pressing a button\n",
    "showing the right reaction, as illustrated in algorithm 2.2\n",
    "\n",
    "\n",
    "<br/>\n",
    "\n",
    "![Pentagon](Images/ANN_algorithm_2.png)\n",
    "\n",
    "<br/>\n",
    "\n",
    "The application of the Hebbian rule in this situation follows algorithm 2.3. Test various learning\n",
    "rates.\n",
    "\n",
    "\n",
    "<br/>\n",
    "\n",
    "![Pentagon](Images/ANN_hebb.png)\n",
    "\n",
    "<br/>\n",
    "\n",
    "\n"
   ]
  },
  {
   "cell_type": "markdown",
   "metadata": {},
   "source": [
    "---\n",
    "---\n",
    "\n",
    "\n",
    "# Architectures\n",
    "\n",
    "Reactive behaviours allow to implement direct sensor-motor loops. These can include a memory\n",
    "effect, or have no memory at all. They can have a very simple structure or be composed by layers\n",
    "interacting with each other. We explore some simple reactive behaviours in the following exercise\n",
    "\n",
    "## Activity 5 : Finite State Machines\n",
    "\n",
    "Finite state machines allow us to describe a behaviour in a very abstract way using a state graph,\n",
    "helping to then program the system. \n",
    "\n",
    "\n",
    "Design a robot that moves on the G path given with this exercice with the following rule: \n",
    "\n",
    "The robot starts by following the line with the left ground sensor, turning clockwise, until it sees an obstacle.\n",
    "\n",
    "When this occurs, it changes behaviour and starts following the wall, until it sees a black transversal line with both ground sensors. \n",
    "\n",
    "When this occurs it moves forward until one of the ground sensors see white. \n",
    "\n",
    "When this occurs it starts following the line until it sees and obstacle, and so on. \n",
    "\n",
    "Draw a state diagram implementing this behaviour and then (only after!!!!) write the corresponding code for Thymio.\n",
    "\n",
    "The following files are provided in the zip folder to help :\n",
    "\n",
    "* ``path-transitions.pdf`` : Contains the G path in A3 format for the finite state machine exercise.\n",
    "\n",
    "![path-transitions](images/path-transitions.png)\n",
    "\n",
    "You can resolve the exercise either through ASEBA Studio or using the Python Bridge in order to do it via the Jupyter notebook. Note that the execution will likely be more efficient if you use ASEBA studio/Python transpiled to Aseba. \n"
   ]
  },
  {
   "cell_type": "markdown",
   "metadata": {},
   "source": [
    "## Reminder 2: Using tdmclient on your computer"
   ]
  },
  {
   "cell_type": "markdown",
   "metadata": {},
   "source": [
    "Beware that the previous code should still be loaded on the Thymio. You can simply turn it off and then on, for a clean start. If you get any **\"Node lock error\"**, try to execute the line `await tdmclient.notebook.stop()`, that will unlock the robot and allow to use a different approach here (ClientAsync)."
   ]
  },
  {
   "cell_type": "markdown",
   "metadata": {},
   "source": [
    "The idea of this *Reminder 2*, is to use Python and tdmclient on your own computer, sending and asking informations to the Thymio."
   ]
  },
  {
   "cell_type": "code",
   "execution_count": null,
   "metadata": {
    "ExecuteTime": {
     "end_time": "2021-09-29T14:59:23.483324Z",
     "start_time": "2021-09-29T14:59:21.022908Z"
    }
   },
   "outputs": [],
   "source": [
    "from tdmclient import ClientAsync\n",
    "client = ClientAsync()\n",
    "node = await client.wait_for_node()\n",
    "await node.lock()"
   ]
  },
  {
   "cell_type": "markdown",
   "metadata": {},
   "source": [
    "Just a quick reminder of the different variables that can be accessed through the node object:"
   ]
  },
  {
   "cell_type": "code",
   "execution_count": null,
   "metadata": {
    "ExecuteTime": {
     "end_time": "2021-09-29T14:59:26.842335Z",
     "start_time": "2021-09-29T14:59:26.578043Z"
    },
    "scrolled": true
   },
   "outputs": [],
   "source": [
    "await node.wait_for_variables()\n",
    "node.var"
   ]
  },
  {
   "cell_type": "markdown",
   "metadata": {},
   "source": [
    "Quick code to get the values of the proximity sensors:"
   ]
  },
  {
   "cell_type": "code",
   "execution_count": null,
   "metadata": {
    "ExecuteTime": {
     "end_time": "2021-09-29T14:59:34.090360Z",
     "start_time": "2021-09-29T14:59:31.947096Z"
    }
   },
   "outputs": [],
   "source": [
    "await node.wait_for_variables()\n",
    "for i in range(10):\n",
    "    # You can also replace \"prox.horizontal\" by an other prox sensor:\n",
    "    print(list(node[\"prox.horizontal\"]))\n",
    "    await client.sleep(0.2)"
   ]
  },
  {
   "cell_type": "markdown",
   "metadata": {},
   "source": [
    "And how to pass values to the Thymio, here for example how to change the speed:"
   ]
  },
  {
   "cell_type": "code",
   "execution_count": null,
   "metadata": {
    "ExecuteTime": {
     "end_time": "2021-09-29T14:59:35.928440Z",
     "start_time": "2021-09-29T14:59:35.783828Z"
    }
   },
   "outputs": [],
   "source": [
    "v = {\n",
    "    \"motor.left.target\": [50],\n",
    "    \"motor.right.target\": [50],\n",
    "}\n",
    "await node.set_variables(v)"
   ]
  },
  {
   "cell_type": "code",
   "execution_count": null,
   "metadata": {
    "ExecuteTime": {
     "end_time": "2021-09-29T14:59:40.387508Z",
     "start_time": "2021-09-29T14:59:40.231924Z"
    }
   },
   "outputs": [],
   "source": [
    "v = {\n",
    "    \"motor.left.target\": [0],\n",
    "    \"motor.right.target\": [0],\n",
    "}\n",
    "await node.set_variables(v)"
   ]
  }
 ],
 "metadata": {
  "hide_input": false,
  "kernelspec": {
   "display_name": "mondada",
   "language": "python",
   "name": "python3"
  },
  "language_info": {
   "codemirror_mode": {
    "name": "ipython",
    "version": 3
   },
   "file_extension": ".py",
   "mimetype": "text/x-python",
   "name": "python",
   "nbconvert_exporter": "python",
   "pygments_lexer": "ipython3",
   "version": "3.12.12"
  },
  "toc": {
   "base_numbering": 1,
   "nav_menu": {},
   "number_sections": true,
   "sideBar": true,
   "skip_h1_title": false,
   "title_cell": "Table of Contents",
   "title_sidebar": "Contents",
   "toc_cell": true,
   "toc_position": {},
   "toc_section_display": true,
   "toc_window_display": true
  }
 },
 "nbformat": 4,
 "nbformat_minor": 2
}
