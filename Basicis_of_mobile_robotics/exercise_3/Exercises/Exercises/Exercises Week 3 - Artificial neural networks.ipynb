{
 "cells": [
  {
   "cell_type": "markdown",
   "metadata": {},
   "source": [
    "\n",
    "<div style=\"border:1px solid black; padding:20px 20px;text-align: justify;text-justify: inter-word\">\n",
    "    <strong>Exercise Session 3 - Artificial neural networks<br/> Duration : 4 hours (2 in session + 2 at home)</strong><br/><br/>\n",
    "    <span style=\"text-decoration:underline;font-weight:bold;\">How to use this notebook?</span><br/>\n",
    "    This notebook is made of text cells and code cells. The code cells have to be <strong>executed</strong> to see the result of the program. To execute a cell, simply select it and click on the \"play\" button (<span style=\"font: bold 12px/30px Arial, serif;\">&#9658;</span>) in the tool bar just above the notebook, or type <code>shift + enter</code>. It is important to execute the code cells in their order of appearance in the notebook.<br/>\n",
    "You can make use of the table of contents to navigate easily between sections.\n",
    "</div>\n",
    "\n",
    "<br/>\n",
    "\n",
    "<div style=\"justify;text-justify: inter-word\">\n",
    "So that you may familiarise with the notebooks and the basic python syntax, the exercises are provided in notebook form and whenever there are any calculations to be made, we encourage you to do them by code. Also, if you want to take notes, we encourage you to use the markdown or Raw NBConvert cells. \n",
    "</div>"
   ]
  },
  {
   "cell_type": "markdown",
   "metadata": {
    "toc": true
   },
   "source": [
    "<h1>Table of Contents<span class=\"tocSkip\"></span></h1>\n",
    "<div class=\"toc\"><ul class=\"toc-item\"><li><span><a href=\"#Learning-Goals\" data-toc-modified-id=\"Learning-Goals-1\"><span class=\"toc-item-num\">1&nbsp;&nbsp;</span>Learning Goals</a></span></li><li><span><a href=\"#Requirements\" data-toc-modified-id=\"Requirements-2\"><span class=\"toc-item-num\">2&nbsp;&nbsp;</span>Requirements</a></span><ul class=\"toc-item\"><li><span><a href=\"#Reminder-1:-Control-your-Thymio-in-Python-with-tdmclient.notebook\" data-toc-modified-id=\"Reminder-1:-Control-your-Thymio-in-Python-with-tdmclient.notebook-2.1\"><span class=\"toc-item-num\">2.1&nbsp;&nbsp;</span>Reminder 1: Control your Thymio in Python with tdmclient.notebook</a></span></li><li><span><a href=\"#Reminder-2:-Control-your-Thymio-in-Python-with-tdm.clientAsync()\" data-toc-modified-id=\"Reminder-2:-Control-your-Thymio-in-Python-with-tdm.clientAsync()-2.2\"><span class=\"toc-item-num\">2.2&nbsp;&nbsp;</span>Reminder 2: Control your Thymio in Python with tdm.clientAsync()</a></span></li></ul></li><li><span><a href=\"#Activity-1---Artificial-Neural-Networks\" data-toc-modified-id=\"Activity-1---Artificial-Neural-Networks-3\"><span class=\"toc-item-num\">3&nbsp;&nbsp;</span>Activity 1 - Artificial Neural Networks</a></span></li><li><span><a href=\"#ANN-for-Robot-Control\" data-toc-modified-id=\"ANN-for-Robot-Control-4\"><span class=\"toc-item-num\">4&nbsp;&nbsp;</span>ANN for Robot Control</a></span><ul class=\"toc-item\"><li><span><a href=\"#Reactive-Control\" data-toc-modified-id=\"Reactive-Control-4.1\"><span class=\"toc-item-num\">4.1&nbsp;&nbsp;</span>Reactive Control</a></span></li><li><span><a href=\"#Memory\" data-toc-modified-id=\"Memory-4.2\"><span class=\"toc-item-num\">4.2&nbsp;&nbsp;</span>Memory</a></span></li><li><span><a href=\"#Hebbian-Rule\" data-toc-modified-id=\"Hebbian-Rule-4.3\"><span class=\"toc-item-num\">4.3&nbsp;&nbsp;</span>Hebbian Rule</a></span><ul class=\"toc-item\"><li><span><a href=\"#On-paper\" data-toc-modified-id=\"On-paper-4.3.1\"><span class=\"toc-item-num\">4.3.1&nbsp;&nbsp;</span>On paper</a></span></li><li><span><a href=\"#Implementation\" data-toc-modified-id=\"Implementation-4.3.2\"><span class=\"toc-item-num\">4.3.2&nbsp;&nbsp;</span>Implementation</a></span></li></ul></li></ul></li><li><span><a href=\"#Architectures\" data-toc-modified-id=\"Architectures-5\"><span class=\"toc-item-num\">5&nbsp;&nbsp;</span>Architectures</a></span><ul class=\"toc-item\"><li><span><a href=\"#Activity-5-:-Finite-State-Machines\" data-toc-modified-id=\"Activity-5-:-Finite-State-Machines-5.1\"><span class=\"toc-item-num\">5.1&nbsp;&nbsp;</span>Activity 5 : Finite State Machines</a></span></li></ul></li></ul></div>"
   ]
  },
  {
   "cell_type": "markdown",
   "metadata": {},
   "source": [
    "---\n",
    "\n",
    "# Learning Goals\n",
    "\n",
    "\n",
    "- Use of artificial neural networks (ANN) for reactive control, based on fixed and learned connections.\n",
    "\n",
    "\n",
    "- Getting a better intuitive idea of what a neuron is able to do.\n",
    "\n",
    "\n",
    "- Applying a neural network and a learning rule to control a robot.\n",
    "\n",
    "\n",
    "\n",
    "Note that the ANN related coding exercises will be conducted with ***Python code transpiled in Aseba or ASEBA studio directly***, to make use of the events on the Thymio, notably those in relation to the button presses. Generally speaking, coding on the Thymio directly leads to more efficient programs than those using classic Python on the Jupyter notebook which rely heavily on the communication and tends to involve delays.\n",
    "\n",
    "Additionally : \n",
    "\n",
    "* Implement a simple reactive architecture and understand their potentials and limitations. \n",
    "\n",
    "\n",
    "# Requirements\n",
    "\n",
    "- Thymio\n",
    "- The G printed in A3 format (path-transitions.pdf)\n",
    "\n",
    "<img src=\"images/path-transitions.png\" alt=\"path-transitions\" width=\"300\"/>\n",
    "\n",
    "<br/>\n"
   ]
  },
  {
   "cell_type": "code",
   "execution_count": 7,
   "metadata": {},
   "outputs": [
    {
     "name": "stdout",
     "output_type": "stream",
     "text": [
      "Requirement already satisfied: tdmclient in /home/seby/miniconda3/envs/mondada/lib/python3.12/site-packages (0.1.21)\n",
      "Requirement already satisfied: websockets in /home/seby/miniconda3/envs/mondada/lib/python3.12/site-packages (from tdmclient) (15.0.1)\n",
      "Requirement already satisfied: zeroconf in /home/seby/miniconda3/envs/mondada/lib/python3.12/site-packages (from tdmclient) (0.148.0)\n",
      "Requirement already satisfied: ifaddr>=0.1.7 in /home/seby/miniconda3/envs/mondada/lib/python3.12/site-packages (from zeroconf->tdmclient) (0.2.0)\n"
     ]
    }
   ],
   "source": [
    "!pip install --upgrade tdmclient"
   ]
  },
  {
   "cell_type": "markdown",
   "metadata": {},
   "source": [
    "---\n",
    "---\n",
    "## Reminder 1: Control your Thymio in Python with tdmclient.notebook"
   ]
  },
  {
   "cell_type": "markdown",
   "metadata": {},
   "source": [
    "In order to realize the next activities, you will probably need to use Python and tdmclient. This is a quick reminder, but you can find more in tutorials like \"Introduction to Python and Jupyter Notebooks\" and \"Control your Thymio in Python\".\n",
    "Don't forget to open **Thymio suite** (The application) and **connect your Thymio** (RF dongle/USB cable)"
   ]
  },
  {
   "cell_type": "code",
   "execution_count": 9,
   "metadata": {
    "ExecuteTime": {
     "end_time": "2021-10-03T14:49:51.944325Z",
     "start_time": "2021-10-03T14:49:46.352795Z"
    },
    "execution": {
     "iopub.execute_input": "2024-09-22T18:07:17.180688Z",
     "iopub.status.busy": "2024-09-22T18:07:17.180307Z",
     "iopub.status.idle": "2024-09-22T18:07:17.691669Z",
     "shell.execute_reply": "2024-09-22T18:07:17.690390Z",
     "shell.execute_reply.started": "2024-09-22T18:07:17.180641Z"
    },
    "tags": []
   },
   "outputs": [],
   "source": [
    "# If you did not install tdmclient, try \"!pip install tdmclient\", \n",
    "# or have a look at the tutorial \"Control your Thymio in Python\"\n",
    "import tdmclient.notebook\n",
    "await tdmclient.notebook.start()"
   ]
  },
  {
   "cell_type": "code",
   "execution_count": 2,
   "metadata": {
    "ExecuteTime": {
     "end_time": "2021-10-03T14:49:52.570966Z",
     "start_time": "2021-10-03T14:49:52.550490Z"
    },
    "execution": {
     "iopub.execute_input": "2024-09-22T18:07:17.694377Z",
     "iopub.status.busy": "2024-09-22T18:07:17.693921Z",
     "iopub.status.idle": "2024-09-22T18:07:17.701909Z",
     "shell.execute_reply": "2024-09-22T18:07:17.700849Z",
     "shell.execute_reply.started": "2024-09-22T18:07:17.694337Z"
    },
    "tags": []
   },
   "outputs": [],
   "source": [
    "# To change the speed of the left motor:\n",
    "motor_left_target = 50"
   ]
  },
  {
   "cell_type": "code",
   "execution_count": 3,
   "metadata": {
    "ExecuteTime": {
     "end_time": "2021-10-03T14:49:53.241083Z",
     "start_time": "2021-10-03T14:49:53.227120Z"
    },
    "execution": {
     "iopub.execute_input": "2024-09-22T18:07:18.521728Z",
     "iopub.status.busy": "2024-09-22T18:07:18.520800Z",
     "iopub.status.idle": "2024-09-22T18:07:18.540743Z",
     "shell.execute_reply": "2024-09-22T18:07:18.540035Z",
     "shell.execute_reply.started": "2024-09-22T18:07:18.521673Z"
    },
    "tags": []
   },
   "outputs": [],
   "source": [
    "motor_left_target = 0"
   ]
  },
  {
   "cell_type": "code",
   "execution_count": 9,
   "metadata": {
    "ExecuteTime": {
     "end_time": "2021-10-03T14:49:54.016209Z",
     "start_time": "2021-10-03T14:49:53.984294Z"
    },
    "execution": {
     "iopub.execute_input": "2024-09-22T18:07:18.928487Z",
     "iopub.status.busy": "2024-09-22T18:07:18.927431Z",
     "iopub.status.idle": "2024-09-22T18:07:18.947837Z",
     "shell.execute_reply": "2024-09-22T18:07:18.947108Z",
     "shell.execute_reply.started": "2024-09-22T18:07:18.928419Z"
    },
    "tags": []
   },
   "outputs": [
    {
     "data": {
      "text/plain": [
       "[2835, 3585, 4138, 4576, 2410, 0, 0]"
      ]
     },
     "execution_count": 9,
     "metadata": {},
     "output_type": "execute_result"
    }
   ],
   "source": [
    "# To get the prox_horizontal values of the Thymio:\n",
    "prox_horizontal"
   ]
  },
  {
   "cell_type": "markdown",
   "metadata": {},
   "source": [
    "**Note:** Values accessed or modified in the notebook are synchronized with the robot **only when the statements are executed directly within notebook cells**. This synchronization does not happen automatically inside functions or loops. To ensure immediate synchronization of variables, use the **`get_var`** and **`set_var`** functions as demonstrated below.\n",
    "\n",
    "- The function `get_var(\"var1\", \"var2\", ...)` retrieves the values of variables `var1`, `var2`, etc., and returns them as a tuple in the same order.\n",
    "\n",
    "    ```python\n",
    "    var1, var2, var3 = get_var(\"var1\", \"var2\", \"var3\")\n",
    "    ```\n",
    "    \n",
    "- The function `set_var(var1=value1, var2=value2, ...)` sends the new values (e.g., `value1` and `value2`) to the robot."
   ]
  },
  {
   "cell_type": "code",
   "execution_count": 24,
   "metadata": {
    "execution": {
     "iopub.execute_input": "2024-09-22T18:07:19.280879Z",
     "iopub.status.busy": "2024-09-22T18:07:19.279951Z",
     "iopub.status.idle": "2024-09-22T18:07:19.296930Z",
     "shell.execute_reply": "2024-09-22T18:07:19.295895Z",
     "shell.execute_reply.started": "2024-09-22T18:07:19.280818Z"
    },
    "tags": []
   },
   "outputs": [],
   "source": [
    "#Example here: Updates the robot's top LEDs based if forward button is pressed.\n",
    "def f(press_threshold=0): #The threshold number of button presses to trigger the LED color change.\n",
    "    button_forward, = get_var(\"button.forward\") # Retrieve the current state of the forward button\n",
    "    if button_forward > press_threshold:\n",
    "        set_var(leds_top=[32, 0, 0]) \n",
    "    else:\n",
    "        set_var(leds_top=[0, 10, 32])  # Set blue when the forward button are pressed \n",
    "\n",
    "f(press_threshold=0)"
   ]
  },
  {
   "cell_type": "markdown",
   "metadata": {},
   "source": [
    "The difference between *set_var / get_var* and the decorator *@tdmclient.notebook.sync_var* is that the decorator only synchronises the variables at the start and end of the function."
   ]
  },
  {
   "cell_type": "code",
   "execution_count": 12,
   "metadata": {
    "execution": {
     "iopub.execute_input": "2024-09-22T18:07:19.607810Z",
     "iopub.status.busy": "2024-09-22T18:07:19.606907Z",
     "iopub.status.idle": "2024-09-22T18:07:19.624004Z",
     "shell.execute_reply": "2024-09-22T18:07:19.623083Z",
     "shell.execute_reply.started": "2024-09-22T18:07:19.607755Z"
    },
    "tags": []
   },
   "outputs": [],
   "source": [
    "#Example here: Updates the robot's top LEDs based if forward button is pressed.\n",
    "@tdmclient.notebook.sync_var\n",
    "def f(press_threshold=0):\n",
    "    global button_forward, leds_top\n",
    "    if button_forward > press_threshold:\n",
    "        leds_top = [32, 0, 0]\n",
    "    else:\n",
    "        leds_top = [0, 10, 32]\n",
    "f(press_threshold=0)"
   ]
  },
  {
   "cell_type": "markdown",
   "metadata": {},
   "source": [
    "<span class=\"burk\">Note:</span> If you have any questions about the TDM Thymio client, we remind you that there is a forum on moodle:  ***Thymio / tdm client forum***"
   ]
  },
  {
   "cell_type": "markdown",
   "metadata": {},
   "source": [
    "Events are quite important in Aseba language. The event **prox** will be very helpful in the next parts. Every time the Thymio update the proximity values (frequency of 10Hz), the **prox** event is generated. You can define a piece of code that will be executed every time the **prox** event is triggered. Here is an exemple:"
   ]
  },
  {
   "cell_type": "code",
   "execution_count": 13,
   "metadata": {
    "ExecuteTime": {
     "end_time": "2021-10-03T14:49:57.462227Z",
     "start_time": "2021-10-03T14:49:57.096209Z"
    },
    "execution": {
     "iopub.execute_input": "2024-09-22T18:07:20.370715Z",
     "iopub.status.busy": "2024-09-22T18:07:20.369823Z",
     "iopub.status.idle": "2024-09-22T18:07:20.621458Z",
     "shell.execute_reply": "2024-09-22T18:07:20.619465Z",
     "shell.execute_reply.started": "2024-09-22T18:07:20.370661Z"
    },
    "tags": []
   },
   "outputs": [],
   "source": [
    "%%run_python\n",
    "\n",
    "# Every time the prox event is generated, the robot go back accordingly \n",
    "# of what is sensed on the middle front proximity sensor\n",
    "\n",
    "@onevent\n",
    "def prox():\n",
    "    global prox_horizontal, motor_left_target, motor_right_target\n",
    "    prox_front = prox_horizontal[2]\n",
    "    # Use // for integer division instead of / (not supported yet): \n",
    "    speed = -prox_front // 10\n",
    "    motor_left_target = speed\n",
    "    motor_right_target = speed"
   ]
  },
  {
   "cell_type": "markdown",
   "metadata": {},
   "source": [
    "Note that `run_python` allows the code to be transpiled in Aseba and loaded on the Thymio.\n",
    "The decorator `@onevent` allow the whole function to be executed every time the corresponding event is generated. Here the event used is `prox`, but by naming the function `def button_left():`, the code would be executed when pressing the left button.\n",
    "Finally, don't forget to declare variables as `global`, otherwise you will probably change variables in the function and for example don't modify the speed of the robot."
   ]
  },
  {
   "cell_type": "markdown",
   "metadata": {},
   "source": [
    "## Reminder 2: Control your Thymio in Python with tdm.clientAsync()"
   ]
  },
  {
   "cell_type": "markdown",
   "metadata": {},
   "source": [
    "The idea behind *Reminder 2*, is to remind you how to use Python and the tdmclient on your own computer, to send and ask information from the Thymio."
   ]
  },
  {
   "cell_type": "markdown",
   "metadata": {},
   "source": [
    "To continue, we first want to remove the last code loaded on the Thymio, in order to execute the upcoming tasks.\n",
    "To do so, one solution would be to turn the robot off and back on. An easier alternative is to replace the previous code with a simple one, e.g. this one that will turn on a few LEDs:"
   ]
  },
  {
   "cell_type": "code",
   "execution_count": 14,
   "metadata": {
    "ExecuteTime": {
     "end_time": "2021-10-03T14:50:03.802255Z",
     "start_time": "2021-10-03T14:50:03.514505Z"
    },
    "execution": {
     "iopub.execute_input": "2024-09-22T18:07:21.525081Z",
     "iopub.status.busy": "2024-09-22T18:07:21.523967Z",
     "iopub.status.idle": "2024-09-22T18:07:21.764589Z",
     "shell.execute_reply": "2024-09-22T18:07:21.762898Z",
     "shell.execute_reply.started": "2024-09-22T18:07:21.525012Z"
    },
    "tags": []
   },
   "outputs": [],
   "source": [
    "%%run_python\n",
    "v = [32, 0, 32, 0, 32, 0, 32, 0]\n",
    "leds_circle = v"
   ]
  },
  {
   "cell_type": "markdown",
   "metadata": {},
   "source": [
    "And then quit the tdmclient notebook method to avoid **\"Node lock error\"**. The following line will unlock the robot, allowing to use a different approach here (ClientAsync)."
   ]
  },
  {
   "cell_type": "code",
   "execution_count": 12,
   "metadata": {
    "execution": {
     "iopub.execute_input": "2024-09-22T18:07:21.900454Z",
     "iopub.status.busy": "2024-09-22T18:07:21.899393Z",
     "iopub.status.idle": "2024-09-22T18:07:22.020581Z",
     "shell.execute_reply": "2024-09-22T18:07:22.018698Z",
     "shell.execute_reply.started": "2024-09-22T18:07:21.900223Z"
    },
    "tags": []
   },
   "outputs": [],
   "source": [
    "await tdmclient.notebook.stop()"
   ]
  },
  {
   "cell_type": "code",
   "execution_count": 16,
   "metadata": {
    "execution": {
     "iopub.execute_input": "2024-09-22T18:07:22.069053Z",
     "iopub.status.busy": "2024-09-22T18:07:22.068125Z",
     "iopub.status.idle": "2024-09-22T18:07:22.305652Z",
     "shell.execute_reply": "2024-09-22T18:07:22.304421Z",
     "shell.execute_reply.started": "2024-09-22T18:07:22.068986Z"
    },
    "tags": []
   },
   "outputs": [
    {
     "data": {
      "text/plain": [
       "Node ee38ffef-3c84-4f82-84cf-a9cb52844d18"
      ]
     },
     "execution_count": 16,
     "metadata": {},
     "output_type": "execute_result"
    }
   ],
   "source": [
    "from tdmclient import ClientAsync, aw\n",
    "client = ClientAsync()\n",
    "node = await client.wait_for_node()\n",
    "aw(node.lock())"
   ]
  },
  {
   "cell_type": "code",
   "execution_count": null,
   "metadata": {
    "tags": []
   },
   "outputs": [],
   "source": []
  },
  {
   "cell_type": "markdown",
   "metadata": {},
   "source": [
    "Just a quick reminder of the different variables that can be accessed through the node object:"
   ]
  },
  {
   "cell_type": "code",
   "execution_count": 17,
   "metadata": {
    "ExecuteTime": {
     "end_time": "2021-09-29T14:59:26.842335Z",
     "start_time": "2021-09-29T14:59:26.578043Z"
    },
    "execution": {
     "iopub.execute_input": "2024-09-22T18:07:22.799146Z",
     "iopub.status.busy": "2024-09-22T18:07:22.798206Z",
     "iopub.status.idle": "2024-09-22T18:07:23.043874Z",
     "shell.execute_reply": "2024-09-22T18:07:23.042906Z",
     "shell.execute_reply.started": "2024-09-22T18:07:22.799091Z"
    },
    "scrolled": true,
    "tags": []
   },
   "outputs": [
    {
     "data": {
      "text/plain": [
       "{'_fwversion': [14, 0],\n",
       " '_id': [1],\n",
       " '_imot': [0, 0],\n",
       " '_integrator': [0, 0],\n",
       " '_productId': [8],\n",
       " '_vbat': [982, 982],\n",
       " 'acc': [3, 1, 21],\n",
       " 'acc._tap': [0],\n",
       " 'button.backward': [0],\n",
       " 'button.center': [0],\n",
       " 'button.forward': [0],\n",
       " 'button.left': [0],\n",
       " 'button.right': [0],\n",
       " 'buttons._mean': [10914, 9424, 14227, 14151, 15348],\n",
       " 'buttons._noise': [32, 27, 38, 34, 39],\n",
       " 'buttons._raw': [10912, 9427, 14240, 14155, 15353],\n",
       " 'event.args': [0,\n",
       "  0,\n",
       "  0,\n",
       "  0,\n",
       "  0,\n",
       "  0,\n",
       "  0,\n",
       "  0,\n",
       "  0,\n",
       "  0,\n",
       "  0,\n",
       "  0,\n",
       "  0,\n",
       "  0,\n",
       "  0,\n",
       "  0,\n",
       "  0,\n",
       "  0,\n",
       "  0,\n",
       "  0,\n",
       "  0,\n",
       "  0,\n",
       "  0,\n",
       "  0,\n",
       "  0,\n",
       "  0,\n",
       "  0,\n",
       "  0,\n",
       "  0,\n",
       "  0,\n",
       "  0,\n",
       "  0],\n",
       " 'event.source': [1],\n",
       " 'leds.bottom.left': [0, 0, 0],\n",
       " 'leds.bottom.right': [0, 0, 0],\n",
       " 'leds.circle': [32, 0, 32, 0, 32, 0, 32, 0],\n",
       " 'leds.top': [0, 0, 0],\n",
       " 'mic._mean': [255],\n",
       " 'mic.intensity': [5],\n",
       " 'mic.threshold': [0],\n",
       " 'motor.left.pwm': [0],\n",
       " 'motor.left.speed': [0],\n",
       " 'motor.left.target': [0],\n",
       " 'motor.right.pwm': [0],\n",
       " 'motor.right.speed': [0],\n",
       " 'motor.right.target': [0],\n",
       " 'prox.comm.rx': [0],\n",
       " 'prox.comm.rx._intensities': [0, 0, 0, 0, 0, 0, 0],\n",
       " 'prox.comm.rx._payloads': [0, 0, 0, 0, 0, 0, 0],\n",
       " 'prox.comm.tx': [0],\n",
       " 'prox.ground.ambiant': [0, 0],\n",
       " 'prox.ground.delta': [785, 906],\n",
       " 'prox.ground.reflected': [551, 549],\n",
       " 'prox.horizontal': [0, 0, 0, 0, 0, 0, 0],\n",
       " 'rc5.address': [0],\n",
       " 'rc5.command': [0],\n",
       " 'sd.present': [0],\n",
       " 'temperature': [274],\n",
       " 'timer.period': [0, 0],\n",
       " 'v': [32, 0, 32, 0, 32, 0, 32, 0]}"
      ]
     },
     "execution_count": 17,
     "metadata": {},
     "output_type": "execute_result"
    }
   ],
   "source": [
    "await node.wait_for_variables()\n",
    "node.var"
   ]
  },
  {
   "cell_type": "markdown",
   "metadata": {},
   "source": [
    "Quick code to get the values of the any proximity sensors:"
   ]
  },
  {
   "cell_type": "code",
   "execution_count": 18,
   "metadata": {
    "ExecuteTime": {
     "end_time": "2021-09-29T14:59:34.090360Z",
     "start_time": "2021-09-29T14:59:31.947096Z"
    },
    "execution": {
     "iopub.execute_input": "2024-09-22T18:07:24.485702Z",
     "iopub.status.busy": "2024-09-22T18:07:24.484715Z",
     "iopub.status.idle": "2024-09-22T18:07:26.543982Z",
     "shell.execute_reply": "2024-09-22T18:07:26.542582Z",
     "shell.execute_reply.started": "2024-09-22T18:07:24.485643Z"
    },
    "tags": []
   },
   "outputs": [
    {
     "name": "stdout",
     "output_type": "stream",
     "text": [
      "[0, 0, 0, 0, 0, 0, 0]\n",
      "[0, 0, 0, 0, 0, 0, 0]\n",
      "[0, 0, 0, 0, 0, 0, 0]\n",
      "[0, 0, 0, 0, 0, 0, 0]\n",
      "[0, 0, 0, 0, 0, 0, 0]\n",
      "[0, 0, 0, 0, 0, 0, 0]\n",
      "[0, 0, 0, 0, 0, 0, 0]\n",
      "[0, 0, 0, 0, 0, 0, 0]\n",
      "[0, 0, 0, 0, 0, 0, 0]\n",
      "[0, 0, 0, 0, 0, 0, 0]\n"
     ]
    }
   ],
   "source": [
    "await node.wait_for_variables()\n",
    "for i in range(10):\n",
    "    # You can also replace \"prox.horizontal\" by an other prox sensor:\n",
    "    print(list(node[\"prox.horizontal\"]))\n",
    "    await client.sleep(0.2)"
   ]
  },
  {
   "cell_type": "markdown",
   "metadata": {},
   "source": [
    "And how to pass values to the Thymio, here for example how to change the speed:"
   ]
  },
  {
   "cell_type": "code",
   "execution_count": 19,
   "metadata": {
    "ExecuteTime": {
     "end_time": "2021-09-29T14:59:35.928440Z",
     "start_time": "2021-09-29T14:59:35.783828Z"
    },
    "execution": {
     "iopub.execute_input": "2024-09-22T18:07:27.666827Z",
     "iopub.status.busy": "2024-09-22T18:07:27.665918Z",
     "iopub.status.idle": "2024-09-22T18:07:27.802375Z",
     "shell.execute_reply": "2024-09-22T18:07:27.801106Z",
     "shell.execute_reply.started": "2024-09-22T18:07:27.666774Z"
    },
    "tags": []
   },
   "outputs": [],
   "source": [
    "v = {\n",
    "    \"motor.left.target\": [50],\n",
    "    \"motor.right.target\": [50],\n",
    "}\n",
    "await node.set_variables(v)"
   ]
  },
  {
   "cell_type": "code",
   "execution_count": 20,
   "metadata": {
    "ExecuteTime": {
     "end_time": "2021-09-29T14:59:40.387508Z",
     "start_time": "2021-09-29T14:59:40.231924Z"
    },
    "execution": {
     "iopub.execute_input": "2024-09-22T18:07:28.219458Z",
     "iopub.status.busy": "2024-09-22T18:07:28.218554Z",
     "iopub.status.idle": "2024-09-22T18:07:28.347073Z",
     "shell.execute_reply": "2024-09-22T18:07:28.345602Z",
     "shell.execute_reply.started": "2024-09-22T18:07:28.219405Z"
    },
    "tags": []
   },
   "outputs": [],
   "source": [
    "v = {\n",
    "    \"motor.left.target\": [0],\n",
    "    \"motor.right.target\": [0],\n",
    "}\n",
    "await node.set_variables(v)"
   ]
  },
  {
   "cell_type": "code",
   "execution_count": 21,
   "metadata": {
    "execution": {
     "iopub.execute_input": "2024-09-22T18:07:28.860026Z",
     "iopub.status.busy": "2024-09-22T18:07:28.859069Z",
     "iopub.status.idle": "2024-09-22T18:07:29.193837Z",
     "shell.execute_reply": "2024-09-22T18:07:29.191330Z",
     "shell.execute_reply.started": "2024-09-22T18:07:28.859968Z"
    },
    "tags": []
   },
   "outputs": [],
   "source": [
    "# Stop the program\n",
    "aw(node.stop())\n",
    "aw(node.unlock())"
   ]
  },
  {
   "cell_type": "code",
   "execution_count": null,
   "metadata": {
    "tags": []
   },
   "outputs": [],
   "source": []
  },
  {
   "cell_type": "markdown",
   "metadata": {},
   "source": [
    "<span class=\"burk\">Note:</span> :If you have any questions about the TDM Thymio client, we remind you that there is a forum on moodle:  ***Thymio / tdm client forum***\n",
    "\n",
    "---\n",
    "---"
   ]
  },
  {
   "cell_type": "markdown",
   "metadata": {},
   "source": [
    "# Activity 1 - Artificial Neural Networks\n",
    "\n",
    "It is important to understand what type of function a single neuron can generate, and when we\n",
    "need several layers.\n",
    "This first exercice can be done on paper. Consider the neuron illustrated in the Figure below. The figure shows an artificial neuron with three inputs, x1, x2, and 1, and one output y. The\n",
    "purpose of the input 1 is not to be connected to an external input, but instead to introduce\n",
    "a constant value of 1. The input values of x1 and x2 are assumed to be 0 or 1. As output\n",
    "function f we consider the step function:\n",
    "\n",
    "\n",
    "\\begin{array}{ll}\n",
    "f(x) = 0 & \\;\\;\\;\\textrm{if} \\;\\; x < 0\\\\\n",
    "f(x) = 1 & \\;\\;\\;\\textrm{if} \\;\\; x \\geq 0\\,.\n",
    "\\end{array}\n",
    "\n",
    "\n",
    "\n",
    "<br/>\n",
    "\n",
    "<img src=\"images/single_neuron.png\" alt=\"single_neuron\" width=\"350\"/>\n",
    "\n",
    "<br/>\n",
    "\n",
    "**1. Assign weights w0, w1, w2 so that y is greater than 0 if and only if the values of x1 or x2 or both are 1. This implements the logic gate for or.**\n",
    "\n"
   ]
  },
  {
   "cell_type": "raw",
   "metadata": {
    "vscode": {
     "languageId": "raw"
    }
   },
   "source": [
    "cas limite : \n",
    "W0 = -1\n",
    "W1 = 1\n",
    "W2 = 1"
   ]
  },
  {
   "cell_type": "markdown",
   "metadata": {},
   "source": [
    "\n",
    "\n",
    "\n",
    "**2. Assign weights w0, w1, w2 so that y is greater than zero if and only if the values of both x1 and x2 are 1. This implements the logic gate for and.**\n"
   ]
  },
  {
   "cell_type": "raw",
   "metadata": {
    "vscode": {
     "languageId": "raw"
    }
   },
   "source": [
    "cas limite : \n",
    "W0 = -2\n",
    "W1 = 1\n",
    "W2 = 1"
   ]
  },
  {
   "cell_type": "markdown",
   "metadata": {},
   "source": [
    "**3. Can you assign weights w0, w1, w2 so that you implement the logic gate for xor? Why?**\n"
   ]
  },
  {
   "cell_type": "raw",
   "metadata": {
    "vscode": {
     "languageId": "raw"
    }
   },
   "source": [
    "no solution "
   ]
  },
  {
   "cell_type": "markdown",
   "metadata": {},
   "source": [
    "\n",
    "\n",
    "------\n",
    "\n",
    "Consider the two-layer ANN shown in the Figure below. For this exercise, assume that the weights wi are in\n",
    "the range −1.0 to 1.0 ; and the function f is defined as f(x) = x for −1 ≤ x ≤ 1, and saturates the\n",
    "input to −1 or 1 outside this range. We fix the following weights:\n",
    "\n",
    "\n",
    "<br/>\n",
    "\n",
    "![Pentagon](images/double_layer_neuron.png)\n",
    "\n",
    "<br/>\n",
    "\n",
    "\n",
    "\n",
    "\\begin{array}{c}\n",
    " w_{11}=1,\\, w_{12}=0.5,\\, w_{21}=1,\\, w_{22}=-1\\,. \n",
    "\\end{array}\n",
    "\n",
    "\n",
    "**Compute the values and draw graphs of the outputs of the neurons of the hidden layer (the two\n",
    "left neurons) and the output layer (the right neuron) as function of an input x in the range −2.0\n",
    "to 2.0. Can you obtain the same output from an ANN with only one layer?**\n"
   ]
  },
  {
   "cell_type": "raw",
   "metadata": {
    "vscode": {
     "languageId": "raw"
    }
   },
   "source": [
    "so with we have the next formula : \n",
    "w11 * w21 * x + w12 * w22 * x = y =>\n",
    "x(w11 * w21 + w12 * w22) = y and then : \n",
    "(w11 * w21 + w12 * w22) = 0.5\n",
    "\n",
    "so y = 0.5 * x general output\n",
    "\n",
    "so y = [ -1 ; 1 ]"
   ]
  },
  {
   "cell_type": "markdown",
   "metadata": {},
   "source": [
    "# ANN for Robot Control\n",
    "\n",
    "Consider an ANN making a full connection between sensors and motors with a single layer of two\n",
    "neurons, as illustrated in the Figure below. The figure illutrates the ANN for the control of the obstacle avoidance of a robot. Implement the neural network in code so that the robot can avoid obstacles. Note that you will need to calculate appropriate weights $w_{il}$ and $w_{ir}$ for $i \\in [1, 7]$ which correspond to the number of available proximity sensors. To set the initial weights you can use your intuition (later in this jupyter notebook you will have the chance to correct the weights by reinforcing the correct decisions of the robot).\n",
    "\n",
    "\n",
    "<br/>\n",
    "\n",
    "![Pentagon](images/ANN_robot_control.png)\n",
    "\n",
    "<br/>\n",
    "\n",
    "\n",
    "\n",
    "## Reactive Control\n",
    "\n",
    "Implement on Thymio, using directly the Aseba language or Python transpiled in Aseba, an ANN with the structure presented above and taking as input all seven proximity sensors, as given in algorithm 2.1 \n",
    "\n",
    "<br/>\n",
    "\n",
    "![Pentagon](images/ANN_algorithm.png)\n",
    "\n",
    "<br/>"
   ]
  },
  {
   "cell_type": "markdown",
   "metadata": {},
   "source": [
    "You can either use the **ASEBA implementation directly** or the **Python-based implementation shown below**, but your code will be *transpiled* into ASEBA. In the end, the result will be equivalent!\n"
   ]
  },
  {
   "cell_type": "markdown",
   "metadata": {},
   "source": [
    "Python-based implementation:"
   ]
  },
  {
   "cell_type": "code",
   "execution_count": 22,
   "metadata": {
    "execution": {
     "iopub.execute_input": "2024-09-22T18:07:47.524305Z",
     "iopub.status.busy": "2024-09-22T18:07:47.523491Z",
     "iopub.status.idle": "2024-09-22T18:07:47.973319Z",
     "shell.execute_reply": "2024-09-22T18:07:47.971988Z",
     "shell.execute_reply.started": "2024-09-22T18:07:47.524254Z"
    },
    "tags": []
   },
   "outputs": [],
   "source": [
    "# If you did not install tdmclient, try \"!pip install tdmclient\", \n",
    "# or have a look at the tutorial \"Control your Thymio in Python\"\n",
    "import tdmclient.notebook\n",
    "await tdmclient.notebook.start()"
   ]
  },
  {
   "cell_type": "code",
   "execution_count": 24,
   "metadata": {
    "execution": {
     "iopub.execute_input": "2024-09-22T18:07:55.045406Z",
     "iopub.status.busy": "2024-09-22T18:07:55.044568Z",
     "iopub.status.idle": "2024-09-22T18:07:55.333600Z",
     "shell.execute_reply": "2024-09-22T18:07:55.332250Z",
     "shell.execute_reply.started": "2024-09-22T18:07:55.045350Z"
    },
    "tags": []
   },
   "outputs": [
    {
     "name": "stdout",
     "output_type": "stream",
     "text": [
      "0\n",
      "0\n",
      "0\n",
      "0\n",
      "0\n",
      "0\n",
      "0\n",
      "0\n",
      "0\n",
      "0\n",
      "-90\n",
      "-160\n",
      "-150\n",
      "-140\n",
      "-130\n",
      "-120\n",
      "-130\n",
      "-130\n",
      "-90\n",
      "0\n",
      "0\n",
      "0\n",
      "0\n",
      "-150\n",
      "-460\n",
      "-720\n",
      "-790\n",
      "-800\n",
      "-640\n",
      "0\n",
      "0\n",
      "0\n",
      "0\n",
      "0\n",
      "0\n",
      "0\n",
      "0\n",
      "0\n",
      "0\n",
      "0\n",
      "0\n",
      "0\n",
      "0\n",
      "0\n",
      "0\n",
      "0\n",
      "0\n",
      "0\n",
      "-70\n",
      "-140\n",
      "-210\n",
      "-210\n",
      "-210\n",
      "-210\n",
      "-200\n",
      "-200\n",
      "-180\n",
      "-140\n",
      "-80\n",
      "0\n",
      "0\n",
      "0\n",
      "0\n",
      "0\n",
      "0\n",
      "0\n",
      "-90\n",
      "-160\n",
      "-170\n",
      "-180\n",
      "-150\n",
      "-110\n",
      "-100\n",
      "-130\n",
      "-160\n",
      "0\n",
      "0\n",
      "0\n",
      "-510\n",
      "-510\n",
      "-390\n",
      "-360\n"
     ]
    },
    {
     "ename": "Exception",
     "evalue": "Error 2",
     "output_type": "error",
     "traceback": [
      "\u001b[31m---------------------------------------------------------------------------\u001b[39m",
      "\u001b[31mKeyboardInterrupt\u001b[39m                         Traceback (most recent call last)",
      "\u001b[36mFile \u001b[39m\u001b[32m~/miniconda3/envs/mondada/lib/python3.12/site-packages/tdmclient/repl.py:570\u001b[39m, in \u001b[36mTDMConsole.run_program\u001b[39m\u001b[34m(self, src, nodes, language, warning_missing_global, wait, import_thymio)\u001b[39m\n\u001b[32m    569\u001b[39m         \u001b[38;5;28;01mreturn\u001b[39;00m \u001b[38;5;28mlen\u001b[39m(exit_received) >= \u001b[38;5;28mlen\u001b[39m(nodes)\n\u001b[32m--> \u001b[39m\u001b[32m570\u001b[39m     \u001b[43mClientAsync\u001b[49m\u001b[43m.\u001b[49m\u001b[43maw\u001b[49m\u001b[43m(\u001b[49m\u001b[38;5;28;43mself\u001b[39;49m\u001b[43m.\u001b[49m\u001b[43mclient\u001b[49m\u001b[43m.\u001b[49m\u001b[43msleep\u001b[49m\u001b[43m(\u001b[49m\u001b[43mwake\u001b[49m\u001b[43m=\u001b[49m\u001b[43mwake\u001b[49m\u001b[43m)\u001b[49m\u001b[43m)\u001b[49m\n\u001b[32m    571\u001b[39m \u001b[38;5;28;01mfinally\u001b[39;00m:\n\u001b[32m    572\u001b[39m     \u001b[38;5;66;03m# stop nodes still running\u001b[39;00m\n",
      "\u001b[36mFile \u001b[39m\u001b[32m~/miniconda3/envs/mondada/lib/python3.12/site-packages/tdmclient/clientasync.py:214\u001b[39m, in \u001b[36mClientAsync.aw\u001b[39m\u001b[34m(co)\u001b[39m\n\u001b[32m    212\u001b[39m     r = \u001b[38;5;28;01mawait\u001b[39;00m co\n\u001b[32m--> \u001b[39m\u001b[32m214\u001b[39m \u001b[43mClientAsync\u001b[49m\u001b[43m.\u001b[49m\u001b[43mrun_async_program\u001b[49m\u001b[43m(\u001b[49m\u001b[43mprog\u001b[49m\u001b[43m)\u001b[49m\n\u001b[32m    215\u001b[39m \u001b[38;5;28;01mreturn\u001b[39;00m r\n",
      "\u001b[36mFile \u001b[39m\u001b[32m~/miniconda3/envs/mondada/lib/python3.12/site-packages/tdmclient/clientasync.py:199\u001b[39m, in \u001b[36mClientAsync.run_async_program\u001b[39m\u001b[34m(prog)\u001b[39m\n\u001b[32m    198\u001b[39m     \u001b[38;5;28;01mwhile\u001b[39;00m \u001b[38;5;28;01mTrue\u001b[39;00m:\n\u001b[32m--> \u001b[39m\u001b[32m199\u001b[39m         \u001b[43mco\u001b[49m\u001b[43m.\u001b[49m\u001b[43msend\u001b[49m\u001b[43m(\u001b[49m\u001b[38;5;28;43;01mNone\u001b[39;49;00m\u001b[43m)\u001b[49m\n\u001b[32m    200\u001b[39m \u001b[38;5;28;01mexcept\u001b[39;00m \u001b[38;5;167;01mStopIteration\u001b[39;00m:\n",
      "\u001b[36mFile \u001b[39m\u001b[32m~/miniconda3/envs/mondada/lib/python3.12/site-packages/tdmclient/clientasync.py:212\u001b[39m, in \u001b[36mClientAsync.aw.<locals>.prog\u001b[39m\u001b[34m()\u001b[39m\n\u001b[32m    211\u001b[39m \u001b[38;5;28;01mnonlocal\u001b[39;00m r\n\u001b[32m--> \u001b[39m\u001b[32m212\u001b[39m r = \u001b[38;5;28;01mawait\u001b[39;00m co\n",
      "\u001b[36mFile \u001b[39m\u001b[32m~/miniconda3/envs/mondada/lib/python3.12/site-packages/tdmclient/clientasync.py:67\u001b[39m, in \u001b[36mClientAsync.sleep\u001b[39m\u001b[34m(self, duration, wake)\u001b[39m\n\u001b[32m     66\u001b[39m \u001b[38;5;28mself\u001b[39m.process_waiting_messages()\n\u001b[32m---> \u001b[39m\u001b[32m67\u001b[39m \u001b[43msleep\u001b[49m\u001b[43m(\u001b[49m\u001b[38;5;28;43mself\u001b[39;49m\u001b[43m.\u001b[49m\u001b[43mDEFAULT_SLEEP\u001b[49m\n\u001b[32m     68\u001b[39m \u001b[43m      \u001b[49m\u001b[38;5;28;43;01mif\u001b[39;49;00m\u001b[43m \u001b[49m\u001b[43mduration\u001b[49m\u001b[43m \u001b[49m\u001b[43m<\u001b[49m\u001b[43m \u001b[49m\u001b[32;43m0\u001b[39;49m\n\u001b[32m     69\u001b[39m \u001b[43m      \u001b[49m\u001b[38;5;28;43;01melse\u001b[39;49;00m\u001b[43m \u001b[49m\u001b[38;5;28;43mmax\u001b[39;49m\u001b[43m(\u001b[49m\u001b[38;5;28;43mmin\u001b[39;49m\u001b[43m(\u001b[49m\u001b[38;5;28;43mself\u001b[39;49m\u001b[43m.\u001b[49m\u001b[43mDEFAULT_SLEEP\u001b[49m\u001b[43m,\u001b[49m\u001b[43m \u001b[49m\u001b[43mt0\u001b[49m\u001b[43m \u001b[49m\u001b[43m+\u001b[49m\u001b[43m \u001b[49m\u001b[43mduration\u001b[49m\u001b[43m \u001b[49m\u001b[43m-\u001b[49m\u001b[43m \u001b[49m\u001b[43mmonotonic\u001b[49m\u001b[43m(\u001b[49m\u001b[43m)\u001b[49m\u001b[43m)\u001b[49m\u001b[43m,\u001b[49m\n\u001b[32m     70\u001b[39m \u001b[43m               \u001b[49m\u001b[38;5;28;43mself\u001b[39;49m\u001b[43m.\u001b[49m\u001b[43mDEFAULT_SLEEP\u001b[49m\u001b[43m \u001b[49m\u001b[43m/\u001b[49m\u001b[43m \u001b[49m\u001b[32;43m1e3\u001b[39;49m\u001b[43m)\u001b[49m\u001b[43m)\u001b[49m\n\u001b[32m     71\u001b[39m \u001b[38;5;28;01mif\u001b[39;00m wake \u001b[38;5;129;01mis\u001b[39;00m \u001b[38;5;129;01mnot\u001b[39;00m \u001b[38;5;28;01mNone\u001b[39;00m \u001b[38;5;129;01mand\u001b[39;00m wake():\n",
      "\u001b[31mKeyboardInterrupt\u001b[39m: ",
      "\nDuring handling of the above exception, another exception occurred:\n",
      "\u001b[31mException\u001b[39m                                 Traceback (most recent call last)",
      "\u001b[36mCell\u001b[39m\u001b[36m \u001b[39m\u001b[32mIn[24]\u001b[39m\u001b[32m, line 1\u001b[39m\n\u001b[32m----> \u001b[39m\u001b[32m1\u001b[39m \u001b[43mget_ipython\u001b[49m\u001b[43m(\u001b[49m\u001b[43m)\u001b[49m\u001b[43m.\u001b[49m\u001b[43mrun_cell_magic\u001b[49m\u001b[43m(\u001b[49m\u001b[33;43m'\u001b[39;49m\u001b[33;43mrun_python\u001b[39;49m\u001b[33;43m'\u001b[39;49m\u001b[43m,\u001b[49m\u001b[43m \u001b[49m\u001b[33;43m'\u001b[39;49m\u001b[33;43m--wait\u001b[39;49m\u001b[33;43m'\u001b[39;49m\u001b[43m,\u001b[49m\u001b[43m \u001b[49m\u001b[33;43m'\u001b[39;49m\u001b[33;43m#\u001b[39;49m\u001b[38;5;132;43;01m%%\u001b[39;49;00m\u001b[33;43mtranspile_to_aseba # Change to see the code generated in Aseba\u001b[39;49m\u001b[38;5;130;43;01m\\n\u001b[39;49;00m\u001b[38;5;130;43;01m\\n\u001b[39;49;00m\u001b[33;43m# This program implements obstacle avoidance using an ANN\u001b[39;49m\u001b[38;5;130;43;01m\\n\u001b[39;49;00m\u001b[33;43m# The inputs x1-7 are taken from the proximity sensors and scaled\u001b[39;49m\u001b[38;5;130;43;01m\\n\u001b[39;49;00m\u001b[33;43m# The inputs are multiplied by the weights \u001b[39;49m\u001b[38;5;130;43;01m\\n\u001b[39;49;00m\u001b[33;43m#   and used to set the motor powers\u001b[39;49m\u001b[38;5;130;43;01m\\n\u001b[39;49;00m\u001b[33;43m# The center button starts and stops the robot\u001b[39;49m\u001b[38;5;130;43;01m\\n\u001b[39;49;00m\u001b[38;5;130;43;01m\\n\u001b[39;49;00m\u001b[33;43m# State for start and stop, why is this instruction here? (hint: look at the aseba transpile code)\u001b[39;49m\u001b[38;5;130;43;01m\\n\u001b[39;49;00m\u001b[33;43mstate = 1\u001b[39;49m\u001b[38;5;130;43;01m\\n\u001b[39;49;00m\u001b[38;5;130;43;01m\\n\u001b[39;49;00m\u001b[33;43m@onevent\u001b[39;49m\u001b[38;5;130;43;01m\\n\u001b[39;49;00m\u001b[33;43mdef button_center():\u001b[39;49m\u001b[38;5;130;43;01m\\n\u001b[39;49;00m\u001b[33;43m    global state\u001b[39;49m\u001b[38;5;130;43;01m\\n\u001b[39;49;00m\u001b[33;43m    if button_center == 1:\u001b[39;49m\u001b[38;5;130;43;01m\\n\u001b[39;49;00m\u001b[33;43m        state = 1 if state==0 else 0\u001b[39;49m\u001b[38;5;130;43;01m\\n\u001b[39;49;00m\u001b[38;5;130;43;01m\\n\u001b[39;49;00m\u001b[33;43m@onevent\u001b[39;49m\u001b[38;5;130;43;01m\\n\u001b[39;49;00m\u001b[33;43mdef prox():\u001b[39;49m\u001b[38;5;130;43;01m\\n\u001b[39;49;00m\u001b[33;43m    global prox_horizontal, motor_left_target, motor_right_target, button_center, state\u001b[39;49m\u001b[38;5;130;43;01m\\n\u001b[39;49;00m\u001b[38;5;130;43;01m\\n\u001b[39;49;00m\u001b[33;43m    w_r = [40,  20, 20, -20, -40,  -30, -10]\u001b[39;49m\u001b[38;5;130;43;01m\\n\u001b[39;49;00m\u001b[33;43m    w_l = [-40, -20, 20,  20,  40, -10,  -30]\u001b[39;49m\u001b[38;5;130;43;01m\\n\u001b[39;49;00m\u001b[38;5;130;43;01m\\n\u001b[39;49;00m\u001b[33;43m    # w_l = [10, 10, 10, 10, 10, 10, 10]\u001b[39;49m\u001b[38;5;130;43;01m\\n\u001b[39;49;00m\u001b[33;43m    # w_r = [10, 10, 10, 10, 10, 10, 10]\u001b[39;49m\u001b[38;5;130;43;01m\\n\u001b[39;49;00m\u001b[38;5;130;43;01m\\n\u001b[39;49;00m\u001b[33;43m    # Scale factors for sensors and constant factor\u001b[39;49m\u001b[38;5;130;43;01m\\n\u001b[39;49;00m\u001b[33;43m    sensor_scale = 200\u001b[39;49m\u001b[38;5;130;43;01m\\n\u001b[39;49;00m\u001b[38;5;130;43;01m\\n\u001b[39;49;00m\u001b[33;43m    y = [0,0]\u001b[39;49m\u001b[38;5;130;43;01m\\n\u001b[39;49;00m\u001b[33;43m    x = [0,0,0,0,0,0,0]\u001b[39;49m\u001b[38;5;130;43;01m\\n\u001b[39;49;00m\u001b[38;5;130;43;01m\\n\u001b[39;49;00m\u001b[33;43m    if state != 0:\u001b[39;49m\u001b[38;5;130;43;01m\\n\u001b[39;49;00m\u001b[38;5;130;43;01m\\n\u001b[39;49;00m\u001b[33;43m        for i in range(len(x)):\u001b[39;49m\u001b[38;5;130;43;01m\\n\u001b[39;49;00m\u001b[33;43m            # Get and scale inputs\u001b[39;49m\u001b[38;5;130;43;01m\\n\u001b[39;49;00m\u001b[33;43m            x[i] = prox_horizontal[i] // sensor_scale\u001b[39;49m\u001b[38;5;130;43;01m\\n\u001b[39;49;00m\u001b[38;5;130;43;01m\\n\u001b[39;49;00m\u001b[33;43m            # Compute outputs of neurons and set motor powers\u001b[39;49m\u001b[38;5;130;43;01m\\n\u001b[39;49;00m\u001b[33;43m            y[0] = y[0] + x[i] * w_l[i]\u001b[39;49m\u001b[38;5;130;43;01m\\n\u001b[39;49;00m\u001b[33;43m            y[1] = y[1] + x[i] * w_r[i]\u001b[39;49m\u001b[38;5;130;43;01m\\n\u001b[39;49;00m\u001b[38;5;130;43;01m\\n\u001b[39;49;00m\u001b[33;43m    # Set motor powers\u001b[39;49m\u001b[38;5;130;43;01m\\n\u001b[39;49;00m\u001b[33;43m    motor_left_target = y[0]\u001b[39;49m\u001b[38;5;130;43;01m\\n\u001b[39;49;00m\u001b[33;43m    print(motor_left_target)\u001b[39;49m\u001b[38;5;130;43;01m\\n\u001b[39;49;00m\u001b[33;43m    motor_right_target = y[1]\u001b[39;49m\u001b[38;5;130;43;01m\\n\u001b[39;49;00m\u001b[33;43m'\u001b[39;49m\u001b[43m)\u001b[49m\n",
      "\u001b[36mFile \u001b[39m\u001b[32m~/miniconda3/envs/mondada/lib/python3.12/site-packages/IPython/core/interactiveshell.py:2565\u001b[39m, in \u001b[36mInteractiveShell.run_cell_magic\u001b[39m\u001b[34m(self, magic_name, line, cell)\u001b[39m\n\u001b[32m   2563\u001b[39m \u001b[38;5;28;01mwith\u001b[39;00m \u001b[38;5;28mself\u001b[39m.builtin_trap:\n\u001b[32m   2564\u001b[39m     args = (magic_arg_s, cell)\n\u001b[32m-> \u001b[39m\u001b[32m2565\u001b[39m     result = \u001b[43mfn\u001b[49m\u001b[43m(\u001b[49m\u001b[43m*\u001b[49m\u001b[43margs\u001b[49m\u001b[43m,\u001b[49m\u001b[43m \u001b[49m\u001b[43m*\u001b[49m\u001b[43m*\u001b[49m\u001b[43mkwargs\u001b[49m\u001b[43m)\u001b[49m\n\u001b[32m   2567\u001b[39m \u001b[38;5;66;03m# The code below prevents the output from being displayed\u001b[39;00m\n\u001b[32m   2568\u001b[39m \u001b[38;5;66;03m# when using magics with decorator @output_can_be_silenced\u001b[39;00m\n\u001b[32m   2569\u001b[39m \u001b[38;5;66;03m# when the last Python token in the expression is a ';'.\u001b[39;00m\n\u001b[32m   2570\u001b[39m \u001b[38;5;28;01mif\u001b[39;00m \u001b[38;5;28mgetattr\u001b[39m(fn, magic.MAGIC_OUTPUT_CAN_BE_SILENCED, \u001b[38;5;28;01mFalse\u001b[39;00m):\n",
      "\u001b[36mFile \u001b[39m\u001b[32m~/miniconda3/envs/mondada/lib/python3.12/site-packages/tdmclient/notebook/private.py:381\u001b[39m, in \u001b[36mrun_python\u001b[39m\u001b[34m(line, cell)\u001b[39m\n\u001b[32m    378\u001b[39m     _interactive_console.clear_event_data()\n\u001b[32m    380\u001b[39m \u001b[38;5;28;01mtry\u001b[39;00m:\n\u001b[32m--> \u001b[39m\u001b[32m381\u001b[39m     \u001b[43m_interactive_console\u001b[49m\u001b[43m.\u001b[49m\u001b[43mrun_program\u001b[49m\u001b[43m(\u001b[49m\u001b[43mpython_preamble\u001b[49m\u001b[43m \u001b[49m\u001b[43m+\u001b[49m\u001b[43m \u001b[49m\u001b[43mcell\u001b[49m\u001b[43m,\u001b[49m\n\u001b[32m    382\u001b[39m \u001b[43m                                     \u001b[49m\u001b[43mnodes\u001b[49m\u001b[43m=\u001b[49m\u001b[43mnodes\u001b[49m\u001b[43m \u001b[49m\u001b[38;5;28;43;01mif\u001b[39;49;00m\u001b[43m \u001b[49m\u001b[38;5;28;43mlen\u001b[39;49m\u001b[43m(\u001b[49m\u001b[43mnodes\u001b[49m\u001b[43m)\u001b[49m\u001b[43m \u001b[49m\u001b[43m>\u001b[49m\u001b[43m \u001b[49m\u001b[32;43m0\u001b[39;49m\u001b[43m \u001b[49m\u001b[38;5;28;43;01melse\u001b[39;49;00m\u001b[43m \u001b[49m\u001b[38;5;28;43;01mNone\u001b[39;49;00m\u001b[43m,\u001b[49m\n\u001b[32m    383\u001b[39m \u001b[43m                                     \u001b[49m\u001b[43mlanguage\u001b[49m\u001b[43m=\u001b[49m\u001b[33;43m\"\u001b[39;49m\u001b[33;43mpython\u001b[39;49m\u001b[33;43m\"\u001b[39;49m\u001b[43m,\u001b[49m\n\u001b[32m    384\u001b[39m \u001b[43m                                     \u001b[49m\u001b[43mwarning_missing_global\u001b[49m\u001b[43m=\u001b[49m\u001b[43mwarning_missing_global\u001b[49m\u001b[43m,\u001b[49m\n\u001b[32m    385\u001b[39m \u001b[43m                                     \u001b[49m\u001b[43mwait\u001b[49m\u001b[43m=\u001b[49m\u001b[43mwait\u001b[49m\u001b[43m,\u001b[49m\u001b[43m \u001b[49m\u001b[43mimport_thymio\u001b[49m\u001b[43m=\u001b[49m\u001b[43mimport_thymio\u001b[49m\u001b[43m)\u001b[49m\n\u001b[32m    386\u001b[39m \u001b[38;5;28;01mexcept\u001b[39;00m \u001b[38;5;167;01mKeyboardInterrupt\u001b[39;00m:\n\u001b[32m    387\u001b[39m     \u001b[38;5;66;03m# avoid long exception message with stack trace\u001b[39;00m\n\u001b[32m    388\u001b[39m     \u001b[38;5;28mprint\u001b[39m(\u001b[33m\"\u001b[39m\u001b[33mInterrupted\u001b[39m\u001b[33m\"\u001b[39m)\n",
      "\u001b[36mFile \u001b[39m\u001b[32m~/miniconda3/envs/mondada/lib/python3.12/site-packages/tdmclient/repl.py:574\u001b[39m, in \u001b[36mTDMConsole.run_program\u001b[39m\u001b[34m(self, src, nodes, language, warning_missing_global, wait, import_thymio)\u001b[39m\n\u001b[32m    571\u001b[39m \u001b[38;5;28;01mfinally\u001b[39;00m:\n\u001b[32m    572\u001b[39m     \u001b[38;5;66;03m# stop nodes still running\u001b[39;00m\n\u001b[32m    573\u001b[39m     \u001b[38;5;28;01mfor\u001b[39;00m node \u001b[38;5;129;01min\u001b[39;00m running_nodes:\n\u001b[32m--> \u001b[39m\u001b[32m574\u001b[39m         \u001b[38;5;28;43mself\u001b[39;49m\u001b[43m.\u001b[49m\u001b[43mstop_program\u001b[49m\u001b[43m(\u001b[49m\u001b[43mnode\u001b[49m\u001b[43m,\u001b[49m\u001b[43m \u001b[49m\u001b[43mdiscard_output\u001b[49m\u001b[43m=\u001b[49m\u001b[38;5;28;43;01mTrue\u001b[39;49;00m\u001b[43m)\u001b[49m\n\u001b[32m    575\u001b[39m     \u001b[38;5;28mself\u001b[39m.client.clear_event_received_listeners()\n\u001b[32m    576\u001b[39m     \u001b[38;5;28mself\u001b[39m.client.clear_vm_state_changed_listener()\n",
      "\u001b[36mFile \u001b[39m\u001b[32m~/miniconda3/envs/mondada/lib/python3.12/site-packages/tdmclient/repl.py:585\u001b[39m, in \u001b[36mTDMConsole.stop_program\u001b[39m\u001b[34m(self, node, discard_output)\u001b[39m\n\u001b[32m    583\u001b[39m     error = ClientAsync.aw(node.stop())\n\u001b[32m    584\u001b[39m     \u001b[38;5;28;01mif\u001b[39;00m error \u001b[38;5;129;01mis\u001b[39;00m \u001b[38;5;129;01mnot\u001b[39;00m \u001b[38;5;28;01mNone\u001b[39;00m:\n\u001b[32m--> \u001b[39m\u001b[32m585\u001b[39m         \u001b[38;5;28;01mraise\u001b[39;00m \u001b[38;5;167;01mException\u001b[39;00m(\u001b[33mf\u001b[39m\u001b[33m\"\u001b[39m\u001b[33mError \u001b[39m\u001b[38;5;132;01m{\u001b[39;00merror[\u001b[33m'\u001b[39m\u001b[33merror_code\u001b[39m\u001b[33m'\u001b[39m]\u001b[38;5;132;01m}\u001b[39;00m\u001b[33m\"\u001b[39m)\n\u001b[32m    586\u001b[39m \u001b[38;5;28;01mfinally\u001b[39;00m:\n\u001b[32m    587\u001b[39m     \u001b[38;5;28mself\u001b[39m.output_enabled = output_enabled_orig\n",
      "\u001b[31mException\u001b[39m: Error 2"
     ]
    }
   ],
   "source": [
    "%%run_python --wait\n",
    "#%%transpile_to_aseba # Change to see the code generated in Aseba\n",
    "\n",
    "# This program implements obstacle avoidance using an ANN\n",
    "# The inputs x1-7 are taken from the proximity sensors and scaled\n",
    "# The inputs are multiplied by the weights \n",
    "#   and used to set the motor powers\n",
    "# The center button starts and stops the robot\n",
    "\n",
    "# State for start and stop, why is this instruction here? (hint: look at the aseba transpile code)\n",
    "state = 1\n",
    "\n",
    "@onevent\n",
    "def button_center():\n",
    "    global state\n",
    "    if button_center == 1:\n",
    "        state = 1 if state==0 else 0\n",
    "\n",
    "@onevent\n",
    "def prox():\n",
    "    global prox_horizontal, motor_left_target, motor_right_target, button_center, state\n",
    "\n",
    "    # follow wall\n",
    "    w_l = [-40, -20, 20,  20,  40, -10,  -30]\n",
    "    w_r = [40,  20, 20, -20, -40,  -30, -10]\n",
    "\n",
    "    # avoid obstacles\n",
    "    # w_l = [40,  20, -20, -20, -40,  30, -10]\n",
    "    # w_r = [-40, -20, -20,  20,  40, -10,  30]\n",
    "\n",
    "    # Scale factors for sensors and constant factor\n",
    "    sensor_scale = 200\n",
    "    \n",
    "    y = [0,0]\n",
    "    x = [0,0,0,0,0,0,0]\n",
    "        \n",
    "    if state != 0:\n",
    "        \n",
    "        for i in range(len(x)):\n",
    "            # Get and scale inputs\n",
    "            x[i] = prox_horizontal[i] // sensor_scale\n",
    "            \n",
    "            # Compute outputs of neurons and set motor powers\n",
    "            y[0] = y[0] + x[i] * w_l[i]\n",
    "            y[1] = y[1] + x[i] * w_r[i]\n",
    "    \n",
    "    # Set motor powers\n",
    "    motor_left_target = y[0]\n",
    "    print(motor_left_target)\n",
    "    motor_right_target = y[1]"
   ]
  },
  {
   "cell_type": "code",
   "execution_count": 25,
   "metadata": {
    "execution": {
     "iopub.execute_input": "2024-09-22T18:07:59.633835Z",
     "iopub.status.busy": "2024-09-22T18:07:59.632854Z",
     "iopub.status.idle": "2024-09-22T18:07:59.783830Z",
     "shell.execute_reply": "2024-09-22T18:07:59.782424Z",
     "shell.execute_reply.started": "2024-09-22T18:07:59.633773Z"
    },
    "tags": []
   },
   "outputs": [],
   "source": [
    "await tdmclient.notebook.stop()"
   ]
  },
  {
   "cell_type": "markdown",
   "metadata": {},
   "source": [
    "**or** ASEBA implementation:"
   ]
  },
  {
   "cell_type": "code",
   "execution_count": null,
   "metadata": {},
   "outputs": [],
   "source": []
  },
  {
   "cell_type": "markdown",
   "metadata": {},
   "source": [
    "## Memory\n",
    "\n",
    "Add recurrent connection to have Thymio memorising the speed and continuing moving also without\n",
    "inputs from the sensors. Explore values below, equal and higher than one."
   ]
  },
  {
   "cell_type": "markdown",
   "metadata": {},
   "source": [
    "in python: "
   ]
  },
  {
   "cell_type": "code",
   "execution_count": 26,
   "metadata": {
    "execution": {
     "iopub.execute_input": "2024-09-22T18:08:03.020708Z",
     "iopub.status.busy": "2024-09-22T18:08:03.019871Z",
     "iopub.status.idle": "2024-09-22T18:08:03.477364Z",
     "shell.execute_reply": "2024-09-22T18:08:03.476261Z",
     "shell.execute_reply.started": "2024-09-22T18:08:03.020655Z"
    }
   },
   "outputs": [],
   "source": [
    "import tdmclient.notebook\n",
    "await tdmclient.notebook.start()"
   ]
  },
  {
   "cell_type": "code",
   "execution_count": 32,
   "metadata": {
    "execution": {
     "iopub.execute_input": "2024-09-22T18:08:07.136059Z",
     "iopub.status.busy": "2024-09-22T18:08:07.135166Z",
     "iopub.status.idle": "2024-09-22T18:08:07.411993Z",
     "shell.execute_reply": "2024-09-22T18:08:07.409438Z",
     "shell.execute_reply.started": "2024-09-22T18:08:07.135997Z"
    },
    "tags": []
   },
   "outputs": [
    {
     "name": "stdout",
     "output_type": "stream",
     "text": [
      "180\n",
      "304\n",
      "420\n",
      "596\n",
      "872\n",
      "696\n",
      "552\n",
      "440\n",
      "352\n",
      "280\n",
      "224\n",
      "176\n",
      "136\n",
      "104\n",
      "80\n",
      "64\n",
      "48\n",
      "32\n",
      "24\n",
      "16\n",
      "268\n",
      "1108\n",
      "1980\n",
      "2804\n",
      "3460\n",
      "3988\n",
      "4384\n",
      "4524\n",
      "4056\n",
      "3420\n",
      "3176\n",
      "3296\n",
      "3392\n",
      "3472\n",
      "3536\n",
      "3584\n",
      "3484\n",
      "3344\n",
      "3332\n",
      "3144\n",
      "2252\n",
      "1760\n",
      "748\n",
      "-48\n",
      "-652\n",
      "-940\n",
      "-752\n",
      "-600\n",
      "-480\n",
      "-384\n",
      "-304\n",
      "-240\n",
      "-192\n",
      "-152\n",
      "-120\n",
      "-96\n",
      "-72\n",
      "-56\n",
      "-40\n",
      "-32\n",
      "-24\n",
      "-16\n",
      "-8\n",
      "0\n",
      "-240\n",
      "-432\n",
      "-344\n",
      "-272\n",
      "-216\n",
      "-168\n",
      "-128\n",
      "-96\n",
      "-72\n",
      "-56\n",
      "-40\n",
      "-32\n",
      "-24\n",
      "-16\n",
      "-8\n",
      "0\n",
      "0\n",
      "0\n",
      "0\n",
      "-400\n",
      "-800\n",
      "-1500\n",
      "-1860\n",
      "-2128\n",
      "-2296\n",
      "-2332\n",
      "-2344\n",
      "-2312\n",
      "-2288\n",
      "-2204\n",
      "-2120\n",
      "-2036\n",
      "-1984\n",
      "-1904\n",
      "-1860\n",
      "-1828\n",
      "-1756\n",
      "-1700\n",
      "-1660\n",
      "-1628\n",
      "-1656\n",
      "-1700\n",
      "-1640\n",
      "-1672\n",
      "-856\n",
      "-700\n",
      "-560\n",
      "-448\n",
      "-352\n",
      "-280\n",
      "-224\n",
      "-176\n",
      "-136\n",
      "-104\n",
      "-80\n",
      "-64\n",
      "-48\n",
      "-32\n",
      "-24\n",
      "-16\n",
      "-8\n",
      "0\n",
      "0\n",
      "0\n",
      "0\n",
      "0\n",
      "0\n",
      "0\n",
      "0\n",
      "0\n",
      "0\n",
      "0\n",
      "0\n",
      "0\n",
      "0\n",
      "0\n",
      "0\n",
      "0\n",
      "0\n",
      "180\n",
      "284\n",
      "344\n",
      "252\n",
      "-60\n",
      "-288\n",
      "-84\n",
      "-64\n",
      "-48\n",
      "-32\n",
      "-24\n",
      "-16\n",
      "-8\n",
      "0\n",
      "0\n",
      "0\n",
      "0\n",
      "0\n",
      "0\n",
      "0\n",
      "0\n",
      "0\n",
      "0\n",
      "0\n",
      "0\n",
      "0\n",
      "0\n",
      "160\n",
      "248\n",
      "192\n",
      "-208\n",
      "-1040\n",
      "-1712\n",
      "-2408\n",
      "-3000\n",
      "-3520\n",
      "-3816\n",
      "-3068\n",
      "-2628\n",
      "-2416\n",
      "-1928\n",
      "-1536\n",
      "-1224\n",
      "-976\n",
      "-776\n",
      "-616\n",
      "-708\n",
      "0\n",
      "0\n",
      "0\n",
      "0\n",
      "0\n",
      "0\n",
      "0\n",
      "0\n",
      "0\n",
      "0\n",
      "0\n",
      "0\n",
      "0\n",
      "0\n",
      "0\n",
      "0\n",
      "0\n",
      "0\n",
      "0\n",
      "0\n",
      "0\n",
      "0\n",
      "0\n",
      "0\n",
      "0\n",
      "0\n",
      "0\n",
      "0\n",
      "0\n",
      "0\n",
      "0\n",
      "0\n",
      "0\n",
      "0\n",
      "0\n",
      "0\n",
      "0\n",
      "0\n",
      "0\n",
      "0\n",
      "0\n",
      "0\n",
      "0\n",
      "0\n",
      "0\n",
      "0\n",
      "0\n",
      "0\n",
      "0\n",
      "0\n",
      "0\n",
      "0\n",
      "0\n",
      "0\n",
      "0\n",
      "0\n",
      "0\n",
      "0\n",
      "0\n",
      "0\n",
      "0\n",
      "0\n",
      "0\n",
      "0\n",
      "0\n",
      "0\n",
      "0\n",
      "0\n",
      "0\n",
      "0\n",
      "0\n",
      "0\n",
      "0\n",
      "0\n",
      "0\n",
      "0\n",
      "0\n",
      "0\n",
      "0\n",
      "0\n",
      "0\n",
      "0\n",
      "0\n",
      "0\n",
      "0\n",
      "0\n",
      "0\n",
      "0\n",
      "0\n",
      "0\n",
      "0\n",
      "0\n",
      "0\n",
      "0\n",
      "0\n",
      "0\n",
      "0\n",
      "0\n",
      "0\n",
      "0\n",
      "0\n",
      "0\n",
      "0\n",
      "0\n",
      "0\n",
      "0\n",
      "0\n",
      "0\n",
      "0\n",
      "0\n",
      "0\n",
      "0\n",
      "0\n",
      "0\n",
      "0\n",
      "0\n",
      "0\n",
      "0\n",
      "0\n",
      "0\n",
      "0\n",
      "0\n",
      "0\n",
      "0\n",
      "0\n",
      "0\n",
      "0\n",
      "0\n",
      "0\n",
      "0\n",
      "0\n",
      "0\n",
      "0\n",
      "0\n",
      "0\n",
      "0\n",
      "0\n",
      "0\n",
      "0\n",
      "0\n",
      "0\n",
      "0\n",
      "0\n",
      "0\n",
      "0\n",
      "0\n",
      "0\n",
      "0\n",
      "0\n",
      "0\n",
      "0\n",
      "0\n",
      "0\n",
      "0\n",
      "0\n",
      "0\n",
      "0\n",
      "0\n",
      "0\n",
      "0\n",
      "0\n",
      "0\n",
      "0\n",
      "0\n",
      "0\n",
      "0\n",
      "0\n",
      "0\n",
      "0\n",
      "0\n",
      "0\n",
      "0\n",
      "0\n",
      "0\n",
      "0\n",
      "0\n",
      "0\n",
      "0\n",
      "0\n",
      "0\n",
      "0\n",
      "0\n",
      "0\n",
      "0\n",
      "0\n",
      "0\n",
      "0\n",
      "0\n",
      "0\n",
      "0\n",
      "0\n",
      "0\n",
      "0\n",
      "0\n",
      "0\n",
      "0\n",
      "0\n",
      "0\n",
      "0\n",
      "0\n",
      "0\n",
      "0\n",
      "0\n",
      "0\n",
      "0\n",
      "0\n",
      "0\n",
      "0\n",
      "0\n",
      "0\n",
      "0\n",
      "0\n",
      "0\n",
      "0\n",
      "0\n",
      "0\n",
      "0\n",
      "0\n",
      "0\n",
      "0\n",
      "0\n",
      "0\n",
      "0\n",
      "0\n",
      "0\n",
      "0\n",
      "0\n",
      "0\n",
      "0\n",
      "0\n",
      "0\n",
      "0\n",
      "0\n",
      "0\n",
      "0\n",
      "0\n",
      "0\n",
      "0\n",
      "0\n",
      "0\n",
      "0\n",
      "0\n",
      "0\n",
      "0\n",
      "0\n",
      "0\n",
      "0\n",
      "0\n",
      "0\n",
      "0\n",
      "0\n",
      "0\n",
      "0\n",
      "0\n",
      "0\n",
      "0\n",
      "0\n",
      "0\n",
      "0\n",
      "0\n",
      "0\n",
      "0\n",
      "0\n",
      "0\n",
      "0\n",
      "0\n",
      "0\n",
      "0\n",
      "0\n",
      "0\n",
      "0\n",
      "0\n",
      "0\n",
      "0\n",
      "0\n",
      "0\n",
      "0\n",
      "0\n",
      "0\n",
      "0\n",
      "0\n",
      "0\n",
      "0\n",
      "0\n",
      "0\n",
      "0\n",
      "0\n",
      "0\n",
      "0\n",
      "0\n",
      "0\n",
      "0\n",
      "0\n",
      "0\n",
      "0\n",
      "0\n",
      "0\n",
      "0\n",
      "0\n",
      "0\n",
      "0\n",
      "0\n",
      "0\n",
      "0\n",
      "0\n",
      "0\n",
      "0\n",
      "0\n",
      "0\n",
      "0\n",
      "0\n",
      "0\n",
      "0\n",
      "0\n",
      "0\n",
      "0\n",
      "0\n",
      "0\n",
      "0\n",
      "0\n",
      "0\n",
      "0\n",
      "0\n",
      "0\n",
      "0\n",
      "0\n",
      "0\n",
      "0\n",
      "0\n",
      "0\n",
      "0\n",
      "0\n",
      "0\n",
      "0\n",
      "0\n",
      "0\n",
      "0\n",
      "0\n",
      "0\n",
      "0\n",
      "0\n",
      "0\n",
      "0\n",
      "0\n",
      "0\n",
      "0\n",
      "0\n",
      "0\n",
      "0\n",
      "0\n",
      "0\n",
      "0\n",
      "0\n",
      "0\n",
      "0\n",
      "0\n",
      "0\n",
      "0\n",
      "0\n",
      "0\n",
      "0\n",
      "0\n",
      "0\n",
      "0\n",
      "0\n",
      "0\n",
      "0\n",
      "0\n",
      "0\n",
      "0\n",
      "0\n",
      "0\n",
      "0\n",
      "0\n",
      "0\n",
      "0\n",
      "0\n",
      "0\n",
      "0\n",
      "0\n",
      "0\n",
      "0\n",
      "0\n",
      "0\n",
      "0\n",
      "0\n",
      "0\n",
      "0\n",
      "0\n",
      "0\n",
      "0\n",
      "0\n",
      "0\n",
      "0\n",
      "0\n",
      "0\n",
      "0\n",
      "0\n",
      "0\n",
      "0\n",
      "0\n",
      "0\n",
      "0\n",
      "0\n",
      "0\n",
      "0\n",
      "0\n",
      "0\n",
      "0\n",
      "0\n",
      "0\n",
      "0\n",
      "0\n",
      "0\n",
      "0\n",
      "0\n",
      "0\n",
      "0\n",
      "0\n",
      "0\n",
      "0\n",
      "0\n",
      "0\n",
      "0\n",
      "0\n",
      "0\n",
      "0\n",
      "0\n",
      "500\n",
      "960\n",
      "1128\n",
      "896\n",
      "712\n",
      "568\n",
      "448\n",
      "352\n",
      "280\n",
      "224\n",
      "176\n",
      "136\n",
      "104\n",
      "80\n",
      "64\n",
      "48\n",
      "32\n",
      "24\n",
      "16\n",
      "8\n",
      "0\n",
      "0\n",
      "0\n",
      "0\n",
      "0\n",
      "0\n",
      "0\n",
      "0\n",
      "0\n",
      "0\n",
      "-110\n",
      "402\n",
      "840\n",
      "1222\n",
      "1546\n",
      "1862\n",
      "1898\n",
      "Interrupted\n"
     ]
    }
   ],
   "source": [
    "%%run_python --wait\n",
    "#%%transpile_to_aseba # Change to show the code generated in Aseba\n",
    "\n",
    "# This program implements obstacle avoidance using an ANN\n",
    "# The inputs x1-7 are taken from the proximity sensors and scaled\n",
    "# The inputs are multiplied by the weights \n",
    "#   and used to set the motor powers\n",
    "# The center button starts and stops the robot\n",
    "\n",
    "# State for start and stop, why is this instruction here? (hint: look at the aseba transpile code)\n",
    "state = 1\n",
    "y = [0,0]  \n",
    "\n",
    "@onevent\n",
    "def button_center():\n",
    "    global state\n",
    "    if button_center == 1:\n",
    "        state = 1 if state==0 else 0\n",
    "\n",
    "@onevent\n",
    "def prox():\n",
    "    global prox_horizontal, motor_left_target, motor_right_target, button_center, state, y \n",
    "\n",
    "    w_l = [40,  20, -20, -20, -40,  30, -10, 8, 0]\n",
    "    w_r = [-40, -20, -20,  20,  40, -10, 30, 0, 8]\n",
    "\n",
    "    # Scale factors for sensors and constant factor\n",
    "    sensor_scale = 200\n",
    "    \n",
    "    x = [0,0,0,0,0,0,0,0,0]\n",
    "    \n",
    "    if state != 0:\n",
    "        # Memory\n",
    "        x[7] = y[0]//10\n",
    "        x[8] = y[1]//10\n",
    "        \n",
    "        for i in range(7):\n",
    "            # Get and scale inputs\n",
    "            x[i] = prox_horizontal[i] // sensor_scale\n",
    "        \n",
    "        y = [0,0]    \n",
    "        \n",
    "        for i in range(len(x)):    \n",
    "            # Compute outputs of neurons and set motor powers\n",
    "            y[0] = y[0] + x[i] * w_l[i]\n",
    "            y[1] = y[1] + x[i] * w_r[i]\n",
    "    else: \n",
    "        # In case we would like to stop the robot\n",
    "        y = [0,0] \n",
    "    \n",
    "    # Set motor powers\n",
    "    motor_left_target = y[0]\n",
    "    print(motor_left_target)\n",
    "    motor_right_target = y[1]"
   ]
  },
  {
   "cell_type": "code",
   "execution_count": 7,
   "metadata": {
    "execution": {
     "iopub.execute_input": "2024-09-22T18:09:43.986389Z",
     "iopub.status.busy": "2024-09-22T18:09:43.985486Z",
     "iopub.status.idle": "2024-09-22T18:09:44.369067Z",
     "shell.execute_reply": "2024-09-22T18:09:44.366966Z",
     "shell.execute_reply.started": "2024-09-22T18:09:43.986332Z"
    },
    "tags": []
   },
   "outputs": [],
   "source": [
    "await tdmclient.notebook.stop()"
   ]
  },
  {
   "cell_type": "markdown",
   "metadata": {},
   "source": [
    "## Hebbian Rule\n",
    "\n",
    "### On paper\n",
    "\n",
    "The artificial neural network below, with two linear neurons, two outputs and two inputs, has an\n",
    "activation which gives a good behavior of the system and should be reinforced. Apply the Hebb\n",
    "rule by detailing your choices and steps.\n",
    "\n",
    "<br/>\n",
    "\n",
    "<img src=\"images/hebb_rule.png\" alt=\"single_neuron\" width=\"450\"/>\n",
    "\n",
    "\n",
    "<br/>"
   ]
  },
  {
   "cell_type": "markdown",
   "metadata": {},
   "source": [
    "### Implementation \n",
    "\n",
    "Add Hebbian learning to the structure of ANN described in algorithm 2.1 that was provided earlier.\n",
    "\n",
    "<br/>\n",
    "\n",
    "![Pentagon](images/ANN_algorithm.png)\n",
    "\n",
    "<br/>\n",
    "\n",
    "Instead of making random movements and waiting for good situations to reinforce, you can present\n",
    "good situations to the network by placing the robot in an avoidance situation and pressing a button\n",
    "showing the right reaction, as illustrated in algorithm 2.2\n",
    "\n",
    "\n",
    "<br/>\n",
    "\n",
    "![Pentagon](images/ANN_algorithm_2.png)\n",
    "\n",
    "<br/>\n",
    "\n",
    "The application of the Hebbian rule in this situation follows algorithm 2.3. Test various learning\n",
    "rates.\n",
    "\n",
    "\n",
    "<br/>\n",
    "\n",
    "![Pentagon](images/ANN_hebb.png)\n",
    "\n",
    "<br/>\n",
    "\n",
    "\n"
   ]
  },
  {
   "cell_type": "markdown",
   "metadata": {},
   "source": [
    "in python:"
   ]
  },
  {
   "cell_type": "code",
   "execution_count": 33,
   "metadata": {
    "execution": {
     "iopub.execute_input": "2024-09-22T18:09:46.497040Z",
     "iopub.status.busy": "2024-09-22T18:09:46.495945Z",
     "iopub.status.idle": "2024-09-22T18:09:46.955667Z",
     "shell.execute_reply": "2024-09-22T18:09:46.953929Z",
     "shell.execute_reply.started": "2024-09-22T18:09:46.496957Z"
    },
    "tags": []
   },
   "outputs": [],
   "source": [
    "import tdmclient.notebook\n",
    "await tdmclient.notebook.start()"
   ]
  },
  {
   "cell_type": "code",
   "execution_count": 34,
   "metadata": {
    "execution": {
     "iopub.execute_input": "2024-09-22T18:09:47.142023Z",
     "iopub.status.busy": "2024-09-22T18:09:47.141208Z",
     "iopub.status.idle": "2024-09-22T18:09:47.375550Z",
     "shell.execute_reply": "2024-09-22T18:09:47.373666Z",
     "shell.execute_reply.started": "2024-09-22T18:09:47.141960Z"
    },
    "tags": []
   },
   "outputs": [],
   "source": [
    "%%run_python \n",
    "#%%transpile_to_aseba # Uncomment to show the code generated in Aseba\n",
    "\n",
    "# Initially, the robot does not move\n",
    "# To train the robot to move forwards when an object is not detected, touch the center button\n",
    "# When the center / rear / left / right sensor detects your finger, touch the back / front / right /left button\n",
    "# Do the training one or more times\n",
    "# The robot will update the ANN weights and avoid obstacles\n",
    "\n",
    "##take back your code and add the recurrent connection\n",
    "\n",
    "# you code here\n",
    "state = 1\n",
    "@onevent\n",
    "def button_center(): # The center button starts and stops the robot\n",
    "    global state\n",
    "    if button_center == 1:\n",
    "        state = 1 if state==0 else 0"
   ]
  },
  {
   "cell_type": "code",
   "execution_count": 35,
   "metadata": {
    "execution": {
     "iopub.execute_input": "2024-09-22T18:09:57.238190Z",
     "iopub.status.busy": "2024-09-22T18:09:57.237081Z",
     "iopub.status.idle": "2024-09-22T18:09:57.418434Z",
     "shell.execute_reply": "2024-09-22T18:09:57.417484Z",
     "shell.execute_reply.started": "2024-09-22T18:09:57.238116Z"
    }
   },
   "outputs": [],
   "source": [
    "await tdmclient.notebook.stop()"
   ]
  },
  {
   "cell_type": "markdown",
   "metadata": {},
   "source": [
    "---\n",
    "---\n",
    "\n",
    "\n",
    "# Architectures\n",
    "\n",
    "Reactive behaviours allow to implement direct sensor-motor loops. These can include a memory\n",
    "effect, or have no memory at all. They can have a very simple structure or be composed by layers\n",
    "interacting with each other. We explore some simple reactive behaviours in the following exercise\n",
    "\n",
    "## Activity 5 : Finite State Machines\n",
    "\n",
    "Finite state machines allow us to describe a behaviour in a very abstract way using a state graph,\n",
    "helping to then program the system. \n",
    "\n",
    "\n",
    "Design a robot that moves on the G path given with this exercice with the following rule: \n",
    "\n",
    "- The robot starts by following the line with the left ground sensor, turning clockwise, until it sees an obstacle.\n",
    "\n",
    "- When this occurs, it changes behaviour and starts following the wall, until it sees a black transversal line with both ground sensors. \n",
    "\n",
    "- When this occurs it moves forward until one of the ground sensors see white. \n",
    "\n",
    "- When this occurs it starts following the line until it sees and obstacle, and so on. \n",
    "\n",
    "--> Draw a state diagram implementing this behaviour and then (only after!!!!) write the corresponding code for Thymio.\n",
    "\n",
    "The following files are provided in the zip folder to help :\n",
    "\n",
    "* ``path-transitions.pdf`` : Contains the G path in A3 format for the finite state machine exercise.\n",
    "\n",
    "<img src=\"images/path-transitions.png\" alt=\"path-transitions\" width=\"300\"/>\n",
    "\n",
    "You can resolve the exercise either through ASEBA Studio or using the Python Bridge in order to do it via the Jupyter notebook. Note that the execution will likely be more efficient if you use ASEBA studio/Python transpiled to Aseba. \n"
   ]
  },
  {
   "cell_type": "markdown",
   "metadata": {},
   "source": [
    "import tdmclient.notebook\n",
    "await tdmclient.notebook.start()> Beware that the previous code will still be loaded on the Thymio. To erase the code and begin in a clean state, you could turn your robot off and then on, or simply replace the previous code with this simple one:"
   ]
  },
  {
   "cell_type": "code",
   "execution_count": 1,
   "metadata": {
    "execution": {
     "iopub.execute_input": "2024-09-22T18:13:52.745732Z",
     "iopub.status.busy": "2024-09-22T18:13:52.745175Z",
     "iopub.status.idle": "2024-09-22T18:13:53.264755Z",
     "shell.execute_reply": "2024-09-22T18:13:53.263326Z",
     "shell.execute_reply.started": "2024-09-22T18:13:52.745707Z"
    },
    "tags": []
   },
   "outputs": [],
   "source": [
    "import tdmclient.notebook\n",
    "await tdmclient.notebook.start()"
   ]
  },
  {
   "cell_type": "code",
   "execution_count": 2,
   "metadata": {
    "execution": {
     "iopub.execute_input": "2024-09-22T18:13:53.984786Z",
     "iopub.status.busy": "2024-09-22T18:13:53.984100Z",
     "iopub.status.idle": "2024-09-22T18:13:54.215536Z",
     "shell.execute_reply": "2024-09-22T18:13:54.214468Z",
     "shell.execute_reply.started": "2024-09-22T18:13:53.984739Z"
    },
    "tags": []
   },
   "outputs": [],
   "source": [
    "%%run_python\n",
    "v = [32, 0, 32, 0, 32, 0, 32, 0]\n",
    "leds_circle = v"
   ]
  },
  {
   "cell_type": "markdown",
   "metadata": {},
   "source": [
    "> And then quit the tdmclient notebook method to avoid \"Node lock error\". The following line will unlock the robot, allowing to use a different approach here (ClientAsync)."
   ]
  },
  {
   "cell_type": "code",
   "execution_count": 3,
   "metadata": {
    "execution": {
     "iopub.execute_input": "2024-09-22T18:13:55.078291Z",
     "iopub.status.busy": "2024-09-22T18:13:55.077233Z",
     "iopub.status.idle": "2024-09-22T18:13:55.206837Z",
     "shell.execute_reply": "2024-09-22T18:13:55.205486Z",
     "shell.execute_reply.started": "2024-09-22T18:13:55.078222Z"
    },
    "tags": []
   },
   "outputs": [],
   "source": [
    "await tdmclient.notebook.stop()"
   ]
  },
  {
   "cell_type": "markdown",
   "metadata": {},
   "source": [
    "<span style=\"color: #2980B9 ;\">\n",
    "<blockquote>\n",
    "For the line following behaviour, we are interested in the prox.ground.reflected variables which are going to be low when on a black surface (that tends to absord a big portion of the rays that come into contact with the surface) and high when on a white surface (which tends to reflect a high proportion of the incoming rays). You can check by running the following code. \n",
    "</blockquote>\n",
    "</span>\n"
   ]
  },
  {
   "cell_type": "code",
   "execution_count": 4,
   "metadata": {
    "execution": {
     "iopub.execute_input": "2024-09-22T18:13:56.242318Z",
     "iopub.status.busy": "2024-09-22T18:13:56.241518Z",
     "iopub.status.idle": "2024-09-22T18:13:56.480759Z",
     "shell.execute_reply": "2024-09-22T18:13:56.479509Z",
     "shell.execute_reply.started": "2024-09-22T18:13:56.242251Z"
    },
    "tags": []
   },
   "outputs": [
    {
     "data": {
      "text/plain": [
       "Node fbffd2bf-1e6b-4546-b240-60eed16c9df4"
      ]
     },
     "execution_count": 4,
     "metadata": {},
     "output_type": "execute_result"
    }
   ],
   "source": [
    "from tdmclient import ClientAsync, aw\n",
    "client = ClientAsync()\n",
    "node = await client.wait_for_node()\n",
    "await node.lock()"
   ]
  },
  {
   "cell_type": "code",
   "execution_count": 5,
   "metadata": {
    "execution": {
     "iopub.execute_input": "2024-09-22T18:13:57.461470Z",
     "iopub.status.busy": "2024-09-22T18:13:57.460680Z",
     "iopub.status.idle": "2024-09-22T18:13:59.628199Z",
     "shell.execute_reply": "2024-09-22T18:13:59.626002Z",
     "shell.execute_reply.started": "2024-09-22T18:13:57.461410Z"
    },
    "tags": []
   },
   "outputs": [
    {
     "name": "stdout",
     "output_type": "stream",
     "text": [
      "[943, 951]\n",
      "[941, 937]\n",
      "[942, 944]\n",
      "[944, 944]\n",
      "[951, 944]\n",
      "[944, 944]\n",
      "[943, 944]\n",
      "[944, 944]\n",
      "[942, 952]\n",
      "[941, 944]\n"
     ]
    }
   ],
   "source": [
    "async def print_sensor_values(sensor_id, print_range=10, delta_time=0.2):\n",
    "    \"\"\"\n",
    "    Print the sensor value sensor_id print_range times, every delta_time seconds\n",
    "    \"\"\"\n",
    "    await node.wait_for_variables({str(sensor_id)})\n",
    "    for i in range(print_range):\n",
    "        print(list(node[sensor_id]))\n",
    "        await client.sleep(delta_time)\n",
    "        \n",
    "await print_sensor_values('prox.ground.reflected')"
   ]
  },
  {
   "cell_type": "markdown",
   "metadata": {},
   "source": [
    "Continue creating the Finite State Machines as described in the instructions above. Add cells and markdown to improve readability."
   ]
  },
  {
   "cell_type": "markdown",
   "metadata": {},
   "source": []
  },
  {
   "cell_type": "code",
   "execution_count": null,
   "metadata": {},
   "outputs": [],
   "source": []
  }
 ],
 "metadata": {
  "hide_input": false,
  "kernelspec": {
   "display_name": "mondada",
   "language": "python",
   "name": "python3"
  },
  "language_info": {
   "codemirror_mode": {
    "name": "ipython",
    "version": 3
   },
   "file_extension": ".py",
   "mimetype": "text/x-python",
   "name": "python",
   "nbconvert_exporter": "python",
   "pygments_lexer": "ipython3",
   "version": "3.12.12"
  },
  "toc": {
   "base_numbering": 1,
   "nav_menu": {},
   "number_sections": true,
   "sideBar": true,
   "skip_h1_title": false,
   "title_cell": "Table of Contents",
   "title_sidebar": "Contents",
   "toc_cell": true,
   "toc_position": {},
   "toc_section_display": true,
   "toc_window_display": true
  },
  "varInspector": {
   "cols": {
    "lenName": 16,
    "lenType": 16,
    "lenVar": 40
   },
   "kernels_config": {
    "python": {
     "delete_cmd_postfix": "",
     "delete_cmd_prefix": "del ",
     "library": "var_list.py",
     "varRefreshCmd": "print(var_dic_list())"
    },
    "r": {
     "delete_cmd_postfix": ") ",
     "delete_cmd_prefix": "rm(",
     "library": "var_list.r",
     "varRefreshCmd": "cat(var_dic_list()) "
    }
   },
   "types_to_exclude": [
    "module",
    "function",
    "builtin_function_or_method",
    "instance",
    "_Feature"
   ],
   "window_display": false
  }
 },
 "nbformat": 4,
 "nbformat_minor": 4
}
