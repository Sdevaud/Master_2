{
 "cells": [
  {
   "cell_type": "code",
   "execution_count": 1,
   "metadata": {
    "ExecuteTime": {
     "end_time": "2021-10-03T14:49:51.944325Z",
     "start_time": "2021-10-03T14:49:46.352795Z"
    }
   },
   "outputs": [],
   "source": [
    "# If you did not install tdmclient, try \"!pip install tdmclient\", \n",
    "# or have a look at the tutorial \"Control your Thymio in Python\"\n",
    "import tdmclient.notebook\n",
    "await tdmclient.notebook.start()"
   ]
  },
  {
   "cell_type": "code",
   "execution_count": 2,
   "metadata": {
    "ExecuteTime": {
     "end_time": "2021-09-29T14:47:09.638063Z",
     "start_time": "2021-09-29T14:47:07.569497Z"
    }
   },
   "outputs": [
    {
     "name": "stdout",
     "output_type": "stream",
     "text": [
      "[0, 0] [0, 0]\n",
      "[0, 0] [0, 0]\n",
      "[0, 0] [0, 0]\n",
      "[0, 0] [0, 0]\n",
      "[0, 0] [0, 0]\n",
      "[0, 0] [0, 0]\n",
      "[0, 0] [0, 0]\n",
      "[0, 0] [0, 0]\n",
      "[0, 0] [0, 0]\n",
      "[0, 0] [0, 0]\n",
      "[0, 0] [0, 0]\n",
      "[0, 0] [0, 0]\n",
      "[0, 0] [0, 0]\n",
      "[0, 0] [0, 0]\n",
      "[0, 0] [0, 0]\n",
      "[0, 0] [0, 0]\n",
      "[0, 0] [0, 0]\n",
      "[0, 0] [0, 0]\n",
      "[0, 0] [0, 0]\n",
      "[0, 0] [0, 0]\n",
      "[0, 0] [0, 0]\n",
      "[0, 0] [0, 0]\n",
      "[0, 0] [0, 0]\n",
      "[0, 0] [0, 0]\n",
      "[0, 0] [0, 0]\n",
      "[0, 0] [0, 0]\n",
      "[0, 0] [0, 0]\n",
      "[0, 0] [0, 0]\n",
      "[0, 0] [0, 0]\n",
      "[0, 0] [0, 0]\n"
     ]
    }
   ],
   "source": [
    "import time \n",
    "\n",
    "\"\"\"\n",
    "While the end time has not been reached, print the sensor values every delta_time seconds\n",
    "\"\"\"\n",
    "\n",
    "print_duration=15\n",
    "delta_time=0.5\n",
    "t_end = time.time()+print_duration\n",
    "\n",
    "while time.time() < t_end:\n",
    "    time.sleep(delta_time)\n",
    "    prox_value = prox_ground_reflected\n",
    "    print(prox_value, prox_ground_reflected)"
   ]
  },
  {
   "cell_type": "code",
   "execution_count": 3,
   "metadata": {},
   "outputs": [
    {
     "data": {
      "text/plain": [
       "[0, 0]"
      ]
     },
     "execution_count": 3,
     "metadata": {},
     "output_type": "execute_result"
    }
   ],
   "source": [
    "prox_ground_reflected"
   ]
  },
  {
   "cell_type": "code",
   "execution_count": null,
   "metadata": {
    "ExecuteTime": {
     "end_time": "2021-09-29T14:47:24.153934Z",
     "start_time": "2021-09-29T14:47:21.869347Z"
    }
   },
   "outputs": [],
   "source": [
    "def motors(l_speed=500, r_speed=500, verbose=False):\n",
    "    \"\"\"\n",
    "    Sets the motor speeds of the Thymio \n",
    "    param l_speed: left motor speed\n",
    "    param r_speed: right motor speed\n",
    "    param verbose: whether to print status messages or not\n",
    "    \"\"\"\n",
    "    global motor_left_target, motor_right_target\n",
    "    \n",
    "    # Printing the speeds if requested\n",
    "    if verbose:\n",
    "        print(\"\\t\\t Setting speed : \", l_speed, r_speed)\n",
    "    motor_left_target = l_speed\n",
    "    motor_right_target = r_speed\n",
    "    \n",
    "\n",
    "motors(100, 100, verbose=True) #test with lower speed value\n",
    "time.sleep(5)\n",
    "motors(0, 0, verbose=True)"
   ]
  },
  {
   "cell_type": "code",
   "execution_count": null,
   "metadata": {},
   "outputs": [],
   "source": [
    "\n",
    "motor_left_target= 20\n",
    "motor_right_target= 20"
   ]
  }
 ],
 "metadata": {
  "hide_input": false,
  "kernelspec": {
   "display_name": "Python 3",
   "language": "python",
   "name": "python3"
  },
  "language_info": {
   "codemirror_mode": {
    "name": "ipython",
    "version": 3
   },
   "file_extension": ".py",
   "mimetype": "text/x-python",
   "name": "python",
   "nbconvert_exporter": "python",
   "pygments_lexer": "ipython3",
   "version": "3.7.3"
  },
  "toc": {
   "base_numbering": 1,
   "nav_menu": {},
   "number_sections": true,
   "sideBar": true,
   "skip_h1_title": false,
   "title_cell": "Table of Contents",
   "title_sidebar": "Contents",
   "toc_cell": true,
   "toc_position": {},
   "toc_section_display": true,
   "toc_window_display": false
  }
 },
 "nbformat": 4,
 "nbformat_minor": 4
}
