{
 "cells": [
  {
   "cell_type": "markdown",
   "metadata": {},
   "source": [
    "\n",
    "<div style=\"border:1px solid black; padding:20px 20px;text-align: justify;text-justify: inter-word\">\n",
    "    <strong>Exercise Session 6 - Odometry and Localisation<br/> Duration : 4 hours (2 in session + 2 at home)</strong><br/><br/>\n",
    "    <span style=\"text-decoration:underline;font-weight:bold;\">How to use this notebook?</span><br/>\n",
    "    This notebook is made of text cells and code cells. The code cells have to be <strong>executed</strong> to see the result of the program. To execute a cell, simply select it and click on the \"play\" button (<span style=\"font: bold 12px/30px Arial, serif;\">&#9658;</span>) in the tool bar just above the notebook, or type <code>shift + enter</code>. It is important to execute the code cells in their order of appearance in the notebook.<br/>\n",
    "You can make use of the table of contents to navigate easily between sections.\n",
    "</div>\n",
    "\n",
    "<br/>\n",
    "\n",
    "<div style=\"justify;text-justify: inter-word\">\n",
    "So that you may familiarise with the notebooks and the basic python syntax, the exercises are provided in notebook form and whenever there are any calculations to be made, we encourage you to do them by code. Also, if you want to take notes, we encourage you to use the markdown or Raw NBConvert cells. \n",
    "</div>"
   ]
  },
  {
   "cell_type": "markdown",
   "metadata": {
    "toc": true
   },
   "source": [
    "<h1>Table of Contents<span class=\"tocSkip\"></span></h1>\n",
    "<div class=\"toc\"><ul class=\"toc-item\"><li><span><a href=\"#Learning-Goals\" data-toc-modified-id=\"Learning-Goals-1\"><span class=\"toc-item-num\">1&nbsp;&nbsp;</span>Learning Goals</a></span></li><li><span><a href=\"#Odometry\" data-toc-modified-id=\"Odometry-2\"><span class=\"toc-item-num\">2&nbsp;&nbsp;</span>Odometry</a></span><ul class=\"toc-item\"><li><span><a href=\"#Introduction-and-goal-of-odometry-exercise\" data-toc-modified-id=\"Introduction-and-goal-of-odometry-exercise-2.1\"><span class=\"toc-item-num\">2.1&nbsp;&nbsp;</span>Introduction and goal of odometry exercise</a></span></li><li><span><a href=\"#Move-and-turn\" data-toc-modified-id=\"Move-and-turn-2.2\"><span class=\"toc-item-num\">2.2&nbsp;&nbsp;</span>Move and turn</a></span></li></ul></li><li><span><a href=\"#Localisation\" data-toc-modified-id=\"Localisation-3\"><span class=\"toc-item-num\">3&nbsp;&nbsp;</span>Localisation</a></span><ul class=\"toc-item\"><li><span><a href=\"#Computing-the-probabilities\" data-toc-modified-id=\"Computing-the-probabilities-3.1\"><span class=\"toc-item-num\">3.1&nbsp;&nbsp;</span>Computing the probabilities</a></span></li><li><span><a href=\"#Reminder-about-tdmclient\" data-toc-modified-id=\"Reminder-about-tdmclient-3.2\"><span class=\"toc-item-num\">3.2&nbsp;&nbsp;</span>Reminder about tdmclient</a></span></li><li><span><a href=\"#Implementation-on-Thymio\" data-toc-modified-id=\"Implementation-on-Thymio-3.3\"><span class=\"toc-item-num\">3.3&nbsp;&nbsp;</span>Implementation on Thymio</a></span></li></ul></li></ul></div>"
   ]
  },
  {
   "cell_type": "markdown",
   "metadata": {},
   "source": [
    "# Learning Goals\n",
    "\n",
    "\n",
    "- Program Thymio to observe odometry errors. \n",
    "\n",
    "\n",
    "- Compute a probabilistic localisation with sensing and motion uncertainties. \n",
    "\n",
    "\n",
    "- Program a simple localisation algorithm that takes into account sensing and motion uncertainties.\n"
   ]
  },
  {
   "cell_type": "code",
   "execution_count": null,
   "metadata": {},
   "outputs": [],
   "source": [
    "!pip install --upgrade tdmclient"
   ]
  },
  {
   "cell_type": "markdown",
   "metadata": {},
   "source": [
    "# Odometry\n",
    "\n",
    "## Introduction and goal of odometry exercise\n",
    "\n",
    "Odometry is an essential component of robot localisation, but is subject to several problems, linkingtheory and practice. The goal of this exercise is to observe several of these problems by implementinga very simple trajectory using the Thymio robot.\n",
    "\n",
    "## Move and turn\n",
    "\n",
    "\n",
    "Implement on Thymio a program that makes it continuously turn and move forward:\n",
    "\n",
    "\n",
    "    1. Turn 360 + 180 degrees\n",
    "\n",
    "\n",
    "    2. Move forward a distance corresponding to the movement the wheel did during the turning step.\n",
    "\n",
    "\n",
    "Of course this movement needs to be carefully calibrated for your specific robot. Therefore first plan and implement a calibration procedure.\n",
    "\n",
    "\n",
    "Place a pencil in the central hole of Thymio and draw the trajectory. Use the blank verso of the A3 of the sheet today or use 2x A4 sheets of paper. \n",
    "\n",
    "\n",
    "Observe the result, iterate to improve the result (do you need other calibrations?) and comment the various errors you correct.\n"
   ]
  },
  {
   "cell_type": "markdown",
   "metadata": {},
   "source": [
    "> **Feel free to implement your own structure for the program** (or you can follow the proposed steps)"
   ]
  },
  {
   "cell_type": "code",
   "execution_count": null,
   "metadata": {},
   "outputs": [],
   "source": [
    "import tdmclient.notebook\n",
    "await tdmclient.notebook.start()"
   ]
  },
  {
   "cell_type": "markdown",
   "metadata": {},
   "source": [
    "1. Start and stop the program enabling to count how much time is taken to turn..."
   ]
  },
  {
   "cell_type": "code",
   "execution_count": null,
   "metadata": {},
   "outputs": [],
   "source": [
    "%%run_python\n",
    "\n",
    "counting = 0\n",
    "time = 0\n",
    "\n",
    "timer_period[0] = 10 # milliseconds\n",
    "\n",
    "@onevent \n",
    "def button_right(): # start counting\n",
    "#TODO: implement the function\n",
    "\n",
    "@onevent \n",
    "def button_center(): # stop counting\n",
    "#TODO: implement the function\n",
    "\n",
    "@onevent \n",
    "def timer0():\n",
    "#TODO: implement the function\n"
   ]
  },
  {
   "cell_type": "markdown",
   "metadata": {},
   "source": [
    "2. Move and turn in repetition"
   ]
  },
  {
   "cell_type": "code",
   "execution_count": null,
   "metadata": {},
   "outputs": [],
   "source": [
    "%%run_python\n",
    "\n",
    "FORWARD = 1\n",
    "TURN = 2\n",
    "ONETURN = #TODO: set the value\n",
    "SAMPLING = 5\n",
    "\n",
    "state = 0\n",
    "time = 0\n",
    "\n",
    "timer_period[0] = SAMPLING # 5 ms resolution\n",
    "\n",
    "@onevent \n",
    "def button_forward():\n",
    "    global state, FORWARD, time, motor_left_target, motor_right_target\n",
    "#TODO: implement the function\n",
    "\n",
    "@onevent \n",
    "def button_center():\n",
    "    global state, time, motor_left_target, motor_right_target\n",
    "#TODO: implement the function\n",
    "\n",
    "@onevent \n",
    "def timer0():\n",
    "    global state, FORWARD, TURN, ONETURN, SAMPLING, time, motor_left_target, motor_right_target\n",
    "#TODO: implement the function\n"
   ]
  },
  {
   "cell_type": "markdown",
   "metadata": {},
   "source": [
    "# Localisation\n",
    "\n",
    "The goal of this second part is to practice the localisation as explained during the course.\n",
    "\n",
    "## Computing the probabilities\n",
    "\n",
    "\n",
    "If you do not feel confident with the explanation given during the course, do again all computations, for instance in a spreadsheet.\n",
    "\n",
    "\n",
    "Consider the map below with the initial position of the robot, an initial probability distribution, and its movement restricted to moving from left to right. In the motion model, there is an error of motion with a probability of $10\\%$ of incorrect motion to the neighbour case, and therefore $80\\%$ or correct displacement. For the perception model, consider a probability of wrong measurement of $0.25$, meaning that if the ground is dark there is a probability of $25\\%$ of reading a light color and viceversa.\n",
    "\n",
    "\n",
    "Compute using a Bayes filter (also called Markov localisation):\n",
    "\n",
    "\n",
    "- The prediction probabilities and measurement update based on the given movement (one step), assuming a correct movement and measurement. Give the final probability distribution after this step.\n",
    "\n",
    "Complete as many rows as needed, indicating concisely what is performed on the left.\n",
    "\n",
    "<img src=\"Images/localization.png\" alt=\"Localisation\" width=\"600\">\n"
   ]
  },
  {
   "cell_type": "markdown",
   "metadata": {},
   "source": [
    "## Reminder about tdmclient"
   ]
  },
  {
   "cell_type": "markdown",
   "metadata": {},
   "source": [
    "For the next part, you can use some of the Aseba native functions in python (within %%run_python, tdmclient). It may be useful for the mathematical expressions, but you can aslo simply use expressions like `+`,`-`,`*`,`//`, `%`.\n",
    "The list of Aseba native functions is available here: http://wiki.thymio.org/en:asebastdnative. In order to declare them in Python (that will be transpiled in Aseba), change dots `.` by underscore `_` and add `nf_` at the beginning of the function's name. You can find a table with the list of functions name that can be used directly in Python: https://pypi.org/project/tdmclient/, in the Feature comparison paragraph.\n",
    "\n",
    "Beware that most of the `nf_` functions are expecting arrays as arguments. To use a scalar value like 10, you should use `[10]` as argument:"
   ]
  },
  {
   "cell_type": "code",
   "execution_count": null,
   "metadata": {
    "ExecuteTime": {
     "end_time": "2021-09-09T13:29:11.877524Z",
     "start_time": "2021-09-09T13:29:11.676Z"
    }
   },
   "outputs": [],
   "source": [
    "r = [0]\n",
    "nf_math_muldiv(r, [10], [20], [13])"
   ]
  },
  {
   "cell_type": "markdown",
   "metadata": {},
   "source": [
    "As it could seems a little strange in python, particularly for the use of scalars, there are other supplementary functions `math_` (get the list here  https://pypi.org/project/tdmclient/ in the Feature comparison paragraph):"
   ]
  },
  {
   "cell_type": "code",
   "execution_count": null,
   "metadata": {
    "ExecuteTime": {
     "end_time": "2021-09-09T13:29:11.877524Z",
     "start_time": "2021-09-09T13:29:11.679Z"
    }
   },
   "outputs": [],
   "source": [
    "# With this function, the result can be used directly:\n",
    "r = math_muldiv(10, 20, 13)"
   ]
  },
  {
   "cell_type": "markdown",
   "metadata": {},
   "source": [
    "## Implementation on Thymio\n",
    "\n",
    "Implement the localisation algorithm on the Thymio robot. You can simplify the program by moving yourself the robot from one position to the other and pressing a button when you are ready to make the measurement, simplifying the motion control of the robot and focusing on the computation of the probability. Use the same example as given in the course, based on a set of grey levels on the ground. \n",
    "\n",
    "![Map](Images/map-robot.png)\n",
    "\n",
    "The corresponding A3 ground is provided under `localization-map.pdf`:\n",
    "\n",
    "<img src=\"images/localization-map.png\" alt=\"gradient\" width=\"400\"/>\n"
   ]
  },
  {
   "cell_type": "markdown",
   "metadata": {},
   "source": [
    "> **Feel free to implement your own structure for the program** (or you can follow the proposed steps)"
   ]
  },
  {
   "cell_type": "markdown",
   "metadata": {},
   "source": [
    "---\n",
    "Please first, think about a solution that you would put in place before examining the template below."
   ]
  },
  {
   "cell_type": "code",
   "execution_count": null,
   "metadata": {},
   "outputs": [],
   "source": [
    "%%run_python\n",
    "\n",
    "\"\"\"\n",
    "So for example put the robot on the first case 0, press the `button_center` that will show the initial belief (which is uniform) on the `leds_circle`.\n",
    "Then, press the `button_forward` that will call the function sense() and show the result beliefs. \n",
    "As you are on a black case, the robot indicate likely positions: 0, 1, 4, 5 ,6. \n",
    "Then you should move the robot to the case 1 and press again the `button_forward`, to show the result beliefs after the move() function (beliefs are basically shifted to the right). \n",
    "And you can press again the `button_forward` to show the beliefs after a new step of sensing, thanks to the function sense(). \n",
    "Now, the robot show strong beliefs for the positions 1, 5 and 6, as there are positions where we can find two black cases in a row. \n",
    "You can repeat these actions and see the result beliefs of the localisation algorithm.\"\"\"\n",
    "\n",
    "# Constants\n",
    "LED = 32            # scale factor for displaying beliefs in leds\n",
    "THRESHOLD = 400     # value below black is detected\n",
    "P_HIT = #TODO           # probability of detecting black when on black\n",
    "                    #              or white when on white\n",
    "P_MISS = #TODO          # probability of detecting black when on white\n",
    "                    #              or white when on black\n",
    "\n",
    "# The world: 2 black, 2 white, 3 black, 1 white\n",
    "world  = [1, 1, 0, 0, 1, 1, 1, 0]\n",
    "\n",
    "# Beliefs about the localisation\n",
    "beliefs = [0, 0, 0, 0, 0, 0, 0, 0]\n",
    "\n",
    "# state  0 = sense, 1 = move\n",
    "# hit    1 = on black, 0 = on white\n",
    "# temp   Variable for cyclic move\n",
    "# sum_b  Sum of beliefs for normalization\n",
    "\n",
    "# Display the beliefs in the circle leds\n",
    "def display_beliefs():\n",
    "    global beliefs, LED, leds_circle\n",
    "    leds_circle = [beliefs[0]//LED, beliefs[1]//LED, beliefs[2]//LED, beliefs[3]//LED,\n",
    "                   beliefs[4]//LED, beliefs[5]//LED, beliefs[6]//LED, beliefs[7]//LED]\n",
    "        \n",
    "# Initialize when center button is touched\n",
    "@onevent \n",
    "def button_center():\n",
    "    global beliefs, button_center, state\n",
    "    if button_center == 0:\n",
    "        nf_math_fill(beliefs, 1000 // 8)\n",
    "        display_beliefs()\n",
    "        state = 0\n",
    "\n",
    "# Sense\n",
    "def sense():\n",
    "    global prox_ground_delta, THRESHOLD, hit, world, beliefs, P_HIT, P_MISS, sum_b\n",
    "    \n",
    "    # Check if on black (1) or not (0)\n",
    "    #TODO: \n",
    "\n",
    "    # If hit matches world at each position multiply the beliefs by the hit/miss probabilities\n",
    "    #TODO: \n",
    "\n",
    "    # Compute the sum of the beliefs\n",
    "    #TODO: \n",
    "\n",
    "# Move right cyclic\n",
    "def move():\n",
    "    global beliefs\n",
    "    #TODO: implement the function\n",
    "\n",
    "# Touch button forward to repeat sense -> move -> ...\n",
    "@onevent \n",
    "def button_forward():\n",
    "    global button_forward, state\n",
    "    if button_forward == 0:\n",
    "        if state == 0:\n",
    "            sense()\n",
    "            state = 1\n",
    "        else: \n",
    "            move()\n",
    "            state = 0\n",
    "    display_beliefs()"
   ]
  },
  {
   "cell_type": "markdown",
   "metadata": {},
   "source": [
    "**Continous movement:** Now, you can implement continuous movement of the robot (if you want to):\n",
    "Adjust the robot’s speed slightly so that its motion aligns smoothly with the sensor update rate."
   ]
  },
  {
   "cell_type": "markdown",
   "metadata": {},
   "source": []
  }
 ],
 "metadata": {
  "hide_input": false,
  "kernelspec": {
   "display_name": "Python 3",
   "language": "python",
   "name": "python3"
  },
  "language_info": {
   "codemirror_mode": {
    "name": "ipython",
    "version": 3
   },
   "file_extension": ".py",
   "mimetype": "text/x-python",
   "name": "python",
   "nbconvert_exporter": "python",
   "pygments_lexer": "ipython3",
   "version": "3.7.3"
  },
  "toc": {
   "base_numbering": 1,
   "nav_menu": {},
   "number_sections": true,
   "sideBar": true,
   "skip_h1_title": false,
   "title_cell": "Table of Contents",
   "title_sidebar": "Contents",
   "toc_cell": true,
   "toc_position": {},
   "toc_section_display": true,
   "toc_window_display": true
  }
 },
 "nbformat": 4,
 "nbformat_minor": 4
}
