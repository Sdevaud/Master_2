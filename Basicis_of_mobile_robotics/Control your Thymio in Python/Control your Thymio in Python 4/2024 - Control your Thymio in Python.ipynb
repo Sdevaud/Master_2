{
 "cells": [
  {
   "cell_type": "markdown",
   "metadata": {},
   "source": [
    "\n",
    "<div style=\"border:1px solid black; padding:20px 20px;text-align: justify;text-justify: inter-word\">\n",
    "    <strong>Control your Thymio in Python - Introduction to the tdmclient Library<br/>\n",
    "    <span style=\"text-decoration:underline;font-weight:bold;\">How to use this notebook?</span><br/>\n",
    "    This notebook is made of text cells and code cells. The code cells have to be <strong>executed</strong> to see the result of the program. To execute a cell, simply select it and click on the \"play\" button (<span style=\"font: bold 12px/30px Arial, serif;\">&#9658;</span>) in the tool bar just above the notebook, or type <code>shift + enter</code>. It is important to execute the code cells in their order of appearance in the notebook.<br/>\n",
    "</div>\n",
    "\n",
    "Please note that this notebook is based on the Control your Thymio notebook from Fall 2021 and the Thymio_python_start notebook available here https://www.robot-advance.com/EN/actualite-python-with-thymio-complete-guide-228.htm \n",
    "<br/>"
   ]
  },
  {
   "cell_type": "markdown",
   "metadata": {
    "tags": []
   },
   "source": [
    "# 1. Installations"
   ]
  },
  {
   "cell_type": "markdown",
   "metadata": {
    "ExecuteTime": {
     "end_time": "2021-08-29T09:32:26.328839Z",
     "start_time": "2021-08-29T09:32:26.315398Z"
    }
   },
   "source": [
    "Tdmclient is a python package that will allow you to connect your Thymio II robot via the Thymio Device Manager (component of the Thymio Suite). This notebook is based on the tdm client tutorial https://pypi.org/project/tdmclient/, where you can find more details about the package. "
   ]
  },
  {
   "cell_type": "markdown",
   "metadata": {},
   "source": [
    "To complete this tutorial, you will need to <span style=\"color:orange\"> **install Thymio Suite** (https://www.thymio.org/program/), **Python 3** (https://www.python.org/downloads/), and **pip3 - the package installer for Python** - (https://pypi.org/project/pip/).</span>"
   ]
  },
  {
   "cell_type": "markdown",
   "metadata": {},
   "source": [
    "To install the tdm client, run the next cell. \n",
    "\n",
    "Note : you may need to restart the kernel after installing the new packages"
   ]
  },
  {
   "cell_type": "code",
   "execution_count": 6,
   "metadata": {
    "ExecuteTime": {
     "end_time": "2021-09-18T19:10:08.937798Z",
     "start_time": "2021-09-18T19:10:06.445255Z"
    }
   },
   "outputs": [
    {
     "name": "stdout",
     "output_type": "stream",
     "text": [
      "Requirement already satisfied: tdmclient in /home/seby/miniconda3/envs/mondada/lib/python3.12/site-packages (0.1.21)\n",
      "Requirement already satisfied: websockets in /home/seby/miniconda3/envs/mondada/lib/python3.12/site-packages (from tdmclient) (15.0.1)\n",
      "Requirement already satisfied: zeroconf in /home/seby/miniconda3/envs/mondada/lib/python3.12/site-packages (from tdmclient) (0.148.0)\n",
      "Requirement already satisfied: ifaddr>=0.1.7 in /home/seby/miniconda3/envs/mondada/lib/python3.12/site-packages (from zeroconf->tdmclient) (0.2.0)\n"
     ]
    }
   ],
   "source": [
    "#Install the tdmclient package:\n",
    "!pip3 install tdmclient --upgrade"
   ]
  },
  {
   "cell_type": "markdown",
   "metadata": {},
   "source": [
    "## Note : Upgrading the Thymio firmware"
   ]
  },
  {
   "cell_type": "markdown",
   "metadata": {},
   "source": [
    "Note: *if you want to be able to access and control the LEDs from the serial port, you will have to upgrade the Thymio's firmware to the version 13. This however is not necessary but if you think that you need it then you will have to install Thymio suite, launch Aseba Studio and then right click on the Thymio and select upgrade firmware.*"
   ]
  },
  {
   "cell_type": "markdown",
   "metadata": {},
   "source": [
    "# 2. Getting started with tdmclient"
   ]
  },
  {
   "cell_type": "markdown",
   "metadata": {},
   "source": [
    "## 2.1. Pre-requisits"
   ]
  },
  {
   "cell_type": "markdown",
   "metadata": {},
   "source": [
    "<span style=\"color:orange\">**Open Thymio Suite**</span>\n",
    "\n",
    "\n",
    "To be able to use the client you first need to open Thymio suite (in order to have a Thymio Device Manager runnning). Only by doing that wil you be able to connect to the robot in python. \n",
    "\n",
    "Your **robot should be connected via USB or via the RF dongle**. It is important to note that **only one client can control the robot at the same time**: so we will need to choose if we want to use **Aseba Studio (in the Thymio Suite) or Python (via the tdmclient)**."
   ]
  },
  {
   "cell_type": "markdown",
   "metadata": {},
   "source": [
    "If you have already started to control your robot via Aseba Studio, you can unlock the robot by clicking the little lock icon in the tab title near the top left corner of the Aseba Studio window."
   ]
  },
  {
   "cell_type": "markdown",
   "metadata": {},
   "source": [
    "## 2.2. Displaying the list of Thymio robots connected to the computer with tdmclient list"
   ]
  },
  {
   "cell_type": "markdown",
   "metadata": {},
   "source": [
    "We can use the tdmclient to display the list of Thymio robots connected to the computer via the tdmclient list"
   ]
  },
  {
   "cell_type": "code",
   "execution_count": 7,
   "metadata": {
    "ExecuteTime": {
     "end_time": "2021-09-29T08:50:54.124139Z",
     "start_time": "2021-09-29T08:50:52.453610Z"
    }
   },
   "outputs": [
    {
     "name": "stdout",
     "output_type": "stream",
     "text": [
      "id:         ee38ffef-3c84-4f82-84cf-a9cb52844d18\n",
      "group id:   61522e0f-8393-4dd9-a344-c435682beeac\n",
      "product id: 8 (Thymio II)\n",
      "name:       thymio 1\n",
      "status:     2 (available)\n",
      "cap:        7\n",
      "firmware:   14\n",
      "\n"
     ]
    }
   ],
   "source": [
    "#The exclamation point (!) allow to execute a terminal command in the notebook:\n",
    "!python3 -m tdmclient list"
   ]
  },
  {
   "cell_type": "markdown",
   "metadata": {},
   "source": [
    "If you **get any error because python is not found**, please try to replace `python3` by `python` (just remove the 3 in the command line and the following ones)."
   ]
  },
  {
   "cell_type": "markdown",
   "metadata": {},
   "source": [
    "## 2.3. Observing variable changes\n",
    "\n",
    "If you want to observe the status of the variables on the Thymio (e.g. for debugging), there are two options"
   ]
  },
  {
   "cell_type": "markdown",
   "metadata": {},
   "source": [
    "### 2.3.1. In the notebook using tdmclient watch"
   ]
  },
  {
   "cell_type": "markdown",
   "metadata": {},
   "source": [
    "Display all node changes (variables, events and program in the scratchpad) until control-C is typed. You should type this command line in your command prompt (not supported on the notebook)"
   ]
  },
  {
   "cell_type": "raw",
   "metadata": {
    "ExecuteTime": {
     "start_time": "2021-09-28T14:32:31.104Z"
    }
   },
   "source": [
    "python3 -m tdmclient watch"
   ]
  },
  {
   "cell_type": "markdown",
   "metadata": {},
   "source": [
    "## 2.3.2. In a gui using tdm.client gui\n",
    "Run the variable browser in a window. The GUI is implemented with TK which we install with the following command"
   ]
  },
  {
   "cell_type": "code",
   "execution_count": 8,
   "metadata": {},
   "outputs": [
    {
     "name": "stdout",
     "output_type": "stream",
     "text": [
      "Requirement already satisfied: tk-tools in /home/seby/miniconda3/envs/mondada/lib/python3.12/site-packages (0.17.0)\n",
      "Requirement already satisfied: engineering-notation>=0.10.0 in /home/seby/miniconda3/envs/mondada/lib/python3.12/site-packages (from tk-tools) (0.10.0)\n",
      "Requirement already satisfied: stringify>=0.1.1 in /home/seby/miniconda3/envs/mondada/lib/python3.12/site-packages (from tk-tools) (0.1.1)\n"
     ]
    }
   ],
   "source": [
    "!python -m pip install tk-tools"
   ]
  },
  {
   "cell_type": "code",
   "execution_count": 9,
   "metadata": {
    "ExecuteTime": {
     "end_time": "2021-09-29T08:52:35.302392Z",
     "start_time": "2021-09-29T08:52:27.725666Z"
    }
   },
   "outputs": [
    {
     "name": "stdout",
     "output_type": "stream",
     "text": [
      "^C\n",
      "Traceback (most recent call last):\n",
      "  File \"<frozen runpy>\", line 198, in _run_module_as_main\n",
      "  File \"<frozen runpy>\", line 88, in _run_code\n",
      "  File \"/home/seby/miniconda3/envs/mondada/lib/python3.12/site-packages/tdmclient/__main__.py\", line 67, in <module>\n",
      "    sys.exit(getattr(tdmclient.tools, tool_name).main(values))\n",
      "             ^^^^^^^^^^^^^^^^^^^^^^^^^^^^^^^^^^^^^^^^^^^^^^^^\n",
      "  File \"/home/seby/miniconda3/envs/mondada/lib/python3.12/site-packages/tdmclient/tools/gui.py\", line 610, in main\n",
      "    win.mainloop()\n",
      "  File \"/home/seby/miniconda3/envs/mondada/lib/python3.12/tkinter/__init__.py\", line 1505, in mainloop\n",
      "    self.tk.mainloop(n)\n",
      "  File \"/home/seby/miniconda3/envs/mondada/lib/python3.12/tkinter/__init__.py\", line 1963, in __call__\n",
      "    def __call__(self, *args):\n",
      "\n",
      "KeyboardInterrupt\n"
     ]
    }
   ],
   "source": [
    "!python3 -m tdmclient gui"
   ]
  },
  {
   "cell_type": "code",
   "execution_count": null,
   "metadata": {},
   "outputs": [],
   "source": []
  },
  {
   "cell_type": "markdown",
   "metadata": {},
   "source": [
    "At launch, the robot is unlocked, i.e. the variables are just fetched and displayed: Observe is displayed in the status area at the bottom of the window. To be able to change them, activate menu Robot>Control. Then you can click any variable, change its value and type Return to confirm or Esc to cancel."
   ]
  },
  {
   "cell_type": "markdown",
   "metadata": {},
   "source": [
    "# 3. Programing the Thymio directly from Jupyter Notebooks"
   ]
  },
  {
   "cell_type": "markdown",
   "metadata": {},
   "source": [
    "With the following code block, you will activate the synchronisation between the internal variables of Thymio and the notebook's variables. The names are similar, with the '.' replaced by '_' (because dots have a different meaning in Python). For example, the center front sensor variable 'prox.horizontal[2]' becomes 'prox_horizontal[2]' and the variable to set the speed of the left motor 'motor.left.target' becomes 'motor_left_target'. "
   ]
  },
  {
   "cell_type": "code",
   "execution_count": 46,
   "metadata": {
    "ExecuteTime": {
     "end_time": "2021-09-29T09:00:54.579150Z",
     "start_time": "2021-09-29T09:00:51.818537Z"
    }
   },
   "outputs": [],
   "source": [
    "# Import tdmclient Notebook environment:\n",
    "import tdmclient.notebook\n",
    "await tdmclient.notebook.start()"
   ]
  },
  {
   "cell_type": "markdown",
   "metadata": {},
   "source": [
    "If you get a `Node lock error`, this means that one client had already locked the robot:\n",
    " - first check that the robot **is not already locked in Thymio Suite** (little lock icon in the tab title near the top left corner of the Aseba Studio window).\n",
    " - if you cannot unlock the robot in Thymio Suite, you probably need to restart the kernel of the notebook \n",
    " \n",
    "If there is any code remaining on the Thymio from your previous tries, you can simply turn off/on the robot."
   ]
  },
  {
   "cell_type": "markdown",
   "metadata": {},
   "source": [
    "## 3.1 Setting actuator variables"
   ]
  },
  {
   "cell_type": "markdown",
   "metadata": {},
   "source": [
    "Then the variables which match the robot's are synchronized in both directions, you can simply set their value in python and these will be actualised on the robot"
   ]
  },
  {
   "cell_type": "markdown",
   "metadata": {
    "ExecuteTime": {
     "end_time": "2021-09-06T09:22:44.390472Z",
     "start_time": "2021-09-06T09:22:44.375276Z"
    }
   },
   "source": [
    "Note that in python, dots *.* are replaced by underscores *_*: \"motor.left.target\" in Aseba become \"motor_left_target\" in python."
   ]
  },
  {
   "cell_type": "markdown",
   "metadata": {
    "tags": []
   },
   "source": [
    "### Motors\n",
    "The motors are regulated in speed. There are 3 variables that are used per motor:\n",
    "- `motors_left_speed` and `motor_right_speed` : read-only. The current speed value that is measured\n",
    "- `motors_left_pwm` and `motor_right_pwm` : read-only. The pwm value for the control\n",
    "- `motors_left_target` and `motor_right_target` : the target value set by the user, should range from -500 to 500\n",
    "\n",
    "The motors variables are updated in Thymio on the event `motor`, 100 times per second."
   ]
  },
  {
   "cell_type": "code",
   "execution_count": 3,
   "metadata": {},
   "outputs": [],
   "source": [
    "%%run_python\n",
    "# turn on the spot\n",
    "motor_left_target= 200\n",
    "motor_right_target= 200"
   ]
  },
  {
   "cell_type": "code",
   "execution_count": 4,
   "metadata": {},
   "outputs": [],
   "source": [
    "# forward\n",
    "motor_left_target= 200\n",
    "motor_right_target= 200"
   ]
  },
  {
   "cell_type": "code",
   "execution_count": 5,
   "metadata": {},
   "outputs": [],
   "source": [
    "# stop\n",
    "motor_left_target= 0\n",
    "motor_right_target= 0"
   ]
  },
  {
   "cell_type": "code",
   "execution_count": 10,
   "metadata": {
    "ExecuteTime": {
     "end_time": "2021-09-29T09:00:56.550874Z",
     "start_time": "2021-09-29T09:00:56.524943Z"
    }
   },
   "outputs": [],
   "source": [
    "motor_left_target = 100"
   ]
  },
  {
   "cell_type": "code",
   "execution_count": 11,
   "metadata": {
    "ExecuteTime": {
     "end_time": "2021-09-29T09:00:57.212105Z",
     "start_time": "2021-09-29T09:00:57.183183Z"
    }
   },
   "outputs": [],
   "source": [
    "motor_left_target = 0"
   ]
  },
  {
   "cell_type": "markdown",
   "metadata": {},
   "source": [
    "If you would like to have a function which sets both motor speeds you can create a function to do so like shown below. Beware : you will need to \n",
    "- add the decorator **@tdmclient.notebook.sync_var** just before your function to make sure that you variables (see https://github.com/epfl-mobots/tdm-python/blob/main/doc/notebooks.md)\n",
    "- declare the motor target variables as global variables within the function\n",
    "\n",
    "An example is shown below"
   ]
  },
  {
   "cell_type": "code",
   "execution_count": 45,
   "metadata": {},
   "outputs": [
    {
     "name": "stdout",
     "output_type": "stream",
     "text": [
      "\t\t Setting speed :  100 100\n",
      "\t\t Setting speed :  0 0\n"
     ]
    }
   ],
   "source": [
    "import time\n",
    "@tdmclient.notebook.sync_var\n",
    "def motors(l_speed=500, r_speed=500, verbose=False):\n",
    "    \"\"\"\n",
    "    Sets the motor speeds of the Thymio \n",
    "    param l_speed: left motor speed\n",
    "    param r_speed: right motor speed\n",
    "    param verbose: whether to print status messages or not\n",
    "    \"\"\"\n",
    "    global motor_left_target, motor_right_target\n",
    "    \n",
    "    # Printing the speeds if requested\n",
    "    if verbose:\n",
    "        print(\"\\t\\t Setting speed : \", l_speed, r_speed)\n",
    "    motor_left_target = l_speed\n",
    "    motor_right_target = r_speed\n",
    "    \n",
    "\n",
    "motors(100, 100, verbose=True) #test with lower speed value\n",
    "time.sleep(5)\n",
    "motors(0, 0, verbose=True)"
   ]
  },
  {
   "cell_type": "markdown",
   "metadata": {
    "tags": []
   },
   "source": [
    "### LEDs\n",
    "\n",
    "Thymio has many LEDs, which can be accessed either by variables or by native functions. Arguments range from 0 (off) to 32 (fully on). In addition, some constants have been defined for colours in tdmclient: `BLACK`, `BLUE`, `RED`, `GREEN`, `MAGENTA`, `YELLOW`, `CYAN` and `WHITE`."
   ]
  },
  {
   "cell_type": "code",
   "execution_count": 19,
   "metadata": {},
   "outputs": [
    {
     "name": "stdout",
     "output_type": "stream",
     "text": [
      "[0, 0, 32]\n",
      "[32, 0, 32]\n"
     ]
    }
   ],
   "source": [
    "var=leds_top\n",
    "print(var)\n",
    "leds_top = [32,0,32]\n",
    "print(leds_top)"
   ]
  },
  {
   "cell_type": "code",
   "execution_count": 18,
   "metadata": {},
   "outputs": [],
   "source": [
    "leds_top=[0,0,32] #the two top RGB LEDs as a variable. Arguments are in the order red, green, blue"
   ]
  },
  {
   "cell_type": "code",
   "execution_count": 20,
   "metadata": {},
   "outputs": [],
   "source": [
    "%%run_python\n",
    "nf_leds_top(0,0,32) #the two top RGB LEDs accessed by a funtion. Arguments are in the order red, green, blue"
   ]
  },
  {
   "cell_type": "code",
   "execution_count": 21,
   "metadata": {},
   "outputs": [],
   "source": [
    "leds_bottom_left=[0,32,32] #the bottom left RGB LED as a variable. Arguments are in the order red, green, blue"
   ]
  },
  {
   "cell_type": "code",
   "execution_count": 22,
   "metadata": {},
   "outputs": [],
   "source": [
    "%%run_python\n",
    "nf_leds_bottom_left(0,32,32) #the bottom left RGB LED accessed by a funtion.. Arguments are in the order red, green, blue"
   ]
  },
  {
   "cell_type": "code",
   "execution_count": 24,
   "metadata": {},
   "outputs": [],
   "source": [
    "leds_bottom_right=[0,32,0] #the bottom right RGB LED as a variable. Arguments are in the order red, green, blue"
   ]
  },
  {
   "cell_type": "code",
   "execution_count": 25,
   "metadata": {},
   "outputs": [],
   "source": [
    "%%run_python\n",
    "nf_leds_bottom_right(0,32,0) #the bottom right RGB LED accessed by a funtion.. Arguments are in the order red, green, blue"
   ]
  },
  {
   "cell_type": "code",
   "execution_count": null,
   "metadata": {},
   "outputs": [],
   "source": [
    "leds_circle=[0,4,8,12,16,20,24,28] #the circle of LEDs around the buttons as a variable. The first arguments is the front one, then clockwise."
   ]
  },
  {
   "cell_type": "code",
   "execution_count": null,
   "metadata": {},
   "outputs": [],
   "source": [
    "%%run_python\n",
    "nf_leds_circle(0,4,8,12,16,20,24,28) #the circle of LEDs around the buttons accessed by a funtion.. The first arguments is the front one, then clockwise."
   ]
  },
  {
   "cell_type": "code",
   "execution_count": null,
   "metadata": {},
   "outputs": [],
   "source": [
    "%%run_python\n",
    "nf_leds_prox_h(32,24,16,8,0,8,16,32) # the LEDs next to horizontal proximity sensors. The first argument is the front left LED, then clockwise."
   ]
  },
  {
   "cell_type": "code",
   "execution_count": null,
   "metadata": {},
   "outputs": [],
   "source": [
    "%%run_python\n",
    "nf_leds_prox_v(32,8) # the LEDs next to ground sensors. The first argument is the front left LED, then clockwise."
   ]
  },
  {
   "cell_type": "code",
   "execution_count": null,
   "metadata": {},
   "outputs": [],
   "source": [
    "%%run_python\n",
    "nf_leds_buttons(32,24,16,8) # the 4 LEDs next to the arrow buttons. The first argument is the left LED, second is the right LED."
   ]
  },
  {
   "cell_type": "code",
   "execution_count": null,
   "metadata": {},
   "outputs": [],
   "source": [
    "%%run_python\n",
    "nf_leds_rc(32) # the LED next to RC receiver."
   ]
  },
  {
   "cell_type": "code",
   "execution_count": null,
   "metadata": {},
   "outputs": [],
   "source": [
    "%%run_python\n",
    "nf_leds_temperature(32, 16) # the LEDs next to temperature sensor. First red, second blue."
   ]
  },
  {
   "cell_type": "code",
   "execution_count": 44,
   "metadata": {},
   "outputs": [
    {
     "ename": "KeyError",
     "evalue": "'error_msg'",
     "output_type": "error",
     "traceback": [
      "\u001b[31m---------------------------------------------------------------------------\u001b[39m",
      "\u001b[31mKeyError\u001b[39m                                  Traceback (most recent call last)",
      "\u001b[36mCell\u001b[39m\u001b[36m \u001b[39m\u001b[32mIn[44]\u001b[39m\u001b[32m, line 1\u001b[39m\n\u001b[32m----> \u001b[39m\u001b[32m1\u001b[39m \u001b[43mget_ipython\u001b[49m\u001b[43m(\u001b[49m\u001b[43m)\u001b[49m\u001b[43m.\u001b[49m\u001b[43mrun_cell_magic\u001b[49m\u001b[43m(\u001b[49m\u001b[33;43m'\u001b[39;49m\u001b[33;43mrun_python\u001b[39;49m\u001b[33;43m'\u001b[39;49m\u001b[43m,\u001b[49m\u001b[43m \u001b[49m\u001b[33;43m'\u001b[39;49m\u001b[33;43m'\u001b[39;49m\u001b[43m,\u001b[49m\u001b[43m \u001b[49m\u001b[33;43m'\u001b[39;49m\u001b[33;43mnf_leds_rc(32) # the LED next to microphone.\u001b[39;49m\u001b[38;5;130;43;01m\\n\u001b[39;49;00m\u001b[33;43m'\u001b[39;49m\u001b[43m)\u001b[49m\n",
      "\u001b[36mFile \u001b[39m\u001b[32m~/miniconda3/envs/mondada/lib/python3.12/site-packages/IPython/core/interactiveshell.py:2565\u001b[39m, in \u001b[36mInteractiveShell.run_cell_magic\u001b[39m\u001b[34m(self, magic_name, line, cell)\u001b[39m\n\u001b[32m   2563\u001b[39m \u001b[38;5;28;01mwith\u001b[39;00m \u001b[38;5;28mself\u001b[39m.builtin_trap:\n\u001b[32m   2564\u001b[39m     args = (magic_arg_s, cell)\n\u001b[32m-> \u001b[39m\u001b[32m2565\u001b[39m     result = \u001b[43mfn\u001b[49m\u001b[43m(\u001b[49m\u001b[43m*\u001b[49m\u001b[43margs\u001b[49m\u001b[43m,\u001b[49m\u001b[43m \u001b[49m\u001b[43m*\u001b[49m\u001b[43m*\u001b[49m\u001b[43mkwargs\u001b[49m\u001b[43m)\u001b[49m\n\u001b[32m   2567\u001b[39m \u001b[38;5;66;03m# The code below prevents the output from being displayed\u001b[39;00m\n\u001b[32m   2568\u001b[39m \u001b[38;5;66;03m# when using magics with decorator @output_can_be_silenced\u001b[39;00m\n\u001b[32m   2569\u001b[39m \u001b[38;5;66;03m# when the last Python token in the expression is a ';'.\u001b[39;00m\n\u001b[32m   2570\u001b[39m \u001b[38;5;28;01mif\u001b[39;00m \u001b[38;5;28mgetattr\u001b[39m(fn, magic.MAGIC_OUTPUT_CAN_BE_SILENCED, \u001b[38;5;28;01mFalse\u001b[39;00m):\n",
      "\u001b[36mFile \u001b[39m\u001b[32m~/miniconda3/envs/mondada/lib/python3.12/site-packages/tdmclient/notebook/private.py:381\u001b[39m, in \u001b[36mrun_python\u001b[39m\u001b[34m(line, cell)\u001b[39m\n\u001b[32m    378\u001b[39m     _interactive_console.clear_event_data()\n\u001b[32m    380\u001b[39m \u001b[38;5;28;01mtry\u001b[39;00m:\n\u001b[32m--> \u001b[39m\u001b[32m381\u001b[39m     \u001b[43m_interactive_console\u001b[49m\u001b[43m.\u001b[49m\u001b[43mrun_program\u001b[49m\u001b[43m(\u001b[49m\u001b[43mpython_preamble\u001b[49m\u001b[43m \u001b[49m\u001b[43m+\u001b[49m\u001b[43m \u001b[49m\u001b[43mcell\u001b[49m\u001b[43m,\u001b[49m\n\u001b[32m    382\u001b[39m \u001b[43m                                     \u001b[49m\u001b[43mnodes\u001b[49m\u001b[43m=\u001b[49m\u001b[43mnodes\u001b[49m\u001b[43m \u001b[49m\u001b[38;5;28;43;01mif\u001b[39;49;00m\u001b[43m \u001b[49m\u001b[38;5;28;43mlen\u001b[39;49m\u001b[43m(\u001b[49m\u001b[43mnodes\u001b[49m\u001b[43m)\u001b[49m\u001b[43m \u001b[49m\u001b[43m>\u001b[49m\u001b[43m \u001b[49m\u001b[32;43m0\u001b[39;49m\u001b[43m \u001b[49m\u001b[38;5;28;43;01melse\u001b[39;49;00m\u001b[43m \u001b[49m\u001b[38;5;28;43;01mNone\u001b[39;49;00m\u001b[43m,\u001b[49m\n\u001b[32m    383\u001b[39m \u001b[43m                                     \u001b[49m\u001b[43mlanguage\u001b[49m\u001b[43m=\u001b[49m\u001b[33;43m\"\u001b[39;49m\u001b[33;43mpython\u001b[39;49m\u001b[33;43m\"\u001b[39;49m\u001b[43m,\u001b[49m\n\u001b[32m    384\u001b[39m \u001b[43m                                     \u001b[49m\u001b[43mwarning_missing_global\u001b[49m\u001b[43m=\u001b[49m\u001b[43mwarning_missing_global\u001b[49m\u001b[43m,\u001b[49m\n\u001b[32m    385\u001b[39m \u001b[43m                                     \u001b[49m\u001b[43mwait\u001b[49m\u001b[43m=\u001b[49m\u001b[43mwait\u001b[49m\u001b[43m,\u001b[49m\u001b[43m \u001b[49m\u001b[43mimport_thymio\u001b[49m\u001b[43m=\u001b[49m\u001b[43mimport_thymio\u001b[49m\u001b[43m)\u001b[49m\n\u001b[32m    386\u001b[39m \u001b[38;5;28;01mexcept\u001b[39;00m \u001b[38;5;167;01mKeyboardInterrupt\u001b[39;00m:\n\u001b[32m    387\u001b[39m     \u001b[38;5;66;03m# avoid long exception message with stack trace\u001b[39;00m\n\u001b[32m    388\u001b[39m     \u001b[38;5;28mprint\u001b[39m(\u001b[33m\"\u001b[39m\u001b[33mInterrupted\u001b[39m\u001b[33m\"\u001b[39m)\n",
      "\u001b[36mFile \u001b[39m\u001b[32m~/miniconda3/envs/mondada/lib/python3.12/site-packages/tdmclient/repl.py:560\u001b[39m, in \u001b[36mTDMConsole.run_program\u001b[39m\u001b[34m(self, src, nodes, language, warning_missing_global, wait, import_thymio)\u001b[39m\n\u001b[32m    557\u001b[39m \u001b[38;5;28;01mwith\u001b[39;00m \u001b[38;5;28mself\u001b[39m.lock_robots(nodes) \u001b[38;5;28;01mas\u001b[39;00m nodes_l:\n\u001b[32m    558\u001b[39m     \u001b[38;5;66;03m# transpile, compile, load, set scratchpad, and run\u001b[39;00m\n\u001b[32m    559\u001b[39m     \u001b[38;5;28;01mfor\u001b[39;00m node \u001b[38;5;129;01min\u001b[39;00m nodes_l:\n\u001b[32m--> \u001b[39m\u001b[32m560\u001b[39m         wait_for_node = \u001b[43mrun_node\u001b[49m\u001b[43m(\u001b[49m\u001b[43mnode\u001b[49m\u001b[43m)\u001b[49m\n\u001b[32m    561\u001b[39m         wait_for_nodes = wait_for_nodes \u001b[38;5;129;01mor\u001b[39;00m wait_for_node\n\u001b[32m    562\u001b[39m         running_nodes.add(node)\n",
      "\u001b[36mFile \u001b[39m\u001b[32m~/miniconda3/envs/mondada/lib/python3.12/site-packages/tdmclient/repl.py:539\u001b[39m, in \u001b[36mTDMConsole.run_program.<locals>.run_node\u001b[39m\u001b[34m(node)\u001b[39m\n\u001b[32m    537\u001b[39m error = ClientAsync.aw(node.compile(src_aseba))\n\u001b[32m    538\u001b[39m \u001b[38;5;28;01mif\u001b[39;00m error \u001b[38;5;129;01mis\u001b[39;00m \u001b[38;5;129;01mnot\u001b[39;00m \u001b[38;5;28;01mNone\u001b[39;00m:\n\u001b[32m--> \u001b[39m\u001b[32m539\u001b[39m     \u001b[38;5;28;01mraise\u001b[39;00m \u001b[38;5;167;01mException\u001b[39;00m(\u001b[43merror\u001b[49m\u001b[43m[\u001b[49m\u001b[33;43m\"\u001b[39;49m\u001b[33;43merror_msg\u001b[39;49m\u001b[33;43m\"\u001b[39;49m\u001b[43m]\u001b[49m)\n\u001b[32m    540\u001b[39m node.send_set_scratchpad(src_aseba)\n\u001b[32m    541\u001b[39m wait_for_node = wait\n",
      "\u001b[31mKeyError\u001b[39m: 'error_msg'"
     ]
    }
   ],
   "source": [
    "%%run_python\n",
    "nf_leds_rc(32) # the LED next to microphone."
   ]
  },
  {
   "cell_type": "markdown",
   "metadata": {
    "tags": []
   },
   "source": [
    "## 4.2. Getting sensor values\n",
    "\n",
    "The thymio has multiple sensors: \n",
    "- buttons\n",
    "- proximity sensors\n",
    "- accelerometer\n",
    "- microphone\n",
    "- temperature sensor\n",
    "- remote control receiver\n",
    "\n",
    "We present a few here but feel free to look up the others if these would interest you for the project later in the semester"
   ]
  },
  {
   "cell_type": "markdown",
   "metadata": {},
   "source": [
    "### Buttons\n",
    "The state of the buttons can be read through variables. The value is either 1 (touched) or 0 (not touched). Try touching the buttons while executing the code below.\n",
    "The buttons states are updated in Thymio on the event `buttons`, 50 times per second. In addition, the events `button_center`, `button_forward`, `button_backward`, `button_left` and `button_right` are triggered when the respective buttons are touched, or released."
   ]
  },
  {
   "cell_type": "code",
   "execution_count": 47,
   "metadata": {},
   "outputs": [
    {
     "name": "stdout",
     "output_type": "stream",
     "text": [
      "Center button:  0\n",
      "Forward button:  0\n",
      "Backward button:  0\n",
      "Left button:  0\n",
      "Right button:  1\n"
     ]
    }
   ],
   "source": [
    "print('Center button: ',button_center)\n",
    "print('Forward button: ',button_forward)\n",
    "print('Backward button: ',button_backward)\n",
    "print('Left button: ',button_left)\n",
    "print('Right button: ',button_right)"
   ]
  },
  {
   "cell_type": "markdown",
   "metadata": {},
   "source": [
    "### Proximity sensors\n",
    "The state of the proximity sensors can be read through variables. The treatment is a bit different for the horizonal and vertical proximity sensors. The sensor values are updated in Thymio on the event `prox`, 10 times per second. Proximity sensors work with infrared light: they emit a beam of IR light and measure the light that is reflected. An object placed close will reflect more light than one placed far away.\n",
    "\n",
    "#### Horizontal proximity sensors\n",
    "The value is either 0 (nothing is in the field of view) or ranges between 1000 (far away) and 4000+ (very close). The variable `prox_horizontal` is a table of 7 entries for the 7 horizontal sensors, starting with the front left sensor and then in clockwise order. Try placing your hand or an object in front of or behind the robot while executing the code below, to see the values change."
   ]
  },
  {
   "cell_type": "code",
   "execution_count": 52,
   "metadata": {},
   "outputs": [
    {
     "name": "stdout",
     "output_type": "stream",
     "text": [
      "Proximity sensors values:  [1618, 2282, 1618, 0, 0, 0, 0]\n"
     ]
    }
   ],
   "source": [
    "print('Proximity sensors values: ', prox_horizontal)"
   ]
  },
  {
   "cell_type": "markdown",
   "metadata": {},
   "source": [
    "#### Vertical proximity sensors\n",
    "The vertical proximity sensors (often called ground sensors) are treated a bit differently. \n",
    "<br>They have 3 variables associated: `prox_ground_ambiant`, which measures the ambiant light, `prox_ground_reflected`, which measures the light when the sensor is emitting light, and `prox_ground_delta`, the difference of the two (= the light reflected by the object in front). Each variable is a 2-value table, the first one being for the left sensor and the second for the right sensor.\n",
    "<br>The values range from 0 (nothing detected / no light) to 1023 (something close / lots of light)."
   ]
  },
  {
   "cell_type": "code",
   "execution_count": 55,
   "metadata": {},
   "outputs": [
    {
     "name": "stdout",
     "output_type": "stream",
     "text": [
      "Ground sensors ambiant light:  [0, 0]\n"
     ]
    }
   ],
   "source": [
    "print('Ground sensors ambiant light: ', prox_ground_ambiant)"
   ]
  },
  {
   "cell_type": "code",
   "execution_count": 56,
   "metadata": {},
   "outputs": [
    {
     "name": "stdout",
     "output_type": "stream",
     "text": [
      "Ground sensors measure during light emission:  [572, 542]\n"
     ]
    }
   ],
   "source": [
    "print('Ground sensors measure during light emission: ', prox_ground_reflected)"
   ]
  },
  {
   "cell_type": "code",
   "execution_count": 57,
   "metadata": {},
   "outputs": [
    {
     "name": "stdout",
     "output_type": "stream",
     "text": [
      "Ground sensors delta (light actually reflected by an object in front):  [953, 926]\n"
     ]
    }
   ],
   "source": [
    "print('Ground sensors delta (light actually reflected by an object in front): ', prox_ground_delta)"
   ]
  },
  {
   "cell_type": "markdown",
   "metadata": {},
   "source": [
    "If you want to create a function which prints the sensor values on a loop you have to use the function decorator **@tdmclient.notebook.sync_var** as for the motors. Here is an example below "
   ]
  },
  {
   "cell_type": "code",
   "execution_count": null,
   "metadata": {},
   "outputs": [],
   "source": [
    "@tdmclient.notebook.sync_var \n",
    "def ground_sensor():\n",
    "    global prox_ground_reflected\n",
    "    return prox_ground_reflected\n",
    "\n",
    "@tdmclient.notebook.sync_var \n",
    "def horiz_sensor():\n",
    "    global prox_horizontal\n",
    "    return prox_horizontal\n",
    "\n",
    "@tdmclient.notebook.sync_var \n",
    "def print_sensor_values(sensor_func, print_duration=3, delta_time=0.5):\n",
    "    \"\"\"\n",
    "    While the end time has not been reached, print the sensor values every delta_time seconds\n",
    "    \"\"\"\n",
    "    \n",
    "    t_end = time.time()+print_duration\n",
    "\n",
    "    while time.time() < t_end:\n",
    "        time.sleep(delta_time)\n",
    "        print(sensor_func())"
   ]
  },
  {
   "cell_type": "code",
   "execution_count": null,
   "metadata": {},
   "outputs": [
    {
     "name": "stdout",
     "output_type": "stream",
     "text": [
      "[220, 143]\n",
      "[97, 132]\n",
      "[6, 31]\n",
      "[1, 11]\n",
      "[17, 23]\n",
      "[15, 25]\n"
     ]
    }
   ],
   "source": [
    "print_sensor_values(ground_sensor)"
   ]
  },
  {
   "cell_type": "code",
   "execution_count": null,
   "metadata": {},
   "outputs": [
    {
     "name": "stdout",
     "output_type": "stream",
     "text": [
      "[3522, 0, 3627, 4653, 4458, 0, 0]\n",
      "[3806, 2863, 4022, 4633, 4458, 0, 0]\n",
      "[3850, 2317, 3514, 4560, 4465, 0, 0]\n",
      "[3887, 2175, 3328, 4501, 4468, 0, 0]\n",
      "[3867, 1790, 3068, 4405, 4470, 0, 0]\n",
      "[3858, 1646, 2951, 4338, 4467, 0, 0]\n"
     ]
    }
   ],
   "source": [
    "print_sensor_values(horiz_sensor)"
   ]
  },
  {
   "cell_type": "markdown",
   "metadata": {},
   "source": [
    "### Accelerometer\n",
    "Thymio has a 3-axis accelerometer, which allows to detect its orientation in space, freefall and schocks.\n",
    "<br>The sensor values are stored in variable `acc`, a 3-value table (left-right axis, front-back axis, up-down axis). It is refreshed on event `acc`, at 16 Hz. The values range from -32 to 32, with 23 corresponding to 1 G. \n",
    "<br>In addition, when shocks are detected, event `tap`is triggered."
   ]
  },
  {
   "cell_type": "code",
   "execution_count": 58,
   "metadata": {},
   "outputs": [],
   "source": [
    "%%run_python\n",
    "@onevent\n",
    "def acc():\n",
    "    global acc, leds_top\n",
    "    if acc[0]>18 or acc[0]<-18: #Thymio is blue when placed on one of its sides\n",
    "        leds_top=[0,0,32]\n",
    "    if acc[1]>18 or acc[1]<-18: #Thymio is red when placed on its front or backside\n",
    "        leds_top=[32,0,0]\n",
    "    if acc[2]>18 or acc[2]<-18: #Thymio is green when placed on its wheels or upside-down\n",
    "        leds_top=[0,32,0]"
   ]
  },
  {
   "cell_type": "code",
   "execution_count": 59,
   "metadata": {},
   "outputs": [],
   "source": [
    "%%run_python\n",
    "@onevent\n",
    "def tap():\n",
    "    nf_sound_system(1) #Thymio plays the shutdown sound when hit"
   ]
  },
  {
   "cell_type": "markdown",
   "metadata": {},
   "source": [
    "# 4. Executing code directly on the Thymio (not executed on your computer)"
   ]
  },
  {
   "cell_type": "markdown",
   "metadata": {},
   "source": [
    "So far, you only interacted with variables but it is also possible to send a whole program to Thymio, written either in Aseba Python. Previously, the code was executed in python on your computer. Now, we are going to code in python, and then this code will be *transpiled* into Aseba, and then loaded directly on the robot.\n",
    "> Aseba is the native language used to program the Thymio robot (you can find more about it here http://wiki.thymio.org/en:asebalanguage)\n",
    "\n",
    "Below, we'll give equivalent examples in both languages: change the robot's led circle activation. \n",
    "\n",
    "%%run_python  allows to send the content of the cell (in simple python code) to the robot and run it.\n",
    "%%run_aseba is the equivalent that allows to send the content of the cell (in aseba code) to the robot and run it.\n",
    "\n"
   ]
  },
  {
   "cell_type": "markdown",
   "metadata": {},
   "source": [
    "## 4.1. Simple examples"
   ]
  },
  {
   "cell_type": "markdown",
   "metadata": {
    "ExecuteTime": {
     "end_time": "2021-09-21T16:47:38.746778Z",
     "start_time": "2021-09-21T16:47:38.735266Z"
    }
   },
   "source": [
    "You can use python code that will be transpiled in Aseba with `%%run_python`:"
   ]
  },
  {
   "cell_type": "code",
   "execution_count": null,
   "metadata": {
    "ExecuteTime": {
     "end_time": "2021-09-29T09:01:05.306444Z",
     "start_time": "2021-09-29T09:01:05.036169Z"
    }
   },
   "outputs": [],
   "source": [
    "%%run_python\n",
    "v = [32, 0, 32, 0, 32, 0, 32, 0]\n",
    "leds_circle = v"
   ]
  },
  {
   "cell_type": "markdown",
   "metadata": {},
   "source": [
    "You can use Aseba code directly with `%%run_aseba`:"
   ]
  },
  {
   "cell_type": "code",
   "execution_count": null,
   "metadata": {
    "ExecuteTime": {
     "end_time": "2021-09-29T09:01:07.585346Z",
     "start_time": "2021-09-29T09:01:07.329033Z"
    }
   },
   "outputs": [],
   "source": [
    "%%run_aseba\n",
    "var v[] = [32, 32, 32, 0, 0, 0, 32, 32]\n",
    "leds.circle = v"
   ]
  },
  {
   "cell_type": "markdown",
   "metadata": {},
   "source": [
    "Finally, `%%transpile_to_aseba` allows you to see how the python code you wrote is transpiled in Aseba:"
   ]
  },
  {
   "cell_type": "code",
   "execution_count": null,
   "metadata": {
    "ExecuteTime": {
     "end_time": "2021-09-29T09:01:07.841661Z",
     "start_time": "2021-09-29T09:01:07.828696Z"
    }
   },
   "outputs": [
    {
     "name": "stdout",
     "output_type": "stream",
     "text": [
      "var v[8]\n",
      "\n",
      "v = [30, 0, 32, 0, 32, 0, 32, 0]\n",
      "leds.circle = v\n",
      "\n"
     ]
    }
   ],
   "source": [
    "%%transpile_to_aseba\n",
    "v = [30, 0, 32, 0, 32, 0, 32, 0]\n",
    "leds_circle = v"
   ]
  },
  {
   "cell_type": "markdown",
   "metadata": {},
   "source": [
    "## 4.2. Thymio Events "
   ]
  },
  {
   "cell_type": "markdown",
   "metadata": {},
   "source": [
    "> Aseba is an event-based architecture, which means that events trigger code execution asynchronously.\n",
    "Events can be external, for instance a user-defined event coming from another Aseba node, or internal, for instance emitted by a sensor that provides updated data. from http://wiki.thymio.org/en:asebalanguage#toc15"
   ]
  },
  {
   "cell_type": "markdown",
   "metadata": {},
   "source": [
    "Here is an example of ASEBA code that will be sent to the robot in order to change the robot's color depending on the button pressed"
   ]
  },
  {
   "cell_type": "code",
   "execution_count": null,
   "metadata": {},
   "outputs": [],
   "source": [
    "%%run_aseba\n",
    "onevent buttons\n",
    "    if button.center==1 then\n",
    "        leds.top=[32,0,0]\n",
    "    elseif button.forward==1 then\n",
    "        leds.top=[0,32,0]\n",
    "    elseif button.backward==1 then\n",
    "        leds.top=[0,0,32]\n",
    "    elseif button.left==1 then\n",
    "        leds.top=[32,32,0]\n",
    "    elseif button.right==1 then\n",
    "        leds.top=[0,32,32]\n",
    "    end"
   ]
  },
  {
   "cell_type": "markdown",
   "metadata": {},
   "source": [
    "To do the python equivalent, you have to create a function for the event and decorate it with `@onevent`. This will result in the execution of the function every time the event is triggered. \n",
    "If Thymio variables are used inside the event, they should be declared as global (by default they would be considered local variables).\n",
    "\n"
   ]
  },
  {
   "cell_type": "code",
   "execution_count": null,
   "metadata": {},
   "outputs": [],
   "source": [
    "%%run_python\n",
    "@onevent\n",
    "def buttons():\n",
    "    global button_center, button_forward, button_backward, button_left, button_right, leds_top\n",
    "    if button_center==1: \n",
    "        leds_top=[32,0,0]\n",
    "    elif button_forward==1: \n",
    "        leds_top=[0,32,0]\n",
    "    elif button_backward==1: \n",
    "        leds_top=[0,0,32]\n",
    "    elif button_left==1: \n",
    "        leds_top=[32,32,0]\n",
    "    elif button_right==1: \n",
    "        leds_top=[0,32,32]"
   ]
  },
  {
   "cell_type": "markdown",
   "metadata": {},
   "source": [
    "Here is another example using the proximity sensor where the objecive is to change the robot's speed depending on the proximity sensor value. \n",
    "The event **prox** is generated after every update by the Thymio of the proximity sensors, with a frequency of 10 Hz. \n",
    "Also, please note that the variables are all global in Aseba. That means you should not forget to declare global variables at the beginning of each function. If you don't, your python code transpiled could modify a local variable in a function, and not the desired variable `motor_left_target` for example."
   ]
  },
  {
   "cell_type": "code",
   "execution_count": null,
   "metadata": {
    "ExecuteTime": {
     "end_time": "2021-09-29T09:01:09.833332Z",
     "start_time": "2021-09-29T09:01:09.478282Z"
    }
   },
   "outputs": [],
   "source": [
    "%%run_python\n",
    "\n",
    "@onevent\n",
    "def prox():\n",
    "    global prox_horizontal, motor_left_target, motor_right_target\n",
    "    prox_front = prox_horizontal[2]\n",
    "    speed = -prox_front // 10\n",
    "    motor_left_target = speed\n",
    "    motor_right_target = speed"
   ]
  },
  {
   "cell_type": "markdown",
   "metadata": {},
   "source": [
    "Thymio has an array of local events, most of which were already explained. In addition, there are two configurable timers, `timer0` and `timer1`. Their periods are set through the `timer_period` variable in milliseconds."
   ]
  },
  {
   "cell_type": "code",
   "execution_count": null,
   "metadata": {
    "tags": []
   },
   "outputs": [],
   "source": [
    "%%run_python\n",
    "timer_period[0]=100 #timer0 will fire 10 times per second\n",
    "timer_period[1]=1000 #timer1 will fire once per second\n",
    "toggle0=0\n",
    "toggle1=0\n",
    "\n",
    "@onevent\n",
    "def timer0(): #on timer0 we toggle the color of the top LEDs\n",
    "    global leds_top, toggle0\n",
    "    if toggle0:\n",
    "        toggle0=0\n",
    "        leds_top=RED\n",
    "    else:\n",
    "        toggle0=1\n",
    "        leds_top=BLACK\n",
    "    \n",
    "@onevent\n",
    "def timer1(): #on timer1 we toggle the color of the bottom LEDs\n",
    "    global leds_bottom_left, leds_bottom_right, toggle1\n",
    "    if toggle1:\n",
    "        toggle1=0\n",
    "        leds_bottom_left=GREEN\n",
    "        leds_bottom_right=GREEN\n",
    "    else:\n",
    "        toggle1=1\n",
    "        leds_bottom_left=BLACK\n",
    "        leds_bottom_right=BLACK  "
   ]
  },
  {
   "cell_type": "markdown",
   "metadata": {},
   "source": [
    "Here is a table with all the events that you can program"
   ]
  },
  {
   "cell_type": "markdown",
   "metadata": {},
   "source": [
    "| event | description | frequency (Hz) | result |\n",
    "| :- | :- | :- | :- |\n",
    "| button_backward | back arrow was pressed or released | upon action | button.backward |\n",
    "| button_left | left arrow was pressed or released | upon action | button.left |\n",
    "| button_center | central button was pressed or released | upon action | button.center |\n",
    "|button_forward|front arrow was pressed or released|upon action|button.forward|\n",
    "|button_right|right arrow was pressed or released|upon action|button.right|\n",
    "|buttons|button values have been probed|50|buttons.backward, buttons.left, buttons.center, buttons.forward, buttons.right|\n",
    "|prox|proximity sensors were read|10|prox.horizontal[0-7], prox.ground.ambiant[0-1], prox.ground.reflected[0-1] and prox.ground.delta[0-1] |\n",
    "|prox_comm|value received from IR sensors|upon value reception|prox.comm.rx|\n",
    "|tap|a shock was detected|upon shock|acc[0-2] |\n",
    "|acc|the accelerometer was read|16|acc[0-2] |\n",
    "|mic|ambient sound intensity was above threshold|when condition is true|mic.intensity|\n",
    "|sound_finished|a sound started by aseba has finished playing by itself|when sound finishes|\n",
    "|temperature|temperature was read|1|temperature|\n",
    "|rc5|the infrared remote-control receiver got a signal|upon signal reception|rc5.address and rc5.command|\n",
    "|motor|PID is executed \t100|motor.left/right.speed, motor.left/right.pwm |\n",
    "|timer0|when timer 0 period expires|user-defined||\n",
    "|timer1|when timer 1 period expires|user-defined||"
   ]
  },
  {
   "cell_type": "markdown",
   "metadata": {},
   "source": [
    "### Global events\n",
    "\n",
    "Users can also configure global events, which are not received locally but are set to other nodes in the network in Aseba. In our case, this allows to send event data to the computer. In Python for Thymio, global events do not need to be declared. They are sent with the `emit(\"name\")` or `emit(\"name\", param1, param2, ...)` to emit an event without or with parameters. The first argument must be a literal string, delimited with single or double quotes. The remaining arguments, if any, must be scalar expressions and are passed as event data."
   ]
  },
  {
   "cell_type": "markdown",
   "metadata": {},
   "source": [
    "Let's see the following example. Let's imagine that we want to send a measure of the temperature each time the front button is pressed:"
   ]
  },
  {
   "cell_type": "code",
   "execution_count": null,
   "metadata": {},
   "outputs": [],
   "source": [
    "%%run_python --wait\n",
    "#this is the code that will run on the robot\n",
    "\n",
    "@onevent\n",
    "def button_forward(): #every time we touch the forward button, a measure of the temperature is made and sent to the computer\n",
    "    if button_forward==1: \n",
    "        global temperature\n",
    "        emit(\"Temp\", temperature)\n",
    "    \n",
    "    \n",
    "@onevent\n",
    "def button_center(): #center button to exit\n",
    "        exit()\n"
   ]
  },
  {
   "cell_type": "markdown",
   "metadata": {},
   "source": [
    "On the computer, the event data can be retrieved with the function `get_event_data(event_name)`. To clear the past events, use `clear_event_data()`.\n",
    "\n",
    "After executing the code above, press the forward button on Thymio y few times to collect measures, then the center button to exit. Then execute the line below to retrieve the collected data."
   ]
  },
  {
   "cell_type": "code",
   "execution_count": null,
   "metadata": {},
   "outputs": [],
   "source": [
    "get_event_data(\"Temp\")"
   ]
  },
  {
   "cell_type": "code",
   "execution_count": null,
   "metadata": {},
   "outputs": [],
   "source": [
    "clear_event_data()"
   ]
  },
  {
   "cell_type": "markdown",
   "metadata": {},
   "source": [
    "Custom event can also be sent from the computer to the robot. Let's see an example below where the robot has its own behaviour but reacts to the event sent from the computer:"
   ]
  },
  {
   "cell_type": "code",
   "execution_count": null,
   "metadata": {},
   "outputs": [],
   "source": [
    "%%run_python\n",
    "\n",
    "timer_period[0]=1000 #timer0 will fire once per second\n",
    "toggle=0\n",
    "\n",
    "#behaviour of the robot, turning and blinking\n",
    "@onevent\n",
    "def timer0(): #on timer0 we toggle the color of the top LEDs\n",
    "    global leds_top, toggle, motor_left_target, motor_right_target\n",
    "    if toggle:\n",
    "        toggle=0\n",
    "        motor_left_target=100\n",
    "        motor_right_target=-100\n",
    "        leds_top=RED\n",
    "    else:\n",
    "        toggle=1\n",
    "        motor_left_target=-100\n",
    "        motor_right_target=100\n",
    "        leds_top=BLUE\n",
    "        \n",
    "#custom event, sent from the computer: stop until next time the timer fires\n",
    "@onevent\n",
    "def shortbreak():\n",
    "    global leds_top, motor_left_target, motor_right_target\n",
    "    motor_left_target=0\n",
    "    motor_right_target=0\n",
    "    leds_top=GREEN\n",
    "    \n"
   ]
  },
  {
   "cell_type": "markdown",
   "metadata": {},
   "source": [
    "Once this is running on the robot, execute the following cell a few times to see how it turns Thymio green and stops it until the next timer event."
   ]
  },
  {
   "cell_type": "code",
   "execution_count": null,
   "metadata": {},
   "outputs": [],
   "source": [
    "send_event(\"shortbreak\")"
   ]
  },
  {
   "cell_type": "markdown",
   "metadata": {},
   "source": [
    "Use the next cell to stop the robot."
   ]
  },
  {
   "cell_type": "code",
   "execution_count": null,
   "metadata": {},
   "outputs": [],
   "source": [
    "%%run_python\n",
    "motor_left_target=0\n",
    "motor_right_target=0"
   ]
  },
  {
   "cell_type": "markdown",
   "metadata": {},
   "source": [
    "### Exit and print: special cases of global event\n",
    "In tdmclient, two functions are available, that do not exist in the native functions of Thymio. `print(\"text\", exp, ...)` allows to print to the notebook a string followed by one or more values. \n",
    "Instead of just `%%run_python`, the program cell must begin with `%%run_python --wait` in order to run as long as required to process events. If you do not want to wait until the end of the execution you can force stop by clicking on the Stop button of Jupyter (interrupt the kernel).\n",
    "`exit()` then allows to end the execution of a cell (useful when we used `--wait` at the beginning of the cell). \n",
    "\n",
    "These two functions actually send global events from the robot to the notebook, that are then recognized and used to print something or exit the cell."
   ]
  },
  {
   "cell_type": "code",
   "execution_count": null,
   "metadata": {},
   "outputs": [],
   "source": [
    "%%run_python --wait\n",
    "\n",
    "@onevent\n",
    "def button_forward(): #when we touch the forward button, we print something based on the internal state of the robot\n",
    "    if button_forward==1:\n",
    "        print(\"Something based on the internal state of the robot\", acc[2]*prox_ground_delta[0], button_forward)\n",
    "        \n",
    "@onevent\n",
    "def button_center(): #once we're done sending events, the center button will let us exit the cell\n",
    "    if button_center==1:\n",
    "        exit()\n",
    "    "
   ]
  },
  {
   "cell_type": "markdown",
   "metadata": {},
   "source": [
    "Here is another example which makes use of the Thymio's timer and alternates the color of the robot between CYAN and off according to the value of i while sending a print statement to the notebook"
   ]
  },
  {
   "cell_type": "code",
   "execution_count": null,
   "metadata": {
    "ExecuteTime": {
     "end_time": "2021-09-29T09:01:18.051340Z",
     "start_time": "2021-09-29T09:01:11.382187Z"
    },
    "tags": []
   },
   "outputs": [],
   "source": [
    "%%run_python --wait\n",
    "\n",
    "i = 0\n",
    "\n",
    "timer_period[0] = 1000\n",
    "\n",
    "@onevent\n",
    "def timer0():\n",
    "    global i, leds_top\n",
    "    i += 1\n",
    "    is_odd = i % 2 == 1\n",
    "    if is_odd:\n",
    "        print(i, \"odd\")\n",
    "        leds_top = [0, 32, 32]\n",
    "    else:\n",
    "        print(i, \"even\")\n",
    "        leds_top = [0, 0, 0]\n",
    "        \n",
    "    if i> 5:\n",
    "        exit()"
   ]
  },
  {
   "cell_type": "markdown",
   "metadata": {},
   "source": [
    "## Advanced concept: custom events"
   ]
  },
  {
   "cell_type": "markdown",
   "metadata": {},
   "source": [
    "You can send events from the notebook to the robot. This can be useful for instance if you implement a low-level behavior on the robot, such as obstacle avoidance and sensor acquisition, and send at a lower rate high-level commands which require more computing power available only on the PC."
   ]
  },
  {
   "cell_type": "markdown",
   "metadata": {},
   "source": [
    "The Thymio program below listens for events named `color` and changes the top RGB led color based on a single number. Bits 0, 1 and 2 represents the red, green, and blue components respectively."
   ]
  },
  {
   "cell_type": "code",
   "execution_count": null,
   "metadata": {
    "ExecuteTime": {
     "end_time": "2021-09-29T09:01:21.408356Z",
     "start_time": "2021-09-29T09:01:21.067269Z"
    }
   },
   "outputs": [],
   "source": [
    "%%run_python\n",
    "\n",
    "@onevent\n",
    "def color(c):\n",
    "    global leds_top\n",
    "    leds_top[0] = 32 if c & 1 else 0\n",
    "    leds_top[1] = 32 if c & 2 else 0\n",
    "    leds_top[2] = 32 if c & 4 else 0"
   ]
  },
  {
   "cell_type": "markdown",
   "metadata": {},
   "source": [
    "Now that the program runs on the robot, we can send it `color` events. The number of values in `send_event` should match the `@onevent` declaration. They can be passed as numeric arguments or as arrays."
   ]
  },
  {
   "cell_type": "code",
   "execution_count": null,
   "metadata": {
    "ExecuteTime": {
     "end_time": "2021-09-29T09:01:27.196867Z",
     "start_time": "2021-09-29T09:01:23.077890Z"
    }
   },
   "outputs": [],
   "source": [
    "for col in range(8):\n",
    "    send_event(\"color\", col)\n",
    "    sleep(0.5)"
   ]
  },
  {
   "cell_type": "markdown",
   "metadata": {
    "ExecuteTime": {
     "end_time": "2021-09-29T08:41:09.198901Z",
     "start_time": "2021-09-29T08:41:09.180948Z"
    }
   },
   "source": [
    "It is also possible to *collect data from the robot using custom events*. You can have a look here https://pypi.org/project/tdmclient/#description (search custom events, at the very end of the tutorial)."
   ]
  },
  {
   "cell_type": "markdown",
   "metadata": {},
   "source": [
    "Finally, you can stop the notebook environment, in order to unlock the robot. This will be very useful as we are going to use another method in the next part of the tutorial."
   ]
  },
  {
   "cell_type": "code",
   "execution_count": 62,
   "metadata": {
    "ExecuteTime": {
     "end_time": "2021-09-29T09:01:29.130692Z",
     "start_time": "2021-09-29T09:01:29.000043Z"
    }
   },
   "outputs": [],
   "source": [
    "await tdmclient.notebook.stop()"
   ]
  },
  {
   "cell_type": "markdown",
   "metadata": {},
   "source": [
    "# 5. Executing an existing ASEBA program on the Thymio"
   ]
  },
  {
   "cell_type": "markdown",
   "metadata": {},
   "source": [
    "## 5.1. Using an ASEBA file with tdmclient run"
   ]
  },
  {
   "cell_type": "markdown",
   "metadata": {
    "ExecuteTime": {
     "end_time": "2021-08-29T10:21:38.354328Z",
     "start_time": "2021-08-29T10:21:38.339955Z"
    }
   },
   "source": [
    "Execute an Aseba program on the Thymio:\n",
    "\n",
    "In this example, we are going to program the blink.aseba program on the thymio using the following command"
   ]
  },
  {
   "cell_type": "code",
   "execution_count": 66,
   "metadata": {
    "ExecuteTime": {
     "end_time": "2021-09-29T09:03:55.211788Z",
     "start_time": "2021-09-29T09:03:53.050571Z"
    }
   },
   "outputs": [],
   "source": [
    "!python3 -m tdmclient run --scratchpad src/blink.aseba"
   ]
  },
  {
   "cell_type": "markdown",
   "metadata": {},
   "source": [
    "The option `--scratchpad` allow the code to be also displayed in the Aseba Studio (where you are able to observe some fetaures of the robot). \n",
    "\n",
    "And then you can stop it:"
   ]
  },
  {
   "cell_type": "code",
   "execution_count": 64,
   "metadata": {
    "ExecuteTime": {
     "end_time": "2021-09-29T09:04:02.009596Z",
     "start_time": "2021-09-29T09:04:00.141596Z"
    }
   },
   "outputs": [],
   "source": [
    "!python3 -m tdmclient run --stop"
   ]
  },
  {
   "cell_type": "markdown",
   "metadata": {},
   "source": [
    "## 5.2. Using a python file with tdmclient run\n",
    "\n",
    "To avoid having to learn the Aseba language, it is now possible to program the robot with Python files. Note however that only a subset of Python functionalities can be used:"
   ]
  },
  {
   "cell_type": "markdown",
   "metadata": {},
   "source": [
    "*Note: it seems that this command will run forever, so if you want to test it, you should press the notebook button stop the kernel to stop the cell and be able to run the following ones. In the command lines just press Ctrl+C. It should be fixed soon in the next tdmclient version.*"
   ]
  },
  {
   "cell_type": "raw",
   "metadata": {
    "ExecuteTime": {
     "start_time": "2021-09-28T14:43:01.883Z"
    }
   },
   "source": [
    "!python3 -m tdmclient run --scratchpad src/blink.py"
   ]
  },
  {
   "cell_type": "markdown",
   "metadata": {},
   "source": [
    "Don't forget to stop it:"
   ]
  },
  {
   "cell_type": "raw",
   "metadata": {
    "ExecuteTime": {
     "start_time": "2021-09-28T14:28:02.765Z"
    }
   },
   "source": [
    "!python3 -m tdmclient run --stop"
   ]
  },
  {
   "cell_type": "markdown",
   "metadata": {},
   "source": [
    "# 6. Asynchronous programming to control the Thymio from Python"
   ]
  },
  {
   "cell_type": "markdown",
   "metadata": {},
   "source": [
    "## What is asynchronous programming?"
   ]
  },
  {
   "cell_type": "markdown",
   "metadata": {},
   "source": [
    "We can also call an **asynchronous** function in such a way that **its result is waited for**. This can be done in a *coroutine*, a special function which is executed at the same time as other tasks your program must perform, with the `await` Python keyword; or handled by the helper function `aw`. Keyword await is valid only in a function (or program), hence we cannot call it directly from the Python prompt."
   ]
  },
  {
   "cell_type": "markdown",
   "metadata": {
    "ExecuteTime": {
     "end_time": "2021-09-06T08:37:36.790787Z",
     "start_time": "2021-09-06T08:37:36.775167Z"
    }
   },
   "source": [
    ">An asynchronous program behaves differently. It still takes one execution step at a time. The difference is that the system may not wait for an execution step to be completed before moving on to the next one. This means that the program will move on to future execution steps even though a previous step hasn’t yet finished and is still running elsewhere. This also means that the program knows what to do when a previous step does finish running. from https://realpython.com/python-async-features/#understanding-asynchronous-programming"
   ]
  },
  {
   "cell_type": "markdown",
   "metadata": {},
   "source": [
    ">In the asynchronous world, things change around a bit. Everything runs on a central event loop, which is a bit of core code that lets you run several coroutines at once. Coroutines run synchronously until they hit an await and then they pause, give up control to the event loop, and something else can happen. from https://www.aeracode.org/2018/02/19/python-async-simplified/"
   ]
  },
  {
   "cell_type": "markdown",
   "metadata": {},
   "source": [
    "First, we are going to use Python, executed on our computer, to give instructions to the Thymio.\n",
    "One particular useful class is called `ClientAsync`, and we will understand some of its features:"
   ]
  },
  {
   "cell_type": "code",
   "execution_count": 67,
   "metadata": {
    "ExecuteTime": {
     "end_time": "2021-09-29T09:01:33.567818Z",
     "start_time": "2021-09-29T09:01:33.548869Z"
    }
   },
   "outputs": [],
   "source": [
    "from tdmclient import ClientAsync, aw"
   ]
  },
  {
   "cell_type": "markdown",
   "metadata": {},
   "source": [
    "To **connect your Thymio** create a Client Object"
   ]
  },
  {
   "cell_type": "code",
   "execution_count": 68,
   "metadata": {
    "ExecuteTime": {
     "end_time": "2021-09-29T09:01:35.021927Z",
     "start_time": "2021-09-29T09:01:35.008963Z"
    }
   },
   "outputs": [],
   "source": [
    "#Create a Client Object:\n",
    "client = ClientAsync()"
   ]
  },
  {
   "cell_type": "markdown",
   "metadata": {
    "ExecuteTime": {
     "end_time": "2021-09-21T16:43:09.948586Z",
     "start_time": "2021-09-21T16:43:09.941557Z"
    }
   },
   "source": [
    "To check the connexion the client will connect to the TDM (Thymio Device Manager) which will send messages to us, such as one to announce the existence of a robot:"
   ]
  },
  {
   "cell_type": "code",
   "execution_count": 69,
   "metadata": {
    "ExecuteTime": {
     "end_time": "2021-09-29T09:01:37.732674Z",
     "start_time": "2021-09-29T09:01:37.723699Z"
    }
   },
   "outputs": [
    {
     "data": {
      "text/plain": [
       "True"
      ]
     },
     "execution_count": 69,
     "metadata": {},
     "output_type": "execute_result"
    }
   ],
   "source": [
    "client.process_waiting_messages()"
   ]
  },
  {
   "cell_type": "markdown",
   "metadata": {},
   "source": [
    "The value of `node` is an object which contains some properties related to the robot and let you communicate with it. We can called the node explicitely, its _id_ is displayed when you just print the node:"
   ]
  },
  {
   "cell_type": "code",
   "execution_count": 70,
   "metadata": {
    "ExecuteTime": {
     "end_time": "2021-09-29T09:01:39.186783Z",
     "start_time": "2021-09-29T09:01:39.176809Z"
    }
   },
   "outputs": [
    {
     "data": {
      "text/plain": [
       "Node ee38ffef-3c84-4f82-84cf-a9cb52844d18"
      ]
     },
     "execution_count": 70,
     "metadata": {},
     "output_type": "execute_result"
    }
   ],
   "source": [
    "node = client.nodes[0]\n",
    "node"
   ]
  },
  {
   "cell_type": "markdown",
   "metadata": {},
   "source": [
    "## 6.1. Load an Aseba program on the Thymio"
   ]
  },
  {
   "cell_type": "markdown",
   "metadata": {},
   "source": [
    "A very useful method will allow you to `lock` the robot, so you will be able to change its variables and run programs. Beware that the robot **should no be already locked in Thymio Suite.**"
   ]
  },
  {
   "cell_type": "code",
   "execution_count": 71,
   "metadata": {
    "ExecuteTime": {
     "end_time": "2021-09-29T09:02:13.517914Z",
     "start_time": "2021-09-29T09:02:13.328421Z"
    }
   },
   "outputs": [
    {
     "data": {
      "text/plain": [
       "Node ee38ffef-3c84-4f82-84cf-a9cb52844d18"
      ]
     },
     "execution_count": 71,
     "metadata": {},
     "output_type": "execute_result"
    }
   ],
   "source": [
    "aw(node.lock())"
   ]
  },
  {
   "cell_type": "markdown",
   "metadata": {},
   "source": [
    "We will then use a little Aseba program, to make the top led of the Thymio blink:"
   ]
  },
  {
   "cell_type": "code",
   "execution_count": 72,
   "metadata": {
    "ExecuteTime": {
     "end_time": "2021-09-29T09:02:14.980002Z",
     "start_time": "2021-09-29T09:02:14.838381Z"
    }
   },
   "outputs": [
    {
     "name": "stdout",
     "output_type": "stream",
     "text": [
      "The compilation is successful : True\n"
     ]
    }
   ],
   "source": [
    "# Define the program\n",
    "program = \"\"\"\n",
    "var on = 0  # 0=off, 1=on\n",
    "timer.period[0] = 500\n",
    "\n",
    "onevent timer0\n",
    "    on = 1 - on  # \"on = not on\" with a syntax Aseba accepts\n",
    "    leds.top = [32 * on, 32 * on, 0]\n",
    "\"\"\"\n",
    "\n",
    "# Compile the program\n",
    "r = aw(node.compile(program))\n",
    "\n",
    "print(\"The compilation is successful :\", r==None)"
   ]
  },
  {
   "cell_type": "markdown",
   "metadata": {},
   "source": [
    "*The variable `r` will store the result of the call: `None` if the operation was sucessful, an error number otherwise.*"
   ]
  },
  {
   "cell_type": "code",
   "execution_count": 73,
   "metadata": {
    "ExecuteTime": {
     "end_time": "2021-09-29T09:02:15.872613Z",
     "start_time": "2021-09-29T09:02:15.744955Z"
    }
   },
   "outputs": [],
   "source": [
    "# Run the program that is already compiled:\n",
    "aw(node.run())"
   ]
  },
  {
   "cell_type": "code",
   "execution_count": 74,
   "metadata": {
    "ExecuteTime": {
     "end_time": "2021-09-29T09:02:16.116959Z",
     "start_time": "2021-09-29T09:02:15.985312Z"
    }
   },
   "outputs": [],
   "source": [
    "# Stop the program\n",
    "aw(node.stop())"
   ]
  },
  {
   "cell_type": "markdown",
   "metadata": {},
   "source": [
    "We can write some text in the Aseba Studio (we can use it to only *observe* the behavior of the robot):"
   ]
  },
  {
   "cell_type": "code",
   "execution_count": null,
   "metadata": {
    "ExecuteTime": {
     "end_time": "2021-09-29T09:02:16.748269Z",
     "start_time": "2021-09-29T09:02:16.622607Z"
    }
   },
   "outputs": [],
   "source": [
    "aw(node.set_scratchpad(\"Hello, Studio!\"))"
   ]
  },
  {
   "cell_type": "markdown",
   "metadata": {},
   "source": [
    "## 6.2. Passing values to the Thymio"
   ]
  },
  {
   "cell_type": "markdown",
   "metadata": {},
   "source": [
    "Change the speed:"
   ]
  },
  {
   "cell_type": "code",
   "execution_count": 75,
   "metadata": {
    "ExecuteTime": {
     "end_time": "2021-09-29T09:02:17.984963Z",
     "start_time": "2021-09-29T09:02:17.839351Z"
    }
   },
   "outputs": [],
   "source": [
    "v = {\n",
    "    \"motor.left.target\": [50],\n",
    "    \"motor.right.target\": [50],\n",
    "}\n",
    "aw(node.set_variables(v))"
   ]
  },
  {
   "cell_type": "code",
   "execution_count": 76,
   "metadata": {
    "ExecuteTime": {
     "end_time": "2021-09-29T09:02:18.603306Z",
     "start_time": "2021-09-29T09:02:18.476645Z"
    }
   },
   "outputs": [],
   "source": [
    "v = {\n",
    "    \"motor.left.target\": [0],\n",
    "    \"motor.right.target\": [0],\n",
    "}\n",
    "aw(node.set_variables(v))"
   ]
  },
  {
   "cell_type": "code",
   "execution_count": null,
   "metadata": {
    "ExecuteTime": {
     "end_time": "2021-09-29T09:02:19.251571Z",
     "start_time": "2021-09-29T09:02:19.126905Z"
    }
   },
   "outputs": [],
   "source": [
    "#Now unlock the robot:\n",
    "aw(node.unlock())"
   ]
  },
  {
   "cell_type": "markdown",
   "metadata": {},
   "source": [
    "## 6.3. Reading values from Thymio sensors"
   ]
  },
  {
   "cell_type": "markdown",
   "metadata": {},
   "source": [
    "Here you can see how to read the values of the horizontal proximity sensors 10 times with a frequency of 5Hz (once every 0.2s):"
   ]
  },
  {
   "cell_type": "code",
   "execution_count": 77,
   "metadata": {
    "ExecuteTime": {
     "end_time": "2021-09-29T09:02:23.246880Z",
     "start_time": "2021-09-29T09:02:21.100623Z"
    }
   },
   "outputs": [
    {
     "name": "stdout",
     "output_type": "stream",
     "text": [
      "[0, 0, 0, 0, 0, 0, 0]\n",
      "[0, 0, 0, 0, 0, 0, 0]\n",
      "[0, 0, 0, 0, 0, 0, 0]\n",
      "[0, 0, 0, 0, 0, 0, 0]\n",
      "[0, 0, 0, 0, 0, 0, 0]\n",
      "[0, 0, 0, 0, 0, 0, 0]\n",
      "[0, 0, 0, 0, 0, 0, 0]\n",
      "[0, 0, 0, 0, 0, 0, 0]\n",
      "[0, 0, 0, 0, 0, 0, 0]\n",
      "[0, 0, 0, 0, 0, 0, 0]\n"
     ]
    }
   ],
   "source": [
    "await node.wait_for_variables({\"prox.horizontal\"})\n",
    "for i in range(10):\n",
    "    print(list(node.v.prox.horizontal))\n",
    "    await client.sleep(0.2)"
   ]
  },
  {
   "cell_type": "markdown",
   "metadata": {},
   "source": [
    "As you can observe, we are able to obtain updated values here, as it was not possible in option 1."
   ]
  },
  {
   "cell_type": "markdown",
   "metadata": {
    "ExecuteTime": {
     "end_time": "2021-09-28T14:20:25.764282Z",
     "start_time": "2021-09-28T14:20:25.753091Z"
    }
   },
   "source": [
    "## Connection summary using tdmclient"
   ]
  },
  {
   "cell_type": "markdown",
   "metadata": {
    "ExecuteTime": {
     "end_time": "2021-09-06T08:55:28.442942Z",
     "start_time": "2021-09-06T08:55:28.405120Z"
    }
   },
   "source": [
    "Next time you need to use tdmclient ClientAsync and its methods, the simpler way is to use the following code, at the begining of your notebook:"
   ]
  },
  {
   "cell_type": "raw",
   "metadata": {
    "ExecuteTime": {
     "end_time": "2021-09-22T13:54:01.949580Z",
     "start_time": "2021-09-22T13:53:59.457714Z"
    }
   },
   "source": [
    "from tdmclient import ClientAsync\n",
    "client = ClientAsync()\n",
    "node = await client.wait_for_node()\n",
    "await node.lock()"
   ]
  },
  {
   "cell_type": "markdown",
   "metadata": {
    "tags": []
   },
   "source": [
    "## 6.5. How to create events"
   ]
  },
  {
   "cell_type": "markdown",
   "metadata": {},
   "source": [
    "\n",
    "Now we are going to see how to create an event:"
   ]
  },
  {
   "cell_type": "code",
   "execution_count": null,
   "metadata": {
    "ExecuteTime": {
     "end_time": "2021-09-29T09:02:49.707074Z",
     "start_time": "2021-09-29T09:02:49.429816Z"
    }
   },
   "outputs": [],
   "source": [
    "aw(node.lock())\n",
    "# Create an event named speed, with a size of data of 2 (should be between 0-32)\n",
    "aw(node.register_events([(\"speed\", 2)]))"
   ]
  },
  {
   "cell_type": "code",
   "execution_count": null,
   "metadata": {
    "ExecuteTime": {
     "end_time": "2021-09-29T09:02:51.606990Z",
     "start_time": "2021-09-29T09:02:51.362644Z"
    }
   },
   "outputs": [],
   "source": [
    "# The event data are obtained from variable event.args:\n",
    "program = \"\"\"\n",
    "onevent speed\n",
    "    motor.left.target = event.args[0]\n",
    "    motor.right.target = event.args[1]\n",
    "\"\"\"\n",
    "aw(node.compile(program))\n",
    "aw(node.run())"
   ]
  },
  {
   "cell_type": "markdown",
   "metadata": {},
   "source": [
    "`node.send_events` has one argument, a dict where keys correspond to event names and values to event data."
   ]
  },
  {
   "cell_type": "code",
   "execution_count": null,
   "metadata": {
    "ExecuteTime": {
     "end_time": "2021-09-29T09:03:01.927373Z",
     "start_time": "2021-09-29T09:03:00.602918Z"
    }
   },
   "outputs": [],
   "source": [
    "# turn right\n",
    "aw(node.send_events({\"speed\": [40, 20]}))\n",
    "# wait 1 second\n",
    "aw(client.sleep(1))\n",
    "# stop the robot\n",
    "aw(node.send_events({\"speed\": [0, 0]}))"
   ]
  },
  {
   "cell_type": "code",
   "execution_count": null,
   "metadata": {
    "ExecuteTime": {
     "end_time": "2021-09-29T09:03:02.847910Z",
     "start_time": "2021-09-29T09:03:02.698311Z"
    }
   },
   "outputs": [],
   "source": [
    "aw(node.unlock())"
   ]
  },
  {
   "cell_type": "code",
   "execution_count": null,
   "metadata": {},
   "outputs": [],
   "source": []
  },
  {
   "cell_type": "markdown",
   "metadata": {},
   "source": [
    "## 6.4. More about tdmclient and ClientAsync"
   ]
  },
  {
   "cell_type": "markdown",
   "metadata": {},
   "source": [
    "This section will help you to understand better other functionalities that **would not be required for the exercise sessions, but could be useful for the project for example.**"
   ]
  },
  {
   "cell_type": "markdown",
   "metadata": {},
   "source": [
    "### List of accessible methods"
   ]
  },
  {
   "cell_type": "markdown",
   "metadata": {
    "ExecuteTime": {
     "end_time": "2021-08-30T11:10:02.979522Z",
     "start_time": "2021-08-30T11:10:02.963895Z"
    }
   },
   "source": [
    "The object `node` has multiple properties that we can access:"
   ]
  },
  {
   "cell_type": "code",
   "execution_count": null,
   "metadata": {
    "ExecuteTime": {
     "end_time": "2021-09-29T09:02:32.363487Z",
     "start_time": "2021-09-29T09:02:32.352515Z"
    }
   },
   "outputs": [],
   "source": [
    "node.props"
   ]
  },
  {
   "cell_type": "markdown",
   "metadata": {},
   "source": [
    "We can also use the command `dir()` to get the list of the instances (object attributes) of `node`. We will learn how to use some of the methods which are contained in the list:"
   ]
  },
  {
   "cell_type": "code",
   "execution_count": null,
   "metadata": {
    "ExecuteTime": {
     "end_time": "2021-09-29T09:02:33.433621Z",
     "start_time": "2021-09-29T09:02:33.421653Z"
    },
    "scrolled": true
   },
   "outputs": [],
   "source": [
    "dir(node)"
   ]
  },
  {
   "cell_type": "markdown",
   "metadata": {},
   "source": [
    "We are going to first have a look at `var`:"
   ]
  },
  {
   "cell_type": "code",
   "execution_count": null,
   "metadata": {
    "ExecuteTime": {
     "end_time": "2021-09-29T09:02:38.863094Z",
     "start_time": "2021-09-29T09:02:38.848132Z"
    }
   },
   "outputs": [],
   "source": [
    "node.var"
   ]
  },
  {
   "cell_type": "markdown",
   "metadata": {},
   "source": [
    "It is empty right now, we should use first the method `wait_for_variables()`:"
   ]
  },
  {
   "cell_type": "code",
   "execution_count": null,
   "metadata": {
    "ExecuteTime": {
     "end_time": "2021-09-29T09:02:41.136010Z",
     "start_time": "2021-09-29T09:02:41.119055Z"
    }
   },
   "outputs": [],
   "source": [
    "# Get the documentation of a method using __doc__\n",
    "node.wait_for_variables.__doc__"
   ]
  },
  {
   "cell_type": "code",
   "execution_count": null,
   "metadata": {
    "ExecuteTime": {
     "end_time": "2021-09-29T09:02:42.053555Z",
     "start_time": "2021-09-29T09:02:41.745380Z"
    }
   },
   "outputs": [],
   "source": [
    "aw(node.wait_for_variables())\n",
    "node.var"
   ]
  },
  {
   "cell_type": "markdown",
   "metadata": {},
   "source": [
    "Buy using `node.var`, we can understand what the different read-write variables that you can access are. You need to know the name and size of the variables that you are interested in."
   ]
  },
  {
   "cell_type": "markdown",
   "metadata": {},
   "source": [
    "# 7. Performance comparison"
   ]
  },
  {
   "cell_type": "markdown",
   "metadata": {},
   "source": [
    "We are going to execute a simple code, showing the value of the proximity sensors on the leds.circle. To compare the performance of: coding in Aseba, in Python that will be transpiled, or in Python on your own machine, we will use `%%timeit`, that will execute the code several times and show the time of execution."
   ]
  },
  {
   "cell_type": "code",
   "execution_count": 80,
   "metadata": {
    "ExecuteTime": {
     "end_time": "2021-09-29T09:04:12.123532Z",
     "start_time": "2021-09-29T09:04:09.445698Z"
    }
   },
   "outputs": [
    {
     "ename": "NodeLockError",
     "evalue": "Node lock error (current status: busy)",
     "output_type": "error",
     "traceback": [
      "\u001b[31m---------------------------------------------------------------------------\u001b[39m",
      "\u001b[31mNodeLockError\u001b[39m                             Traceback (most recent call last)",
      "\u001b[36mCell\u001b[39m\u001b[36m \u001b[39m\u001b[32mIn[80]\u001b[39m\u001b[32m, line 3\u001b[39m\n\u001b[32m      1\u001b[39m \u001b[38;5;66;03m# Import tdmclient Notebooks environment:\u001b[39;00m\n\u001b[32m      2\u001b[39m \u001b[38;5;28;01mimport\u001b[39;00m\u001b[38;5;250m \u001b[39m\u001b[34;01mtdmclient\u001b[39;00m\u001b[34;01m.\u001b[39;00m\u001b[34;01mnotebook\u001b[39;00m\n\u001b[32m----> \u001b[39m\u001b[32m3\u001b[39m \u001b[38;5;28;01mawait\u001b[39;00m tdmclient.notebook.start()\n",
      "\u001b[36mFile \u001b[39m\u001b[32m~/miniconda3/envs/mondada/lib/python3.12/site-packages/tdmclient/notebook/private.py:112\u001b[39m, in \u001b[36mstart\u001b[39m\u001b[34m(zeroconf, zeroconf_all, tdm_ws, tdm_addr, tdm_port, password, debug, **kwargs)\u001b[39m\n\u001b[32m    107\u001b[39m client = ClientAsync(zeroconf=zeroconf, zeroconf_all=zeroconf_all,\n\u001b[32m    108\u001b[39m                      tdm_addr=tdm_addr, tdm_port=tdm_port, tdm_ws=tdm_ws,\n\u001b[32m    109\u001b[39m                      password=password,\n\u001b[32m    110\u001b[39m                      debug=debug)\n\u001b[32m    111\u001b[39m node = \u001b[38;5;28;01mawait\u001b[39;00m client.wait_for_node(**kwargs)\n\u001b[32m--> \u001b[39m\u001b[32m112\u001b[39m \u001b[38;5;28;01mawait\u001b[39;00m node.lock()\n\u001b[32m    114\u001b[39m \u001b[38;5;28;01mglobal\u001b[39;00m _interactive_console\n\u001b[32m    115\u001b[39m _interactive_console = TDMConsole(local_var=get_ipython().user_ns)\n",
      "\u001b[36mFile \u001b[39m\u001b[32m~/miniconda3/envs/mondada/lib/python3.12/site-packages/tdmclient/clientasyncnode.py:61\u001b[39m, in \u001b[36mClientAsyncNode.lock\u001b[39m\u001b[34m(self)\u001b[39m\n\u001b[32m     59\u001b[39m result = \u001b[38;5;28;01myield from\u001b[39;00m \u001b[38;5;28mself\u001b[39m.lock_node()\n\u001b[32m     60\u001b[39m \u001b[38;5;28;01mif\u001b[39;00m result \u001b[38;5;129;01mis\u001b[39;00m \u001b[38;5;129;01mnot\u001b[39;00m \u001b[38;5;28;01mNone\u001b[39;00m:\n\u001b[32m---> \u001b[39m\u001b[32m61\u001b[39m     \u001b[38;5;28;01mraise\u001b[39;00m NodeLockError(\u001b[38;5;28mself\u001b[39m.status)\n\u001b[32m     62\u001b[39m \u001b[38;5;28;01mreturn\u001b[39;00m \u001b[38;5;28mself\u001b[39m\n",
      "\u001b[31mNodeLockError\u001b[39m: Node lock error (current status: busy)"
     ]
    }
   ],
   "source": [
    "# Import tdmclient Notebooks environment:\n",
    "import tdmclient.notebook\n",
    "await tdmclient.notebook.start()"
   ]
  },
  {
   "cell_type": "markdown",
   "metadata": {},
   "source": [
    "## Aseba"
   ]
  },
  {
   "cell_type": "code",
   "execution_count": null,
   "metadata": {
    "ExecuteTime": {
     "end_time": "2021-09-29T09:04:15.675028Z",
     "start_time": "2021-09-29T09:04:13.811016Z"
    }
   },
   "outputs": [],
   "source": [
    "%%timeit\n",
    "%%run_aseba\n",
    "\n",
    "var a\n",
    "var _tmp[1]\n",
    "var i\n",
    "\n",
    "a = 0\n",
    "while a < 10 do\n",
    "    i = 0\n",
    "    while i < 7 do \n",
    "        leds.circle[i] = prox.horizontal[i]\n",
    "        i++\n",
    "    end\n",
    "    a++\n",
    "end"
   ]
  },
  {
   "cell_type": "markdown",
   "metadata": {},
   "source": [
    "## Python transpiled"
   ]
  },
  {
   "cell_type": "code",
   "execution_count": 78,
   "metadata": {
    "ExecuteTime": {
     "end_time": "2021-09-29T09:04:19.437961Z",
     "start_time": "2021-09-29T09:04:17.547019Z"
    }
   },
   "outputs": [
    {
     "ename": "AttributeError",
     "evalue": "'NoneType' object has no attribute 'run_program'",
     "output_type": "error",
     "traceback": [
      "\u001b[31m---------------------------------------------------------------------------\u001b[39m",
      "\u001b[31mAttributeError\u001b[39m                            Traceback (most recent call last)",
      "\u001b[36mCell\u001b[39m\u001b[36m \u001b[39m\u001b[32mIn[78]\u001b[39m\u001b[32m, line 1\u001b[39m\n\u001b[32m----> \u001b[39m\u001b[32m1\u001b[39m \u001b[43mget_ipython\u001b[49m\u001b[43m(\u001b[49m\u001b[43m)\u001b[49m\u001b[43m.\u001b[49m\u001b[43mrun_cell_magic\u001b[49m\u001b[43m(\u001b[49m\u001b[33;43m'\u001b[39;49m\u001b[33;43mtimeit\u001b[39;49m\u001b[33;43m'\u001b[39;49m\u001b[43m,\u001b[49m\u001b[43m \u001b[49m\u001b[33;43m'\u001b[39;49m\u001b[33;43m'\u001b[39;49m\u001b[43m,\u001b[49m\u001b[43m \u001b[49m\u001b[33;43m'\u001b[39;49m\u001b[38;5;132;43;01m%%\u001b[39;49;00m\u001b[33;43mrun_python\u001b[39;49m\u001b[38;5;130;43;01m\\n\u001b[39;49;00m\u001b[38;5;130;43;01m\\n\u001b[39;49;00m\u001b[33;43mfor a in range(10):\u001b[39;49m\u001b[38;5;130;43;01m\\n\u001b[39;49;00m\u001b[33;43m    for i in range(7):\u001b[39;49m\u001b[38;5;130;43;01m\\n\u001b[39;49;00m\u001b[33;43m        leds_circle[i] = prox_horizontal[i]\u001b[39;49m\u001b[38;5;130;43;01m\\n\u001b[39;49;00m\u001b[33;43m'\u001b[39;49m\u001b[43m)\u001b[49m\n",
      "\u001b[36mFile \u001b[39m\u001b[32m~/miniconda3/envs/mondada/lib/python3.12/site-packages/IPython/core/interactiveshell.py:2565\u001b[39m, in \u001b[36mInteractiveShell.run_cell_magic\u001b[39m\u001b[34m(self, magic_name, line, cell)\u001b[39m\n\u001b[32m   2563\u001b[39m \u001b[38;5;28;01mwith\u001b[39;00m \u001b[38;5;28mself\u001b[39m.builtin_trap:\n\u001b[32m   2564\u001b[39m     args = (magic_arg_s, cell)\n\u001b[32m-> \u001b[39m\u001b[32m2565\u001b[39m     result = \u001b[43mfn\u001b[49m\u001b[43m(\u001b[49m\u001b[43m*\u001b[49m\u001b[43margs\u001b[49m\u001b[43m,\u001b[49m\u001b[43m \u001b[49m\u001b[43m*\u001b[49m\u001b[43m*\u001b[49m\u001b[43mkwargs\u001b[49m\u001b[43m)\u001b[49m\n\u001b[32m   2567\u001b[39m \u001b[38;5;66;03m# The code below prevents the output from being displayed\u001b[39;00m\n\u001b[32m   2568\u001b[39m \u001b[38;5;66;03m# when using magics with decorator @output_can_be_silenced\u001b[39;00m\n\u001b[32m   2569\u001b[39m \u001b[38;5;66;03m# when the last Python token in the expression is a ';'.\u001b[39;00m\n\u001b[32m   2570\u001b[39m \u001b[38;5;28;01mif\u001b[39;00m \u001b[38;5;28mgetattr\u001b[39m(fn, magic.MAGIC_OUTPUT_CAN_BE_SILENCED, \u001b[38;5;28;01mFalse\u001b[39;00m):\n",
      "\u001b[36mFile \u001b[39m\u001b[32m~/miniconda3/envs/mondada/lib/python3.12/site-packages/IPython/core/magics/execution.py:1227\u001b[39m, in \u001b[36mExecutionMagics.timeit\u001b[39m\u001b[34m(self, line, cell, local_ns)\u001b[39m\n\u001b[32m   1225\u001b[39m \u001b[38;5;28;01mfor\u001b[39;00m index \u001b[38;5;129;01min\u001b[39;00m \u001b[38;5;28mrange\u001b[39m(\u001b[32m0\u001b[39m, \u001b[32m10\u001b[39m):\n\u001b[32m   1226\u001b[39m     number = \u001b[32m10\u001b[39m ** index\n\u001b[32m-> \u001b[39m\u001b[32m1227\u001b[39m     time_number = \u001b[43mtimer\u001b[49m\u001b[43m.\u001b[49m\u001b[43mtimeit\u001b[49m\u001b[43m(\u001b[49m\u001b[43mnumber\u001b[49m\u001b[43m)\u001b[49m\n\u001b[32m   1228\u001b[39m     \u001b[38;5;28;01mif\u001b[39;00m time_number >= \u001b[32m0.2\u001b[39m:\n\u001b[32m   1229\u001b[39m         \u001b[38;5;28;01mbreak\u001b[39;00m\n",
      "\u001b[36mFile \u001b[39m\u001b[32m~/miniconda3/envs/mondada/lib/python3.12/site-packages/IPython/core/magics/execution.py:184\u001b[39m, in \u001b[36mTimer.timeit\u001b[39m\u001b[34m(self, number)\u001b[39m\n\u001b[32m    182\u001b[39m gc.disable()\n\u001b[32m    183\u001b[39m \u001b[38;5;28;01mtry\u001b[39;00m:\n\u001b[32m--> \u001b[39m\u001b[32m184\u001b[39m     timing = \u001b[38;5;28;43mself\u001b[39;49m\u001b[43m.\u001b[49m\u001b[43minner\u001b[49m\u001b[43m(\u001b[49m\u001b[43mit\u001b[49m\u001b[43m,\u001b[49m\u001b[43m \u001b[49m\u001b[38;5;28;43mself\u001b[39;49m\u001b[43m.\u001b[49m\u001b[43mtimer\u001b[49m\u001b[43m)\u001b[49m\n\u001b[32m    185\u001b[39m \u001b[38;5;28;01mfinally\u001b[39;00m:\n\u001b[32m    186\u001b[39m     \u001b[38;5;28;01mif\u001b[39;00m gcold:\n",
      "\u001b[36mFile \u001b[39m\u001b[32m<magic-timeit>:1\u001b[39m, in \u001b[36minner\u001b[39m\u001b[34m(_it, _timer)\u001b[39m\n",
      "\u001b[36mFile \u001b[39m\u001b[32m~/miniconda3/envs/mondada/lib/python3.12/site-packages/IPython/core/interactiveshell.py:2565\u001b[39m, in \u001b[36mInteractiveShell.run_cell_magic\u001b[39m\u001b[34m(self, magic_name, line, cell)\u001b[39m\n\u001b[32m   2563\u001b[39m \u001b[38;5;28;01mwith\u001b[39;00m \u001b[38;5;28mself\u001b[39m.builtin_trap:\n\u001b[32m   2564\u001b[39m     args = (magic_arg_s, cell)\n\u001b[32m-> \u001b[39m\u001b[32m2565\u001b[39m     result = \u001b[43mfn\u001b[49m\u001b[43m(\u001b[49m\u001b[43m*\u001b[49m\u001b[43margs\u001b[49m\u001b[43m,\u001b[49m\u001b[43m \u001b[49m\u001b[43m*\u001b[49m\u001b[43m*\u001b[49m\u001b[43mkwargs\u001b[49m\u001b[43m)\u001b[49m\n\u001b[32m   2567\u001b[39m \u001b[38;5;66;03m# The code below prevents the output from being displayed\u001b[39;00m\n\u001b[32m   2568\u001b[39m \u001b[38;5;66;03m# when using magics with decorator @output_can_be_silenced\u001b[39;00m\n\u001b[32m   2569\u001b[39m \u001b[38;5;66;03m# when the last Python token in the expression is a ';'.\u001b[39;00m\n\u001b[32m   2570\u001b[39m \u001b[38;5;28;01mif\u001b[39;00m \u001b[38;5;28mgetattr\u001b[39m(fn, magic.MAGIC_OUTPUT_CAN_BE_SILENCED, \u001b[38;5;28;01mFalse\u001b[39;00m):\n",
      "\u001b[36mFile \u001b[39m\u001b[32m~/miniconda3/envs/mondada/lib/python3.12/site-packages/tdmclient/notebook/private.py:381\u001b[39m, in \u001b[36mrun_python\u001b[39m\u001b[34m(line, cell)\u001b[39m\n\u001b[32m    378\u001b[39m     _interactive_console.clear_event_data()\n\u001b[32m    380\u001b[39m \u001b[38;5;28;01mtry\u001b[39;00m:\n\u001b[32m--> \u001b[39m\u001b[32m381\u001b[39m     \u001b[43m_interactive_console\u001b[49m\u001b[43m.\u001b[49m\u001b[43mrun_program\u001b[49m(python_preamble + cell,\n\u001b[32m    382\u001b[39m                                      nodes=nodes \u001b[38;5;28;01mif\u001b[39;00m \u001b[38;5;28mlen\u001b[39m(nodes) > \u001b[32m0\u001b[39m \u001b[38;5;28;01melse\u001b[39;00m \u001b[38;5;28;01mNone\u001b[39;00m,\n\u001b[32m    383\u001b[39m                                      language=\u001b[33m\"\u001b[39m\u001b[33mpython\u001b[39m\u001b[33m\"\u001b[39m,\n\u001b[32m    384\u001b[39m                                      warning_missing_global=warning_missing_global,\n\u001b[32m    385\u001b[39m                                      wait=wait, import_thymio=import_thymio)\n\u001b[32m    386\u001b[39m \u001b[38;5;28;01mexcept\u001b[39;00m \u001b[38;5;167;01mKeyboardInterrupt\u001b[39;00m:\n\u001b[32m    387\u001b[39m     \u001b[38;5;66;03m# avoid long exception message with stack trace\u001b[39;00m\n\u001b[32m    388\u001b[39m     \u001b[38;5;28mprint\u001b[39m(\u001b[33m\"\u001b[39m\u001b[33mInterrupted\u001b[39m\u001b[33m\"\u001b[39m)\n",
      "\u001b[31mAttributeError\u001b[39m: 'NoneType' object has no attribute 'run_program'"
     ]
    }
   ],
   "source": [
    "%%timeit\n",
    "%%run_python\n",
    "\n",
    "for a in range(10):\n",
    "    for i in range(7):\n",
    "        leds_circle[i] = prox_horizontal[i]"
   ]
  },
  {
   "cell_type": "code",
   "execution_count": null,
   "metadata": {
    "ExecuteTime": {
     "end_time": "2021-09-29T09:04:20.730500Z",
     "start_time": "2021-09-29T09:04:20.598853Z"
    }
   },
   "outputs": [],
   "source": [
    "await tdmclient.notebook.stop()"
   ]
  },
  {
   "cell_type": "markdown",
   "metadata": {},
   "source": [
    "## Python run on computer"
   ]
  },
  {
   "cell_type": "code",
   "execution_count": 81,
   "metadata": {
    "ExecuteTime": {
     "end_time": "2021-09-29T09:04:24.556263Z",
     "start_time": "2021-09-29T09:04:22.200566Z"
    }
   },
   "outputs": [
    {
     "ename": "NodeLockError",
     "evalue": "Node lock error (current status: busy)",
     "output_type": "error",
     "traceback": [
      "\u001b[31m---------------------------------------------------------------------------\u001b[39m",
      "\u001b[31mNodeLockError\u001b[39m                             Traceback (most recent call last)",
      "\u001b[36mCell\u001b[39m\u001b[36m \u001b[39m\u001b[32mIn[81]\u001b[39m\u001b[32m, line 4\u001b[39m\n\u001b[32m      2\u001b[39m client = ClientAsync()\n\u001b[32m      3\u001b[39m node = \u001b[38;5;28;01mawait\u001b[39;00m client.wait_for_node()\n\u001b[32m----> \u001b[39m\u001b[32m4\u001b[39m \u001b[38;5;28;01mawait\u001b[39;00m node.lock()\n",
      "\u001b[36mFile \u001b[39m\u001b[32m~/miniconda3/envs/mondada/lib/python3.12/site-packages/tdmclient/clientasyncnode.py:61\u001b[39m, in \u001b[36mClientAsyncNode.lock\u001b[39m\u001b[34m(self)\u001b[39m\n\u001b[32m     59\u001b[39m result = \u001b[38;5;28;01myield from\u001b[39;00m \u001b[38;5;28mself\u001b[39m.lock_node()\n\u001b[32m     60\u001b[39m \u001b[38;5;28;01mif\u001b[39;00m result \u001b[38;5;129;01mis\u001b[39;00m \u001b[38;5;129;01mnot\u001b[39;00m \u001b[38;5;28;01mNone\u001b[39;00m:\n\u001b[32m---> \u001b[39m\u001b[32m61\u001b[39m     \u001b[38;5;28;01mraise\u001b[39;00m NodeLockError(\u001b[38;5;28mself\u001b[39m.status)\n\u001b[32m     62\u001b[39m \u001b[38;5;28;01mreturn\u001b[39;00m \u001b[38;5;28mself\u001b[39m\n",
      "\u001b[31mNodeLockError\u001b[39m: Node lock error (current status: busy)"
     ]
    }
   ],
   "source": [
    "from tdmclient import ClientAsync, aw\n",
    "client = ClientAsync()\n",
    "node = await client.wait_for_node()\n",
    "await node.lock()"
   ]
  },
  {
   "cell_type": "code",
   "execution_count": null,
   "metadata": {
    "ExecuteTime": {
     "end_time": "2021-09-29T09:04:25.548607Z",
     "start_time": "2021-09-29T09:04:25.417957Z"
    }
   },
   "outputs": [],
   "source": [
    "leds = [0, 0, 0, 0, 0, 0, 0, 0]\n",
    "await node.wait_for_variables({\"prox.horizontal\"})"
   ]
  },
  {
   "cell_type": "code",
   "execution_count": null,
   "metadata": {
    "ExecuteTime": {
     "end_time": "2021-09-29T09:04:35.076112Z",
     "start_time": "2021-09-29T09:04:26.593813Z"
    }
   },
   "outputs": [],
   "source": [
    "%%timeit\n",
    "\n",
    "for i in range(10):\n",
    "    prox = list(node[\"prox.horizontal\"]) + [0]\n",
    "    leds = prox\n",
    "    v = {\"leds.circle\": leds,\n",
    "        }\n",
    "    aw(node.set_variables(v))"
   ]
  },
  {
   "cell_type": "code",
   "execution_count": null,
   "metadata": {},
   "outputs": [],
   "source": []
  },
  {
   "cell_type": "code",
   "execution_count": null,
   "metadata": {
    "ExecuteTime": {
     "end_time": "2021-09-29T09:04:24.556263Z",
     "start_time": "2021-09-29T09:04:22.200566Z"
    }
   },
   "outputs": [],
   "source": [
    "from tdmclient import ClientAsync, aw\n",
    "client = ClientAsync()\n",
    "node = await client.wait_for_node()\n",
    "await node.lock()"
   ]
  },
  {
   "cell_type": "code",
   "execution_count": null,
   "metadata": {
    "ExecuteTime": {
     "end_time": "2021-09-29T09:04:25.548607Z",
     "start_time": "2021-09-29T09:04:25.417957Z"
    }
   },
   "outputs": [],
   "source": [
    "leds = [0, 0, 0, 0, 0, 0, 0, 0]\n",
    "await node.wait_for_variables({\"prox.horizontal\"})"
   ]
  },
  {
   "cell_type": "code",
   "execution_count": null,
   "metadata": {
    "ExecuteTime": {
     "end_time": "2021-09-29T09:04:35.076112Z",
     "start_time": "2021-09-29T09:04:26.593813Z"
    }
   },
   "outputs": [],
   "source": [
    "%%timeit\n",
    "\n",
    "for i in range(10):\n",
    "    prox = list(node[\"prox.horizontal\"]) + [0]\n",
    "    leds = prox\n",
    "    v = {\"leds.circle\": leds,\n",
    "        }\n",
    "    aw(node.set_variables(v))"
   ]
  },
  {
   "cell_type": "code",
   "execution_count": null,
   "metadata": {},
   "outputs": [],
   "source": []
  }
 ],
 "metadata": {
  "hide_input": false,
  "kernelspec": {
   "display_name": "mondada",
   "language": "python",
   "name": "python3"
  },
  "language_info": {
   "codemirror_mode": {
    "name": "ipython",
    "version": 3
   },
   "file_extension": ".py",
   "mimetype": "text/x-python",
   "name": "python",
   "nbconvert_exporter": "python",
   "pygments_lexer": "ipython3",
   "version": "3.12.3"
  },
  "toc": {
   "base_numbering": 1,
   "nav_menu": {},
   "number_sections": true,
   "sideBar": true,
   "skip_h1_title": false,
   "title_cell": "Table of Contents",
   "title_sidebar": "Contents",
   "toc_cell": false,
   "toc_position": {},
   "toc_section_display": true,
   "toc_window_display": false
  }
 },
 "nbformat": 4,
 "nbformat_minor": 4
}
