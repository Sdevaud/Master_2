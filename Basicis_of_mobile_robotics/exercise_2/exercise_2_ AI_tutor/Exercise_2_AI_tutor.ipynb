{
 "cells": [
  {
   "cell_type": "markdown",
   "id": "35ca3943",
   "metadata": {
    "ExecuteTime": {
     "end_time": "2020-05-04T20:09:36.824740Z",
     "start_time": "2020-05-04T20:09:36.816919Z"
    }
   },
   "source": [
    "\n",
    "<div style=\"border:1px solid black; padding:20px 20px;text-align: justify;text-justify: inter-word\">\n",
    "    <strong>Exercise Session 2 - *PART 1* (over 2) - Computer vision: Hough Tranform <br/> Duration : 2 hours in session (PART 2 will be given separetely [basics of computer vision] and can be started during the session and at home) </strong><br/><br/>\n",
    "    <span style=\"text-decoration:underline;font-weight:bold;\">How to use this notebook?</span><br/>\n",
    "    This notebook is made of text cells and code cells. The code cells have to be <strong>executed</strong> to see the result of the program. To execute a cell, simply select it and click on the \"play\" button (<span style=\"font: bold 12px/30px Arial, serif;\">&#9658;</span>) in the tool bar just above the notebook, or type <code>shift + enter</code>. It is important to execute the code cells in their order of appearance in the notebook.<br/>\n",
    "</div>\n",
    "\n",
    "<br/>\n",
    "\n",
    "- Please use code for any calculations \n",
    "- Feel free to use <strong>markdown</strong> or Raw NBConvert cells for your notes. </div>\n",
    "\n",
    "**Note**: The images used in this session are from online tutorials. While references are left out to avoid giving away answers, make sure to cite your sources properly in your project"
   ]
  },
  {
   "cell_type": "code",
   "execution_count": 47,
   "id": "8916c9a7",
   "metadata": {
    "ExecuteTime": {
     "end_time": "2021-09-23T13:14:16.519011Z",
     "start_time": "2021-09-23T13:14:14.397804Z"
    }
   },
   "outputs": [
    {
     "name": "stdout",
     "output_type": "stream",
     "text": [
      "Requirement already satisfied: opencv-python in /home/seby/miniconda3/envs/mondada/lib/python3.12/site-packages (4.12.0.88)\n",
      "Requirement already satisfied: tqdm in /home/seby/miniconda3/envs/mondada/lib/python3.12/site-packages (4.67.1)\n",
      "Requirement already satisfied: matplotlib in /home/seby/miniconda3/envs/mondada/lib/python3.12/site-packages (3.10.6)\n",
      "Requirement already satisfied: numpy in /home/seby/miniconda3/envs/mondada/lib/python3.12/site-packages (2.2.6)\n",
      "Requirement already satisfied: ipywidgets in /home/seby/miniconda3/envs/mondada/lib/python3.12/site-packages (8.1.7)\n",
      "Requirement already satisfied: contourpy>=1.0.1 in /home/seby/miniconda3/envs/mondada/lib/python3.12/site-packages (from matplotlib) (1.3.1)\n",
      "Requirement already satisfied: cycler>=0.10 in /home/seby/miniconda3/envs/mondada/lib/python3.12/site-packages (from matplotlib) (0.12.1)\n",
      "Requirement already satisfied: fonttools>=4.22.0 in /home/seby/miniconda3/envs/mondada/lib/python3.12/site-packages (from matplotlib) (4.60.1)\n",
      "Requirement already satisfied: kiwisolver>=1.3.1 in /home/seby/miniconda3/envs/mondada/lib/python3.12/site-packages (from matplotlib) (1.4.8)\n",
      "Requirement already satisfied: packaging>=20.0 in /home/seby/miniconda3/envs/mondada/lib/python3.12/site-packages (from matplotlib) (25.0)\n",
      "Requirement already satisfied: pillow>=8 in /home/seby/miniconda3/envs/mondada/lib/python3.12/site-packages (from matplotlib) (11.3.0)\n",
      "Requirement already satisfied: pyparsing>=2.3.1 in /home/seby/miniconda3/envs/mondada/lib/python3.12/site-packages (from matplotlib) (3.2.5)\n",
      "Requirement already satisfied: python-dateutil>=2.7 in /home/seby/miniconda3/envs/mondada/lib/python3.12/site-packages (from matplotlib) (2.9.0.post0)\n",
      "Requirement already satisfied: comm>=0.1.3 in /home/seby/miniconda3/envs/mondada/lib/python3.12/site-packages (from ipywidgets) (0.2.3)\n",
      "Requirement already satisfied: ipython>=6.1.0 in /home/seby/miniconda3/envs/mondada/lib/python3.12/site-packages (from ipywidgets) (9.6.0)\n",
      "Requirement already satisfied: traitlets>=4.3.1 in /home/seby/miniconda3/envs/mondada/lib/python3.12/site-packages (from ipywidgets) (5.14.3)\n",
      "Requirement already satisfied: widgetsnbextension~=4.0.14 in /home/seby/miniconda3/envs/mondada/lib/python3.12/site-packages (from ipywidgets) (4.0.14)\n",
      "Requirement already satisfied: jupyterlab_widgets~=3.0.15 in /home/seby/miniconda3/envs/mondada/lib/python3.12/site-packages (from ipywidgets) (3.0.15)\n",
      "Requirement already satisfied: decorator in /home/seby/miniconda3/envs/mondada/lib/python3.12/site-packages (from ipython>=6.1.0->ipywidgets) (5.2.1)\n",
      "Requirement already satisfied: ipython-pygments-lexers in /home/seby/miniconda3/envs/mondada/lib/python3.12/site-packages (from ipython>=6.1.0->ipywidgets) (1.1.1)\n",
      "Requirement already satisfied: jedi>=0.16 in /home/seby/miniconda3/envs/mondada/lib/python3.12/site-packages (from ipython>=6.1.0->ipywidgets) (0.19.2)\n",
      "Requirement already satisfied: matplotlib-inline in /home/seby/miniconda3/envs/mondada/lib/python3.12/site-packages (from ipython>=6.1.0->ipywidgets) (0.1.7)\n",
      "Requirement already satisfied: pexpect>4.3 in /home/seby/miniconda3/envs/mondada/lib/python3.12/site-packages (from ipython>=6.1.0->ipywidgets) (4.9.0)\n",
      "Requirement already satisfied: prompt_toolkit<3.1.0,>=3.0.41 in /home/seby/miniconda3/envs/mondada/lib/python3.12/site-packages (from ipython>=6.1.0->ipywidgets) (3.0.52)\n",
      "Requirement already satisfied: pygments>=2.4.0 in /home/seby/miniconda3/envs/mondada/lib/python3.12/site-packages (from ipython>=6.1.0->ipywidgets) (2.19.2)\n",
      "Requirement already satisfied: stack_data in /home/seby/miniconda3/envs/mondada/lib/python3.12/site-packages (from ipython>=6.1.0->ipywidgets) (0.6.3)\n",
      "Requirement already satisfied: wcwidth in /home/seby/miniconda3/envs/mondada/lib/python3.12/site-packages (from prompt_toolkit<3.1.0,>=3.0.41->ipython>=6.1.0->ipywidgets) (0.2.14)\n",
      "Requirement already satisfied: parso<0.9.0,>=0.8.4 in /home/seby/miniconda3/envs/mondada/lib/python3.12/site-packages (from jedi>=0.16->ipython>=6.1.0->ipywidgets) (0.8.5)\n",
      "Requirement already satisfied: ptyprocess>=0.5 in /home/seby/miniconda3/envs/mondada/lib/python3.12/site-packages (from pexpect>4.3->ipython>=6.1.0->ipywidgets) (0.7.0)\n",
      "Requirement already satisfied: six>=1.5 in /home/seby/miniconda3/envs/mondada/lib/python3.12/site-packages (from python-dateutil>=2.7->matplotlib) (1.17.0)\n",
      "Requirement already satisfied: executing>=1.2.0 in /home/seby/miniconda3/envs/mondada/lib/python3.12/site-packages (from stack_data->ipython>=6.1.0->ipywidgets) (2.2.1)\n",
      "Requirement already satisfied: asttokens>=2.1.0 in /home/seby/miniconda3/envs/mondada/lib/python3.12/site-packages (from stack_data->ipython>=6.1.0->ipywidgets) (3.0.0)\n",
      "Requirement already satisfied: pure_eval in /home/seby/miniconda3/envs/mondada/lib/python3.12/site-packages (from stack_data->ipython>=6.1.0->ipywidgets) (0.2.3)\n"
     ]
    }
   ],
   "source": [
    "#installations\n",
    "!pip install opencv-python tqdm matplotlib numpy ipywidgets"
   ]
  },
  {
   "cell_type": "markdown",
   "id": "2438e8c6",
   "metadata": {},
   "source": [
    "---\n",
    "# Instruction for experiment AI Tutor: \n",
    "While completing this notebook, you'll have the opportunity to use AI tutor. Here you can access to it: **https://graphsearch.epfl.ch/en/chatbot?model=MICRO-452-tutor** if you consent to particpate to the experiment. Please **exclusively use this language model** for all tasks for today (not copilot, chatGPT, etc)"
   ]
  },
  {
   "cell_type": "markdown",
   "id": "d6930843",
   "metadata": {},
   "source": [
    "---"
   ]
  },
  {
   "cell_type": "markdown",
   "id": "95937568",
   "metadata": {},
   "source": [
    "# Implementing the Hough Transform to Identify Straight Lines in an Image\n",
    "\n",
    "\n",
    "## Learning Goals\n",
    "\n",
    "The goal of this exercise is going to be to code the Hough transform to identify straight lines in an image. We are going to use the following image throughout the exercise in order to test the different steps. The image is located in the Images folder under ``pentagon.png``\n",
    "\n",
    "As this is one of your first \"big\" coding exercises we are going to guide you through it.\n",
    "\n",
    "\n",
    "\n",
    "![Pentagon](images/pentagon.png)\n",
    "\n",
    "\n",
    "## Importing the libraries \n",
    "\n",
    "We are going to need the :\n",
    "\n",
    "- `opencv` for image processing (software library that provides a comprehensive set of tools for computer vision tasks. It's widely used in applications ranging from real-time video processing to advanced robotics.)\n",
    "\n",
    "- `math` for the trigonometry functions\n",
    "\n",
    "- `numpy` for array processing\n",
    "\n",
    "- `matplotlib` for plotting"
   ]
  },
  {
   "cell_type": "code",
   "execution_count": 48,
   "id": "1f38ecbc",
   "metadata": {
    "ExecuteTime": {
     "end_time": "2020-09-22T14:02:38.201766Z",
     "start_time": "2020-09-22T14:02:38.198782Z"
    },
    "execution": {
     "iopub.execute_input": "2024-09-16T10:35:35.180722Z",
     "iopub.status.busy": "2024-09-16T10:35:35.180044Z",
     "iopub.status.idle": "2024-09-16T10:35:35.745810Z",
     "shell.execute_reply": "2024-09-16T10:35:35.745415Z",
     "shell.execute_reply.started": "2024-09-16T10:35:35.180698Z"
    },
    "tags": []
   },
   "outputs": [],
   "source": [
    "import cv2\n",
    "import math\n",
    "import numpy as np\n",
    "import matplotlib.pyplot as plt "
   ]
  },
  {
   "cell_type": "markdown",
   "id": "d5305ee6",
   "metadata": {},
   "source": [
    "## Loading and displaying the image\n",
    "### Importing OpenCV, Reading and Displaying an Image\n",
    "OpenCV<sup id=\"a1\">[1](#f1)</sup> is a software library that provides a comprehensive set of tools for image processing and computer vision tasks. It's widely used in applications ranging from real-time video processing to advanced robotics.\n",
    "\n",
    "Start by giving the filename with the full path so that the mpimg module can load the image with the imread function. \n",
    "\n",
    "Then display the image object with plt.imshow()"
   ]
  },
  {
   "cell_type": "code",
   "execution_count": 49,
   "id": "c7b9d3f2",
   "metadata": {
    "ExecuteTime": {
     "end_time": "2020-09-22T14:02:38.432427Z",
     "start_time": "2020-09-22T14:02:38.205044Z"
    },
    "execution": {
     "iopub.execute_input": "2024-09-16T10:35:36.489734Z",
     "iopub.status.busy": "2024-09-16T10:35:36.488694Z",
     "iopub.status.idle": "2024-09-16T10:35:36.586045Z",
     "shell.execute_reply": "2024-09-16T10:35:36.585608Z",
     "shell.execute_reply.started": "2024-09-16T10:35:36.489684Z"
    },
    "tags": []
   },
   "outputs": [
    {
     "data": {
      "text/plain": [
       "<matplotlib.image.AxesImage at 0x7eb9a3a9edb0>"
      ]
     },
     "execution_count": 49,
     "metadata": {},
     "output_type": "execute_result"
    },
    {
     "data": {
      "image/png": "[encoded data removed]",
      "text/plain": [
       "<Figure size 640x480 with 1 Axes>"
      ]
     },
     "metadata": {},
     "output_type": "display_data"
    }
   ],
   "source": [
    "filename = 'images/pentagon.png'\n",
    "img = cv2.imread(filename, cv2.IMREAD_GRAYSCALE)\n",
    "\n",
    "plt.imshow(img)"
   ]
  },
  {
   "cell_type": "markdown",
   "id": "e347b2af",
   "metadata": {},
   "source": [
    "## Creating the hough transform matrix\n",
    "\n",
    "1. We start by creating a numpy array of arbitrary dimensions. \n",
    "\n",
    "--> create the hough transform matrix (filled with zeros), called **_hough_space_**"
   ]
  },
  {
   "cell_type": "code",
   "execution_count": 50,
   "id": "3b73cd7f",
   "metadata": {
    "ExecuteTime": {
     "end_time": "2020-09-22T14:02:38.436611Z",
     "start_time": "2020-09-22T14:02:38.434168Z"
    },
    "execution": {
     "iopub.execute_input": "2024-09-16T10:35:37.733856Z",
     "iopub.status.busy": "2024-09-16T10:35:37.733063Z",
     "iopub.status.idle": "2024-09-16T10:35:37.739599Z",
     "shell.execute_reply": "2024-09-16T10:35:37.738850Z",
     "shell.execute_reply.started": "2024-09-16T10:35:37.733802Z"
    },
    "tags": []
   },
   "outputs": [],
   "source": [
    "# We choose to have a final matrix of the following\n",
    "# dimensions. This is an arbitrary decision\n",
    "\n",
    "r_dim = 200 \n",
    "theta_dim = 300\n",
    "\n",
    "#code here\n",
    "hough_space = np.zeros((r_dim, theta_dim))"
   ]
  },
  {
   "cell_type": "markdown",
   "id": "f480ebf8",
   "metadata": {},
   "source": [
    "2. Now we need to relate the dimensions of this new matrix to the corresponding values along the rho and theta axes. This means we need to determine the minimum and maximum values of theta and rho. \n",
    "\n",
    "--> Find the values of **theta min** and **theta max**\n",
    "\n",
    "\n",
    "--> From the image shape, determine **rho min** and **rho max**"
   ]
  },
  {
   "cell_type": "code",
   "execution_count": 51,
   "id": "46466b3b",
   "metadata": {},
   "outputs": [
    {
     "name": "stdout",
     "output_type": "stream",
     "text": [
      "Image dimensions: width=320, height=240\n",
      "400.0\n"
     ]
    }
   ],
   "source": [
    "#code here\n",
    "\n",
    "# Image shape \n",
    "height, width = img.shape[:2]\n",
    "print(f\"Image dimensions: width={width}, height={height}\")\n",
    "\n",
    "# Theta axis\n",
    "theta_min = 0\n",
    "theta_max = np.pi\n",
    "\n",
    "# Rho axis\n",
    "(x_max, y_max) = img.shape\n",
    "r_min = 0.0\n",
    "r_max = math.hypot(x_max, y_max)\n",
    "\n",
    "print(r_max)"
   ]
  },
  {
   "cell_type": "markdown",
   "id": "71ed82b6",
   "metadata": {},
   "source": [
    "Now we are going to compute the hough transform of the original image. The pseudo code is the following :\n",
    "\n",
    "    for all pixels:\n",
    "        if the pixel is white:\n",
    "              do nothing\n",
    "        else:\n",
    "            for theta values :\n",
    "                compute rho from the pixel coordinates and theta\n",
    "                normalise rho \n",
    "                update the hough space matrix for the theta and rho coordinates in the array\n",
    "                \n",
    "You should get a result similar to this one \n",
    "\n",
    "\n",
    "<br/>\n",
    "\n",
    "![Pentagon](images/houghTransform.png)\n",
    "\n",
    "<br/>\n",
    "\n"
   ]
  },
  {
   "cell_type": "code",
   "execution_count": 52,
   "id": "8c6faa8b",
   "metadata": {
    "execution": {
     "iopub.execute_input": "2024-09-16T10:35:38.717931Z",
     "iopub.status.busy": "2024-09-16T10:35:38.716999Z",
     "iopub.status.idle": "2024-09-16T10:35:38.723454Z",
     "shell.execute_reply": "2024-09-16T10:35:38.722245Z",
     "shell.execute_reply.started": "2024-09-16T10:35:38.717879Z"
    },
    "tags": []
   },
   "outputs": [
    {
     "data": {
      "text/plain": [
       "Text(0.5, 1.0, 'Hough Space')"
      ]
     },
     "execution_count": 52,
     "metadata": {},
     "output_type": "execute_result"
    },
    {
     "data": {
      "image/png": "[encoded data removed]",
      "text/plain": [
       "<Figure size 640x480 with 1 Axes>"
      ]
     },
     "metadata": {},
     "output_type": "display_data"
    }
   ],
   "source": [
    "for x in range(x_max):\n",
    "    for y in range(y_max):\n",
    "        if img[x,y] == 255: continue # if  pixel = white continue\n",
    "        for idx_theta in range(theta_dim): \n",
    "            theta = 1.0 * idx_theta * theta_max / theta_dim \n",
    "            r = x * math.cos(theta) + y * math.sin(theta) # calculate rho\n",
    "            ir = int(r_dim * (r + r_max) / (2 * r_max)) # calculate the index of rho\n",
    "\n",
    "            hough_space[int(ir),int(idx_theta)] += 1\n",
    "            \n",
    "# Plotting function\n",
    "plt.imshow(hough_space, origin='lower')\n",
    "\n",
    "#################### We add values and labels to the axes################\n",
    "plt.xlim(0,theta_dim)\n",
    "plt.ylim(0,r_dim)\n",
    "\n",
    "tick_locs = [i for i in range(0,theta_dim,40)]\n",
    "tick_lbls = [round( (1.0 * i * theta_max) / theta_dim,1) for i in range(0,theta_dim,40)]\n",
    "plt.xticks(tick_locs, tick_lbls)\n",
    "\n",
    "tick_locs = [i for i in range(0,r_dim,20)]\n",
    "tick_lbls = [round( (1.0 * i * 2*r_max ) / r_dim,1) for i in range(0,r_dim,20)]\n",
    "plt.yticks(tick_locs, tick_lbls)\n",
    "\n",
    "plt.xlabel(r'$\\Theta$')\n",
    "plt.ylabel(r'$\\rho$')\n",
    "plt.title('Hough Space')\n",
    "            \n",
    "\n"
   ]
  },
  {
   "cell_type": "markdown",
   "id": "bca78580",
   "metadata": {},
   "source": [
    "## Identifying the maxima of the Hough Transform\n",
    "\n",
    "After calculating the Hough space, the next step is to find the local extrema. This will give us the rho and theta parameters of the different straight lines in the image. \n",
    "\n",
    "To find the extrema, we will do the following :\n",
    "\n",
    "1. isolate the brightest spots\n",
    "\n",
    "2. enlarge the size of the spots\n",
    "\n",
    "3. find the centroid of the spots"
   ]
  },
  {
   "cell_type": "markdown",
   "id": "22468e82",
   "metadata": {},
   "source": [
    "### Isolating the brightest spots through thresholding\n",
    "\n",
    "To isolate the bright spots and remove the gradients around the maxima we are going to apply **thresholding** to convert the image into 0's for the dark areas and 1's around the maximas. Have a look [here](https://docs.opencv.org/master/d7/d4d/tutorial_py_thresholding.html) at the different thresholding functions that opencv has to offer. \n",
    "\n",
    "Play with the parameters to try to obtain an image similar to this one \n",
    "\n",
    "<br/>\n",
    "\n",
    "![Pentagon](images/thresholding_output.png)\n",
    "\n",
    "<br/>"
   ]
  },
  {
   "cell_type": "code",
   "execution_count": 53,
   "id": "338758b0",
   "metadata": {
    "ExecuteTime": {
     "end_time": "2020-05-05T15:40:20.301138Z",
     "start_time": "2020-05-05T15:40:20.056494Z"
    },
    "execution": {
     "iopub.execute_input": "2024-09-16T10:35:39.521943Z",
     "iopub.status.busy": "2024-09-16T10:35:39.520957Z",
     "iopub.status.idle": "2024-09-16T10:35:39.527475Z",
     "shell.execute_reply": "2024-09-16T10:35:39.526300Z",
     "shell.execute_reply.started": "2024-09-16T10:35:39.521888Z"
    },
    "tags": []
   },
   "outputs": [
    {
     "data": {
      "text/plain": [
       "Text(0.5, 1.0, 'Hough Space')"
      ]
     },
     "execution_count": 53,
     "metadata": {},
     "output_type": "execute_result"
    },
    {
     "data": {
      "image/png": "[encoded data removed]",
      "text/plain": [
       "<Figure size 640x480 with 1 Axes>"
      ]
     },
     "metadata": {},
     "output_type": "display_data"
    }
   ],
   "source": [
    "#code here\n",
    "\n",
    "threshold = 200\n",
    "hough_space_thresh = hough_space.copy()\n",
    "for r in range(r_dim):\n",
    "    for theta in range(theta_dim):\n",
    "        if hough_space[r,theta] < threshold:\n",
    "            hough_space_thresh[r,theta] = 0\n",
    "\n",
    "plt.imshow(hough_space_thresh, origin='lower')\n",
    "\n",
    "plt.xlim(0,theta_dim)\n",
    "plt.ylim(0,r_dim)\n",
    "\n",
    "tick_locs = [i for i in range(0,theta_dim,40)]\n",
    "tick_lbls = [round( (1.0 * i * theta_max) / theta_dim,1) for i in range(0,theta_dim,40)]\n",
    "plt.xticks(tick_locs, tick_lbls)\n",
    "\n",
    "tick_locs = [i for i in range(0,r_dim,20)]\n",
    "tick_lbls = [round( (1.0 * i * 2*r_max ) / r_dim,1) for i in range(0,r_dim,20)]\n",
    "plt.yticks(tick_locs, tick_lbls)\n",
    "\n",
    "plt.xlabel(r'$\\Theta$')\n",
    "plt.ylabel(r'$\\rho$')\n",
    "plt.title('Hough Space')"
   ]
  },
  {
   "cell_type": "markdown",
   "id": "842b4501",
   "metadata": {},
   "source": [
    "### Enlarging the size of the spots through morphological operators\n",
    "\n",
    "To identify the location of the local maxima, we will make use of find contours. However the spots in the image are too small to apply the opencv functions. That is why we are going to start by increasing their size through morphological operations. Have a look [here](https://docs.opencv.org/master/d9/d61/tutorial_py_morphological_ops.html) to see the different operators and their effect on a binary image. \n",
    "\n",
    "\n",
    "You should get an image like this one : \n",
    "\n",
    "<br/>\n",
    "\n",
    "![Pentagon](images/morphological_output.png)\n",
    "\n",
    "<br/>"
   ]
  },
  {
   "cell_type": "code",
   "execution_count": 54,
   "id": "ec215ec4",
   "metadata": {
    "ExecuteTime": {
     "end_time": "2020-05-05T15:40:20.547095Z",
     "start_time": "2020-05-05T15:40:20.304135Z"
    },
    "execution": {
     "iopub.execute_input": "2024-09-16T10:35:40.050449Z",
     "iopub.status.busy": "2024-09-16T10:35:40.049636Z",
     "iopub.status.idle": "2024-09-16T10:35:40.056424Z",
     "shell.execute_reply": "2024-09-16T10:35:40.054982Z",
     "shell.execute_reply.started": "2024-09-16T10:35:40.050405Z"
    }
   },
   "outputs": [
    {
     "data": {
      "text/plain": [
       "Text(0.5, 1.0, 'Hough Space')"
      ]
     },
     "execution_count": 54,
     "metadata": {},
     "output_type": "execute_result"
    },
    {
     "data": {
      "image/png": "[encoded data removed]",
      "text/plain": [
       "<Figure size 640x480 with 1 Axes>"
      ]
     },
     "metadata": {},
     "output_type": "display_data"
    }
   ],
   "source": [
    "#code here\n",
    "\n",
    "kernel = np.ones((2,2),np.uint8)\n",
    "dilation_hough_space_thresh = cv2.dilate(hough_space_thresh,kernel,iterations = 1)\n",
    "\n",
    "plt.imshow(dilation_hough_space_thresh, origin='lower')\n",
    "\n",
    "plt.xlim(0,theta_dim)\n",
    "plt.ylim(0,r_dim)\n",
    "\n",
    "tick_locs = [i for i in range(0,theta_dim,40)]\n",
    "tick_lbls = [round( (1.0 * i * theta_max) / theta_dim,1) for i in range(0,theta_dim,40)]\n",
    "plt.xticks(tick_locs, tick_lbls)\n",
    "\n",
    "tick_locs = [i for i in range(0,r_dim,20)]\n",
    "tick_lbls = [round( (1.0 * i * 2*r_max ) / r_dim,1) for i in range(0,r_dim,20)]\n",
    "plt.yticks(tick_locs, tick_lbls)\n",
    "\n",
    "plt.xlabel(r'$\\Theta$')\n",
    "plt.ylabel(r'$\\rho$')\n",
    "plt.title('Hough Space')"
   ]
  },
  {
   "cell_type": "markdown",
   "id": "0be3f04c",
   "metadata": {
    "ExecuteTime": {
     "end_time": "2020-05-04T22:18:47.171768Z",
     "start_time": "2020-05-04T22:18:47.005549Z"
    }
   },
   "source": [
    "### Identifying the Centroids' Locations Through Contours \n",
    "\n",
    "Now we have bigger spots and we are going to use Opencv's built in functions to find the contours and deduce the location of the centroid in the hough space. [An example is provided here](https://www.learnopencv.com/find-center-of-blob-centroid-using-opencv-cpp-python/). \n",
    "\n",
    "You should get a result similar to this one : \n",
    "\n",
    "\n",
    "<br/>\n",
    "\n",
    "![Pentagon](images/centroid_output.png)\n",
    "\n",
    "<br/>"
   ]
  },
  {
   "cell_type": "code",
   "execution_count": 58,
   "id": "dc1e8020",
   "metadata": {
    "ExecuteTime": {
     "end_time": "2020-05-05T15:40:20.790040Z",
     "start_time": "2020-05-05T15:40:20.548963Z"
    },
    "execution": {
     "iopub.execute_input": "2024-09-16T10:35:40.985046Z",
     "iopub.status.busy": "2024-09-16T10:35:40.984215Z",
     "iopub.status.idle": "2024-09-16T10:35:40.991066Z",
     "shell.execute_reply": "2024-09-16T10:35:40.989497Z",
     "shell.execute_reply.started": "2024-09-16T10:35:40.984979Z"
    }
   },
   "outputs": [
    {
     "ename": "error",
     "evalue": "OpenCV(4.12.0) /io/opencv/modules/imgproc/src/contours_new.cpp:332: error: (-2:Unspecified error) in function 'static std::shared_ptr<ContourScanner_> ContourScanner_::create(cv::ContourDataStorage<cv::Point_<int>, 1024, 0>::storage_t&, cv::ContourDataStorage<signed char, 1024, 0>::storage_t&, cv::Mat, int, int, cv::Point)'\n> Modes other than RETR_FLOODFILL and RETR_CCOMP support only CV_8UC1 images (expected: 'img.type() == CV_8UC1'), where\n>     'img.type()' is 6 (CV_64FC1)\n> must be equal to\n>     'CV_8UC1' is 0 (CV_8UC1)\n",
     "output_type": "error",
     "traceback": [
      "\u001b[31m---------------------------------------------------------------------------\u001b[39m",
      "\u001b[31merror\u001b[39m                                     Traceback (most recent call last)",
      "\u001b[36mCell\u001b[39m\u001b[36m \u001b[39m\u001b[32mIn[58]\u001b[39m\u001b[32m, line 4\u001b[39m\n\u001b[32m      1\u001b[39m \u001b[38;5;66;03m#your code here\u001b[39;00m\n\u001b[32m      2\u001b[39m \u001b[38;5;66;03m# find contours in the binary image\u001b[39;00m\n\u001b[32m      3\u001b[39m output = dilation_hough_space_thresh.copy()\n\u001b[32m----> \u001b[39m\u001b[32m4\u001b[39m contours, hierarchy = \u001b[43mcv2\u001b[49m\u001b[43m.\u001b[49m\u001b[43mfindContours\u001b[49m\u001b[43m(\u001b[49m\u001b[43mdilation_hough_space_thresh\u001b[49m\u001b[43m,\u001b[49m\u001b[43mcv2\u001b[49m\u001b[43m.\u001b[49m\u001b[43mRETR_TREE\u001b[49m\u001b[43m,\u001b[49m\u001b[43mcv2\u001b[49m\u001b[43m.\u001b[49m\u001b[43mCHAIN_APPROX_SIMPLE\u001b[49m\u001b[43m)\u001b[49m\n\u001b[32m      6\u001b[39m \u001b[38;5;66;03m#Converting to color for the visualisation\u001b[39;00m\n\u001b[32m      7\u001b[39m output = cv2.cvtColor(output,cv2.COLOR_GRAY2RGB) \n",
      "\u001b[31merror\u001b[39m: OpenCV(4.12.0) /io/opencv/modules/imgproc/src/contours_new.cpp:332: error: (-2:Unspecified error) in function 'static std::shared_ptr<ContourScanner_> ContourScanner_::create(cv::ContourDataStorage<cv::Point_<int>, 1024, 0>::storage_t&, cv::ContourDataStorage<signed char, 1024, 0>::storage_t&, cv::Mat, int, int, cv::Point)'\n> Modes other than RETR_FLOODFILL and RETR_CCOMP support only CV_8UC1 images (expected: 'img.type() == CV_8UC1'), where\n>     'img.type()' is 6 (CV_64FC1)\n> must be equal to\n>     'CV_8UC1' is 0 (CV_8UC1)\n"
     ]
    }
   ],
   "source": [
    "#your code here\n",
    "# find contours in the binary image\n",
    "output = dilation_hough_space_thresh.copy()\n",
    "contours, hierarchy = cv2.findContours(dilation_hough_space_thresh,cv2.RETR_TREE,cv2.CHAIN_APPROX_SIMPLE)\n",
    "\n",
    "#Converting to color for the visualisation\n",
    "output = cv2.cvtColor(output,cv2.COLOR_GRAY2RGB) \n",
    "\n",
    "maxima_locs = []\n",
    "\n",
    "for c in contours:\n",
    "    # calculate moments for each contour\n",
    "    M = cv2.moments(c)\n",
    "\n",
    "    # calculate x, y coordinate of center\n",
    "    cX = int(M[\"m10\"] / M[\"m00\"])\n",
    "    cY = int(M[\"m01\"] / M[\"m00\"])\n",
    "    \n",
    "    maxima_locs.append((cX, cY))\n",
    "    cv2.circle(output, (cX, cY), 2, (255, 0, 0), -1)\n",
    "    \n",
    "# display the image\n",
    "plt.imshow(output, origin=\"lower\")\n",
    "\n",
    "\n",
    "tick_locs = [i for i in range(0,theta_dim,40)]\n",
    "tick_lbls = [round( (1.0 * i * theta_max) / theta_dim,1) for i in range(0,theta_dim,40)]\n",
    "plt.xticks(tick_locs, tick_lbls)\n",
    "\n",
    "tick_locs = [i for i in range(0,r_dim,20)]\n",
    "tick_lbls = [round( (1.0 * i * 2*r_max ) / r_dim,1) for i in range(0,r_dim,20)]\n",
    "plt.yticks(tick_locs, tick_lbls)\n",
    "\n",
    "plt.xlabel(r'$\\Theta$')\n",
    "plt.ylabel(r'$\\rho$')\n",
    "plt.title('Hough Space')\n",
    "\n",
    "plt.savefig(\"./images/centroid_output.png\")\n"
   ]
  },
  {
   "cell_type": "markdown",
   "id": "c4fe241f",
   "metadata": {},
   "source": [
    "## Computing the location of the straight lines in the original image and drawing them"
   ]
  },
  {
   "cell_type": "markdown",
   "id": "44b83bd8",
   "metadata": {},
   "source": [
    "With the maxima obtained, we can now compute the corresponding segments in the original image. You should get a result similar to this one. \n",
    "\n",
    "\n",
    "<br/>\n",
    "\n",
    "![Pentagon](images/hough_transform.png)\n",
    "\n",
    "<br/>\n"
   ]
  },
  {
   "cell_type": "code",
   "execution_count": 56,
   "id": "2f5a1650",
   "metadata": {
    "execution": {
     "iopub.execute_input": "2024-09-16T10:35:42.782868Z",
     "iopub.status.busy": "2024-09-16T10:35:42.782142Z",
     "iopub.status.idle": "2024-09-16T10:35:42.787101Z",
     "shell.execute_reply": "2024-09-16T10:35:42.785802Z",
     "shell.execute_reply.started": "2024-09-16T10:35:42.782820Z"
    }
   },
   "outputs": [],
   "source": [
    "#your code here"
   ]
  },
  {
   "cell_type": "markdown",
   "id": "a713e3fd",
   "metadata": {},
   "source": [
    "> Note that the overall exercise was inspired from the example [here](https://www.science-emergence.com/Articles/Implementing-a-simple-python-code-to-detect-straight-lines-using-Hough-transform/)"
   ]
  },
  {
   "cell_type": "markdown",
   "id": "d0d4d1ec",
   "metadata": {},
   "source": [
    "---\n",
    "<span style=\"color:green\">\n",
    "\n",
    "## Please come back to the questionnaire (survey)\n",
    "    \n",
    "Come back to the webpage where you have the questionnaire and upload:\n",
    "\n",
    "(Even if Incomplete, Please Submit 🙏🏼)\n",
    "- This juypter notebook <code>Exercise_2_AI_tutor.ipynb<code>\n",
    "</span>\n",
    "---"
   ]
  },
  {
   "cell_type": "code",
   "execution_count": null,
   "id": "f6d9b08d",
   "metadata": {},
   "outputs": [],
   "source": []
  }
 ],
 "metadata": {
  "hide_input": false,
  "kernelspec": {
   "display_name": "mondada",
   "language": "python",
   "name": "python3"
  },
  "language_info": {
   "codemirror_mode": {
    "name": "ipython",
    "version": 3
   },
   "file_extension": ".py",
   "mimetype": "text/x-python",
   "name": "python",
   "nbconvert_exporter": "python",
   "pygments_lexer": "ipython3",
   "version": "3.12.12"
  },
  "toc": {
   "base_numbering": 1,
   "nav_menu": {},
   "number_sections": true,
   "sideBar": true,
   "skip_h1_title": false,
   "title_cell": "Table of Contents",
   "title_sidebar": "Contents",
   "toc_cell": true,
   "toc_position": {
    "height": "calc(100% - 180px)",
    "left": "10px",
    "top": "150px",
    "width": "165px"
   },
   "toc_section_display": true,
   "toc_window_display": true
  },
  "unianalytics_cell_mapping": [
   [
    "35ca3943",
    "35ca3943"
   ],
   [
    "8916c9a7",
    "8916c9a7"
   ],
   [
    "4066f4b6",
    "4066f4b6"
   ],
   [
    "2438e8c6",
    "2438e8c6"
   ],
   [
    "833c84d6",
    "833c84d6"
   ],
   [
    "812b095d",
    "812b095d"
   ],
   [
    "3c764a72",
    "3c764a72"
   ],
   [
    "d6930843",
    "d6930843"
   ],
   [
    "95937568",
    "95937568"
   ],
   [
    "1f38ecbc",
    "1f38ecbc"
   ],
   [
    "d5305ee6",
    "d5305ee6"
   ],
   [
    "c7b9d3f2",
    "c7b9d3f2"
   ],
   [
    "e347b2af",
    "e347b2af"
   ],
   [
    "12e92c5d",
    "12e92c5d"
   ],
   [
    "3b73cd7f",
    "3b73cd7f"
   ],
   [
    "f480ebf8",
    "f480ebf8"
   ],
   [
    "0570b9d3",
    "0570b9d3"
   ],
   [
    "71ed82b6",
    "71ed82b6"
   ],
   [
    "8c6faa8b",
    "8c6faa8b"
   ],
   [
    "a83b7dd7",
    "a83b7dd7"
   ],
   [
    "bca78580",
    "bca78580"
   ],
   [
    "22468e82",
    "22468e82"
   ],
   [
    "338758b0",
    "338758b0"
   ],
   [
    "a4a6a80d",
    "a4a6a80d"
   ],
   [
    "842b4501",
    "842b4501"
   ],
   [
    "ec215ec4",
    "ec215ec4"
   ],
   [
    "0089c4b2",
    "0089c4b2"
   ],
   [
    "0be3f04c",
    "0be3f04c"
   ],
   [
    "dc1e8020",
    "dc1e8020"
   ],
   [
    "cd682f5b",
    "cd682f5b"
   ],
   [
    "c4fe241f",
    "c4fe241f"
   ],
   [
    "44b83bd8",
    "44b83bd8"
   ],
   [
    "2f5a1650",
    "2f5a1650"
   ],
   [
    "a713e3fd",
    "a713e3fd"
   ],
   [
    "d0d4d1ec",
    "d0d4d1ec"
   ],
   [
    "f6d9b08d",
    "f6d9b08d"
   ]
  ],
  "unianalytics_notebook_id": "c42852b7-93c7-4dfb-a629-3ee6d0a69866"
 },
 "nbformat": 4,
 "nbformat_minor": 5
}
