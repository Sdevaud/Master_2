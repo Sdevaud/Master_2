{
 "cells": [
  {
   "cell_type": "markdown",
   "metadata": {
    "ExecuteTime": {
     "end_time": "2020-05-08T22:05:05.405241Z",
     "start_time": "2020-05-08T22:05:05.397090Z"
    }
   },
   "source": [
    "\n",
    "<div style=\"border:1px solid black; padding:20px 20px;text-align: justify;text-justify: inter-word\">\n",
    "    <strong>Exercise Session 5 PART 1 (over 2)- Path Planning<br/> Duration : 4 hours (2 in session + 2 at home)</strong><br/><br/>\n",
    "    <span style=\"text-decoration:underline;font-weight:bold;\">How to use this notebook?</span><br/>\n",
    "    This notebook is made of text cells and code cells. The code cells have to be <strong>executed</strong> to see the result of the program. To execute a cell, simply select it and click on the \"play\" button (<span style=\"font: bold 12px/30px Arial, serif;\">&#9658;</span>) in the tool bar just above the notebook, or type <code>shift + enter</code>. It is important to execute the code cells in their order of appearance in the notebook.<br/>\n",
    "</div>\n",
    "\n",
    "\n"
   ]
  },
  {
   "cell_type": "markdown",
   "metadata": {},
   "source": [
    "---\n",
    "# Instruction for experiment AI Tutor: \n",
    "\n",
    "While completing this notebook, you'll have the opportunity to use AI tutor. \n",
    "\n",
    "Here you can access to it: **https://graphsearch.epfl.ch/en/chatbot?model=MICRO-452-tutor** if you consent to particpate to the experiment. \n",
    "\n",
    "Please **exclusively use this language model** for all tasks for today (not copilot, chatGPT, etc)\n",
    "\n",
    "> Please **disable GitHub Copilot** while solving this exercise to avoid interfering with the other AI model."
   ]
  },
  {
   "cell_type": "markdown",
   "metadata": {},
   "source": [
    "---\n",
    "\n",
    "# Learning Goals\n",
    "\n",
    "- Understand path planning algorithms conceptually and on paper.\n",
    "- Implement and compare path planning algorithms (A* and Dijkstra) in terms of efficiency and performance."
   ]
  },
  {
   "cell_type": "markdown",
   "metadata": {},
   "source": [
    "# Understanding Path Planning on Paper\n",
    "\n",
    "For the paper based algorithms, you will need the files located in the Paper folder : \n",
    "\n",
    "- ``serie 5 A*.pdf``\n",
    "\n",
    "\n",
    "## Introduction to path planning\n",
    "\n",
    "Once a robot has a map, it is essential to be able to plan a path to go from one point to another. The techniques used to find the best path depend on the type of map and of the type of path that one wants to obtain. In many cases, the maps are transformed into graphs and the path search is transformed in a graph search.\n",
    "\n",
    "\n",
    "## Dijkstra's Algorithm\n",
    "\n",
    "Apply the Dijkstra’s algorithm on **paper** on the map of the Figure below using a Manhattan distance.\n",
    "\n",
    "\n",
    "<img src=\"Images/grid1.png\" alt=\"gradient\" width=\"300\"/>\n"
   ]
  },
  {
   "cell_type": "markdown",
   "metadata": {},
   "source": [
    "## A* Algorithm\n",
    "\n",
    "Apply the A* algorithm on **paper** on the map using a Manhattan distance from the source for the motion cost and the Manhattan distance to the goal (without obstacles) as heuristic function.\n",
    "\n",
    "<img src=\"Images/grid1.png\" alt=\"gradient\" width=\"300\"/>\n",
    "\n"
   ]
  },
  {
   "cell_type": "markdown",
   "metadata": {},
   "source": [
    "## Implementation the Dijkstra algorithm (with weight)\n",
    "### Initial Map \n",
    "\n",
    "We first choose an environment for the grid map with <span style=\"color:green\"><strong>S  </strong></span> (Source/Start in green), <span style=\"color:red\">  <strong>G  </strong></span> (Goal in red), and <span style=\"color:black\"><strong>obstacles  </strong></span> (in black), as shown below. Morever we put weight on a cell (in <span style=\"color: yellow\"><strong>yellow</strong></span>) (representing areas that slow down movement along the path, ex: sand, etc.) \n"
   ]
  },
  {
   "cell_type": "markdown",
   "metadata": {},
   "source": [
    "<img src=\"Images/initial_map_with_cost.png\" alt=\"gradient\" width=\"200\"/>\n"
   ]
  },
  {
   "cell_type": "code",
   "execution_count": null,
   "metadata": {},
   "outputs": [],
   "source": [
    "##############################################\n",
    "#do not modify this code\n",
    "##############################################\n",
    "import numpy as np\n",
    "import matplotlib.pyplot as plt\n",
    "from matplotlib.colors import ListedColormap\n",
    "from heapq import heappush, heappop # used if you want to use heap queue for priority queue (easier to implement) but not compulsory\n",
    "\n",
    "def display_map(map_grid, path, start, goal, explored):\n",
    "    cmap = ListedColormap(['white', 'black', 'blue', 'green', 'red', 'grey', 'yellow'])\n",
    "    map_display = np.zeros_like(map_grid, dtype=object)\n",
    "\n",
    "    # Assign colors based on the map grid values\n",
    "    map_display[map_grid == -1] = 'black'  # Obstacles\n",
    "    map_display[map_grid == 0] = 'white'   # Free space\n",
    "\n",
    "    for position in explored:\n",
    "        if map_display[tuple(position)] == 'white':\n",
    "            map_display[tuple(position)] = 'grey'  # Explored cells\n",
    "\n",
    "    # Visualize the path\n",
    "    for position in path:\n",
    "        if map_display[position[0], position[1]] in ['white', 'grey']:\n",
    "            map_display[position[0], position[1]] = 'blue'  # Path\n",
    "\n",
    "    map_display[map_grid > 0] = 'yellow' # Weighted cell\n",
    "    map_display[start[0], start[1]] = 'green'  # Start\n",
    "    map_display[goal[0], goal[1]] = 'red'      # Goal\n",
    "\n",
    "    # Convert color names to numbers for plotting\n",
    "    color_mapping = {'white': 0, 'black': 1, 'blue': 2, 'green': 3, 'red': 4, 'grey': 5, 'yellow': 6}\n",
    "    map_numeric_display = np.vectorize(color_mapping.get)(map_display)\n",
    "    fig, ax = plt.subplots(figsize=(4, 4))\n",
    "    ax.imshow(map_numeric_display, cmap=cmap)\n",
    "    ax.set_xticks(np.arange(-0.5, map_grid.shape[1], 1), minor=True)\n",
    "    ax.set_yticks(np.arange(-0.5, map_grid.shape[0], 1), minor=True)\n",
    "    ax.grid(which='minor', color='gray', linestyle='-', linewidth=0.5)\n",
    "    ax.tick_params(which='both', bottom=False, left=False, labelbottom=False, labelleft=False)\n",
    "    ax.set_title(f'{ALGO} Visualization')\n",
    "    plt.show()\n",
    "##############################################\n",
    "#end of code not to modify\n",
    "##############################################\n",
    "Map = np.zeros((11, 9))\n",
    "\n",
    "Map[5, 3] = 2; # Weighted cell\n",
    "\n",
    "Map[0, :] = -1; Map[10, :] = -1; Map[:, 0] = -1; Map[:, 8] = -1\n",
    "Map[8, 1] = -1; Map[9, 1] = -1; Map[9, 2] = -1; Map[4:6, 4:8] = -1\n",
    "SearchStart = (8, 5) \n",
    "SearchGoal  = (2, 6)\n",
    "print(\"Initial Map (0: free, -1: obstacle, 2: weighted cell):\")\n",
    "print(Map)\n",
    "ALGO = \"Initial Map\"\n",
    "display_map(Map, [], SearchStart, SearchGoal, [])"
   ]
  },
  {
   "cell_type": "markdown",
   "metadata": {},
   "source": [
    "> We recommend starting with the **4-connected grid** (Manhattan distance) and **not** the 8-connected grid (which includes diagonals) for now.\n",
    "\n",
    "<img src=\"Images/Square_4_connectivity-1.png\" alt=\"gradient\" width=\"150\"/>\n",
    "<img src=\"Images/Square_8_connectivity.png\" alt=\"gradient\" width=\"150\"/>\n",
    "\n"
   ]
  },
  {
   "cell_type": "markdown",
   "metadata": {},
   "source": [
    "**Implement the dijkstra algorithm**. You can use the hinted code below.\n",
    "We use (and suggest to you) a priority queue to always expand the node with the lowest cost first, implemented with the heapq library.\n",
    "\n",
    "Suggestion initialise with \n",
    "- came_from = {}\n",
    "- g_costs = {S: 0}, \n",
    "- explored = set()\n",
    "\n",
    "- open_set = ...\n",
    "\n",
    "(What are all these variables ?)\n"
   ]
  },
  {
   "cell_type": "code",
   "execution_count": null,
   "metadata": {
    "execution": {
     "iopub.execute_input": "2024-10-08T17:28:47.648719Z",
     "iopub.status.busy": "2024-10-08T17:28:47.646559Z",
     "iopub.status.idle": "2024-10-08T17:28:48.390412Z",
     "shell.execute_reply": "2024-10-08T17:28:48.390063Z",
     "shell.execute_reply.started": "2024-10-08T17:28:47.648633Z"
    }
   },
   "outputs": [],
   "source": [
    "import numpy as np\n",
    "import matplotlib.pyplot as plt\n",
    "from heapq import heappush, heappop\n",
    "\n",
    "algo = \"Dijkstra\"  # Change to \"A*\" to test A* algorithm\n",
    "\n",
    "def grid_search(map_grid, S, G, algo=\"Dijkstra\"):\n",
    "    \n",
    "    # TODO initialize the variables suggested above\n",
    "   \n",
    "    if algo == \"Dijkstra\":\n",
    "        #TODO\n",
    "    #if algo == \"A*\": #fill in later for the A* algorithm\n",
    "        \n",
    "    while open_set: # G goal is unmarked\n",
    "        if algo == \"Dijkstra\":\n",
    "            current_g_cost, current_pos = heappop(open_set)\n",
    "        #if algo == \"A*\":  #fill in later\n",
    "        #    current_f_cost, current_g_cost, current_pos = heappop(open_set)\n",
    "\n",
    "        explored.add(current_pos)\n",
    "        \n",
    "        # if G goal is marked --> break TODO\n",
    "\n",
    "\n",
    "        # Get neighbors (up, down, left, right) TODO\n",
    "   \n",
    "\n",
    "        for neighbor in neighbors: # for each neighbor of marked cells\n",
    "            # Check if neighbor is within bounds\n",
    "            if (0 <= neighbor[0] < map_grid.shape[0]) and (0 <= neighbor[1] < map_grid.shape[1]): \n",
    "                # Check if neighbor is not an obstacle\n",
    "                if ##TODO\n",
    "                    # Calculate tentative_g_cost TODO\n",
    "\n",
    "\n",
    "                    if neighbor not in g_costs or # Put the condition to add the tentative_g_cost to g_costs TODO\n",
    "                        # Update the tentative_g_cost in g_costs TODO\n",
    "\n",
    "                        # Update the came_from dictionary TODO\n",
    "\n",
    "\n",
    "                        if algo == \"Dijkstra\":\n",
    "                            heappush(#TODO)\n",
    "\n",
    "                        #if algo == \"A*\": #fill in later\n",
    "                        #    f_cost = # Calculate f_cost for A*\n",
    "                        #    heappush(#TODO)\n",
    "                        \n",
    "    #TODO: Reconstruct the path\n",
    "    if current_pos == # what condition TODO?\n",
    "        path = []\n",
    "        while current_pos !=  # what condition TODO ?\n",
    "            path.append(#TODO)\n",
    "            current_pos = #TODO\n",
    "        path.append(#TODO))\n",
    "        path.reverse()\n",
    "        #play with the operation_count if you want\n",
    "        operation_count = 0\n",
    "        return path, explored, operation_count  # Return reversed path and explored cells\n",
    "    else:\n",
    "    # If we reach here, no path was found\n",
    "        return None, explored, operation_count\n",
    "\n",
    "##############################################\n",
    "#do not modify this code\n",
    "##############################################\n",
    "# Dijkstra\n",
    "path, explored, operation_count = grid_search(Map, SearchStart, SearchGoal, algo=\"Dijkstra\")\n",
    "if path:\n",
    "    print(\"Dijkstra path length =\", len(path)-1, \"\\n\", path)\n",
    "    print(\"length explored:\", len(explored))\n",
    "    print(\"Dijkstra visualization\")\n",
    "    ALGO = \"Dijkstra\"\n",
    "    display_map(Map, path, SearchStart, SearchGoal, explored)\n",
    "else:\n",
    "    print(\"No path found with Dijkstra\")\n",
    "\n",
    "# A*\n",
    "#uncomment the lines below to test A* algorithm\n",
    "if algo == \"A*\":\n",
    "    ALGO = \"A*\"\n",
    "    path, explored, operation_count = grid_search(Map, SearchStart, SearchGoal, algo=\"A*\")\n",
    "if path and algo == \"A*\":\n",
    "    print(\"A* path length =\", len(path)-1, \"\\n\", path)\n",
    "    print(\"length explored:\", len(explored))\n",
    "    print(\"A* visualization\")\n",
    "    display_map(Map, path, SearchStart, SearchGoal, explored)\n",
    "else:\n",
    "    print(\"No path found with A*\")"
   ]
  },
  {
   "cell_type": "markdown",
   "metadata": {},
   "source": [
    "## Implemententing the A* Algorithm\n",
    "In the same way, let's implement the A* algorithm.\n",
    "\n",
    "> Note that the A* algorithm is an extension of the Dijkstra algorithm. \n",
    "- What is the main difference?\n",
    "\n",
    "**Reuse** the Dijkstra algorithm above and add the heuristic term for A* just below (trim comments as needed in the code #).\n"
   ]
  },
  {
   "cell_type": "code",
   "execution_count": null,
   "metadata": {},
   "outputs": [],
   "source": [
    "def heuristic(a, b):\n",
    "    #TODO"
   ]
  },
  {
   "cell_type": "markdown",
   "metadata": {},
   "source": [
    "## Comparison of Dijkstra's Algorithm and A* Algorithm\n",
    "\n",
    "Explore different aspects and compare the results of the 2 algorithms in terms of path length, number of operations, and visited cells.\n",
    "\n",
    "- Different costs assigned to cells (highlighted in yellow)  \n",
    "- Comparison of the number of operations and visited cells for each algorithm\n",
    "- What are the limitations of A* ?\n",
    "- Alternative heuristic functions (such as Euclidean distance) in an 8-connected grid  \n"
   ]
  },
  {
   "cell_type": "markdown",
   "metadata": {},
   "source": [
    "---\n",
    "---"
   ]
  }
 ],
 "metadata": {
  "hide_input": false,
  "kernelspec": {
   "display_name": "last_updat_python11_07_2025",
   "language": "python",
   "name": "python3"
  },
  "language_info": {
   "codemirror_mode": {
    "name": "ipython",
    "version": 3
   },
   "file_extension": ".py",
   "mimetype": "text/x-python",
   "name": "python",
   "nbconvert_exporter": "python",
   "pygments_lexer": "ipython3",
   "version": "3.13.5"
  },
  "toc": {
   "base_numbering": 1,
   "nav_menu": {},
   "number_sections": true,
   "sideBar": true,
   "skip_h1_title": false,
   "title_cell": "Table of Contents",
   "title_sidebar": "Contents",
   "toc_cell": true,
   "toc_position": {},
   "toc_section_display": true,
   "toc_window_display": true
  }
 },
 "nbformat": 4,
 "nbformat_minor": 4
}
