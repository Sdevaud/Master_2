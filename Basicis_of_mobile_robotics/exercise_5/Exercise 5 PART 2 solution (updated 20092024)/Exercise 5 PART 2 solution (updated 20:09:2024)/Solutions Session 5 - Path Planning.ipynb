{
 "cells": [
  {
   "cell_type": "markdown",
   "metadata": {
    "ExecuteTime": {
     "end_time": "2020-05-08T22:05:05.405241Z",
     "start_time": "2020-05-08T22:05:05.397090Z"
    }
   },
   "source": [
    "\n",
    "<div style=\"border:1px solid black; padding:20px 20px;text-align: justify;text-justify: inter-word\">\n",
    "    <strong>Exercise Session 5 - Path Planning_ PART 2"
   ]
  },
  {
   "cell_type": "markdown",
   "metadata": {},
   "source": [
    "## Path Planning in a Line-Based Map\n",
    "\n",
    "The previous exercises were done on an occupancy grid map. The grid map is already a form of graph, and the application of the Dijkstra’s algorithm or the A* algorithm is immediate.\n",
    "\n",
    "\n",
    "Please consider a line-based map and the whole process from graph generation, to path planning including metric information.\n",
    "\n",
    "\n",
    "Apply one of the algorithms seen in the course to find the best path between the start (S) and goal (G) positions of Figure below. Use only algorithms that can be processed by a computer and show clearly each step.\n",
    "\n",
    "![visibility](Images/visibility.png)\n",
    "\n",
    "<blockquote>\n",
    "<span style=\"color: #2980B9 ;\">\n",
    "\n",
    "In the case of a line-based map, an interesting approach is to use visibility graphs, as illustrated in the Figure below. \n",
    "\n",
    "![visibility](Images/visibility-sol1.png)\n",
    "\n",
    "The graph resulting from this analysis is given here:\n",
    "\n",
    "![visibility](Images/graph.png)\n",
    "\n",
    "Once the graph is obtained, one can apply the Dijkstra’s algorithm to find the optimal path, but the cost of movement has to be considered. Here the cost of movement will be proportional to the length of the segments, as reported on the two images above. \n",
    "\n",
    "\n",
    "The Dijkstra’s algorithm is applied like for the grid map, but on this graph. Starting from the start, cell A takes the value $415$ and cell B takes the value $71$. We continue only on cell B. Cell C takes the value $71+154=225$. This is still the lower value. Cell E takes the value $225+192=417$. Now the lower value is in cell A. Cell D takes the value $415+484=899$ or $225+621=846$ depending on which cell you take first (A or C). Cell E has now the smaller value. Cell F takes the value $417+162=579$, and this is still the lower value. The goal is the next cell and the shorter path is SBCEFG.\n",
    "\n",
    "\n",
    "Once the optimal path is found, it is corrected taking into account the size of the robot. This is the optimal path, but this path could be incompatible with some low-level obstacle avoidance behaviour. This depends very much on the real implementation.\n",
    "\n",
    "\n",
    "</blockquote>\n"
   ]
  },
  {
   "cell_type": "markdown",
   "metadata": {},
   "source": [
    "---"
   ]
  },
  {
   "cell_type": "markdown",
   "metadata": {},
   "source": [
    "---\n",
    "# EXTRA Exercise "
   ]
  },
  {
   "cell_type": "markdown",
   "metadata": {},
   "source": [
    "## Dijkstra's Algorithm\n",
    "\n",
    "Apply the Dijkstra’s algorithm on paper on the map of the Figure below using a Manhattan distance. \n",
    "\n",
    "![Grid1](Images/grid1.png)\n",
    "\n",
    "<span style=\"color: #2980B9 ;\">\n",
    "\n",
    "> The solution is provided in the image below. <br>\n",
    "![Grid1](Images/grid-plan.png)\n",
    "\n",
    "\n",
    "## A* Algorithm\n",
    "\n",
    "Apply the A* algorithm on paper on the map of the previous exercise using a Manhattan distance from the source for the motion cost and the Manhattan distance to the goal (without obstacles) as heuristic function.\n",
    "\n",
    "<span style=\"color: #2980B9 ;\">\n",
    "\n",
    "> The solution is given in the image below, presenting both the cost function and the heuristic function, their sum and the comparison with the result of Dijkstra’s algorithm. The A* algorithm allows to reduce the number of evaluated cell, at a cost of a higher computation for each cell. If the heuristic function is simple, like in this case, the A* algorithm is more efficient than Dijkstra’s algorithm. <br><br>\n",
    "![Grid1](Images/astar-corr.png)\n",
    "<br>a) Iterative Manhattan distance to start (function f), <br><br>b) Manhattan distance to goal without considering obstacles (function h), <br><br>c) sum of both functions and minimal computation zone, <br><br>d) comparison with the previous result."
   ]
  }
 ],
 "metadata": {
  "hide_input": false,
  "kernelspec": {
   "display_name": "Python 3",
   "language": "python",
   "name": "python3"
  },
  "language_info": {
   "codemirror_mode": {
    "name": "ipython",
    "version": 3
   },
   "file_extension": ".py",
   "mimetype": "text/x-python",
   "name": "python",
   "nbconvert_exporter": "python",
   "pygments_lexer": "ipython3",
   "version": "3.7.3"
  },
  "toc": {
   "base_numbering": 1,
   "nav_menu": {},
   "number_sections": true,
   "sideBar": true,
   "skip_h1_title": false,
   "title_cell": "Table of Contents",
   "title_sidebar": "Contents",
   "toc_cell": true,
   "toc_position": {},
   "toc_section_display": true,
   "toc_window_display": true
  }
 },
 "nbformat": 4,
 "nbformat_minor": 4
}
